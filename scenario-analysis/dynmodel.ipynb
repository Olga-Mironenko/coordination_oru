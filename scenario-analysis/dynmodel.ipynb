{
 "cells": [
  {
   "cell_type": "code",
   "id": "a775e5cde19e0960",
   "metadata": {
    "ExecuteTime": {
     "end_time": "2025-02-11T08:14:37.027308Z",
     "start_time": "2025-02-11T08:14:35.380015Z"
    }
   },
   "source": [
    "import importlib \n",
    "import dynmodel"
   ],
   "outputs": [],
   "execution_count": 1
  },
  {
   "metadata": {
    "ExecuteTime": {
     "end_time": "2025-02-11T08:14:52.619176Z",
     "start_time": "2025-02-11T08:14:37.036043Z"
    }
   },
   "cell_type": "code",
   "source": [
    "dynmodel = importlib.reload(dynmodel)\n",
    "\n",
    "dynmodel.main()"
   ],
   "id": "671a00fd9cf7b9fb",
   "outputs": [
    {
     "name": "stderr",
     "output_type": "stream",
     "text": [
      "100%|██████████| 1859/1859 [00:15<00:00, 119.35it/s]\n"
     ]
    }
   ],
   "execution_count": 2
  }
 ],
 "metadata": {
  "kernelspec": {
   "display_name": "Python 3",
   "language": "python",
   "name": "python3"
  },
  "language_info": {
   "codemirror_mode": {
    "name": "ipython",
    "version": 2
   },
   "file_extension": ".py",
   "mimetype": "text/x-python",
   "name": "python",
   "nbconvert_exporter": "python",
   "pygments_lexer": "ipython2",
   "version": "2.7.6"
  }
 },
 "nbformat": 4,
 "nbformat_minor": 5
}
