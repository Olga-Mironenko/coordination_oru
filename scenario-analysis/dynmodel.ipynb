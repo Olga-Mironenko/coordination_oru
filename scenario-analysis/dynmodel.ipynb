{
 "cells": [
  {
   "cell_type": "code",
   "id": "a775e5cde19e0960",
   "metadata": {
    "ExecuteTime": {
     "end_time": "2025-02-11T08:24:36.728140Z",
     "start_time": "2025-02-11T08:24:35.368818Z"
    }
   },
   "source": [
    "import importlib \n",
    "import dynmodel"
   ],
   "outputs": [],
   "execution_count": 1
  },
  {
   "metadata": {
    "ExecuteTime": {
     "end_time": "2025-02-11T08:28:46.625277Z",
     "start_time": "2025-02-11T08:24:36.734520Z"
    }
   },
   "cell_type": "code",
   "source": [
    "dynmodel = importlib.reload(dynmodel)\n",
    "\n",
    "dynmodel.main()"
   ],
   "id": "671a00fd9cf7b9fb",
   "outputs": [
    {
     "name": "stderr",
     "output_type": "stream",
     "text": [
      "100%|██████████| 1900/1900 [04:09<00:00,  7.60it/s]\n"
     ]
    }
   ],
   "execution_count": 2
  }
 ],
 "metadata": {
  "kernelspec": {
   "display_name": "Python 3",
   "language": "python",
   "name": "python3"
  },
  "language_info": {
   "codemirror_mode": {
    "name": "ipython",
    "version": 2
   },
   "file_extension": ".py",
   "mimetype": "text/x-python",
   "name": "python",
   "nbconvert_exporter": "python",
   "pygments_lexer": "ipython2",
   "version": "2.7.6"
  }
 },
 "nbformat": 4,
 "nbformat_minor": 5
}
