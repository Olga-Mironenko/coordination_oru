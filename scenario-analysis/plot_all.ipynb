{
 "cells": [
  {
   "cell_type": "code",
   "id": "aa36440faaa8a5",
   "metadata": {
    "ExecuteTime": {
     "end_time": "2025-01-01T15:22:33.695673Z",
     "start_time": "2025-01-01T15:22:33.683917Z"
    }
   },
   "source": [
    "import functools\n",
    "import pickle\n",
    "\n",
    "import plotly.express as px\n",
    "from plotly.subplots import make_subplots\n",
    "from IPython.display import display\n",
    "\n",
    "RUNDIRS = '../logs/rundirs'"
   ],
   "outputs": [],
   "execution_count": 7
  },
  {
   "metadata": {
    "jupyter": {
     "is_executing": true
    },
    "ExecuteTime": {
     "start_time": "2025-01-01T15:22:33.736667Z"
    }
   },
   "cell_type": "code",
   "source": [
    "@functools.cache\n",
    "def get_key2df(runname):\n",
    "    rundir = f'{RUNDIRS}/{runname}'\n",
    "    with open(f'{rundir}/key2df.pickle', 'rb') as file:\n",
    "        return pickle.load(file)"
   ],
   "id": "cbc14bf1cea5fd4c",
   "outputs": [],
   "execution_count": null
  },
  {
   "metadata": {
    "collapsed": true,
    "ExecuteTime": {
     "end_time": "2025-01-01T15:11:18.611459Z",
     "start_time": "2025-01-01T15:11:16.552964Z"
    }
   },
   "cell_type": "code",
   "source": [
    "def plot_df(*, runname, df, col_strategy, strategy, col_i, col_j, col_data):\n",
    "    df = df[df.index.get_level_values(col_strategy) == strategy]\n",
    "    heatmap_data = df[[col_data]].reset_index().pivot(\n",
    "        index=col_i, columns=col_j, values=col_data\n",
    "    )\n",
    "\n",
    "    # Create an interactive heatmap\n",
    "    fig = px.imshow(\n",
    "        heatmap_data,\n",
    "        labels={\"x\": col_j, \"y\": col_i, \"color\": col_data},\n",
    "        title=f\"{runname}: {strategy}: {col_data}\",\n",
    "    )\n",
    "    \n",
    "    fig.update_traces(\n",
    "        hovertemplate=(\n",
    "            col_i + \": %{y}<br>\" + col_j + \": %{x}<br>\" + col_data + \": %{z}<extra></extra>\"\n",
    "        )\n",
    "    )\n",
    "    \n",
    "    return heatmap_data, fig\n",
    "\n",
    "\n",
    "def plot_df_all(runname, are_bridges, label_are_bridges):\n",
    "    key2df = get_key2df(runname)\n",
    "    df = key2df[are_bridges, True]\n",
    "    display(df)\n",
    "    display(df.columns)\n",
    "    df = df.drop(columns=['i_map', 'Positions variant', 'Coordination strategy']).reset_index()\n",
    "    df['Coordination strategy'] = df['Coordination strategy'].apply(lambda s: 'baseline' if s == 'no' else s)\n",
    "    df = df.sort_values(by=['i_map', 'Positions variant', 'Coordination strategy'])\n",
    "    df = df.set_index(['i_map', 'Positions variant', 'Coordination strategy'])\n",
    "    \n",
    "    # df = df[~df['passhum']]\n",
    "    \n",
    "    col_strategy = 'Coordination strategy'\n",
    "    col_i = 'i_map'\n",
    "    col_j = 'Positions variant'\n",
    "    col_data ='No. of completed missions'\n",
    "    \n",
    "    strategies = df.index.get_level_values(col_strategy).unique()\n",
    "    \n",
    "    # Create subplots\n",
    "    fig = make_subplots(\n",
    "        rows=1,\n",
    "        cols=len(strategies),\n",
    "        subplot_titles=[f\"{strategy}\" for strategy in strategies],\n",
    "        #shared_yaxes=True\n",
    "    )\n",
    "    \n",
    "    for idx, strategy in enumerate(strategies):\n",
    "        heatmap_data, heatmap_fig = plot_df(\n",
    "            runname=runname, df=df, \n",
    "            col_strategy=col_strategy, strategy=strategy, \n",
    "            col_i=col_i, col_j=col_j, col_data=col_data,\n",
    "        )\n",
    "          \n",
    "        # Add heatmap to the subplot\n",
    "        for trace in heatmap_fig.data:\n",
    "            trace.update(coloraxis=\"coloraxis\")  # Link each subplot to the shared color axis\n",
    "            fig.add_trace(trace, row=1, col=idx + 1)\n",
    "        \n",
    "        # Apply axis settings to each subplot\n",
    "        xaxis_key = f\"xaxis{idx + 1}\" if idx > 0 else \"xaxis\"\n",
    "        yaxis_key = f\"yaxis{idx + 1}\" if idx > 0 else \"yaxis\"\n",
    "        \n",
    "        fig.update_layout(**{\n",
    "            xaxis_key: dict(\n",
    "                title=col_j,\n",
    "                tickmode=\"array\",\n",
    "                tickvals=list(heatmap_data.columns),\n",
    "                ticktext=heatmap_data.columns.tolist(),\n",
    "            ),\n",
    "            yaxis_key: dict(\n",
    "                title=col_i,\n",
    "                tickmode=\"array\",\n",
    "                tickvals=list(heatmap_data.index),\n",
    "                ticktext=heatmap_data.index.tolist(),\n",
    "                autorange=\"reversed\",  # Reverse the y-axis for top-to-bottom ticks\n",
    "            )\n",
    "        })\n",
    "    \n",
    "    # Update layout with shared color scale\n",
    "    fig.update_layout(\n",
    "        title=f\"{col_data} ({runname}, {col_strategy}, {label_are_bridges})\",\n",
    "        coloraxis=dict(\n",
    "            colorscale=\"Greens\",  # Apply \"Greens\" color scale to the shared color axis\n",
    "            colorbar=dict(\n",
    "                title=col_data,\n",
    "                titleside=\"right\",  # Position the colorbar title vertically to the left\n",
    "                titlefont=dict(size=12)  # Optional: Adjust font size for better appearance\n",
    "            )\n",
    "        )\n",
    "    )\n",
    "    \n",
    "    # Display the figure\n",
    "    fig.show()\n",
    "\n",
    "\n",
    "\n",
    "# Call the function\n",
    "plot_df_all('20241230_173555', are_bridges=False, label_are_bridges='maps with low connectivity')\n",
    "plot_df_all('20241230_173555', are_bridges=True, label_are_bridges='maps with high connectivity')\n",
    "\n",
    "\"\"\"\n",
    "- No. of completed missions\n",
    "- Average mission length\n",
    "- Average CS density score\n",
    "\n",
    "Hypotheses:f\n",
    "- less Average mission length -> more No. of completed\n",
    "- less Average CS density score -> more No. of completed missions (& less collisions, etc.) \n",
    "\"\"\""
   ],
   "id": "initial_id",
   "outputs": [
    {
     "data": {
      "text/plain": [
       "                                                                                        filename  \\\n",
       "i_map Positions variant Coordination strategy                                                      \n",
       "1     1                 baseline               map-generator/generated-maps/2024-11-28_13:19:...   \n",
       "                        change of priorities   map-generator/generated-maps/2024-11-28_13:19:...   \n",
       "                        stops                  map-generator/generated-maps/2024-11-28_13:19:...   \n",
       "      2                 baseline               map-generator/generated-maps/2024-11-28_13:19:...   \n",
       "                        change of priorities   map-generator/generated-maps/2024-11-28_13:19:...   \n",
       "...                                                                                          ...   \n",
       "10    9                 change of priorities   map-generator/generated-maps/2024-11-28_13:19:...   \n",
       "                        stops                  map-generator/generated-maps/2024-11-28_13:19:...   \n",
       "      10                baseline               map-generator/generated-maps/2024-11-28_13:19:...   \n",
       "                        change of priorities   map-generator/generated-maps/2024-11-28_13:19:...   \n",
       "                        stops                  map-generator/generated-maps/2024-11-28_13:19:...   \n",
       "\n",
       "                                                                                         dir_map  \\\n",
       "i_map Positions variant Coordination strategy                                                      \n",
       "1     1                 baseline               2024-11-28_13:19:18_without_bridges2024-11-28_...   \n",
       "                        change of priorities   2024-11-28_13:19:18_without_bridges2024-11-28_...   \n",
       "                        stops                  2024-11-28_13:19:18_without_bridges2024-11-28_...   \n",
       "      2                 baseline               2024-11-28_13:19:18_without_bridges2024-11-28_...   \n",
       "                        change of priorities   2024-11-28_13:19:18_without_bridges2024-11-28_...   \n",
       "...                                                                                          ...   \n",
       "10    9                 change of priorities   2024-11-28_13:19:18_without_bridges2024-11-28_...   \n",
       "                        stops                  2024-11-28_13:19:18_without_bridges2024-11-28_...   \n",
       "      10                baseline               2024-11-28_13:19:18_without_bridges2024-11-28_...   \n",
       "                        change of priorities   2024-11-28_13:19:18_without_bridges2024-11-28_...   \n",
       "                        stops                  2024-11-28_13:19:18_without_bridges2024-11-28_...   \n",
       "\n",
       "                                                                               basename_scenario  \\\n",
       "i_map Positions variant Coordination strategy                                                      \n",
       "1     1                 baseline               scenario1-1scenario1-1scenario1-1scenario1-1sc...   \n",
       "                        change of priorities   scenario1-1scenario1-1scenario1-1scenario1-1sc...   \n",
       "                        stops                  scenario1-1scenario1-1scenario1-1scenario1-1sc...   \n",
       "      2                 baseline               scenario1-2scenario1-2scenario1-2scenario1-2sc...   \n",
       "                        change of priorities   scenario1-2scenario1-2scenario1-2scenario1-2sc...   \n",
       "...                                                                                          ...   \n",
       "10    9                 change of priorities   scenario10-9scenario10-9scenario10-9scenario10...   \n",
       "                        stops                  scenario10-9scenario10-9scenario10-9scenario10...   \n",
       "      10                baseline               scenario10-10scenario10-10scenario10-10scenari...   \n",
       "                        change of priorities   scenario10-10scenario10-10scenario10-10scenari...   \n",
       "                        stops                  scenario10-10scenario10-10scenario10-10scenari...   \n",
       "\n",
       "                                               i_map  Positions variant  \\\n",
       "i_map Positions variant Coordination strategy                             \n",
       "1     1                 baseline                   6                  6   \n",
       "                        change of priorities       6                  6   \n",
       "                        stops                      6                  6   \n",
       "      2                 baseline                   6                 12   \n",
       "                        change of priorities       6                 12   \n",
       "...                                              ...                ...   \n",
       "10    9                 change of priorities      60                 54   \n",
       "                        stops                     60                 54   \n",
       "      10                baseline                  60                 60   \n",
       "                        change of priorities      60                 60   \n",
       "                        stops                     60                 60   \n",
       "\n",
       "                                               passhum      slowness  \\\n",
       "i_map Positions variant Coordination strategy                          \n",
       "1     1                 baseline                     3  nononononono   \n",
       "                        change of priorities         3  nononononono   \n",
       "                        stops                        3  nononononono   \n",
       "      2                 baseline                     3  nononononono   \n",
       "                        change of priorities         3  nononononono   \n",
       "...                                                ...           ...   \n",
       "10    9                 change of priorities         3  nononononono   \n",
       "                        stops                        3  nononononono   \n",
       "      10                baseline                     3  nononononono   \n",
       "                        change of priorities         3  nononononono   \n",
       "                        stops                        3  nononononono   \n",
       "\n",
       "                                                                           Coordination strategy  \\\n",
       "i_map Positions variant Coordination strategy                                                      \n",
       "1     1                 baseline                baselinebaselinebaselinebaselinebaselinebaseline   \n",
       "                        change of priorities   change of prioritieschange of prioritieschange...   \n",
       "                        stops                                     stopsstopsstopsstopsstopsstops   \n",
       "      2                 baseline                baselinebaselinebaselinebaselinebaselinebaseline   \n",
       "                        change of priorities   change of prioritieschange of prioritieschange...   \n",
       "...                                                                                          ...   \n",
       "10    9                 change of priorities   change of prioritieschange of prioritieschange...   \n",
       "                        stops                                     stopsstopsstopsstopsstopsstops   \n",
       "      10                baseline                baselinebaselinebaselinebaselinebaselinebaseline   \n",
       "                        change of priorities   change of prioritieschange of prioritieschange...   \n",
       "                        stops                                     stopsstopsstopsstopsstopsstops   \n",
       "\n",
       "                                                                             filename_screenshot  \\\n",
       "i_map Positions variant Coordination strategy                                                      \n",
       "1     1                 baseline               ../map-generator/generated-maps/2024-11-28_13:...   \n",
       "                        change of priorities   ../map-generator/generated-maps/2024-11-28_13:...   \n",
       "                        stops                  ../map-generator/generated-maps/2024-11-28_13:...   \n",
       "      2                 baseline               ../map-generator/generated-maps/2024-11-28_13:...   \n",
       "                        change of priorities   ../map-generator/generated-maps/2024-11-28_13:...   \n",
       "...                                                                                          ...   \n",
       "10    9                 change of priorities   ../map-generator/generated-maps/2024-11-28_13:...   \n",
       "                        stops                  ../map-generator/generated-maps/2024-11-28_13:...   \n",
       "      10                baseline               ../map-generator/generated-maps/2024-11-28_13:...   \n",
       "                        change of priorities   ../map-generator/generated-maps/2024-11-28_13:...   \n",
       "                        stops                  ../map-generator/generated-maps/2024-11-28_13:...   \n",
       "\n",
       "                                               are_bridges  ...  \\\n",
       "i_map Positions variant Coordination strategy               ...   \n",
       "1     1                 baseline                         0  ...   \n",
       "                        change of priorities             0  ...   \n",
       "                        stops                            0  ...   \n",
       "      2                 baseline                         0  ...   \n",
       "                        change of priorities             0  ...   \n",
       "...                                                    ...  ...   \n",
       "10    9                 change of priorities             0  ...   \n",
       "                        stops                            0  ...   \n",
       "      10                baseline                         0  ...   \n",
       "                        change of priorities             0  ...   \n",
       "                        stops                            0  ...   \n",
       "\n",
       "                                                                Linearization A (non-normalized)  \\\n",
       "i_map Positions variant Coordination strategy                                                      \n",
       "1     1                 baseline               (0.0, 0.0, 0.0, 0.0, 0.0, 0.0, 1.0, 1.0, 1.0, ...   \n",
       "                        change of priorities   (0.0, 0.0, 0.0, 0.0, 0.0, 0.0, 1.0, 1.0, 1.0, ...   \n",
       "                        stops                  (0.0, 0.0, 0.0, 0.0, 0.0, 0.0, 1.0, 1.0, 1.0, ...   \n",
       "      2                 baseline               (0.0, 0.0, 0.0, 0.0, 0.0, 0.0, 1.0, 1.0, 1.0, ...   \n",
       "                        change of priorities   (0.0, 0.0, 0.0, 0.0, 0.0, 0.0, 1.0, 1.0, 1.0, ...   \n",
       "...                                                                                          ...   \n",
       "10    9                 change of priorities   (0.0, 0.0, 0.0, 0.0, 0.0, 0.0, 0.0, 0.0, 0.0, ...   \n",
       "                        stops                  (0.0, 0.0, 0.0, 0.0, 0.0, 0.0, 0.0, 0.0, 0.0, ...   \n",
       "      10                baseline               (0.0, 0.0, 0.0, 0.0, 0.0, 0.0, 0.0, 0.0, 0.0, ...   \n",
       "                        change of priorities   (0.0, 0.0, 0.0, 0.0, 0.0, 0.0, 0.0, 0.0, 0.0, ...   \n",
       "                        stops                  (0.0, 0.0, 0.0, 0.0, 0.0, 0.0, 0.0, 0.0, 0.0, ...   \n",
       "\n",
       "                                                                Linearization B (non-normalized)  \\\n",
       "i_map Positions variant Coordination strategy                                                      \n",
       "1     1                 baseline               (0.0, 0.0, 0.0, 0.0, 0.0, 0.0, 0.001282, 0.001...   \n",
       "                        change of priorities   (0.0, 0.0, 0.0, 0.0, 0.0, 0.0, 0.001282, 0.001...   \n",
       "                        stops                  (0.0, 0.0, 0.0, 0.0, 0.0, 0.0, 0.001282, 0.001...   \n",
       "      2                 baseline               (0.0, 0.0, 0.0, 0.0, 0.0, 0.0, 0.001282, 0.001...   \n",
       "                        change of priorities   (0.0, 0.0, 0.0, 0.0, 0.0, 0.0, 0.001282, 0.001...   \n",
       "...                                                                                          ...   \n",
       "10    9                 change of priorities   (0.0, 0.0, 0.0, 0.0, 0.0, 0.0, 0.0, 0.0, 0.0, ...   \n",
       "                        stops                  (0.0, 0.0, 0.0, 0.0, 0.0, 0.0, 0.0, 0.0, 0.0, ...   \n",
       "      10                baseline               (0.0, 0.0, 0.0, 0.0, 0.0, 0.0, 0.0, 0.0, 0.0, ...   \n",
       "                        change of priorities   (0.0, 0.0, 0.0, 0.0, 0.0, 0.0, 0.0, 0.0, 0.0, ...   \n",
       "                        stops                  (0.0, 0.0, 0.0, 0.0, 0.0, 0.0, 0.0, 0.0, 0.0, ...   \n",
       "\n",
       "                                                                Linearization C (non-normalized)  \\\n",
       "i_map Positions variant Coordination strategy                                                      \n",
       "1     1                 baseline               (0.0, 0.0, 0.0, 0.0, 0.0, 0.0, 0.160256, 0.160...   \n",
       "                        change of priorities   (0.0, 0.0, 0.0, 0.0, 0.0, 0.0, 0.160256, 0.160...   \n",
       "                        stops                  (0.0, 0.0, 0.0, 0.0, 0.0, 0.0, 0.160256, 0.160...   \n",
       "      2                 baseline               (0.0, 0.0, 0.0, 0.0, 0.0, 0.0, 0.160256, 0.160...   \n",
       "                        change of priorities   (0.0, 0.0, 0.0, 0.0, 0.0, 0.0, 0.160256, 0.160...   \n",
       "...                                                                                          ...   \n",
       "10    9                 change of priorities   (0.0, 0.0, 0.0, 0.0, 0.0, 0.0, 0.0, 0.0, 0.0, ...   \n",
       "                        stops                  (0.0, 0.0, 0.0, 0.0, 0.0, 0.0, 0.0, 0.0, 0.0, ...   \n",
       "      10                baseline               (0.0, 0.0, 0.0, 0.0, 0.0, 0.0, 0.0, 0.0, 0.0, ...   \n",
       "                        change of priorities   (0.0, 0.0, 0.0, 0.0, 0.0, 0.0, 0.0, 0.0, 0.0, ...   \n",
       "                        stops                  (0.0, 0.0, 0.0, 0.0, 0.0, 0.0, 0.0, 0.0, 0.0, ...   \n",
       "\n",
       "                                                               Linearization D1 (non-normalized)  \\\n",
       "i_map Positions variant Coordination strategy                                                      \n",
       "1     1                 baseline               (0.0, 0.0, 0.0, 0.0, 0.0, 0.0, 0.0, 0.0, 0.0, ...   \n",
       "                        change of priorities   (0.0, 0.0, 0.0, 0.0, 0.0, 0.0, 0.0, 0.0, 0.0, ...   \n",
       "                        stops                  (0.0, 0.0, 0.0, 0.0, 0.0, 0.0, 0.0, 0.0, 0.0, ...   \n",
       "      2                 baseline               (0.0, 0.0, 0.0, 0.0, 0.0, 0.0, 0.0, 0.0, 0.0, ...   \n",
       "                        change of priorities   (0.0, 0.0, 0.0, 0.0, 0.0, 0.0, 0.0, 0.0, 0.0, ...   \n",
       "...                                                                                          ...   \n",
       "10    9                 change of priorities   (0.0, 0.0, 0.0, 0.0, 0.0, 0.0, 0.0, 0.0, 0.0, ...   \n",
       "                        stops                  (0.0, 0.0, 0.0, 0.0, 0.0, 0.0, 0.0, 0.0, 0.0, ...   \n",
       "      10                baseline               (0.0, 0.0, 0.0, 0.0, 0.0, 0.0, 0.0, 0.0, 0.0, ...   \n",
       "                        change of priorities   (0.0, 0.0, 0.0, 0.0, 0.0, 0.0, 0.0, 0.0, 0.0, ...   \n",
       "                        stops                  (0.0, 0.0, 0.0, 0.0, 0.0, 0.0, 0.0, 0.0, 0.0, ...   \n",
       "\n",
       "                                                               Linearization D2 (non-normalized)  \\\n",
       "i_map Positions variant Coordination strategy                                                      \n",
       "1     1                 baseline               (0.0, 0.0, 0.0, 0.0, 0.0, 0.0, 0.0, 0.0, 0.0, ...   \n",
       "                        change of priorities   (0.0, 0.0, 0.0, 0.0, 0.0, 0.0, 0.0, 0.0, 0.0, ...   \n",
       "                        stops                  (0.0, 0.0, 0.0, 0.0, 0.0, 0.0, 0.0, 0.0, 0.0, ...   \n",
       "      2                 baseline               (0.0, 0.0, 0.0, 0.0, 0.0, 0.0, 0.0, 0.0, 0.0, ...   \n",
       "                        change of priorities   (0.0, 0.0, 0.0, 0.0, 0.0, 0.0, 0.0, 0.0, 0.0, ...   \n",
       "...                                                                                          ...   \n",
       "10    9                 change of priorities   (0.0, 0.0, 0.0, 0.0, 0.0, 0.0, 0.0, 0.0, 0.0, ...   \n",
       "                        stops                  (0.0, 0.0, 0.0, 0.0, 0.0, 0.0, 0.0, 0.0, 0.0, ...   \n",
       "      10                baseline               (0.0, 0.0, 0.0, 0.0, 0.0, 0.0, 0.0, 0.0, 0.0, ...   \n",
       "                        change of priorities   (0.0, 0.0, 0.0, 0.0, 0.0, 0.0, 0.0, 0.0, 0.0, ...   \n",
       "                        stops                  (0.0, 0.0, 0.0, 0.0, 0.0, 0.0, 0.0, 0.0, 0.0, ...   \n",
       "\n",
       "                                                               Linearization D3 (non-normalized)  \\\n",
       "i_map Positions variant Coordination strategy                                                      \n",
       "1     1                 baseline               (0.0, 0.0, 0.0, 0.0, 0.0, 0.0, 0.0, 0.0, 0.0, ...   \n",
       "                        change of priorities   (0.0, 0.0, 0.0, 0.0, 0.0, 0.0, 0.0, 0.0, 0.0, ...   \n",
       "                        stops                  (0.0, 0.0, 0.0, 0.0, 0.0, 0.0, 0.0, 0.0, 0.0, ...   \n",
       "      2                 baseline               (0.0, 0.0, 0.0, 0.0, 0.0, 0.0, 0.0, 0.0, 0.0, ...   \n",
       "                        change of priorities   (0.0, 0.0, 0.0, 0.0, 0.0, 0.0, 0.0, 0.0, 0.0, ...   \n",
       "...                                                                                          ...   \n",
       "10    9                 change of priorities   (0.0, 0.0, 0.0, 0.0, 0.0, 0.0, 0.0, 0.0, 0.0, ...   \n",
       "                        stops                  (0.0, 0.0, 0.0, 0.0, 0.0, 0.0, 0.0, 0.0, 0.0, ...   \n",
       "      10                baseline               (0.0, 0.0, 0.0, 0.0, 0.0, 0.0, 0.0, 0.0, 0.0, ...   \n",
       "                        change of priorities   (0.0, 0.0, 0.0, 0.0, 0.0, 0.0, 0.0, 0.0, 0.0, ...   \n",
       "                        stops                  (0.0, 0.0, 0.0, 0.0, 0.0, 0.0, 0.0, 0.0, 0.0, ...   \n",
       "\n",
       "                                                               Linearization D0 (non-normalized)  \\\n",
       "i_map Positions variant Coordination strategy                                                      \n",
       "1     1                 baseline               (0.0, 0.0, 0.0, 0.0, 0.0, 0.0, 0.160256, 0.160...   \n",
       "                        change of priorities   (0.0, 0.0, 0.0, 0.0, 0.0, 0.0, 0.160256, 0.160...   \n",
       "                        stops                  (0.0, 0.0, 0.0, 0.0, 0.0, 0.0, 0.160256, 0.160...   \n",
       "      2                 baseline               (0.0, 0.0, 0.0, 0.0, 0.0, 0.0, 0.160256, 0.160...   \n",
       "                        change of priorities   (0.0, 0.0, 0.0, 0.0, 0.0, 0.0, 0.160256, 0.160...   \n",
       "...                                                                                          ...   \n",
       "10    9                 change of priorities   (0.0, 0.0, 0.0, 0.0, 0.0, 0.0, 0.0, 0.0, 0.0, ...   \n",
       "                        stops                  (0.0, 0.0, 0.0, 0.0, 0.0, 0.0, 0.0, 0.0, 0.0, ...   \n",
       "      10                baseline               (0.0, 0.0, 0.0, 0.0, 0.0, 0.0, 0.0, 0.0, 0.0, ...   \n",
       "                        change of priorities   (0.0, 0.0, 0.0, 0.0, 0.0, 0.0, 0.0, 0.0, 0.0, ...   \n",
       "                        stops                  (0.0, 0.0, 0.0, 0.0, 0.0, 0.0, 0.0, 0.0, 0.0, ...   \n",
       "\n",
       "                                                                Linearization D (non-normalized)  \\\n",
       "i_map Positions variant Coordination strategy                                                      \n",
       "1     1                 baseline               ((0.0, None, 0.0, 0.0), (0.0, None, 0.0, 0.0),...   \n",
       "                        change of priorities   ((0.0, None, 0.0, 0.0), (0.0, None, 0.0, 0.0),...   \n",
       "                        stops                  ((0.0, None, 0.0, 0.0), (0.0, None, 0.0, 0.0),...   \n",
       "      2                 baseline               ((0.0, None, 0.0, 0.0), (0.0, None, 0.0, 0.0),...   \n",
       "                        change of priorities   ((0.0, None, 0.0, 0.0), (0.0, None, 0.0, 0.0),...   \n",
       "...                                                                                          ...   \n",
       "10    9                 change of priorities   ((0.0, None, 0.0, 0.0), (0.0, None, 0.0, 0.0),...   \n",
       "                        stops                  ((0.0, None, 0.0, 0.0), (0.0, None, 0.0, 0.0),...   \n",
       "      10                baseline               ((0.0, None, 0.0, 0.0), (0.0, None, 0.0, 0.0),...   \n",
       "                        change of priorities   ((0.0, None, 0.0, 0.0), (0.0, None, 0.0, 0.0),...   \n",
       "                        stops                  ((0.0, None, 0.0, 0.0), (0.0, None, 0.0, 0.0),...   \n",
       "\n",
       "                                              seconds_blocked  is_blocked  \n",
       "i_map Positions variant Coordination strategy                              \n",
       "1     1                 baseline                          0.0           0  \n",
       "                        change of priorities              0.0           0  \n",
       "                        stops                             0.0           0  \n",
       "      2                 baseline                          0.0           0  \n",
       "                        change of priorities           1903.0           2  \n",
       "...                                                       ...         ...  \n",
       "10    9                 change of priorities              0.0           0  \n",
       "                        stops                             0.0           0  \n",
       "      10                baseline                          0.0           0  \n",
       "                        change of priorities              0.0           0  \n",
       "                        stops                             0.0           0  \n",
       "\n",
       "[300 rows x 87 columns]"
      ],
      "text/html": [
       "<div>\n",
       "<style scoped>\n",
       "    .dataframe tbody tr th:only-of-type {\n",
       "        vertical-align: middle;\n",
       "    }\n",
       "\n",
       "    .dataframe tbody tr th {\n",
       "        vertical-align: top;\n",
       "    }\n",
       "\n",
       "    .dataframe thead th {\n",
       "        text-align: right;\n",
       "    }\n",
       "</style>\n",
       "<table border=\"1\" class=\"dataframe\">\n",
       "  <thead>\n",
       "    <tr style=\"text-align: right;\">\n",
       "      <th></th>\n",
       "      <th></th>\n",
       "      <th></th>\n",
       "      <th>filename</th>\n",
       "      <th>dir_map</th>\n",
       "      <th>basename_scenario</th>\n",
       "      <th>i_map</th>\n",
       "      <th>Positions variant</th>\n",
       "      <th>passhum</th>\n",
       "      <th>slowness</th>\n",
       "      <th>Coordination strategy</th>\n",
       "      <th>filename_screenshot</th>\n",
       "      <th>are_bridges</th>\n",
       "      <th>...</th>\n",
       "      <th>Linearization A (non-normalized)</th>\n",
       "      <th>Linearization B (non-normalized)</th>\n",
       "      <th>Linearization C (non-normalized)</th>\n",
       "      <th>Linearization D1 (non-normalized)</th>\n",
       "      <th>Linearization D2 (non-normalized)</th>\n",
       "      <th>Linearization D3 (non-normalized)</th>\n",
       "      <th>Linearization D0 (non-normalized)</th>\n",
       "      <th>Linearization D (non-normalized)</th>\n",
       "      <th>seconds_blocked</th>\n",
       "      <th>is_blocked</th>\n",
       "    </tr>\n",
       "    <tr>\n",
       "      <th>i_map</th>\n",
       "      <th>Positions variant</th>\n",
       "      <th>Coordination strategy</th>\n",
       "      <th></th>\n",
       "      <th></th>\n",
       "      <th></th>\n",
       "      <th></th>\n",
       "      <th></th>\n",
       "      <th></th>\n",
       "      <th></th>\n",
       "      <th></th>\n",
       "      <th></th>\n",
       "      <th></th>\n",
       "      <th></th>\n",
       "      <th></th>\n",
       "      <th></th>\n",
       "      <th></th>\n",
       "      <th></th>\n",
       "      <th></th>\n",
       "      <th></th>\n",
       "      <th></th>\n",
       "      <th></th>\n",
       "      <th></th>\n",
       "      <th></th>\n",
       "    </tr>\n",
       "  </thead>\n",
       "  <tbody>\n",
       "    <tr>\n",
       "      <th rowspan=\"5\" valign=\"top\">1</th>\n",
       "      <th rowspan=\"3\" valign=\"top\">1</th>\n",
       "      <th>baseline</th>\n",
       "      <td>map-generator/generated-maps/2024-11-28_13:19:...</td>\n",
       "      <td>2024-11-28_13:19:18_without_bridges2024-11-28_...</td>\n",
       "      <td>scenario1-1scenario1-1scenario1-1scenario1-1sc...</td>\n",
       "      <td>6</td>\n",
       "      <td>6</td>\n",
       "      <td>3</td>\n",
       "      <td>nononononono</td>\n",
       "      <td>baselinebaselinebaselinebaselinebaselinebaseline</td>\n",
       "      <td>../map-generator/generated-maps/2024-11-28_13:...</td>\n",
       "      <td>0</td>\n",
       "      <td>...</td>\n",
       "      <td>(0.0, 0.0, 0.0, 0.0, 0.0, 0.0, 1.0, 1.0, 1.0, ...</td>\n",
       "      <td>(0.0, 0.0, 0.0, 0.0, 0.0, 0.0, 0.001282, 0.001...</td>\n",
       "      <td>(0.0, 0.0, 0.0, 0.0, 0.0, 0.0, 0.160256, 0.160...</td>\n",
       "      <td>(0.0, 0.0, 0.0, 0.0, 0.0, 0.0, 0.0, 0.0, 0.0, ...</td>\n",
       "      <td>(0.0, 0.0, 0.0, 0.0, 0.0, 0.0, 0.0, 0.0, 0.0, ...</td>\n",
       "      <td>(0.0, 0.0, 0.0, 0.0, 0.0, 0.0, 0.0, 0.0, 0.0, ...</td>\n",
       "      <td>(0.0, 0.0, 0.0, 0.0, 0.0, 0.0, 0.160256, 0.160...</td>\n",
       "      <td>((0.0, None, 0.0, 0.0), (0.0, None, 0.0, 0.0),...</td>\n",
       "      <td>0.0</td>\n",
       "      <td>0</td>\n",
       "    </tr>\n",
       "    <tr>\n",
       "      <th>change of priorities</th>\n",
       "      <td>map-generator/generated-maps/2024-11-28_13:19:...</td>\n",
       "      <td>2024-11-28_13:19:18_without_bridges2024-11-28_...</td>\n",
       "      <td>scenario1-1scenario1-1scenario1-1scenario1-1sc...</td>\n",
       "      <td>6</td>\n",
       "      <td>6</td>\n",
       "      <td>3</td>\n",
       "      <td>nononononono</td>\n",
       "      <td>change of prioritieschange of prioritieschange...</td>\n",
       "      <td>../map-generator/generated-maps/2024-11-28_13:...</td>\n",
       "      <td>0</td>\n",
       "      <td>...</td>\n",
       "      <td>(0.0, 0.0, 0.0, 0.0, 0.0, 0.0, 1.0, 1.0, 1.0, ...</td>\n",
       "      <td>(0.0, 0.0, 0.0, 0.0, 0.0, 0.0, 0.001282, 0.001...</td>\n",
       "      <td>(0.0, 0.0, 0.0, 0.0, 0.0, 0.0, 0.160256, 0.160...</td>\n",
       "      <td>(0.0, 0.0, 0.0, 0.0, 0.0, 0.0, 0.0, 0.0, 0.0, ...</td>\n",
       "      <td>(0.0, 0.0, 0.0, 0.0, 0.0, 0.0, 0.0, 0.0, 0.0, ...</td>\n",
       "      <td>(0.0, 0.0, 0.0, 0.0, 0.0, 0.0, 0.0, 0.0, 0.0, ...</td>\n",
       "      <td>(0.0, 0.0, 0.0, 0.0, 0.0, 0.0, 0.160256, 0.160...</td>\n",
       "      <td>((0.0, None, 0.0, 0.0), (0.0, None, 0.0, 0.0),...</td>\n",
       "      <td>0.0</td>\n",
       "      <td>0</td>\n",
       "    </tr>\n",
       "    <tr>\n",
       "      <th>stops</th>\n",
       "      <td>map-generator/generated-maps/2024-11-28_13:19:...</td>\n",
       "      <td>2024-11-28_13:19:18_without_bridges2024-11-28_...</td>\n",
       "      <td>scenario1-1scenario1-1scenario1-1scenario1-1sc...</td>\n",
       "      <td>6</td>\n",
       "      <td>6</td>\n",
       "      <td>3</td>\n",
       "      <td>nononononono</td>\n",
       "      <td>stopsstopsstopsstopsstopsstops</td>\n",
       "      <td>../map-generator/generated-maps/2024-11-28_13:...</td>\n",
       "      <td>0</td>\n",
       "      <td>...</td>\n",
       "      <td>(0.0, 0.0, 0.0, 0.0, 0.0, 0.0, 1.0, 1.0, 1.0, ...</td>\n",
       "      <td>(0.0, 0.0, 0.0, 0.0, 0.0, 0.0, 0.001282, 0.001...</td>\n",
       "      <td>(0.0, 0.0, 0.0, 0.0, 0.0, 0.0, 0.160256, 0.160...</td>\n",
       "      <td>(0.0, 0.0, 0.0, 0.0, 0.0, 0.0, 0.0, 0.0, 0.0, ...</td>\n",
       "      <td>(0.0, 0.0, 0.0, 0.0, 0.0, 0.0, 0.0, 0.0, 0.0, ...</td>\n",
       "      <td>(0.0, 0.0, 0.0, 0.0, 0.0, 0.0, 0.0, 0.0, 0.0, ...</td>\n",
       "      <td>(0.0, 0.0, 0.0, 0.0, 0.0, 0.0, 0.160256, 0.160...</td>\n",
       "      <td>((0.0, None, 0.0, 0.0), (0.0, None, 0.0, 0.0),...</td>\n",
       "      <td>0.0</td>\n",
       "      <td>0</td>\n",
       "    </tr>\n",
       "    <tr>\n",
       "      <th rowspan=\"2\" valign=\"top\">2</th>\n",
       "      <th>baseline</th>\n",
       "      <td>map-generator/generated-maps/2024-11-28_13:19:...</td>\n",
       "      <td>2024-11-28_13:19:18_without_bridges2024-11-28_...</td>\n",
       "      <td>scenario1-2scenario1-2scenario1-2scenario1-2sc...</td>\n",
       "      <td>6</td>\n",
       "      <td>12</td>\n",
       "      <td>3</td>\n",
       "      <td>nononononono</td>\n",
       "      <td>baselinebaselinebaselinebaselinebaselinebaseline</td>\n",
       "      <td>../map-generator/generated-maps/2024-11-28_13:...</td>\n",
       "      <td>0</td>\n",
       "      <td>...</td>\n",
       "      <td>(0.0, 0.0, 0.0, 0.0, 0.0, 0.0, 1.0, 1.0, 1.0, ...</td>\n",
       "      <td>(0.0, 0.0, 0.0, 0.0, 0.0, 0.0, 0.001282, 0.001...</td>\n",
       "      <td>(0.0, 0.0, 0.0, 0.0, 0.0, 0.0, 0.160256, 0.160...</td>\n",
       "      <td>(0.0, 0.0, 0.0, 0.0, 0.0, 0.0, 0.0, 0.0, 0.0, ...</td>\n",
       "      <td>(0.0, 0.0, 0.0, 0.0, 0.0, 0.0, 0.0, 0.0, 0.0, ...</td>\n",
       "      <td>(0.0, 0.0, 0.0, 0.0, 0.0, 0.0, 0.0, 0.0, 0.0, ...</td>\n",
       "      <td>(0.0, 0.0, 0.0, 0.0, 0.0, 0.0, 0.160256, 0.160...</td>\n",
       "      <td>((0.0, None, 0.0, 0.0), (0.0, None, 0.0, 0.0),...</td>\n",
       "      <td>0.0</td>\n",
       "      <td>0</td>\n",
       "    </tr>\n",
       "    <tr>\n",
       "      <th>change of priorities</th>\n",
       "      <td>map-generator/generated-maps/2024-11-28_13:19:...</td>\n",
       "      <td>2024-11-28_13:19:18_without_bridges2024-11-28_...</td>\n",
       "      <td>scenario1-2scenario1-2scenario1-2scenario1-2sc...</td>\n",
       "      <td>6</td>\n",
       "      <td>12</td>\n",
       "      <td>3</td>\n",
       "      <td>nononononono</td>\n",
       "      <td>change of prioritieschange of prioritieschange...</td>\n",
       "      <td>../map-generator/generated-maps/2024-11-28_13:...</td>\n",
       "      <td>0</td>\n",
       "      <td>...</td>\n",
       "      <td>(0.0, 0.0, 0.0, 0.0, 0.0, 0.0, 1.0, 1.0, 1.0, ...</td>\n",
       "      <td>(0.0, 0.0, 0.0, 0.0, 0.0, 0.0, 0.001282, 0.001...</td>\n",
       "      <td>(0.0, 0.0, 0.0, 0.0, 0.0, 0.0, 0.160256, 0.160...</td>\n",
       "      <td>(0.0, 0.0, 0.0, 0.0, 0.0, 0.0, 0.0, 0.0, 0.0, ...</td>\n",
       "      <td>(0.0, 0.0, 0.0, 0.0, 0.0, 0.0, 0.0, 0.0, 0.0, ...</td>\n",
       "      <td>(0.0, 0.0, 0.0, 0.0, 0.0, 0.0, 0.0, 0.0, 0.0, ...</td>\n",
       "      <td>(0.0, 0.0, 0.0, 0.0, 0.0, 0.0, 0.160256, 0.160...</td>\n",
       "      <td>((0.0, None, 0.0, 0.0), (0.0, None, 0.0, 0.0),...</td>\n",
       "      <td>1903.0</td>\n",
       "      <td>2</td>\n",
       "    </tr>\n",
       "    <tr>\n",
       "      <th>...</th>\n",
       "      <th>...</th>\n",
       "      <th>...</th>\n",
       "      <td>...</td>\n",
       "      <td>...</td>\n",
       "      <td>...</td>\n",
       "      <td>...</td>\n",
       "      <td>...</td>\n",
       "      <td>...</td>\n",
       "      <td>...</td>\n",
       "      <td>...</td>\n",
       "      <td>...</td>\n",
       "      <td>...</td>\n",
       "      <td>...</td>\n",
       "      <td>...</td>\n",
       "      <td>...</td>\n",
       "      <td>...</td>\n",
       "      <td>...</td>\n",
       "      <td>...</td>\n",
       "      <td>...</td>\n",
       "      <td>...</td>\n",
       "      <td>...</td>\n",
       "      <td>...</td>\n",
       "      <td>...</td>\n",
       "    </tr>\n",
       "    <tr>\n",
       "      <th rowspan=\"5\" valign=\"top\">10</th>\n",
       "      <th rowspan=\"2\" valign=\"top\">9</th>\n",
       "      <th>change of priorities</th>\n",
       "      <td>map-generator/generated-maps/2024-11-28_13:19:...</td>\n",
       "      <td>2024-11-28_13:19:18_without_bridges2024-11-28_...</td>\n",
       "      <td>scenario10-9scenario10-9scenario10-9scenario10...</td>\n",
       "      <td>60</td>\n",
       "      <td>54</td>\n",
       "      <td>3</td>\n",
       "      <td>nononononono</td>\n",
       "      <td>change of prioritieschange of prioritieschange...</td>\n",
       "      <td>../map-generator/generated-maps/2024-11-28_13:...</td>\n",
       "      <td>0</td>\n",
       "      <td>...</td>\n",
       "      <td>(0.0, 0.0, 0.0, 0.0, 0.0, 0.0, 0.0, 0.0, 0.0, ...</td>\n",
       "      <td>(0.0, 0.0, 0.0, 0.0, 0.0, 0.0, 0.0, 0.0, 0.0, ...</td>\n",
       "      <td>(0.0, 0.0, 0.0, 0.0, 0.0, 0.0, 0.0, 0.0, 0.0, ...</td>\n",
       "      <td>(0.0, 0.0, 0.0, 0.0, 0.0, 0.0, 0.0, 0.0, 0.0, ...</td>\n",
       "      <td>(0.0, 0.0, 0.0, 0.0, 0.0, 0.0, 0.0, 0.0, 0.0, ...</td>\n",
       "      <td>(0.0, 0.0, 0.0, 0.0, 0.0, 0.0, 0.0, 0.0, 0.0, ...</td>\n",
       "      <td>(0.0, 0.0, 0.0, 0.0, 0.0, 0.0, 0.0, 0.0, 0.0, ...</td>\n",
       "      <td>((0.0, None, 0.0, 0.0), (0.0, None, 0.0, 0.0),...</td>\n",
       "      <td>0.0</td>\n",
       "      <td>0</td>\n",
       "    </tr>\n",
       "    <tr>\n",
       "      <th>stops</th>\n",
       "      <td>map-generator/generated-maps/2024-11-28_13:19:...</td>\n",
       "      <td>2024-11-28_13:19:18_without_bridges2024-11-28_...</td>\n",
       "      <td>scenario10-9scenario10-9scenario10-9scenario10...</td>\n",
       "      <td>60</td>\n",
       "      <td>54</td>\n",
       "      <td>3</td>\n",
       "      <td>nononononono</td>\n",
       "      <td>stopsstopsstopsstopsstopsstops</td>\n",
       "      <td>../map-generator/generated-maps/2024-11-28_13:...</td>\n",
       "      <td>0</td>\n",
       "      <td>...</td>\n",
       "      <td>(0.0, 0.0, 0.0, 0.0, 0.0, 0.0, 0.0, 0.0, 0.0, ...</td>\n",
       "      <td>(0.0, 0.0, 0.0, 0.0, 0.0, 0.0, 0.0, 0.0, 0.0, ...</td>\n",
       "      <td>(0.0, 0.0, 0.0, 0.0, 0.0, 0.0, 0.0, 0.0, 0.0, ...</td>\n",
       "      <td>(0.0, 0.0, 0.0, 0.0, 0.0, 0.0, 0.0, 0.0, 0.0, ...</td>\n",
       "      <td>(0.0, 0.0, 0.0, 0.0, 0.0, 0.0, 0.0, 0.0, 0.0, ...</td>\n",
       "      <td>(0.0, 0.0, 0.0, 0.0, 0.0, 0.0, 0.0, 0.0, 0.0, ...</td>\n",
       "      <td>(0.0, 0.0, 0.0, 0.0, 0.0, 0.0, 0.0, 0.0, 0.0, ...</td>\n",
       "      <td>((0.0, None, 0.0, 0.0), (0.0, None, 0.0, 0.0),...</td>\n",
       "      <td>0.0</td>\n",
       "      <td>0</td>\n",
       "    </tr>\n",
       "    <tr>\n",
       "      <th rowspan=\"3\" valign=\"top\">10</th>\n",
       "      <th>baseline</th>\n",
       "      <td>map-generator/generated-maps/2024-11-28_13:19:...</td>\n",
       "      <td>2024-11-28_13:19:18_without_bridges2024-11-28_...</td>\n",
       "      <td>scenario10-10scenario10-10scenario10-10scenari...</td>\n",
       "      <td>60</td>\n",
       "      <td>60</td>\n",
       "      <td>3</td>\n",
       "      <td>nononononono</td>\n",
       "      <td>baselinebaselinebaselinebaselinebaselinebaseline</td>\n",
       "      <td>../map-generator/generated-maps/2024-11-28_13:...</td>\n",
       "      <td>0</td>\n",
       "      <td>...</td>\n",
       "      <td>(0.0, 0.0, 0.0, 0.0, 0.0, 0.0, 0.0, 0.0, 0.0, ...</td>\n",
       "      <td>(0.0, 0.0, 0.0, 0.0, 0.0, 0.0, 0.0, 0.0, 0.0, ...</td>\n",
       "      <td>(0.0, 0.0, 0.0, 0.0, 0.0, 0.0, 0.0, 0.0, 0.0, ...</td>\n",
       "      <td>(0.0, 0.0, 0.0, 0.0, 0.0, 0.0, 0.0, 0.0, 0.0, ...</td>\n",
       "      <td>(0.0, 0.0, 0.0, 0.0, 0.0, 0.0, 0.0, 0.0, 0.0, ...</td>\n",
       "      <td>(0.0, 0.0, 0.0, 0.0, 0.0, 0.0, 0.0, 0.0, 0.0, ...</td>\n",
       "      <td>(0.0, 0.0, 0.0, 0.0, 0.0, 0.0, 0.0, 0.0, 0.0, ...</td>\n",
       "      <td>((0.0, None, 0.0, 0.0), (0.0, None, 0.0, 0.0),...</td>\n",
       "      <td>0.0</td>\n",
       "      <td>0</td>\n",
       "    </tr>\n",
       "    <tr>\n",
       "      <th>change of priorities</th>\n",
       "      <td>map-generator/generated-maps/2024-11-28_13:19:...</td>\n",
       "      <td>2024-11-28_13:19:18_without_bridges2024-11-28_...</td>\n",
       "      <td>scenario10-10scenario10-10scenario10-10scenari...</td>\n",
       "      <td>60</td>\n",
       "      <td>60</td>\n",
       "      <td>3</td>\n",
       "      <td>nononononono</td>\n",
       "      <td>change of prioritieschange of prioritieschange...</td>\n",
       "      <td>../map-generator/generated-maps/2024-11-28_13:...</td>\n",
       "      <td>0</td>\n",
       "      <td>...</td>\n",
       "      <td>(0.0, 0.0, 0.0, 0.0, 0.0, 0.0, 0.0, 0.0, 0.0, ...</td>\n",
       "      <td>(0.0, 0.0, 0.0, 0.0, 0.0, 0.0, 0.0, 0.0, 0.0, ...</td>\n",
       "      <td>(0.0, 0.0, 0.0, 0.0, 0.0, 0.0, 0.0, 0.0, 0.0, ...</td>\n",
       "      <td>(0.0, 0.0, 0.0, 0.0, 0.0, 0.0, 0.0, 0.0, 0.0, ...</td>\n",
       "      <td>(0.0, 0.0, 0.0, 0.0, 0.0, 0.0, 0.0, 0.0, 0.0, ...</td>\n",
       "      <td>(0.0, 0.0, 0.0, 0.0, 0.0, 0.0, 0.0, 0.0, 0.0, ...</td>\n",
       "      <td>(0.0, 0.0, 0.0, 0.0, 0.0, 0.0, 0.0, 0.0, 0.0, ...</td>\n",
       "      <td>((0.0, None, 0.0, 0.0), (0.0, None, 0.0, 0.0),...</td>\n",
       "      <td>0.0</td>\n",
       "      <td>0</td>\n",
       "    </tr>\n",
       "    <tr>\n",
       "      <th>stops</th>\n",
       "      <td>map-generator/generated-maps/2024-11-28_13:19:...</td>\n",
       "      <td>2024-11-28_13:19:18_without_bridges2024-11-28_...</td>\n",
       "      <td>scenario10-10scenario10-10scenario10-10scenari...</td>\n",
       "      <td>60</td>\n",
       "      <td>60</td>\n",
       "      <td>3</td>\n",
       "      <td>nononononono</td>\n",
       "      <td>stopsstopsstopsstopsstopsstops</td>\n",
       "      <td>../map-generator/generated-maps/2024-11-28_13:...</td>\n",
       "      <td>0</td>\n",
       "      <td>...</td>\n",
       "      <td>(0.0, 0.0, 0.0, 0.0, 0.0, 0.0, 0.0, 0.0, 0.0, ...</td>\n",
       "      <td>(0.0, 0.0, 0.0, 0.0, 0.0, 0.0, 0.0, 0.0, 0.0, ...</td>\n",
       "      <td>(0.0, 0.0, 0.0, 0.0, 0.0, 0.0, 0.0, 0.0, 0.0, ...</td>\n",
       "      <td>(0.0, 0.0, 0.0, 0.0, 0.0, 0.0, 0.0, 0.0, 0.0, ...</td>\n",
       "      <td>(0.0, 0.0, 0.0, 0.0, 0.0, 0.0, 0.0, 0.0, 0.0, ...</td>\n",
       "      <td>(0.0, 0.0, 0.0, 0.0, 0.0, 0.0, 0.0, 0.0, 0.0, ...</td>\n",
       "      <td>(0.0, 0.0, 0.0, 0.0, 0.0, 0.0, 0.0, 0.0, 0.0, ...</td>\n",
       "      <td>((0.0, None, 0.0, 0.0), (0.0, None, 0.0, 0.0),...</td>\n",
       "      <td>0.0</td>\n",
       "      <td>0</td>\n",
       "    </tr>\n",
       "  </tbody>\n",
       "</table>\n",
       "<p>300 rows × 87 columns</p>\n",
       "</div>"
      ]
     },
     "metadata": {},
     "output_type": "display_data"
    },
    {
     "data": {
      "text/plain": [
       "Index(['filename', 'dir_map', 'basename_scenario', 'i_map',\n",
       "       'Positions variant', 'passhum', 'slowness', 'Coordination strategy',\n",
       "       'filename_screenshot', 'are_bridges', 'configuration',\n",
       "       'isCanPassFirstHum', 'isCanPassFirstAut', 'reroutingsAtParked',\n",
       "       'reroutingsAtSlow', 'Date', 'Scenario ID', 'Vehicle ID', 'Vehicle type',\n",
       "       'Cycle distance (m)', 'No. of completed missions',\n",
       "       'Total distance traveled (m)', 'No. of stops', 'No. of forcing events',\n",
       "       'No. of violations', 'No. of critical sections', 'No. of near-misses',\n",
       "       'No. of collisions', 'Total waiting time (s)',\n",
       "       'Maximum waiting time (s)', 'Total time (s)',\n",
       "       'Maximum acceleration (m/s^2)', 'Maximum speed (m/s)',\n",
       "       'Average speed (m/s)', 'Scenario', 'Current datetime',\n",
       "       'Time passed (real)', 'Time passed (sim.)', 'isCanPassFirstActive',\n",
       "       'isRacingThroughCrossroadAllowed', 'probabilitySlowingDownForHuman',\n",
       "       'Human V0', 'Collision events', 'Vehicle size (m)', 'v_current',\n",
       "       'v_max', 'can pass first', 'violation of priorities', 'moving slowly',\n",
       "       'improper parking', 'cautious mode', 'reroutings at parked / slow',\n",
       "       'moving backwards', 'change of priorities', 'stops', 'violations',\n",
       "       'near misses', 'collisions', 'traveled total, m', 'no. missions',\n",
       "       'blocked', 'position (x, y), m', 'traveled, m', 'path index',\n",
       "       'no. poses', 'CP (index)', 'posTo Slow, m', 'distance ToCP, m',\n",
       "       'status', 'future missions', 'Linearization A', 'Linearization B',\n",
       "       'Linearization C', 'Linearization D1', 'Linearization D2',\n",
       "       'Linearization D3', 'Linearization D0',\n",
       "       'Linearization A (non-normalized)', 'Linearization B (non-normalized)',\n",
       "       'Linearization C (non-normalized)', 'Linearization D1 (non-normalized)',\n",
       "       'Linearization D2 (non-normalized)',\n",
       "       'Linearization D3 (non-normalized)',\n",
       "       'Linearization D0 (non-normalized)', 'Linearization D (non-normalized)',\n",
       "       'seconds_blocked', 'is_blocked'],\n",
       "      dtype='object')"
      ]
     },
     "metadata": {},
     "output_type": "display_data"
    },
    {
     "data": {
      "application/vnd.plotly.v1+json": {
       "data": [
        {
         "coloraxis": "coloraxis",
         "hovertemplate": "i_map: %{y}<br>Positions variant: %{x}<br>No. of completed missions: %{z}<extra></extra>",
         "name": "0",
         "x": [
          1,
          2,
          3,
          4,
          5,
          6,
          7,
          8,
          9,
          10
         ],
         "xaxis": "x",
         "y": [
          1,
          2,
          3,
          4,
          5,
          6,
          7,
          8,
          9,
          10
         ],
         "yaxis": "y",
         "z": [
          [
           68,
           73,
           46,
           46,
           72,
           50,
           54,
           53,
           73,
           81
          ],
          [
           52,
           48,
           49,
           58,
           47,
           41,
           42,
           38,
           42,
           40
          ],
          [
           42,
           42,
           38,
           39,
           40,
           48,
           26,
           41,
           46,
           42
          ],
          [
           39,
           40,
           44,
           41,
           46,
           46,
           35,
           42,
           42,
           51
          ],
          [
           36,
           28,
           54,
           28,
           22,
           48,
           38,
           36,
           28,
           28
          ],
          [
           56,
           62,
           65,
           60,
           62,
           49,
           56,
           56,
           44,
           70
          ],
          [
           36,
           34,
           44,
           42,
           34,
           26,
           30,
           26,
           30,
           46
          ],
          [
           38,
           33,
           36,
           43,
           43,
           40,
           35,
           32,
           48,
           48
          ],
          [
           33,
           46,
           43,
           33,
           38,
           4,
           31,
           42,
           41,
           47
          ],
          [
           68,
           62,
           66,
           52,
           73,
           88,
           56,
           62,
           58,
           62
          ]
         ],
         "type": "heatmap"
        },
        {
         "coloraxis": "coloraxis",
         "hovertemplate": "i_map: %{y}<br>Positions variant: %{x}<br>No. of completed missions: %{z}<extra></extra>",
         "name": "0",
         "x": [
          1,
          2,
          3,
          4,
          5,
          6,
          7,
          8,
          9,
          10
         ],
         "xaxis": "x2",
         "y": [
          1,
          2,
          3,
          4,
          5,
          6,
          7,
          8,
          9,
          10
         ],
         "yaxis": "y2",
         "z": [
          [
           66,
           55,
           46,
           45,
           38,
           47,
           52,
           51,
           62,
           78
          ],
          [
           10,
           8,
           10,
           52,
           2,
           38,
           8,
           36,
           8,
           0
          ],
          [
           40,
           40,
           4,
           4,
           38,
           24,
           2,
           4,
           28,
           2
          ],
          [
           14,
           36,
           44,
           2,
           24,
           2,
           23,
           40,
           2,
           52
          ],
          [
           36,
           32,
           58,
           36,
           24,
           44,
           24,
           36,
           36,
           32
          ],
          [
           48,
           62,
           30,
           56,
           60,
           48,
           50,
           54,
           18,
           30
          ],
          [
           12,
           38,
           42,
           12,
           38,
           28,
           32,
           28,
           32,
           46
          ],
          [
           22,
           32,
           34,
           42,
           44,
           4,
           12,
           10,
           4,
           48
          ],
          [
           10,
           4,
           40,
           34,
           34,
           28,
           30,
           38,
           4,
           29
          ],
          [
           68,
           60,
           58,
           52,
           70,
           88,
           54,
           60,
           54,
           60
          ]
         ],
         "type": "heatmap"
        },
        {
         "coloraxis": "coloraxis",
         "hovertemplate": "i_map: %{y}<br>Positions variant: %{x}<br>No. of completed missions: %{z}<extra></extra>",
         "name": "0",
         "x": [
          1,
          2,
          3,
          4,
          5,
          6,
          7,
          8,
          9,
          10
         ],
         "xaxis": "x3",
         "y": [
          1,
          2,
          3,
          4,
          5,
          6,
          7,
          8,
          9,
          10
         ],
         "yaxis": "y3",
         "z": [
          [
           58,
           66,
           44,
           44,
           34,
           46,
           49,
           47,
           65,
           68
          ],
          [
           29,
           0,
           16,
           18,
           2,
           32,
           0,
           30,
           0,
           0
          ],
          [
           16,
           16,
           8,
           4,
           35,
           27,
           2,
           12,
           38,
           35
          ],
          [
           29,
           27,
           37,
           35,
           2,
           36,
           24,
           35,
           34,
           27
          ],
          [
           30,
           26,
           2,
           26,
           12,
           42,
           34,
           30,
           26,
           26
          ],
          [
           47,
           60,
           64,
           53,
           59,
           44,
           49,
           49,
           32,
           30
          ],
          [
           30,
           30,
           34,
           34,
           30,
           26,
           26,
           26,
           16,
           38
          ],
          [
           34,
           28,
           28,
           23,
           35,
           2,
           28,
           24,
           4,
           26
          ],
          [
           26,
           34,
           35,
           2,
           19,
           26,
           28,
           10,
           34,
           39
          ],
          [
           24,
           53,
           56,
           46,
           62,
           82,
           48,
           57,
           48,
           53
          ]
         ],
         "type": "heatmap"
        }
       ],
       "layout": {
        "template": {
         "data": {
          "histogram2dcontour": [
           {
            "type": "histogram2dcontour",
            "colorbar": {
             "outlinewidth": 0,
             "ticks": ""
            },
            "colorscale": [
             [
              0.0,
              "#0d0887"
             ],
             [
              0.1111111111111111,
              "#46039f"
             ],
             [
              0.2222222222222222,
              "#7201a8"
             ],
             [
              0.3333333333333333,
              "#9c179e"
             ],
             [
              0.4444444444444444,
              "#bd3786"
             ],
             [
              0.5555555555555556,
              "#d8576b"
             ],
             [
              0.6666666666666666,
              "#ed7953"
             ],
             [
              0.7777777777777778,
              "#fb9f3a"
             ],
             [
              0.8888888888888888,
              "#fdca26"
             ],
             [
              1.0,
              "#f0f921"
             ]
            ]
           }
          ],
          "choropleth": [
           {
            "type": "choropleth",
            "colorbar": {
             "outlinewidth": 0,
             "ticks": ""
            }
           }
          ],
          "histogram2d": [
           {
            "type": "histogram2d",
            "colorbar": {
             "outlinewidth": 0,
             "ticks": ""
            },
            "colorscale": [
             [
              0.0,
              "#0d0887"
             ],
             [
              0.1111111111111111,
              "#46039f"
             ],
             [
              0.2222222222222222,
              "#7201a8"
             ],
             [
              0.3333333333333333,
              "#9c179e"
             ],
             [
              0.4444444444444444,
              "#bd3786"
             ],
             [
              0.5555555555555556,
              "#d8576b"
             ],
             [
              0.6666666666666666,
              "#ed7953"
             ],
             [
              0.7777777777777778,
              "#fb9f3a"
             ],
             [
              0.8888888888888888,
              "#fdca26"
             ],
             [
              1.0,
              "#f0f921"
             ]
            ]
           }
          ],
          "heatmap": [
           {
            "type": "heatmap",
            "colorbar": {
             "outlinewidth": 0,
             "ticks": ""
            },
            "colorscale": [
             [
              0.0,
              "#0d0887"
             ],
             [
              0.1111111111111111,
              "#46039f"
             ],
             [
              0.2222222222222222,
              "#7201a8"
             ],
             [
              0.3333333333333333,
              "#9c179e"
             ],
             [
              0.4444444444444444,
              "#bd3786"
             ],
             [
              0.5555555555555556,
              "#d8576b"
             ],
             [
              0.6666666666666666,
              "#ed7953"
             ],
             [
              0.7777777777777778,
              "#fb9f3a"
             ],
             [
              0.8888888888888888,
              "#fdca26"
             ],
             [
              1.0,
              "#f0f921"
             ]
            ]
           }
          ],
          "heatmapgl": [
           {
            "type": "heatmapgl",
            "colorbar": {
             "outlinewidth": 0,
             "ticks": ""
            },
            "colorscale": [
             [
              0.0,
              "#0d0887"
             ],
             [
              0.1111111111111111,
              "#46039f"
             ],
             [
              0.2222222222222222,
              "#7201a8"
             ],
             [
              0.3333333333333333,
              "#9c179e"
             ],
             [
              0.4444444444444444,
              "#bd3786"
             ],
             [
              0.5555555555555556,
              "#d8576b"
             ],
             [
              0.6666666666666666,
              "#ed7953"
             ],
             [
              0.7777777777777778,
              "#fb9f3a"
             ],
             [
              0.8888888888888888,
              "#fdca26"
             ],
             [
              1.0,
              "#f0f921"
             ]
            ]
           }
          ],
          "contourcarpet": [
           {
            "type": "contourcarpet",
            "colorbar": {
             "outlinewidth": 0,
             "ticks": ""
            }
           }
          ],
          "contour": [
           {
            "type": "contour",
            "colorbar": {
             "outlinewidth": 0,
             "ticks": ""
            },
            "colorscale": [
             [
              0.0,
              "#0d0887"
             ],
             [
              0.1111111111111111,
              "#46039f"
             ],
             [
              0.2222222222222222,
              "#7201a8"
             ],
             [
              0.3333333333333333,
              "#9c179e"
             ],
             [
              0.4444444444444444,
              "#bd3786"
             ],
             [
              0.5555555555555556,
              "#d8576b"
             ],
             [
              0.6666666666666666,
              "#ed7953"
             ],
             [
              0.7777777777777778,
              "#fb9f3a"
             ],
             [
              0.8888888888888888,
              "#fdca26"
             ],
             [
              1.0,
              "#f0f921"
             ]
            ]
           }
          ],
          "surface": [
           {
            "type": "surface",
            "colorbar": {
             "outlinewidth": 0,
             "ticks": ""
            },
            "colorscale": [
             [
              0.0,
              "#0d0887"
             ],
             [
              0.1111111111111111,
              "#46039f"
             ],
             [
              0.2222222222222222,
              "#7201a8"
             ],
             [
              0.3333333333333333,
              "#9c179e"
             ],
             [
              0.4444444444444444,
              "#bd3786"
             ],
             [
              0.5555555555555556,
              "#d8576b"
             ],
             [
              0.6666666666666666,
              "#ed7953"
             ],
             [
              0.7777777777777778,
              "#fb9f3a"
             ],
             [
              0.8888888888888888,
              "#fdca26"
             ],
             [
              1.0,
              "#f0f921"
             ]
            ]
           }
          ],
          "mesh3d": [
           {
            "type": "mesh3d",
            "colorbar": {
             "outlinewidth": 0,
             "ticks": ""
            }
           }
          ],
          "scatter": [
           {
            "marker": {
             "line": {
              "color": "#283442"
             }
            },
            "type": "scatter"
           }
          ],
          "parcoords": [
           {
            "type": "parcoords",
            "line": {
             "colorbar": {
              "outlinewidth": 0,
              "ticks": ""
             }
            }
           }
          ],
          "scatterpolargl": [
           {
            "type": "scatterpolargl",
            "marker": {
             "colorbar": {
              "outlinewidth": 0,
              "ticks": ""
             }
            }
           }
          ],
          "bar": [
           {
            "error_x": {
             "color": "#f2f5fa"
            },
            "error_y": {
             "color": "#f2f5fa"
            },
            "marker": {
             "line": {
              "color": "rgb(17,17,17)",
              "width": 0.5
             },
             "pattern": {
              "fillmode": "overlay",
              "size": 10,
              "solidity": 0.2
             }
            },
            "type": "bar"
           }
          ],
          "scattergeo": [
           {
            "type": "scattergeo",
            "marker": {
             "colorbar": {
              "outlinewidth": 0,
              "ticks": ""
             }
            }
           }
          ],
          "scatterpolar": [
           {
            "type": "scatterpolar",
            "marker": {
             "colorbar": {
              "outlinewidth": 0,
              "ticks": ""
             }
            }
           }
          ],
          "histogram": [
           {
            "marker": {
             "pattern": {
              "fillmode": "overlay",
              "size": 10,
              "solidity": 0.2
             }
            },
            "type": "histogram"
           }
          ],
          "scattergl": [
           {
            "marker": {
             "line": {
              "color": "#283442"
             }
            },
            "type": "scattergl"
           }
          ],
          "scatter3d": [
           {
            "type": "scatter3d",
            "line": {
             "colorbar": {
              "outlinewidth": 0,
              "ticks": ""
             }
            },
            "marker": {
             "colorbar": {
              "outlinewidth": 0,
              "ticks": ""
             }
            }
           }
          ],
          "scattermapbox": [
           {
            "type": "scattermapbox",
            "marker": {
             "colorbar": {
              "outlinewidth": 0,
              "ticks": ""
             }
            }
           }
          ],
          "scatterternary": [
           {
            "type": "scatterternary",
            "marker": {
             "colorbar": {
              "outlinewidth": 0,
              "ticks": ""
             }
            }
           }
          ],
          "scattercarpet": [
           {
            "type": "scattercarpet",
            "marker": {
             "colorbar": {
              "outlinewidth": 0,
              "ticks": ""
             }
            }
           }
          ],
          "carpet": [
           {
            "aaxis": {
             "endlinecolor": "#A2B1C6",
             "gridcolor": "#506784",
             "linecolor": "#506784",
             "minorgridcolor": "#506784",
             "startlinecolor": "#A2B1C6"
            },
            "baxis": {
             "endlinecolor": "#A2B1C6",
             "gridcolor": "#506784",
             "linecolor": "#506784",
             "minorgridcolor": "#506784",
             "startlinecolor": "#A2B1C6"
            },
            "type": "carpet"
           }
          ],
          "table": [
           {
            "cells": {
             "fill": {
              "color": "#506784"
             },
             "line": {
              "color": "rgb(17,17,17)"
             }
            },
            "header": {
             "fill": {
              "color": "#2a3f5f"
             },
             "line": {
              "color": "rgb(17,17,17)"
             }
            },
            "type": "table"
           }
          ],
          "barpolar": [
           {
            "marker": {
             "line": {
              "color": "rgb(17,17,17)",
              "width": 0.5
             },
             "pattern": {
              "fillmode": "overlay",
              "size": 10,
              "solidity": 0.2
             }
            },
            "type": "barpolar"
           }
          ],
          "pie": [
           {
            "automargin": true,
            "type": "pie"
           }
          ]
         },
         "layout": {
          "autotypenumbers": "strict",
          "colorway": [
           "#636efa",
           "#EF553B",
           "#00cc96",
           "#ab63fa",
           "#FFA15A",
           "#19d3f3",
           "#FF6692",
           "#B6E880",
           "#FF97FF",
           "#FECB52"
          ],
          "font": {
           "color": "#f2f5fa"
          },
          "hovermode": "closest",
          "hoverlabel": {
           "align": "left"
          },
          "paper_bgcolor": "rgb(17,17,17)",
          "plot_bgcolor": "rgb(17,17,17)",
          "polar": {
           "bgcolor": "rgb(17,17,17)",
           "angularaxis": {
            "gridcolor": "#506784",
            "linecolor": "#506784",
            "ticks": ""
           },
           "radialaxis": {
            "gridcolor": "#506784",
            "linecolor": "#506784",
            "ticks": ""
           }
          },
          "ternary": {
           "bgcolor": "rgb(17,17,17)",
           "aaxis": {
            "gridcolor": "#506784",
            "linecolor": "#506784",
            "ticks": ""
           },
           "baxis": {
            "gridcolor": "#506784",
            "linecolor": "#506784",
            "ticks": ""
           },
           "caxis": {
            "gridcolor": "#506784",
            "linecolor": "#506784",
            "ticks": ""
           }
          },
          "coloraxis": {
           "colorbar": {
            "outlinewidth": 0,
            "ticks": ""
           }
          },
          "colorscale": {
           "sequential": [
            [
             0.0,
             "#0d0887"
            ],
            [
             0.1111111111111111,
             "#46039f"
            ],
            [
             0.2222222222222222,
             "#7201a8"
            ],
            [
             0.3333333333333333,
             "#9c179e"
            ],
            [
             0.4444444444444444,
             "#bd3786"
            ],
            [
             0.5555555555555556,
             "#d8576b"
            ],
            [
             0.6666666666666666,
             "#ed7953"
            ],
            [
             0.7777777777777778,
             "#fb9f3a"
            ],
            [
             0.8888888888888888,
             "#fdca26"
            ],
            [
             1.0,
             "#f0f921"
            ]
           ],
           "sequentialminus": [
            [
             0.0,
             "#0d0887"
            ],
            [
             0.1111111111111111,
             "#46039f"
            ],
            [
             0.2222222222222222,
             "#7201a8"
            ],
            [
             0.3333333333333333,
             "#9c179e"
            ],
            [
             0.4444444444444444,
             "#bd3786"
            ],
            [
             0.5555555555555556,
             "#d8576b"
            ],
            [
             0.6666666666666666,
             "#ed7953"
            ],
            [
             0.7777777777777778,
             "#fb9f3a"
            ],
            [
             0.8888888888888888,
             "#fdca26"
            ],
            [
             1.0,
             "#f0f921"
            ]
           ],
           "diverging": [
            [
             0,
             "#8e0152"
            ],
            [
             0.1,
             "#c51b7d"
            ],
            [
             0.2,
             "#de77ae"
            ],
            [
             0.3,
             "#f1b6da"
            ],
            [
             0.4,
             "#fde0ef"
            ],
            [
             0.5,
             "#f7f7f7"
            ],
            [
             0.6,
             "#e6f5d0"
            ],
            [
             0.7,
             "#b8e186"
            ],
            [
             0.8,
             "#7fbc41"
            ],
            [
             0.9,
             "#4d9221"
            ],
            [
             1,
             "#276419"
            ]
           ]
          },
          "xaxis": {
           "gridcolor": "#283442",
           "linecolor": "#506784",
           "ticks": "",
           "title": {
            "standoff": 15
           },
           "zerolinecolor": "#283442",
           "automargin": true,
           "zerolinewidth": 2
          },
          "yaxis": {
           "gridcolor": "#283442",
           "linecolor": "#506784",
           "ticks": "",
           "title": {
            "standoff": 15
           },
           "zerolinecolor": "#283442",
           "automargin": true,
           "zerolinewidth": 2
          },
          "scene": {
           "xaxis": {
            "backgroundcolor": "rgb(17,17,17)",
            "gridcolor": "#506784",
            "linecolor": "#506784",
            "showbackground": true,
            "ticks": "",
            "zerolinecolor": "#C8D4E3",
            "gridwidth": 2
           },
           "yaxis": {
            "backgroundcolor": "rgb(17,17,17)",
            "gridcolor": "#506784",
            "linecolor": "#506784",
            "showbackground": true,
            "ticks": "",
            "zerolinecolor": "#C8D4E3",
            "gridwidth": 2
           },
           "zaxis": {
            "backgroundcolor": "rgb(17,17,17)",
            "gridcolor": "#506784",
            "linecolor": "#506784",
            "showbackground": true,
            "ticks": "",
            "zerolinecolor": "#C8D4E3",
            "gridwidth": 2
           }
          },
          "shapedefaults": {
           "line": {
            "color": "#f2f5fa"
           }
          },
          "annotationdefaults": {
           "arrowcolor": "#f2f5fa",
           "arrowhead": 0,
           "arrowwidth": 1
          },
          "geo": {
           "bgcolor": "rgb(17,17,17)",
           "landcolor": "rgb(17,17,17)",
           "subunitcolor": "#506784",
           "showland": true,
           "showlakes": true,
           "lakecolor": "rgb(17,17,17)"
          },
          "title": {
           "x": 0.05
          },
          "updatemenudefaults": {
           "bgcolor": "#506784",
           "borderwidth": 0
          },
          "sliderdefaults": {
           "bgcolor": "#C8D4E3",
           "borderwidth": 1,
           "bordercolor": "rgb(17,17,17)",
           "tickwidth": 0
          },
          "mapbox": {
           "style": "dark"
          }
         }
        },
        "xaxis": {
         "anchor": "y",
         "domain": [
          0.0,
          0.2888888888888889
         ],
         "title": {
          "text": "Positions variant"
         },
         "tickmode": "array",
         "tickvals": [
          1,
          2,
          3,
          4,
          5,
          6,
          7,
          8,
          9,
          10
         ],
         "ticktext": [
          1,
          2,
          3,
          4,
          5,
          6,
          7,
          8,
          9,
          10
         ]
        },
        "yaxis": {
         "anchor": "x",
         "domain": [
          0.0,
          1.0
         ],
         "title": {
          "text": "i_map"
         },
         "tickmode": "array",
         "tickvals": [
          1,
          2,
          3,
          4,
          5,
          6,
          7,
          8,
          9,
          10
         ],
         "ticktext": [
          1,
          2,
          3,
          4,
          5,
          6,
          7,
          8,
          9,
          10
         ],
         "autorange": "reversed"
        },
        "xaxis2": {
         "anchor": "y2",
         "domain": [
          0.35555555555555557,
          0.6444444444444445
         ],
         "title": {
          "text": "Positions variant"
         },
         "tickmode": "array",
         "tickvals": [
          1,
          2,
          3,
          4,
          5,
          6,
          7,
          8,
          9,
          10
         ],
         "ticktext": [
          1,
          2,
          3,
          4,
          5,
          6,
          7,
          8,
          9,
          10
         ]
        },
        "yaxis2": {
         "anchor": "x2",
         "domain": [
          0.0,
          1.0
         ],
         "title": {
          "text": "i_map"
         },
         "tickmode": "array",
         "tickvals": [
          1,
          2,
          3,
          4,
          5,
          6,
          7,
          8,
          9,
          10
         ],
         "ticktext": [
          1,
          2,
          3,
          4,
          5,
          6,
          7,
          8,
          9,
          10
         ],
         "autorange": "reversed"
        },
        "xaxis3": {
         "anchor": "y3",
         "domain": [
          0.7111111111111111,
          1.0
         ],
         "title": {
          "text": "Positions variant"
         },
         "tickmode": "array",
         "tickvals": [
          1,
          2,
          3,
          4,
          5,
          6,
          7,
          8,
          9,
          10
         ],
         "ticktext": [
          1,
          2,
          3,
          4,
          5,
          6,
          7,
          8,
          9,
          10
         ]
        },
        "yaxis3": {
         "anchor": "x3",
         "domain": [
          0.0,
          1.0
         ],
         "title": {
          "text": "i_map"
         },
         "tickmode": "array",
         "tickvals": [
          1,
          2,
          3,
          4,
          5,
          6,
          7,
          8,
          9,
          10
         ],
         "ticktext": [
          1,
          2,
          3,
          4,
          5,
          6,
          7,
          8,
          9,
          10
         ],
         "autorange": "reversed"
        },
        "annotations": [
         {
          "font": {
           "size": 16
          },
          "showarrow": false,
          "text": "baseline",
          "x": 0.14444444444444446,
          "xanchor": "center",
          "xref": "paper",
          "y": 1.0,
          "yanchor": "bottom",
          "yref": "paper"
         },
         {
          "font": {
           "size": 16
          },
          "showarrow": false,
          "text": "change of priorities",
          "x": 0.5,
          "xanchor": "center",
          "xref": "paper",
          "y": 1.0,
          "yanchor": "bottom",
          "yref": "paper"
         },
         {
          "font": {
           "size": 16
          },
          "showarrow": false,
          "text": "stops",
          "x": 0.8555555555555556,
          "xanchor": "center",
          "xref": "paper",
          "y": 1.0,
          "yanchor": "bottom",
          "yref": "paper"
         }
        ],
        "coloraxis": {
         "colorbar": {
          "title": {
           "text": "No. of completed missions",
           "side": "right",
           "font": {
            "size": 12
           }
          }
         },
         "colorscale": [
          [
           0.0,
           "rgb(247,252,245)"
          ],
          [
           0.125,
           "rgb(229,245,224)"
          ],
          [
           0.25,
           "rgb(199,233,192)"
          ],
          [
           0.375,
           "rgb(161,217,155)"
          ],
          [
           0.5,
           "rgb(116,196,118)"
          ],
          [
           0.625,
           "rgb(65,171,93)"
          ],
          [
           0.75,
           "rgb(35,139,69)"
          ],
          [
           0.875,
           "rgb(0,109,44)"
          ],
          [
           1.0,
           "rgb(0,68,27)"
          ]
         ]
        },
        "title": {
         "text": "No. of completed missions (20241230_173555, Coordination strategy, maps with low connectivity)"
        }
       },
       "config": {
        "plotlyServerURL": "https://plot.ly"
       }
      },
      "text/html": [
       "<div>                            <div id=\"ab86f8b4-8f7c-4b82-985a-e8f77ad32f95\" class=\"plotly-graph-div\" style=\"height:525px; width:100%;\"></div>            <script type=\"text/javascript\">                require([\"plotly\"], function(Plotly) {                    window.PLOTLYENV=window.PLOTLYENV || {};                                    if (document.getElementById(\"ab86f8b4-8f7c-4b82-985a-e8f77ad32f95\")) {                    Plotly.newPlot(                        \"ab86f8b4-8f7c-4b82-985a-e8f77ad32f95\",                        [{\"coloraxis\":\"coloraxis\",\"hovertemplate\":\"i_map: %{y}\\u003cbr\\u003ePositions variant: %{x}\\u003cbr\\u003eNo. of completed missions: %{z}\\u003cextra\\u003e\\u003c\\u002fextra\\u003e\",\"name\":\"0\",\"x\":[1,2,3,4,5,6,7,8,9,10],\"xaxis\":\"x\",\"y\":[1,2,3,4,5,6,7,8,9,10],\"yaxis\":\"y\",\"z\":[[68,73,46,46,72,50,54,53,73,81],[52,48,49,58,47,41,42,38,42,40],[42,42,38,39,40,48,26,41,46,42],[39,40,44,41,46,46,35,42,42,51],[36,28,54,28,22,48,38,36,28,28],[56,62,65,60,62,49,56,56,44,70],[36,34,44,42,34,26,30,26,30,46],[38,33,36,43,43,40,35,32,48,48],[33,46,43,33,38,4,31,42,41,47],[68,62,66,52,73,88,56,62,58,62]],\"type\":\"heatmap\"},{\"coloraxis\":\"coloraxis\",\"hovertemplate\":\"i_map: %{y}\\u003cbr\\u003ePositions variant: %{x}\\u003cbr\\u003eNo. of completed missions: %{z}\\u003cextra\\u003e\\u003c\\u002fextra\\u003e\",\"name\":\"0\",\"x\":[1,2,3,4,5,6,7,8,9,10],\"xaxis\":\"x2\",\"y\":[1,2,3,4,5,6,7,8,9,10],\"yaxis\":\"y2\",\"z\":[[66,55,46,45,38,47,52,51,62,78],[10,8,10,52,2,38,8,36,8,0],[40,40,4,4,38,24,2,4,28,2],[14,36,44,2,24,2,23,40,2,52],[36,32,58,36,24,44,24,36,36,32],[48,62,30,56,60,48,50,54,18,30],[12,38,42,12,38,28,32,28,32,46],[22,32,34,42,44,4,12,10,4,48],[10,4,40,34,34,28,30,38,4,29],[68,60,58,52,70,88,54,60,54,60]],\"type\":\"heatmap\"},{\"coloraxis\":\"coloraxis\",\"hovertemplate\":\"i_map: %{y}\\u003cbr\\u003ePositions variant: %{x}\\u003cbr\\u003eNo. of completed missions: %{z}\\u003cextra\\u003e\\u003c\\u002fextra\\u003e\",\"name\":\"0\",\"x\":[1,2,3,4,5,6,7,8,9,10],\"xaxis\":\"x3\",\"y\":[1,2,3,4,5,6,7,8,9,10],\"yaxis\":\"y3\",\"z\":[[58,66,44,44,34,46,49,47,65,68],[29,0,16,18,2,32,0,30,0,0],[16,16,8,4,35,27,2,12,38,35],[29,27,37,35,2,36,24,35,34,27],[30,26,2,26,12,42,34,30,26,26],[47,60,64,53,59,44,49,49,32,30],[30,30,34,34,30,26,26,26,16,38],[34,28,28,23,35,2,28,24,4,26],[26,34,35,2,19,26,28,10,34,39],[24,53,56,46,62,82,48,57,48,53]],\"type\":\"heatmap\"}],                        {\"template\":{\"data\":{\"histogram2dcontour\":[{\"type\":\"histogram2dcontour\",\"colorbar\":{\"outlinewidth\":0,\"ticks\":\"\"},\"colorscale\":[[0.0,\"#0d0887\"],[0.1111111111111111,\"#46039f\"],[0.2222222222222222,\"#7201a8\"],[0.3333333333333333,\"#9c179e\"],[0.4444444444444444,\"#bd3786\"],[0.5555555555555556,\"#d8576b\"],[0.6666666666666666,\"#ed7953\"],[0.7777777777777778,\"#fb9f3a\"],[0.8888888888888888,\"#fdca26\"],[1.0,\"#f0f921\"]]}],\"choropleth\":[{\"type\":\"choropleth\",\"colorbar\":{\"outlinewidth\":0,\"ticks\":\"\"}}],\"histogram2d\":[{\"type\":\"histogram2d\",\"colorbar\":{\"outlinewidth\":0,\"ticks\":\"\"},\"colorscale\":[[0.0,\"#0d0887\"],[0.1111111111111111,\"#46039f\"],[0.2222222222222222,\"#7201a8\"],[0.3333333333333333,\"#9c179e\"],[0.4444444444444444,\"#bd3786\"],[0.5555555555555556,\"#d8576b\"],[0.6666666666666666,\"#ed7953\"],[0.7777777777777778,\"#fb9f3a\"],[0.8888888888888888,\"#fdca26\"],[1.0,\"#f0f921\"]]}],\"heatmap\":[{\"type\":\"heatmap\",\"colorbar\":{\"outlinewidth\":0,\"ticks\":\"\"},\"colorscale\":[[0.0,\"#0d0887\"],[0.1111111111111111,\"#46039f\"],[0.2222222222222222,\"#7201a8\"],[0.3333333333333333,\"#9c179e\"],[0.4444444444444444,\"#bd3786\"],[0.5555555555555556,\"#d8576b\"],[0.6666666666666666,\"#ed7953\"],[0.7777777777777778,\"#fb9f3a\"],[0.8888888888888888,\"#fdca26\"],[1.0,\"#f0f921\"]]}],\"heatmapgl\":[{\"type\":\"heatmapgl\",\"colorbar\":{\"outlinewidth\":0,\"ticks\":\"\"},\"colorscale\":[[0.0,\"#0d0887\"],[0.1111111111111111,\"#46039f\"],[0.2222222222222222,\"#7201a8\"],[0.3333333333333333,\"#9c179e\"],[0.4444444444444444,\"#bd3786\"],[0.5555555555555556,\"#d8576b\"],[0.6666666666666666,\"#ed7953\"],[0.7777777777777778,\"#fb9f3a\"],[0.8888888888888888,\"#fdca26\"],[1.0,\"#f0f921\"]]}],\"contourcarpet\":[{\"type\":\"contourcarpet\",\"colorbar\":{\"outlinewidth\":0,\"ticks\":\"\"}}],\"contour\":[{\"type\":\"contour\",\"colorbar\":{\"outlinewidth\":0,\"ticks\":\"\"},\"colorscale\":[[0.0,\"#0d0887\"],[0.1111111111111111,\"#46039f\"],[0.2222222222222222,\"#7201a8\"],[0.3333333333333333,\"#9c179e\"],[0.4444444444444444,\"#bd3786\"],[0.5555555555555556,\"#d8576b\"],[0.6666666666666666,\"#ed7953\"],[0.7777777777777778,\"#fb9f3a\"],[0.8888888888888888,\"#fdca26\"],[1.0,\"#f0f921\"]]}],\"surface\":[{\"type\":\"surface\",\"colorbar\":{\"outlinewidth\":0,\"ticks\":\"\"},\"colorscale\":[[0.0,\"#0d0887\"],[0.1111111111111111,\"#46039f\"],[0.2222222222222222,\"#7201a8\"],[0.3333333333333333,\"#9c179e\"],[0.4444444444444444,\"#bd3786\"],[0.5555555555555556,\"#d8576b\"],[0.6666666666666666,\"#ed7953\"],[0.7777777777777778,\"#fb9f3a\"],[0.8888888888888888,\"#fdca26\"],[1.0,\"#f0f921\"]]}],\"mesh3d\":[{\"type\":\"mesh3d\",\"colorbar\":{\"outlinewidth\":0,\"ticks\":\"\"}}],\"scatter\":[{\"marker\":{\"line\":{\"color\":\"#283442\"}},\"type\":\"scatter\"}],\"parcoords\":[{\"type\":\"parcoords\",\"line\":{\"colorbar\":{\"outlinewidth\":0,\"ticks\":\"\"}}}],\"scatterpolargl\":[{\"type\":\"scatterpolargl\",\"marker\":{\"colorbar\":{\"outlinewidth\":0,\"ticks\":\"\"}}}],\"bar\":[{\"error_x\":{\"color\":\"#f2f5fa\"},\"error_y\":{\"color\":\"#f2f5fa\"},\"marker\":{\"line\":{\"color\":\"rgb(17,17,17)\",\"width\":0.5},\"pattern\":{\"fillmode\":\"overlay\",\"size\":10,\"solidity\":0.2}},\"type\":\"bar\"}],\"scattergeo\":[{\"type\":\"scattergeo\",\"marker\":{\"colorbar\":{\"outlinewidth\":0,\"ticks\":\"\"}}}],\"scatterpolar\":[{\"type\":\"scatterpolar\",\"marker\":{\"colorbar\":{\"outlinewidth\":0,\"ticks\":\"\"}}}],\"histogram\":[{\"marker\":{\"pattern\":{\"fillmode\":\"overlay\",\"size\":10,\"solidity\":0.2}},\"type\":\"histogram\"}],\"scattergl\":[{\"marker\":{\"line\":{\"color\":\"#283442\"}},\"type\":\"scattergl\"}],\"scatter3d\":[{\"type\":\"scatter3d\",\"line\":{\"colorbar\":{\"outlinewidth\":0,\"ticks\":\"\"}},\"marker\":{\"colorbar\":{\"outlinewidth\":0,\"ticks\":\"\"}}}],\"scattermapbox\":[{\"type\":\"scattermapbox\",\"marker\":{\"colorbar\":{\"outlinewidth\":0,\"ticks\":\"\"}}}],\"scatterternary\":[{\"type\":\"scatterternary\",\"marker\":{\"colorbar\":{\"outlinewidth\":0,\"ticks\":\"\"}}}],\"scattercarpet\":[{\"type\":\"scattercarpet\",\"marker\":{\"colorbar\":{\"outlinewidth\":0,\"ticks\":\"\"}}}],\"carpet\":[{\"aaxis\":{\"endlinecolor\":\"#A2B1C6\",\"gridcolor\":\"#506784\",\"linecolor\":\"#506784\",\"minorgridcolor\":\"#506784\",\"startlinecolor\":\"#A2B1C6\"},\"baxis\":{\"endlinecolor\":\"#A2B1C6\",\"gridcolor\":\"#506784\",\"linecolor\":\"#506784\",\"minorgridcolor\":\"#506784\",\"startlinecolor\":\"#A2B1C6\"},\"type\":\"carpet\"}],\"table\":[{\"cells\":{\"fill\":{\"color\":\"#506784\"},\"line\":{\"color\":\"rgb(17,17,17)\"}},\"header\":{\"fill\":{\"color\":\"#2a3f5f\"},\"line\":{\"color\":\"rgb(17,17,17)\"}},\"type\":\"table\"}],\"barpolar\":[{\"marker\":{\"line\":{\"color\":\"rgb(17,17,17)\",\"width\":0.5},\"pattern\":{\"fillmode\":\"overlay\",\"size\":10,\"solidity\":0.2}},\"type\":\"barpolar\"}],\"pie\":[{\"automargin\":true,\"type\":\"pie\"}]},\"layout\":{\"autotypenumbers\":\"strict\",\"colorway\":[\"#636efa\",\"#EF553B\",\"#00cc96\",\"#ab63fa\",\"#FFA15A\",\"#19d3f3\",\"#FF6692\",\"#B6E880\",\"#FF97FF\",\"#FECB52\"],\"font\":{\"color\":\"#f2f5fa\"},\"hovermode\":\"closest\",\"hoverlabel\":{\"align\":\"left\"},\"paper_bgcolor\":\"rgb(17,17,17)\",\"plot_bgcolor\":\"rgb(17,17,17)\",\"polar\":{\"bgcolor\":\"rgb(17,17,17)\",\"angularaxis\":{\"gridcolor\":\"#506784\",\"linecolor\":\"#506784\",\"ticks\":\"\"},\"radialaxis\":{\"gridcolor\":\"#506784\",\"linecolor\":\"#506784\",\"ticks\":\"\"}},\"ternary\":{\"bgcolor\":\"rgb(17,17,17)\",\"aaxis\":{\"gridcolor\":\"#506784\",\"linecolor\":\"#506784\",\"ticks\":\"\"},\"baxis\":{\"gridcolor\":\"#506784\",\"linecolor\":\"#506784\",\"ticks\":\"\"},\"caxis\":{\"gridcolor\":\"#506784\",\"linecolor\":\"#506784\",\"ticks\":\"\"}},\"coloraxis\":{\"colorbar\":{\"outlinewidth\":0,\"ticks\":\"\"}},\"colorscale\":{\"sequential\":[[0.0,\"#0d0887\"],[0.1111111111111111,\"#46039f\"],[0.2222222222222222,\"#7201a8\"],[0.3333333333333333,\"#9c179e\"],[0.4444444444444444,\"#bd3786\"],[0.5555555555555556,\"#d8576b\"],[0.6666666666666666,\"#ed7953\"],[0.7777777777777778,\"#fb9f3a\"],[0.8888888888888888,\"#fdca26\"],[1.0,\"#f0f921\"]],\"sequentialminus\":[[0.0,\"#0d0887\"],[0.1111111111111111,\"#46039f\"],[0.2222222222222222,\"#7201a8\"],[0.3333333333333333,\"#9c179e\"],[0.4444444444444444,\"#bd3786\"],[0.5555555555555556,\"#d8576b\"],[0.6666666666666666,\"#ed7953\"],[0.7777777777777778,\"#fb9f3a\"],[0.8888888888888888,\"#fdca26\"],[1.0,\"#f0f921\"]],\"diverging\":[[0,\"#8e0152\"],[0.1,\"#c51b7d\"],[0.2,\"#de77ae\"],[0.3,\"#f1b6da\"],[0.4,\"#fde0ef\"],[0.5,\"#f7f7f7\"],[0.6,\"#e6f5d0\"],[0.7,\"#b8e186\"],[0.8,\"#7fbc41\"],[0.9,\"#4d9221\"],[1,\"#276419\"]]},\"xaxis\":{\"gridcolor\":\"#283442\",\"linecolor\":\"#506784\",\"ticks\":\"\",\"title\":{\"standoff\":15},\"zerolinecolor\":\"#283442\",\"automargin\":true,\"zerolinewidth\":2},\"yaxis\":{\"gridcolor\":\"#283442\",\"linecolor\":\"#506784\",\"ticks\":\"\",\"title\":{\"standoff\":15},\"zerolinecolor\":\"#283442\",\"automargin\":true,\"zerolinewidth\":2},\"scene\":{\"xaxis\":{\"backgroundcolor\":\"rgb(17,17,17)\",\"gridcolor\":\"#506784\",\"linecolor\":\"#506784\",\"showbackground\":true,\"ticks\":\"\",\"zerolinecolor\":\"#C8D4E3\",\"gridwidth\":2},\"yaxis\":{\"backgroundcolor\":\"rgb(17,17,17)\",\"gridcolor\":\"#506784\",\"linecolor\":\"#506784\",\"showbackground\":true,\"ticks\":\"\",\"zerolinecolor\":\"#C8D4E3\",\"gridwidth\":2},\"zaxis\":{\"backgroundcolor\":\"rgb(17,17,17)\",\"gridcolor\":\"#506784\",\"linecolor\":\"#506784\",\"showbackground\":true,\"ticks\":\"\",\"zerolinecolor\":\"#C8D4E3\",\"gridwidth\":2}},\"shapedefaults\":{\"line\":{\"color\":\"#f2f5fa\"}},\"annotationdefaults\":{\"arrowcolor\":\"#f2f5fa\",\"arrowhead\":0,\"arrowwidth\":1},\"geo\":{\"bgcolor\":\"rgb(17,17,17)\",\"landcolor\":\"rgb(17,17,17)\",\"subunitcolor\":\"#506784\",\"showland\":true,\"showlakes\":true,\"lakecolor\":\"rgb(17,17,17)\"},\"title\":{\"x\":0.05},\"updatemenudefaults\":{\"bgcolor\":\"#506784\",\"borderwidth\":0},\"sliderdefaults\":{\"bgcolor\":\"#C8D4E3\",\"borderwidth\":1,\"bordercolor\":\"rgb(17,17,17)\",\"tickwidth\":0},\"mapbox\":{\"style\":\"dark\"}}},\"xaxis\":{\"anchor\":\"y\",\"domain\":[0.0,0.2888888888888889],\"title\":{\"text\":\"Positions variant\"},\"tickmode\":\"array\",\"tickvals\":[1,2,3,4,5,6,7,8,9,10],\"ticktext\":[1,2,3,4,5,6,7,8,9,10]},\"yaxis\":{\"anchor\":\"x\",\"domain\":[0.0,1.0],\"title\":{\"text\":\"i_map\"},\"tickmode\":\"array\",\"tickvals\":[1,2,3,4,5,6,7,8,9,10],\"ticktext\":[1,2,3,4,5,6,7,8,9,10],\"autorange\":\"reversed\"},\"xaxis2\":{\"anchor\":\"y2\",\"domain\":[0.35555555555555557,0.6444444444444445],\"title\":{\"text\":\"Positions variant\"},\"tickmode\":\"array\",\"tickvals\":[1,2,3,4,5,6,7,8,9,10],\"ticktext\":[1,2,3,4,5,6,7,8,9,10]},\"yaxis2\":{\"anchor\":\"x2\",\"domain\":[0.0,1.0],\"title\":{\"text\":\"i_map\"},\"tickmode\":\"array\",\"tickvals\":[1,2,3,4,5,6,7,8,9,10],\"ticktext\":[1,2,3,4,5,6,7,8,9,10],\"autorange\":\"reversed\"},\"xaxis3\":{\"anchor\":\"y3\",\"domain\":[0.7111111111111111,1.0],\"title\":{\"text\":\"Positions variant\"},\"tickmode\":\"array\",\"tickvals\":[1,2,3,4,5,6,7,8,9,10],\"ticktext\":[1,2,3,4,5,6,7,8,9,10]},\"yaxis3\":{\"anchor\":\"x3\",\"domain\":[0.0,1.0],\"title\":{\"text\":\"i_map\"},\"tickmode\":\"array\",\"tickvals\":[1,2,3,4,5,6,7,8,9,10],\"ticktext\":[1,2,3,4,5,6,7,8,9,10],\"autorange\":\"reversed\"},\"annotations\":[{\"font\":{\"size\":16},\"showarrow\":false,\"text\":\"baseline\",\"x\":0.14444444444444446,\"xanchor\":\"center\",\"xref\":\"paper\",\"y\":1.0,\"yanchor\":\"bottom\",\"yref\":\"paper\"},{\"font\":{\"size\":16},\"showarrow\":false,\"text\":\"change of priorities\",\"x\":0.5,\"xanchor\":\"center\",\"xref\":\"paper\",\"y\":1.0,\"yanchor\":\"bottom\",\"yref\":\"paper\"},{\"font\":{\"size\":16},\"showarrow\":false,\"text\":\"stops\",\"x\":0.8555555555555556,\"xanchor\":\"center\",\"xref\":\"paper\",\"y\":1.0,\"yanchor\":\"bottom\",\"yref\":\"paper\"}],\"coloraxis\":{\"colorbar\":{\"title\":{\"text\":\"No. of completed missions\",\"side\":\"right\",\"font\":{\"size\":12}}},\"colorscale\":[[0.0,\"rgb(247,252,245)\"],[0.125,\"rgb(229,245,224)\"],[0.25,\"rgb(199,233,192)\"],[0.375,\"rgb(161,217,155)\"],[0.5,\"rgb(116,196,118)\"],[0.625,\"rgb(65,171,93)\"],[0.75,\"rgb(35,139,69)\"],[0.875,\"rgb(0,109,44)\"],[1.0,\"rgb(0,68,27)\"]]},\"title\":{\"text\":\"No. of completed missions (20241230_173555, Coordination strategy, maps with low connectivity)\"}},                        {\"responsive\": true}                    ).then(function(){\n",
       "                            \n",
       "var gd = document.getElementById('ab86f8b4-8f7c-4b82-985a-e8f77ad32f95');\n",
       "var x = new MutationObserver(function (mutations, observer) {{\n",
       "        var display = window.getComputedStyle(gd).display;\n",
       "        if (!display || display === 'none') {{\n",
       "            console.log([gd, 'removed!']);\n",
       "            Plotly.purge(gd);\n",
       "            observer.disconnect();\n",
       "        }}\n",
       "}});\n",
       "\n",
       "// Listen for the removal of the full notebook cells\n",
       "var notebookContainer = gd.closest('#notebook-container');\n",
       "if (notebookContainer) {{\n",
       "    x.observe(notebookContainer, {childList: true});\n",
       "}}\n",
       "\n",
       "// Listen for the clearing of the current output cell\n",
       "var outputEl = gd.closest('.output');\n",
       "if (outputEl) {{\n",
       "    x.observe(outputEl, {childList: true});\n",
       "}}\n",
       "\n",
       "                        })                };                });            </script>        </div>"
      ]
     },
     "metadata": {},
     "output_type": "display_data"
    },
    {
     "data": {
      "text/plain": [
       "                                                                                        filename  \\\n",
       "i_map Positions variant Coordination strategy                                                      \n",
       "1     1                 baseline               map-generator/generated-maps/2024-11-28_13:17:...   \n",
       "                        change of priorities   map-generator/generated-maps/2024-11-28_13:17:...   \n",
       "                        stops                  map-generator/generated-maps/2024-11-28_13:17:...   \n",
       "      2                 baseline               map-generator/generated-maps/2024-11-28_13:17:...   \n",
       "                        change of priorities   map-generator/generated-maps/2024-11-28_13:17:...   \n",
       "...                                                                                          ...   \n",
       "10    9                 change of priorities   map-generator/generated-maps/2024-11-28_13:17:...   \n",
       "                        stops                  map-generator/generated-maps/2024-11-28_13:17:...   \n",
       "      10                baseline               map-generator/generated-maps/2024-11-28_13:17:...   \n",
       "                        change of priorities   map-generator/generated-maps/2024-11-28_13:17:...   \n",
       "                        stops                  map-generator/generated-maps/2024-11-28_13:17:...   \n",
       "\n",
       "                                                                                         dir_map  \\\n",
       "i_map Positions variant Coordination strategy                                                      \n",
       "1     1                 baseline               2024-11-28_13:17:39_with_bridges2024-11-28_13:...   \n",
       "                        change of priorities   2024-11-28_13:17:39_with_bridges2024-11-28_13:...   \n",
       "                        stops                  2024-11-28_13:17:39_with_bridges2024-11-28_13:...   \n",
       "      2                 baseline               2024-11-28_13:17:39_with_bridges2024-11-28_13:...   \n",
       "                        change of priorities   2024-11-28_13:17:39_with_bridges2024-11-28_13:...   \n",
       "...                                                                                          ...   \n",
       "10    9                 change of priorities   2024-11-28_13:17:39_with_bridges2024-11-28_13:...   \n",
       "                        stops                  2024-11-28_13:17:39_with_bridges2024-11-28_13:...   \n",
       "      10                baseline               2024-11-28_13:17:39_with_bridges2024-11-28_13:...   \n",
       "                        change of priorities   2024-11-28_13:17:39_with_bridges2024-11-28_13:...   \n",
       "                        stops                  2024-11-28_13:17:39_with_bridges2024-11-28_13:...   \n",
       "\n",
       "                                                                               basename_scenario  \\\n",
       "i_map Positions variant Coordination strategy                                                      \n",
       "1     1                 baseline               scenario1-1scenario1-1scenario1-1scenario1-1sc...   \n",
       "                        change of priorities   scenario1-1scenario1-1scenario1-1scenario1-1sc...   \n",
       "                        stops                  scenario1-1scenario1-1scenario1-1scenario1-1sc...   \n",
       "      2                 baseline               scenario1-2scenario1-2scenario1-2scenario1-2sc...   \n",
       "                        change of priorities   scenario1-2scenario1-2scenario1-2scenario1-2sc...   \n",
       "...                                                                                          ...   \n",
       "10    9                 change of priorities   scenario10-9scenario10-9scenario10-9scenario10...   \n",
       "                        stops                  scenario10-9scenario10-9scenario10-9scenario10...   \n",
       "      10                baseline               scenario10-10scenario10-10scenario10-10scenari...   \n",
       "                        change of priorities   scenario10-10scenario10-10scenario10-10scenari...   \n",
       "                        stops                  scenario10-10scenario10-10scenario10-10scenari...   \n",
       "\n",
       "                                               i_map  Positions variant  \\\n",
       "i_map Positions variant Coordination strategy                             \n",
       "1     1                 baseline                   6                  6   \n",
       "                        change of priorities       6                  6   \n",
       "                        stops                      6                  6   \n",
       "      2                 baseline                   6                 12   \n",
       "                        change of priorities       6                 12   \n",
       "...                                              ...                ...   \n",
       "10    9                 change of priorities      60                 54   \n",
       "                        stops                     60                 54   \n",
       "      10                baseline                  60                 60   \n",
       "                        change of priorities      60                 60   \n",
       "                        stops                     60                 60   \n",
       "\n",
       "                                               passhum      slowness  \\\n",
       "i_map Positions variant Coordination strategy                          \n",
       "1     1                 baseline                     3  nononononono   \n",
       "                        change of priorities         3  nononononono   \n",
       "                        stops                        3  nononononono   \n",
       "      2                 baseline                     3  nononononono   \n",
       "                        change of priorities         3  nononononono   \n",
       "...                                                ...           ...   \n",
       "10    9                 change of priorities         3  nononononono   \n",
       "                        stops                        3  nononononono   \n",
       "      10                baseline                     3  nononononono   \n",
       "                        change of priorities         3  nononononono   \n",
       "                        stops                        3  nononononono   \n",
       "\n",
       "                                                                           Coordination strategy  \\\n",
       "i_map Positions variant Coordination strategy                                                      \n",
       "1     1                 baseline                baselinebaselinebaselinebaselinebaselinebaseline   \n",
       "                        change of priorities   change of prioritieschange of prioritieschange...   \n",
       "                        stops                                     stopsstopsstopsstopsstopsstops   \n",
       "      2                 baseline                baselinebaselinebaselinebaselinebaselinebaseline   \n",
       "                        change of priorities   change of prioritieschange of prioritieschange...   \n",
       "...                                                                                          ...   \n",
       "10    9                 change of priorities   change of prioritieschange of prioritieschange...   \n",
       "                        stops                                     stopsstopsstopsstopsstopsstops   \n",
       "      10                baseline                baselinebaselinebaselinebaselinebaselinebaseline   \n",
       "                        change of priorities   change of prioritieschange of prioritieschange...   \n",
       "                        stops                                     stopsstopsstopsstopsstopsstops   \n",
       "\n",
       "                                                                             filename_screenshot  \\\n",
       "i_map Positions variant Coordination strategy                                                      \n",
       "1     1                 baseline               ../map-generator/generated-maps/2024-11-28_13:...   \n",
       "                        change of priorities   ../map-generator/generated-maps/2024-11-28_13:...   \n",
       "                        stops                  ../map-generator/generated-maps/2024-11-28_13:...   \n",
       "      2                 baseline               ../map-generator/generated-maps/2024-11-28_13:...   \n",
       "                        change of priorities   ../map-generator/generated-maps/2024-11-28_13:...   \n",
       "...                                                                                          ...   \n",
       "10    9                 change of priorities   ../map-generator/generated-maps/2024-11-28_13:...   \n",
       "                        stops                  ../map-generator/generated-maps/2024-11-28_13:...   \n",
       "      10                baseline               ../map-generator/generated-maps/2024-11-28_13:...   \n",
       "                        change of priorities   ../map-generator/generated-maps/2024-11-28_13:...   \n",
       "                        stops                  ../map-generator/generated-maps/2024-11-28_13:...   \n",
       "\n",
       "                                               are_bridges  ...  \\\n",
       "i_map Positions variant Coordination strategy               ...   \n",
       "1     1                 baseline                         6  ...   \n",
       "                        change of priorities             6  ...   \n",
       "                        stops                            6  ...   \n",
       "      2                 baseline                         6  ...   \n",
       "                        change of priorities             6  ...   \n",
       "...                                                    ...  ...   \n",
       "10    9                 change of priorities             6  ...   \n",
       "                        stops                            6  ...   \n",
       "      10                baseline                         6  ...   \n",
       "                        change of priorities             6  ...   \n",
       "                        stops                            6  ...   \n",
       "\n",
       "                                                                Linearization A (non-normalized)  \\\n",
       "i_map Positions variant Coordination strategy                                                      \n",
       "1     1                 baseline               (0.0, 0.0, 0.0, 0.0, 0.0, 0.0, 0.0, 0.0, 0.0, ...   \n",
       "                        change of priorities   (0.0, 0.0, 0.0, 0.0, 0.0, 0.0, 0.0, 0.0, 0.0, ...   \n",
       "                        stops                  (0.0, 0.0, 0.0, 0.0, 0.0, 0.0, 0.0, 0.0, 0.0, ...   \n",
       "      2                 baseline               (0.0, 0.0, 0.0, 0.0, 0.0, 0.0, 0.0, 0.0, 0.0, ...   \n",
       "                        change of priorities   (0.0, 0.0, 0.0, 0.0, 0.0, 0.0, 0.0, 0.0, 0.0, ...   \n",
       "...                                                                                          ...   \n",
       "10    9                 change of priorities   (0.0, 0.0, 0.0, 0.0, 0.0, 0.0, 0.0, 0.0, 0.0, ...   \n",
       "                        stops                  (0.0, 0.0, 0.0, 0.0, 0.0, 0.0, 0.0, 0.0, 0.0, ...   \n",
       "      10                baseline               (0.0, 0.0, 0.0, 0.0, 0.0, 0.0, 0.0, 0.0, 0.0, ...   \n",
       "                        change of priorities   (0.0, 0.0, 0.0, 0.0, 0.0, 0.0, 0.0, 0.0, 0.0, ...   \n",
       "                        stops                  (0.0, 0.0, 0.0, 0.0, 0.0, 0.0, 0.0, 0.0, 0.0, ...   \n",
       "\n",
       "                                                                Linearization B (non-normalized)  \\\n",
       "i_map Positions variant Coordination strategy                                                      \n",
       "1     1                 baseline               (0.0, 0.0, 0.0, 0.0, 0.0, 0.0, 0.0, 0.0, 0.0, ...   \n",
       "                        change of priorities   (0.0, 0.0, 0.0, 0.0, 0.0, 0.0, 0.0, 0.0, 0.0, ...   \n",
       "                        stops                  (0.0, 0.0, 0.0, 0.0, 0.0, 0.0, 0.0, 0.0, 0.0, ...   \n",
       "      2                 baseline               (0.0, 0.0, 0.0, 0.0, 0.0, 0.0, 0.0, 0.0, 0.0, ...   \n",
       "                        change of priorities   (0.0, 0.0, 0.0, 0.0, 0.0, 0.0, 0.0, 0.0, 0.0, ...   \n",
       "...                                                                                          ...   \n",
       "10    9                 change of priorities   (0.0, 0.0, 0.0, 0.0, 0.0, 0.0, 0.0, 0.0, 0.0, ...   \n",
       "                        stops                  (0.0, 0.0, 0.0, 0.0, 0.0, 0.0, 0.0, 0.0, 0.0, ...   \n",
       "      10                baseline               (0.0, 0.0, 0.0, 0.0, 0.0, 0.0, 0.0, 0.0, 0.0, ...   \n",
       "                        change of priorities   (0.0, 0.0, 0.0, 0.0, 0.0, 0.0, 0.0, 0.0, 0.0, ...   \n",
       "                        stops                  (0.0, 0.0, 0.0, 0.0, 0.0, 0.0, 0.0, 0.0, 0.0, ...   \n",
       "\n",
       "                                                                Linearization C (non-normalized)  \\\n",
       "i_map Positions variant Coordination strategy                                                      \n",
       "1     1                 baseline               (0.0, 0.0, 0.0, 0.0, 0.0, 0.0, 0.0, 0.0, 0.0, ...   \n",
       "                        change of priorities   (0.0, 0.0, 0.0, 0.0, 0.0, 0.0, 0.0, 0.0, 0.0, ...   \n",
       "                        stops                  (0.0, 0.0, 0.0, 0.0, 0.0, 0.0, 0.0, 0.0, 0.0, ...   \n",
       "      2                 baseline               (0.0, 0.0, 0.0, 0.0, 0.0, 0.0, 0.0, 0.0, 0.0, ...   \n",
       "                        change of priorities   (0.0, 0.0, 0.0, 0.0, 0.0, 0.0, 0.0, 0.0, 0.0, ...   \n",
       "...                                                                                          ...   \n",
       "10    9                 change of priorities   (0.0, 0.0, 0.0, 0.0, 0.0, 0.0, 0.0, 0.0, 0.0, ...   \n",
       "                        stops                  (0.0, 0.0, 0.0, 0.0, 0.0, 0.0, 0.0, 0.0, 0.0, ...   \n",
       "      10                baseline               (0.0, 0.0, 0.0, 0.0, 0.0, 0.0, 0.0, 0.0, 0.0, ...   \n",
       "                        change of priorities   (0.0, 0.0, 0.0, 0.0, 0.0, 0.0, 0.0, 0.0, 0.0, ...   \n",
       "                        stops                  (0.0, 0.0, 0.0, 0.0, 0.0, 0.0, 0.0, 0.0, 0.0, ...   \n",
       "\n",
       "                                                               Linearization D1 (non-normalized)  \\\n",
       "i_map Positions variant Coordination strategy                                                      \n",
       "1     1                 baseline               (0.0, 0.0, 0.0, 0.0, 0.0, 0.0, 0.0, 0.0, 0.0, ...   \n",
       "                        change of priorities   (0.0, 0.0, 0.0, 0.0, 0.0, 0.0, 0.0, 0.0, 0.0, ...   \n",
       "                        stops                  (0.0, 0.0, 0.0, 0.0, 0.0, 0.0, 0.0, 0.0, 0.0, ...   \n",
       "      2                 baseline               (0.0, 0.0, 0.0, 0.0, 0.0, 0.0, 0.0, 0.0, 0.0, ...   \n",
       "                        change of priorities   (0.0, 0.0, 0.0, 0.0, 0.0, 0.0, 0.0, 0.0, 0.0, ...   \n",
       "...                                                                                          ...   \n",
       "10    9                 change of priorities   (0.0, 0.0, 0.0, 0.0, 0.0, 0.0, 0.0, 0.0, 0.0, ...   \n",
       "                        stops                  (0.0, 0.0, 0.0, 0.0, 0.0, 0.0, 0.0, 0.0, 0.0, ...   \n",
       "      10                baseline               (0.0, 0.0, 0.0, 0.0, 0.0, 0.0, 0.0, 0.0, 0.0, ...   \n",
       "                        change of priorities   (0.0, 0.0, 0.0, 0.0, 0.0, 0.0, 0.0, 0.0, 0.0, ...   \n",
       "                        stops                  (0.0, 0.0, 0.0, 0.0, 0.0, 0.0, 0.0, 0.0, 0.0, ...   \n",
       "\n",
       "                                                               Linearization D2 (non-normalized)  \\\n",
       "i_map Positions variant Coordination strategy                                                      \n",
       "1     1                 baseline               (0.0, 0.0, 0.0, 0.0, 0.0, 0.0, 0.0, 0.0, 0.0, ...   \n",
       "                        change of priorities   (0.0, 0.0, 0.0, 0.0, 0.0, 0.0, 0.0, 0.0, 0.0, ...   \n",
       "                        stops                  (0.0, 0.0, 0.0, 0.0, 0.0, 0.0, 0.0, 0.0, 0.0, ...   \n",
       "      2                 baseline               (0.0, 0.0, 0.0, 0.0, 0.0, 0.0, 0.0, 0.0, 0.0, ...   \n",
       "                        change of priorities   (0.0, 0.0, 0.0, 0.0, 0.0, 0.0, 0.0, 0.0, 0.0, ...   \n",
       "...                                                                                          ...   \n",
       "10    9                 change of priorities   (0.0, 0.0, 0.0, 0.0, 0.0, 0.0, 0.0, 0.0, 0.0, ...   \n",
       "                        stops                  (0.0, 0.0, 0.0, 0.0, 0.0, 0.0, 0.0, 0.0, 0.0, ...   \n",
       "      10                baseline               (0.0, 0.0, 0.0, 0.0, 0.0, 0.0, 0.0, 0.0, 0.0, ...   \n",
       "                        change of priorities   (0.0, 0.0, 0.0, 0.0, 0.0, 0.0, 0.0, 0.0, 0.0, ...   \n",
       "                        stops                  (0.0, 0.0, 0.0, 0.0, 0.0, 0.0, 0.0, 0.0, 0.0, ...   \n",
       "\n",
       "                                                               Linearization D3 (non-normalized)  \\\n",
       "i_map Positions variant Coordination strategy                                                      \n",
       "1     1                 baseline               (0.0, 0.0, 0.0, 0.0, 0.0, 0.0, 0.0, 0.0, 0.0, ...   \n",
       "                        change of priorities   (0.0, 0.0, 0.0, 0.0, 0.0, 0.0, 0.0, 0.0, 0.0, ...   \n",
       "                        stops                  (0.0, 0.0, 0.0, 0.0, 0.0, 0.0, 0.0, 0.0, 0.0, ...   \n",
       "      2                 baseline               (0.0, 0.0, 0.0, 0.0, 0.0, 0.0, 0.0, 0.0, 0.0, ...   \n",
       "                        change of priorities   (0.0, 0.0, 0.0, 0.0, 0.0, 0.0, 0.0, 0.0, 0.0, ...   \n",
       "...                                                                                          ...   \n",
       "10    9                 change of priorities   (0.0, 0.0, 0.0, 0.0, 0.0, 0.0, 0.0, 0.0, 0.0, ...   \n",
       "                        stops                  (0.0, 0.0, 0.0, 0.0, 0.0, 0.0, 0.0, 0.0, 0.0, ...   \n",
       "      10                baseline               (0.0, 0.0, 0.0, 0.0, 0.0, 0.0, 0.0, 0.0, 0.0, ...   \n",
       "                        change of priorities   (0.0, 0.0, 0.0, 0.0, 0.0, 0.0, 0.0, 0.0, 0.0, ...   \n",
       "                        stops                  (0.0, 0.0, 0.0, 0.0, 0.0, 0.0, 0.0, 0.0, 0.0, ...   \n",
       "\n",
       "                                                               Linearization D0 (non-normalized)  \\\n",
       "i_map Positions variant Coordination strategy                                                      \n",
       "1     1                 baseline               (0.0, 0.0, 0.0, 0.0, 0.0, 0.0, 0.0, 0.0, 0.0, ...   \n",
       "                        change of priorities   (0.0, 0.0, 0.0, 0.0, 0.0, 0.0, 0.0, 0.0, 0.0, ...   \n",
       "                        stops                  (0.0, 0.0, 0.0, 0.0, 0.0, 0.0, 0.0, 0.0, 0.0, ...   \n",
       "      2                 baseline               (0.0, 0.0, 0.0, 0.0, 0.0, 0.0, 0.0, 0.0, 0.0, ...   \n",
       "                        change of priorities   (0.0, 0.0, 0.0, 0.0, 0.0, 0.0, 0.0, 0.0, 0.0, ...   \n",
       "...                                                                                          ...   \n",
       "10    9                 change of priorities   (0.0, 0.0, 0.0, 0.0, 0.0, 0.0, 0.0, 0.0, 0.0, ...   \n",
       "                        stops                  (0.0, 0.0, 0.0, 0.0, 0.0, 0.0, 0.0, 0.0, 0.0, ...   \n",
       "      10                baseline               (0.0, 0.0, 0.0, 0.0, 0.0, 0.0, 0.0, 0.0, 0.0, ...   \n",
       "                        change of priorities   (0.0, 0.0, 0.0, 0.0, 0.0, 0.0, 0.0, 0.0, 0.0, ...   \n",
       "                        stops                  (0.0, 0.0, 0.0, 0.0, 0.0, 0.0, 0.0, 0.0, 0.0, ...   \n",
       "\n",
       "                                                                Linearization D (non-normalized)  \\\n",
       "i_map Positions variant Coordination strategy                                                      \n",
       "1     1                 baseline               ((0.0, None, 0.0, 0.0), (0.0, None, 0.0, 0.0),...   \n",
       "                        change of priorities   ((0.0, None, 0.0, 0.0), (0.0, None, 0.0, 0.0),...   \n",
       "                        stops                  ((0.0, None, 0.0, 0.0), (0.0, None, 0.0, 0.0),...   \n",
       "      2                 baseline               ((0.0, None, 0.0, 0.0), (0.0, None, 0.0, 0.0),...   \n",
       "                        change of priorities   ((0.0, None, 0.0, 0.0), (0.0, None, 0.0, 0.0),...   \n",
       "...                                                                                          ...   \n",
       "10    9                 change of priorities   ((0.0, None, 0.0, 0.0), (0.0, None, 0.0, 0.0),...   \n",
       "                        stops                  ((0.0, None, 0.0, 0.0), (0.0, None, 0.0, 0.0),...   \n",
       "      10                baseline               ((0.0, None, 0.0, 0.0), (0.0, None, 0.0, 0.0),...   \n",
       "                        change of priorities   ((0.0, None, 0.0, 0.0), (0.0, None, 0.0, 0.0),...   \n",
       "                        stops                  ((0.0, None, 0.0, 0.0), (0.0, None, 0.0, 0.0),...   \n",
       "\n",
       "                                              seconds_blocked  is_blocked  \n",
       "i_map Positions variant Coordination strategy                              \n",
       "1     1                 baseline                          0.0           0  \n",
       "                        change of priorities           3965.0           4  \n",
       "                        stops                          2579.0           2  \n",
       "      2                 baseline                          0.0           0  \n",
       "                        change of priorities           4596.0           4  \n",
       "...                                                       ...         ...  \n",
       "10    9                 change of priorities              0.0           0  \n",
       "                        stops                             0.0           0  \n",
       "      10                baseline                          0.0           0  \n",
       "                        change of priorities              0.0           0  \n",
       "                        stops                             0.0           0  \n",
       "\n",
       "[300 rows x 87 columns]"
      ],
      "text/html": [
       "<div>\n",
       "<style scoped>\n",
       "    .dataframe tbody tr th:only-of-type {\n",
       "        vertical-align: middle;\n",
       "    }\n",
       "\n",
       "    .dataframe tbody tr th {\n",
       "        vertical-align: top;\n",
       "    }\n",
       "\n",
       "    .dataframe thead th {\n",
       "        text-align: right;\n",
       "    }\n",
       "</style>\n",
       "<table border=\"1\" class=\"dataframe\">\n",
       "  <thead>\n",
       "    <tr style=\"text-align: right;\">\n",
       "      <th></th>\n",
       "      <th></th>\n",
       "      <th></th>\n",
       "      <th>filename</th>\n",
       "      <th>dir_map</th>\n",
       "      <th>basename_scenario</th>\n",
       "      <th>i_map</th>\n",
       "      <th>Positions variant</th>\n",
       "      <th>passhum</th>\n",
       "      <th>slowness</th>\n",
       "      <th>Coordination strategy</th>\n",
       "      <th>filename_screenshot</th>\n",
       "      <th>are_bridges</th>\n",
       "      <th>...</th>\n",
       "      <th>Linearization A (non-normalized)</th>\n",
       "      <th>Linearization B (non-normalized)</th>\n",
       "      <th>Linearization C (non-normalized)</th>\n",
       "      <th>Linearization D1 (non-normalized)</th>\n",
       "      <th>Linearization D2 (non-normalized)</th>\n",
       "      <th>Linearization D3 (non-normalized)</th>\n",
       "      <th>Linearization D0 (non-normalized)</th>\n",
       "      <th>Linearization D (non-normalized)</th>\n",
       "      <th>seconds_blocked</th>\n",
       "      <th>is_blocked</th>\n",
       "    </tr>\n",
       "    <tr>\n",
       "      <th>i_map</th>\n",
       "      <th>Positions variant</th>\n",
       "      <th>Coordination strategy</th>\n",
       "      <th></th>\n",
       "      <th></th>\n",
       "      <th></th>\n",
       "      <th></th>\n",
       "      <th></th>\n",
       "      <th></th>\n",
       "      <th></th>\n",
       "      <th></th>\n",
       "      <th></th>\n",
       "      <th></th>\n",
       "      <th></th>\n",
       "      <th></th>\n",
       "      <th></th>\n",
       "      <th></th>\n",
       "      <th></th>\n",
       "      <th></th>\n",
       "      <th></th>\n",
       "      <th></th>\n",
       "      <th></th>\n",
       "      <th></th>\n",
       "      <th></th>\n",
       "    </tr>\n",
       "  </thead>\n",
       "  <tbody>\n",
       "    <tr>\n",
       "      <th rowspan=\"5\" valign=\"top\">1</th>\n",
       "      <th rowspan=\"3\" valign=\"top\">1</th>\n",
       "      <th>baseline</th>\n",
       "      <td>map-generator/generated-maps/2024-11-28_13:17:...</td>\n",
       "      <td>2024-11-28_13:17:39_with_bridges2024-11-28_13:...</td>\n",
       "      <td>scenario1-1scenario1-1scenario1-1scenario1-1sc...</td>\n",
       "      <td>6</td>\n",
       "      <td>6</td>\n",
       "      <td>3</td>\n",
       "      <td>nononononono</td>\n",
       "      <td>baselinebaselinebaselinebaselinebaselinebaseline</td>\n",
       "      <td>../map-generator/generated-maps/2024-11-28_13:...</td>\n",
       "      <td>6</td>\n",
       "      <td>...</td>\n",
       "      <td>(0.0, 0.0, 0.0, 0.0, 0.0, 0.0, 0.0, 0.0, 0.0, ...</td>\n",
       "      <td>(0.0, 0.0, 0.0, 0.0, 0.0, 0.0, 0.0, 0.0, 0.0, ...</td>\n",
       "      <td>(0.0, 0.0, 0.0, 0.0, 0.0, 0.0, 0.0, 0.0, 0.0, ...</td>\n",
       "      <td>(0.0, 0.0, 0.0, 0.0, 0.0, 0.0, 0.0, 0.0, 0.0, ...</td>\n",
       "      <td>(0.0, 0.0, 0.0, 0.0, 0.0, 0.0, 0.0, 0.0, 0.0, ...</td>\n",
       "      <td>(0.0, 0.0, 0.0, 0.0, 0.0, 0.0, 0.0, 0.0, 0.0, ...</td>\n",
       "      <td>(0.0, 0.0, 0.0, 0.0, 0.0, 0.0, 0.0, 0.0, 0.0, ...</td>\n",
       "      <td>((0.0, None, 0.0, 0.0), (0.0, None, 0.0, 0.0),...</td>\n",
       "      <td>0.0</td>\n",
       "      <td>0</td>\n",
       "    </tr>\n",
       "    <tr>\n",
       "      <th>change of priorities</th>\n",
       "      <td>map-generator/generated-maps/2024-11-28_13:17:...</td>\n",
       "      <td>2024-11-28_13:17:39_with_bridges2024-11-28_13:...</td>\n",
       "      <td>scenario1-1scenario1-1scenario1-1scenario1-1sc...</td>\n",
       "      <td>6</td>\n",
       "      <td>6</td>\n",
       "      <td>3</td>\n",
       "      <td>nononononono</td>\n",
       "      <td>change of prioritieschange of prioritieschange...</td>\n",
       "      <td>../map-generator/generated-maps/2024-11-28_13:...</td>\n",
       "      <td>6</td>\n",
       "      <td>...</td>\n",
       "      <td>(0.0, 0.0, 0.0, 0.0, 0.0, 0.0, 0.0, 0.0, 0.0, ...</td>\n",
       "      <td>(0.0, 0.0, 0.0, 0.0, 0.0, 0.0, 0.0, 0.0, 0.0, ...</td>\n",
       "      <td>(0.0, 0.0, 0.0, 0.0, 0.0, 0.0, 0.0, 0.0, 0.0, ...</td>\n",
       "      <td>(0.0, 0.0, 0.0, 0.0, 0.0, 0.0, 0.0, 0.0, 0.0, ...</td>\n",
       "      <td>(0.0, 0.0, 0.0, 0.0, 0.0, 0.0, 0.0, 0.0, 0.0, ...</td>\n",
       "      <td>(0.0, 0.0, 0.0, 0.0, 0.0, 0.0, 0.0, 0.0, 0.0, ...</td>\n",
       "      <td>(0.0, 0.0, 0.0, 0.0, 0.0, 0.0, 0.0, 0.0, 0.0, ...</td>\n",
       "      <td>((0.0, None, 0.0, 0.0), (0.0, None, 0.0, 0.0),...</td>\n",
       "      <td>3965.0</td>\n",
       "      <td>4</td>\n",
       "    </tr>\n",
       "    <tr>\n",
       "      <th>stops</th>\n",
       "      <td>map-generator/generated-maps/2024-11-28_13:17:...</td>\n",
       "      <td>2024-11-28_13:17:39_with_bridges2024-11-28_13:...</td>\n",
       "      <td>scenario1-1scenario1-1scenario1-1scenario1-1sc...</td>\n",
       "      <td>6</td>\n",
       "      <td>6</td>\n",
       "      <td>3</td>\n",
       "      <td>nononononono</td>\n",
       "      <td>stopsstopsstopsstopsstopsstops</td>\n",
       "      <td>../map-generator/generated-maps/2024-11-28_13:...</td>\n",
       "      <td>6</td>\n",
       "      <td>...</td>\n",
       "      <td>(0.0, 0.0, 0.0, 0.0, 0.0, 0.0, 0.0, 0.0, 0.0, ...</td>\n",
       "      <td>(0.0, 0.0, 0.0, 0.0, 0.0, 0.0, 0.0, 0.0, 0.0, ...</td>\n",
       "      <td>(0.0, 0.0, 0.0, 0.0, 0.0, 0.0, 0.0, 0.0, 0.0, ...</td>\n",
       "      <td>(0.0, 0.0, 0.0, 0.0, 0.0, 0.0, 0.0, 0.0, 0.0, ...</td>\n",
       "      <td>(0.0, 0.0, 0.0, 0.0, 0.0, 0.0, 0.0, 0.0, 0.0, ...</td>\n",
       "      <td>(0.0, 0.0, 0.0, 0.0, 0.0, 0.0, 0.0, 0.0, 0.0, ...</td>\n",
       "      <td>(0.0, 0.0, 0.0, 0.0, 0.0, 0.0, 0.0, 0.0, 0.0, ...</td>\n",
       "      <td>((0.0, None, 0.0, 0.0), (0.0, None, 0.0, 0.0),...</td>\n",
       "      <td>2579.0</td>\n",
       "      <td>2</td>\n",
       "    </tr>\n",
       "    <tr>\n",
       "      <th rowspan=\"2\" valign=\"top\">2</th>\n",
       "      <th>baseline</th>\n",
       "      <td>map-generator/generated-maps/2024-11-28_13:17:...</td>\n",
       "      <td>2024-11-28_13:17:39_with_bridges2024-11-28_13:...</td>\n",
       "      <td>scenario1-2scenario1-2scenario1-2scenario1-2sc...</td>\n",
       "      <td>6</td>\n",
       "      <td>12</td>\n",
       "      <td>3</td>\n",
       "      <td>nononononono</td>\n",
       "      <td>baselinebaselinebaselinebaselinebaselinebaseline</td>\n",
       "      <td>../map-generator/generated-maps/2024-11-28_13:...</td>\n",
       "      <td>6</td>\n",
       "      <td>...</td>\n",
       "      <td>(0.0, 0.0, 0.0, 0.0, 0.0, 0.0, 0.0, 0.0, 0.0, ...</td>\n",
       "      <td>(0.0, 0.0, 0.0, 0.0, 0.0, 0.0, 0.0, 0.0, 0.0, ...</td>\n",
       "      <td>(0.0, 0.0, 0.0, 0.0, 0.0, 0.0, 0.0, 0.0, 0.0, ...</td>\n",
       "      <td>(0.0, 0.0, 0.0, 0.0, 0.0, 0.0, 0.0, 0.0, 0.0, ...</td>\n",
       "      <td>(0.0, 0.0, 0.0, 0.0, 0.0, 0.0, 0.0, 0.0, 0.0, ...</td>\n",
       "      <td>(0.0, 0.0, 0.0, 0.0, 0.0, 0.0, 0.0, 0.0, 0.0, ...</td>\n",
       "      <td>(0.0, 0.0, 0.0, 0.0, 0.0, 0.0, 0.0, 0.0, 0.0, ...</td>\n",
       "      <td>((0.0, None, 0.0, 0.0), (0.0, None, 0.0, 0.0),...</td>\n",
       "      <td>0.0</td>\n",
       "      <td>0</td>\n",
       "    </tr>\n",
       "    <tr>\n",
       "      <th>change of priorities</th>\n",
       "      <td>map-generator/generated-maps/2024-11-28_13:17:...</td>\n",
       "      <td>2024-11-28_13:17:39_with_bridges2024-11-28_13:...</td>\n",
       "      <td>scenario1-2scenario1-2scenario1-2scenario1-2sc...</td>\n",
       "      <td>6</td>\n",
       "      <td>12</td>\n",
       "      <td>3</td>\n",
       "      <td>nononononono</td>\n",
       "      <td>change of prioritieschange of prioritieschange...</td>\n",
       "      <td>../map-generator/generated-maps/2024-11-28_13:...</td>\n",
       "      <td>6</td>\n",
       "      <td>...</td>\n",
       "      <td>(0.0, 0.0, 0.0, 0.0, 0.0, 0.0, 0.0, 0.0, 0.0, ...</td>\n",
       "      <td>(0.0, 0.0, 0.0, 0.0, 0.0, 0.0, 0.0, 0.0, 0.0, ...</td>\n",
       "      <td>(0.0, 0.0, 0.0, 0.0, 0.0, 0.0, 0.0, 0.0, 0.0, ...</td>\n",
       "      <td>(0.0, 0.0, 0.0, 0.0, 0.0, 0.0, 0.0, 0.0, 0.0, ...</td>\n",
       "      <td>(0.0, 0.0, 0.0, 0.0, 0.0, 0.0, 0.0, 0.0, 0.0, ...</td>\n",
       "      <td>(0.0, 0.0, 0.0, 0.0, 0.0, 0.0, 0.0, 0.0, 0.0, ...</td>\n",
       "      <td>(0.0, 0.0, 0.0, 0.0, 0.0, 0.0, 0.0, 0.0, 0.0, ...</td>\n",
       "      <td>((0.0, None, 0.0, 0.0), (0.0, None, 0.0, 0.0),...</td>\n",
       "      <td>4596.0</td>\n",
       "      <td>4</td>\n",
       "    </tr>\n",
       "    <tr>\n",
       "      <th>...</th>\n",
       "      <th>...</th>\n",
       "      <th>...</th>\n",
       "      <td>...</td>\n",
       "      <td>...</td>\n",
       "      <td>...</td>\n",
       "      <td>...</td>\n",
       "      <td>...</td>\n",
       "      <td>...</td>\n",
       "      <td>...</td>\n",
       "      <td>...</td>\n",
       "      <td>...</td>\n",
       "      <td>...</td>\n",
       "      <td>...</td>\n",
       "      <td>...</td>\n",
       "      <td>...</td>\n",
       "      <td>...</td>\n",
       "      <td>...</td>\n",
       "      <td>...</td>\n",
       "      <td>...</td>\n",
       "      <td>...</td>\n",
       "      <td>...</td>\n",
       "      <td>...</td>\n",
       "      <td>...</td>\n",
       "    </tr>\n",
       "    <tr>\n",
       "      <th rowspan=\"5\" valign=\"top\">10</th>\n",
       "      <th rowspan=\"2\" valign=\"top\">9</th>\n",
       "      <th>change of priorities</th>\n",
       "      <td>map-generator/generated-maps/2024-11-28_13:17:...</td>\n",
       "      <td>2024-11-28_13:17:39_with_bridges2024-11-28_13:...</td>\n",
       "      <td>scenario10-9scenario10-9scenario10-9scenario10...</td>\n",
       "      <td>60</td>\n",
       "      <td>54</td>\n",
       "      <td>3</td>\n",
       "      <td>nononononono</td>\n",
       "      <td>change of prioritieschange of prioritieschange...</td>\n",
       "      <td>../map-generator/generated-maps/2024-11-28_13:...</td>\n",
       "      <td>6</td>\n",
       "      <td>...</td>\n",
       "      <td>(0.0, 0.0, 0.0, 0.0, 0.0, 0.0, 0.0, 0.0, 0.0, ...</td>\n",
       "      <td>(0.0, 0.0, 0.0, 0.0, 0.0, 0.0, 0.0, 0.0, 0.0, ...</td>\n",
       "      <td>(0.0, 0.0, 0.0, 0.0, 0.0, 0.0, 0.0, 0.0, 0.0, ...</td>\n",
       "      <td>(0.0, 0.0, 0.0, 0.0, 0.0, 0.0, 0.0, 0.0, 0.0, ...</td>\n",
       "      <td>(0.0, 0.0, 0.0, 0.0, 0.0, 0.0, 0.0, 0.0, 0.0, ...</td>\n",
       "      <td>(0.0, 0.0, 0.0, 0.0, 0.0, 0.0, 0.0, 0.0, 0.0, ...</td>\n",
       "      <td>(0.0, 0.0, 0.0, 0.0, 0.0, 0.0, 0.0, 0.0, 0.0, ...</td>\n",
       "      <td>((0.0, None, 0.0, 0.0), (0.0, None, 0.0, 0.0),...</td>\n",
       "      <td>0.0</td>\n",
       "      <td>0</td>\n",
       "    </tr>\n",
       "    <tr>\n",
       "      <th>stops</th>\n",
       "      <td>map-generator/generated-maps/2024-11-28_13:17:...</td>\n",
       "      <td>2024-11-28_13:17:39_with_bridges2024-11-28_13:...</td>\n",
       "      <td>scenario10-9scenario10-9scenario10-9scenario10...</td>\n",
       "      <td>60</td>\n",
       "      <td>54</td>\n",
       "      <td>3</td>\n",
       "      <td>nononononono</td>\n",
       "      <td>stopsstopsstopsstopsstopsstops</td>\n",
       "      <td>../map-generator/generated-maps/2024-11-28_13:...</td>\n",
       "      <td>6</td>\n",
       "      <td>...</td>\n",
       "      <td>(0.0, 0.0, 0.0, 0.0, 0.0, 0.0, 0.0, 0.0, 0.0, ...</td>\n",
       "      <td>(0.0, 0.0, 0.0, 0.0, 0.0, 0.0, 0.0, 0.0, 0.0, ...</td>\n",
       "      <td>(0.0, 0.0, 0.0, 0.0, 0.0, 0.0, 0.0, 0.0, 0.0, ...</td>\n",
       "      <td>(0.0, 0.0, 0.0, 0.0, 0.0, 0.0, 0.0, 0.0, 0.0, ...</td>\n",
       "      <td>(0.0, 0.0, 0.0, 0.0, 0.0, 0.0, 0.0, 0.0, 0.0, ...</td>\n",
       "      <td>(0.0, 0.0, 0.0, 0.0, 0.0, 0.0, 0.0, 0.0, 0.0, ...</td>\n",
       "      <td>(0.0, 0.0, 0.0, 0.0, 0.0, 0.0, 0.0, 0.0, 0.0, ...</td>\n",
       "      <td>((0.0, None, 0.0, 0.0), (0.0, None, 0.0, 0.0),...</td>\n",
       "      <td>0.0</td>\n",
       "      <td>0</td>\n",
       "    </tr>\n",
       "    <tr>\n",
       "      <th rowspan=\"3\" valign=\"top\">10</th>\n",
       "      <th>baseline</th>\n",
       "      <td>map-generator/generated-maps/2024-11-28_13:17:...</td>\n",
       "      <td>2024-11-28_13:17:39_with_bridges2024-11-28_13:...</td>\n",
       "      <td>scenario10-10scenario10-10scenario10-10scenari...</td>\n",
       "      <td>60</td>\n",
       "      <td>60</td>\n",
       "      <td>3</td>\n",
       "      <td>nononononono</td>\n",
       "      <td>baselinebaselinebaselinebaselinebaselinebaseline</td>\n",
       "      <td>../map-generator/generated-maps/2024-11-28_13:...</td>\n",
       "      <td>6</td>\n",
       "      <td>...</td>\n",
       "      <td>(0.0, 0.0, 0.0, 0.0, 0.0, 0.0, 0.0, 0.0, 0.0, ...</td>\n",
       "      <td>(0.0, 0.0, 0.0, 0.0, 0.0, 0.0, 0.0, 0.0, 0.0, ...</td>\n",
       "      <td>(0.0, 0.0, 0.0, 0.0, 0.0, 0.0, 0.0, 0.0, 0.0, ...</td>\n",
       "      <td>(0.0, 0.0, 0.0, 0.0, 0.0, 0.0, 0.0, 0.0, 0.0, ...</td>\n",
       "      <td>(0.0, 0.0, 0.0, 0.0, 0.0, 0.0, 0.0, 0.0, 0.0, ...</td>\n",
       "      <td>(0.0, 0.0, 0.0, 0.0, 0.0, 0.0, 0.0, 0.0, 0.0, ...</td>\n",
       "      <td>(0.0, 0.0, 0.0, 0.0, 0.0, 0.0, 0.0, 0.0, 0.0, ...</td>\n",
       "      <td>((0.0, None, 0.0, 0.0), (0.0, None, 0.0, 0.0),...</td>\n",
       "      <td>0.0</td>\n",
       "      <td>0</td>\n",
       "    </tr>\n",
       "    <tr>\n",
       "      <th>change of priorities</th>\n",
       "      <td>map-generator/generated-maps/2024-11-28_13:17:...</td>\n",
       "      <td>2024-11-28_13:17:39_with_bridges2024-11-28_13:...</td>\n",
       "      <td>scenario10-10scenario10-10scenario10-10scenari...</td>\n",
       "      <td>60</td>\n",
       "      <td>60</td>\n",
       "      <td>3</td>\n",
       "      <td>nononononono</td>\n",
       "      <td>change of prioritieschange of prioritieschange...</td>\n",
       "      <td>../map-generator/generated-maps/2024-11-28_13:...</td>\n",
       "      <td>6</td>\n",
       "      <td>...</td>\n",
       "      <td>(0.0, 0.0, 0.0, 0.0, 0.0, 0.0, 0.0, 0.0, 0.0, ...</td>\n",
       "      <td>(0.0, 0.0, 0.0, 0.0, 0.0, 0.0, 0.0, 0.0, 0.0, ...</td>\n",
       "      <td>(0.0, 0.0, 0.0, 0.0, 0.0, 0.0, 0.0, 0.0, 0.0, ...</td>\n",
       "      <td>(0.0, 0.0, 0.0, 0.0, 0.0, 0.0, 0.0, 0.0, 0.0, ...</td>\n",
       "      <td>(0.0, 0.0, 0.0, 0.0, 0.0, 0.0, 0.0, 0.0, 0.0, ...</td>\n",
       "      <td>(0.0, 0.0, 0.0, 0.0, 0.0, 0.0, 0.0, 0.0, 0.0, ...</td>\n",
       "      <td>(0.0, 0.0, 0.0, 0.0, 0.0, 0.0, 0.0, 0.0, 0.0, ...</td>\n",
       "      <td>((0.0, None, 0.0, 0.0), (0.0, None, 0.0, 0.0),...</td>\n",
       "      <td>0.0</td>\n",
       "      <td>0</td>\n",
       "    </tr>\n",
       "    <tr>\n",
       "      <th>stops</th>\n",
       "      <td>map-generator/generated-maps/2024-11-28_13:17:...</td>\n",
       "      <td>2024-11-28_13:17:39_with_bridges2024-11-28_13:...</td>\n",
       "      <td>scenario10-10scenario10-10scenario10-10scenari...</td>\n",
       "      <td>60</td>\n",
       "      <td>60</td>\n",
       "      <td>3</td>\n",
       "      <td>nononononono</td>\n",
       "      <td>stopsstopsstopsstopsstopsstops</td>\n",
       "      <td>../map-generator/generated-maps/2024-11-28_13:...</td>\n",
       "      <td>6</td>\n",
       "      <td>...</td>\n",
       "      <td>(0.0, 0.0, 0.0, 0.0, 0.0, 0.0, 0.0, 0.0, 0.0, ...</td>\n",
       "      <td>(0.0, 0.0, 0.0, 0.0, 0.0, 0.0, 0.0, 0.0, 0.0, ...</td>\n",
       "      <td>(0.0, 0.0, 0.0, 0.0, 0.0, 0.0, 0.0, 0.0, 0.0, ...</td>\n",
       "      <td>(0.0, 0.0, 0.0, 0.0, 0.0, 0.0, 0.0, 0.0, 0.0, ...</td>\n",
       "      <td>(0.0, 0.0, 0.0, 0.0, 0.0, 0.0, 0.0, 0.0, 0.0, ...</td>\n",
       "      <td>(0.0, 0.0, 0.0, 0.0, 0.0, 0.0, 0.0, 0.0, 0.0, ...</td>\n",
       "      <td>(0.0, 0.0, 0.0, 0.0, 0.0, 0.0, 0.0, 0.0, 0.0, ...</td>\n",
       "      <td>((0.0, None, 0.0, 0.0), (0.0, None, 0.0, 0.0),...</td>\n",
       "      <td>0.0</td>\n",
       "      <td>0</td>\n",
       "    </tr>\n",
       "  </tbody>\n",
       "</table>\n",
       "<p>300 rows × 87 columns</p>\n",
       "</div>"
      ]
     },
     "metadata": {},
     "output_type": "display_data"
    },
    {
     "data": {
      "text/plain": [
       "Index(['filename', 'dir_map', 'basename_scenario', 'i_map',\n",
       "       'Positions variant', 'passhum', 'slowness', 'Coordination strategy',\n",
       "       'filename_screenshot', 'are_bridges', 'configuration',\n",
       "       'isCanPassFirstHum', 'isCanPassFirstAut', 'reroutingsAtParked',\n",
       "       'reroutingsAtSlow', 'Date', 'Scenario ID', 'Vehicle ID', 'Vehicle type',\n",
       "       'Cycle distance (m)', 'No. of completed missions',\n",
       "       'Total distance traveled (m)', 'No. of stops', 'No. of forcing events',\n",
       "       'No. of violations', 'No. of critical sections', 'No. of near-misses',\n",
       "       'No. of collisions', 'Total waiting time (s)',\n",
       "       'Maximum waiting time (s)', 'Total time (s)',\n",
       "       'Maximum acceleration (m/s^2)', 'Maximum speed (m/s)',\n",
       "       'Average speed (m/s)', 'Scenario', 'Current datetime',\n",
       "       'Time passed (real)', 'Time passed (sim.)', 'isCanPassFirstActive',\n",
       "       'isRacingThroughCrossroadAllowed', 'probabilitySlowingDownForHuman',\n",
       "       'Human V0', 'Collision events', 'Vehicle size (m)', 'v_current',\n",
       "       'v_max', 'can pass first', 'violation of priorities', 'moving slowly',\n",
       "       'improper parking', 'cautious mode', 'reroutings at parked / slow',\n",
       "       'moving backwards', 'change of priorities', 'stops', 'violations',\n",
       "       'near misses', 'collisions', 'traveled total, m', 'no. missions',\n",
       "       'blocked', 'position (x, y), m', 'traveled, m', 'path index',\n",
       "       'no. poses', 'CP (index)', 'posTo Slow, m', 'distance ToCP, m',\n",
       "       'status', 'future missions', 'Linearization A', 'Linearization B',\n",
       "       'Linearization C', 'Linearization D1', 'Linearization D2',\n",
       "       'Linearization D3', 'Linearization D0',\n",
       "       'Linearization A (non-normalized)', 'Linearization B (non-normalized)',\n",
       "       'Linearization C (non-normalized)', 'Linearization D1 (non-normalized)',\n",
       "       'Linearization D2 (non-normalized)',\n",
       "       'Linearization D3 (non-normalized)',\n",
       "       'Linearization D0 (non-normalized)', 'Linearization D (non-normalized)',\n",
       "       'seconds_blocked', 'is_blocked'],\n",
       "      dtype='object')"
      ]
     },
     "metadata": {},
     "output_type": "display_data"
    },
    {
     "data": {
      "application/vnd.plotly.v1+json": {
       "data": [
        {
         "coloraxis": "coloraxis",
         "hovertemplate": "i_map: %{y}<br>Positions variant: %{x}<br>No. of completed missions: %{z}<extra></extra>",
         "name": "0",
         "x": [
          1,
          2,
          3,
          4,
          5,
          6,
          7,
          8,
          9,
          10
         ],
         "xaxis": "x",
         "y": [
          1,
          2,
          3,
          4,
          5,
          6,
          7,
          8,
          9,
          10
         ],
         "yaxis": "y",
         "z": [
          [
           70,
           74,
           42,
           48,
           74,
           52,
           55,
           53,
           86,
           81
          ],
          [
           52,
           48,
           50,
           57,
           48,
           34,
           46,
           30,
           46,
           45
          ],
          [
           50,
           50,
           43,
           43,
           41,
           47,
           37,
           43,
           44,
           40
          ],
          [
           44,
           30,
           43,
           42,
           44,
           45,
           36,
           42,
           44,
           50
          ],
          [
           38,
           36,
           42,
           32,
           22,
           46,
           44,
           36,
           32,
           32
          ],
          [
           50,
           64,
           64,
           60,
           64,
           50,
           58,
           56,
           50,
           72
          ],
          [
           38,
           36,
           44,
           44,
           36,
           22,
           36,
           20,
           34,
           28
          ],
          [
           38,
           34,
           38,
           42,
           37,
           39,
           35,
           28,
           48,
           48
          ],
          [
           27,
           0,
           43,
           36,
           38,
           4,
           31,
           42,
           41,
           48
          ],
          [
           72,
           66,
           66,
           59,
           48,
           90,
           63,
           66,
           59,
           68
          ]
         ],
         "type": "heatmap"
        },
        {
         "coloraxis": "coloraxis",
         "hovertemplate": "i_map: %{y}<br>Positions variant: %{x}<br>No. of completed missions: %{z}<extra></extra>",
         "name": "0",
         "x": [
          1,
          2,
          3,
          4,
          5,
          6,
          7,
          8,
          9,
          10
         ],
         "xaxis": "x2",
         "y": [
          1,
          2,
          3,
          4,
          5,
          6,
          7,
          8,
          9,
          10
         ],
         "yaxis": "y2",
         "z": [
          [
           34,
           35,
           42,
           48,
           60,
           48,
           52,
           51,
           85,
           80
          ],
          [
           50,
           33,
           50,
           22,
           28,
           34,
           33,
           30,
           33,
           0
          ],
          [
           4,
           4,
           4,
           4,
           34,
           18,
           2,
           4,
           42,
           38
          ],
          [
           8,
           22,
           44,
           24,
           42,
           24,
           32,
           42,
           32,
           50
          ],
          [
           38,
           36,
           44,
           34,
           22,
           24,
           38,
           38,
           34,
           34
          ],
          [
           48,
           62,
           30,
           56,
           64,
           48,
           56,
           54,
           22,
           14
          ],
          [
           38,
           36,
           28,
           44,
           36,
           22,
           34,
           26,
           34,
           30
          ],
          [
           22,
           34,
           32,
           36,
           35,
           4,
           12,
           12,
           4,
           48
          ],
          [
           24,
           4,
           40,
           30,
           34,
           24,
           30,
           38,
           22,
           16
          ],
          [
           70,
           62,
           66,
           56,
           44,
           88,
           60,
           64,
           54,
           66
          ]
         ],
         "type": "heatmap"
        },
        {
         "coloraxis": "coloraxis",
         "hovertemplate": "i_map: %{y}<br>Positions variant: %{x}<br>No. of completed missions: %{z}<extra></extra>",
         "name": "0",
         "x": [
          1,
          2,
          3,
          4,
          5,
          6,
          7,
          8,
          9,
          10
         ],
         "xaxis": "x3",
         "y": [
          1,
          2,
          3,
          4,
          5,
          6,
          7,
          8,
          9,
          10
         ],
         "yaxis": "y3",
         "z": [
          [
           44,
           30,
           38,
           43,
           38,
           47,
           50,
           48,
           75,
           76
          ],
          [
           10,
           0,
           12,
           10,
           33,
           28,
           0,
           28,
           0,
           0
          ],
          [
           8,
           8,
           4,
           4,
           36,
           20,
           2,
           4,
           37,
           35
          ],
          [
           32,
           16,
           37,
           2,
           20,
           2,
           0,
           38,
           2,
           31
          ],
          [
           32,
           30,
           2,
           30,
           12,
           42,
           36,
           30,
           30,
           30
          ],
          [
           42,
           60,
           62,
           53,
           61,
           44,
           53,
           49,
           42,
           36
          ],
          [
           32,
           30,
           36,
           36,
           30,
           0,
           30,
           22,
           26,
           22
          ],
          [
           34,
           30,
           30,
           27,
           34,
           3,
           28,
           20,
           4,
           26
          ],
          [
           2,
           0,
           36,
           2,
           10,
           25,
           20,
           10,
           34,
           38
          ],
          [
           64,
           57,
           58,
           54,
           45,
           78,
           56,
           57,
           50,
           61
          ]
         ],
         "type": "heatmap"
        }
       ],
       "layout": {
        "template": {
         "data": {
          "histogram2dcontour": [
           {
            "type": "histogram2dcontour",
            "colorbar": {
             "outlinewidth": 0,
             "ticks": ""
            },
            "colorscale": [
             [
              0.0,
              "#0d0887"
             ],
             [
              0.1111111111111111,
              "#46039f"
             ],
             [
              0.2222222222222222,
              "#7201a8"
             ],
             [
              0.3333333333333333,
              "#9c179e"
             ],
             [
              0.4444444444444444,
              "#bd3786"
             ],
             [
              0.5555555555555556,
              "#d8576b"
             ],
             [
              0.6666666666666666,
              "#ed7953"
             ],
             [
              0.7777777777777778,
              "#fb9f3a"
             ],
             [
              0.8888888888888888,
              "#fdca26"
             ],
             [
              1.0,
              "#f0f921"
             ]
            ]
           }
          ],
          "choropleth": [
           {
            "type": "choropleth",
            "colorbar": {
             "outlinewidth": 0,
             "ticks": ""
            }
           }
          ],
          "histogram2d": [
           {
            "type": "histogram2d",
            "colorbar": {
             "outlinewidth": 0,
             "ticks": ""
            },
            "colorscale": [
             [
              0.0,
              "#0d0887"
             ],
             [
              0.1111111111111111,
              "#46039f"
             ],
             [
              0.2222222222222222,
              "#7201a8"
             ],
             [
              0.3333333333333333,
              "#9c179e"
             ],
             [
              0.4444444444444444,
              "#bd3786"
             ],
             [
              0.5555555555555556,
              "#d8576b"
             ],
             [
              0.6666666666666666,
              "#ed7953"
             ],
             [
              0.7777777777777778,
              "#fb9f3a"
             ],
             [
              0.8888888888888888,
              "#fdca26"
             ],
             [
              1.0,
              "#f0f921"
             ]
            ]
           }
          ],
          "heatmap": [
           {
            "type": "heatmap",
            "colorbar": {
             "outlinewidth": 0,
             "ticks": ""
            },
            "colorscale": [
             [
              0.0,
              "#0d0887"
             ],
             [
              0.1111111111111111,
              "#46039f"
             ],
             [
              0.2222222222222222,
              "#7201a8"
             ],
             [
              0.3333333333333333,
              "#9c179e"
             ],
             [
              0.4444444444444444,
              "#bd3786"
             ],
             [
              0.5555555555555556,
              "#d8576b"
             ],
             [
              0.6666666666666666,
              "#ed7953"
             ],
             [
              0.7777777777777778,
              "#fb9f3a"
             ],
             [
              0.8888888888888888,
              "#fdca26"
             ],
             [
              1.0,
              "#f0f921"
             ]
            ]
           }
          ],
          "heatmapgl": [
           {
            "type": "heatmapgl",
            "colorbar": {
             "outlinewidth": 0,
             "ticks": ""
            },
            "colorscale": [
             [
              0.0,
              "#0d0887"
             ],
             [
              0.1111111111111111,
              "#46039f"
             ],
             [
              0.2222222222222222,
              "#7201a8"
             ],
             [
              0.3333333333333333,
              "#9c179e"
             ],
             [
              0.4444444444444444,
              "#bd3786"
             ],
             [
              0.5555555555555556,
              "#d8576b"
             ],
             [
              0.6666666666666666,
              "#ed7953"
             ],
             [
              0.7777777777777778,
              "#fb9f3a"
             ],
             [
              0.8888888888888888,
              "#fdca26"
             ],
             [
              1.0,
              "#f0f921"
             ]
            ]
           }
          ],
          "contourcarpet": [
           {
            "type": "contourcarpet",
            "colorbar": {
             "outlinewidth": 0,
             "ticks": ""
            }
           }
          ],
          "contour": [
           {
            "type": "contour",
            "colorbar": {
             "outlinewidth": 0,
             "ticks": ""
            },
            "colorscale": [
             [
              0.0,
              "#0d0887"
             ],
             [
              0.1111111111111111,
              "#46039f"
             ],
             [
              0.2222222222222222,
              "#7201a8"
             ],
             [
              0.3333333333333333,
              "#9c179e"
             ],
             [
              0.4444444444444444,
              "#bd3786"
             ],
             [
              0.5555555555555556,
              "#d8576b"
             ],
             [
              0.6666666666666666,
              "#ed7953"
             ],
             [
              0.7777777777777778,
              "#fb9f3a"
             ],
             [
              0.8888888888888888,
              "#fdca26"
             ],
             [
              1.0,
              "#f0f921"
             ]
            ]
           }
          ],
          "surface": [
           {
            "type": "surface",
            "colorbar": {
             "outlinewidth": 0,
             "ticks": ""
            },
            "colorscale": [
             [
              0.0,
              "#0d0887"
             ],
             [
              0.1111111111111111,
              "#46039f"
             ],
             [
              0.2222222222222222,
              "#7201a8"
             ],
             [
              0.3333333333333333,
              "#9c179e"
             ],
             [
              0.4444444444444444,
              "#bd3786"
             ],
             [
              0.5555555555555556,
              "#d8576b"
             ],
             [
              0.6666666666666666,
              "#ed7953"
             ],
             [
              0.7777777777777778,
              "#fb9f3a"
             ],
             [
              0.8888888888888888,
              "#fdca26"
             ],
             [
              1.0,
              "#f0f921"
             ]
            ]
           }
          ],
          "mesh3d": [
           {
            "type": "mesh3d",
            "colorbar": {
             "outlinewidth": 0,
             "ticks": ""
            }
           }
          ],
          "scatter": [
           {
            "marker": {
             "line": {
              "color": "#283442"
             }
            },
            "type": "scatter"
           }
          ],
          "parcoords": [
           {
            "type": "parcoords",
            "line": {
             "colorbar": {
              "outlinewidth": 0,
              "ticks": ""
             }
            }
           }
          ],
          "scatterpolargl": [
           {
            "type": "scatterpolargl",
            "marker": {
             "colorbar": {
              "outlinewidth": 0,
              "ticks": ""
             }
            }
           }
          ],
          "bar": [
           {
            "error_x": {
             "color": "#f2f5fa"
            },
            "error_y": {
             "color": "#f2f5fa"
            },
            "marker": {
             "line": {
              "color": "rgb(17,17,17)",
              "width": 0.5
             },
             "pattern": {
              "fillmode": "overlay",
              "size": 10,
              "solidity": 0.2
             }
            },
            "type": "bar"
           }
          ],
          "scattergeo": [
           {
            "type": "scattergeo",
            "marker": {
             "colorbar": {
              "outlinewidth": 0,
              "ticks": ""
             }
            }
           }
          ],
          "scatterpolar": [
           {
            "type": "scatterpolar",
            "marker": {
             "colorbar": {
              "outlinewidth": 0,
              "ticks": ""
             }
            }
           }
          ],
          "histogram": [
           {
            "marker": {
             "pattern": {
              "fillmode": "overlay",
              "size": 10,
              "solidity": 0.2
             }
            },
            "type": "histogram"
           }
          ],
          "scattergl": [
           {
            "marker": {
             "line": {
              "color": "#283442"
             }
            },
            "type": "scattergl"
           }
          ],
          "scatter3d": [
           {
            "type": "scatter3d",
            "line": {
             "colorbar": {
              "outlinewidth": 0,
              "ticks": ""
             }
            },
            "marker": {
             "colorbar": {
              "outlinewidth": 0,
              "ticks": ""
             }
            }
           }
          ],
          "scattermapbox": [
           {
            "type": "scattermapbox",
            "marker": {
             "colorbar": {
              "outlinewidth": 0,
              "ticks": ""
             }
            }
           }
          ],
          "scatterternary": [
           {
            "type": "scatterternary",
            "marker": {
             "colorbar": {
              "outlinewidth": 0,
              "ticks": ""
             }
            }
           }
          ],
          "scattercarpet": [
           {
            "type": "scattercarpet",
            "marker": {
             "colorbar": {
              "outlinewidth": 0,
              "ticks": ""
             }
            }
           }
          ],
          "carpet": [
           {
            "aaxis": {
             "endlinecolor": "#A2B1C6",
             "gridcolor": "#506784",
             "linecolor": "#506784",
             "minorgridcolor": "#506784",
             "startlinecolor": "#A2B1C6"
            },
            "baxis": {
             "endlinecolor": "#A2B1C6",
             "gridcolor": "#506784",
             "linecolor": "#506784",
             "minorgridcolor": "#506784",
             "startlinecolor": "#A2B1C6"
            },
            "type": "carpet"
           }
          ],
          "table": [
           {
            "cells": {
             "fill": {
              "color": "#506784"
             },
             "line": {
              "color": "rgb(17,17,17)"
             }
            },
            "header": {
             "fill": {
              "color": "#2a3f5f"
             },
             "line": {
              "color": "rgb(17,17,17)"
             }
            },
            "type": "table"
           }
          ],
          "barpolar": [
           {
            "marker": {
             "line": {
              "color": "rgb(17,17,17)",
              "width": 0.5
             },
             "pattern": {
              "fillmode": "overlay",
              "size": 10,
              "solidity": 0.2
             }
            },
            "type": "barpolar"
           }
          ],
          "pie": [
           {
            "automargin": true,
            "type": "pie"
           }
          ]
         },
         "layout": {
          "autotypenumbers": "strict",
          "colorway": [
           "#636efa",
           "#EF553B",
           "#00cc96",
           "#ab63fa",
           "#FFA15A",
           "#19d3f3",
           "#FF6692",
           "#B6E880",
           "#FF97FF",
           "#FECB52"
          ],
          "font": {
           "color": "#f2f5fa"
          },
          "hovermode": "closest",
          "hoverlabel": {
           "align": "left"
          },
          "paper_bgcolor": "rgb(17,17,17)",
          "plot_bgcolor": "rgb(17,17,17)",
          "polar": {
           "bgcolor": "rgb(17,17,17)",
           "angularaxis": {
            "gridcolor": "#506784",
            "linecolor": "#506784",
            "ticks": ""
           },
           "radialaxis": {
            "gridcolor": "#506784",
            "linecolor": "#506784",
            "ticks": ""
           }
          },
          "ternary": {
           "bgcolor": "rgb(17,17,17)",
           "aaxis": {
            "gridcolor": "#506784",
            "linecolor": "#506784",
            "ticks": ""
           },
           "baxis": {
            "gridcolor": "#506784",
            "linecolor": "#506784",
            "ticks": ""
           },
           "caxis": {
            "gridcolor": "#506784",
            "linecolor": "#506784",
            "ticks": ""
           }
          },
          "coloraxis": {
           "colorbar": {
            "outlinewidth": 0,
            "ticks": ""
           }
          },
          "colorscale": {
           "sequential": [
            [
             0.0,
             "#0d0887"
            ],
            [
             0.1111111111111111,
             "#46039f"
            ],
            [
             0.2222222222222222,
             "#7201a8"
            ],
            [
             0.3333333333333333,
             "#9c179e"
            ],
            [
             0.4444444444444444,
             "#bd3786"
            ],
            [
             0.5555555555555556,
             "#d8576b"
            ],
            [
             0.6666666666666666,
             "#ed7953"
            ],
            [
             0.7777777777777778,
             "#fb9f3a"
            ],
            [
             0.8888888888888888,
             "#fdca26"
            ],
            [
             1.0,
             "#f0f921"
            ]
           ],
           "sequentialminus": [
            [
             0.0,
             "#0d0887"
            ],
            [
             0.1111111111111111,
             "#46039f"
            ],
            [
             0.2222222222222222,
             "#7201a8"
            ],
            [
             0.3333333333333333,
             "#9c179e"
            ],
            [
             0.4444444444444444,
             "#bd3786"
            ],
            [
             0.5555555555555556,
             "#d8576b"
            ],
            [
             0.6666666666666666,
             "#ed7953"
            ],
            [
             0.7777777777777778,
             "#fb9f3a"
            ],
            [
             0.8888888888888888,
             "#fdca26"
            ],
            [
             1.0,
             "#f0f921"
            ]
           ],
           "diverging": [
            [
             0,
             "#8e0152"
            ],
            [
             0.1,
             "#c51b7d"
            ],
            [
             0.2,
             "#de77ae"
            ],
            [
             0.3,
             "#f1b6da"
            ],
            [
             0.4,
             "#fde0ef"
            ],
            [
             0.5,
             "#f7f7f7"
            ],
            [
             0.6,
             "#e6f5d0"
            ],
            [
             0.7,
             "#b8e186"
            ],
            [
             0.8,
             "#7fbc41"
            ],
            [
             0.9,
             "#4d9221"
            ],
            [
             1,
             "#276419"
            ]
           ]
          },
          "xaxis": {
           "gridcolor": "#283442",
           "linecolor": "#506784",
           "ticks": "",
           "title": {
            "standoff": 15
           },
           "zerolinecolor": "#283442",
           "automargin": true,
           "zerolinewidth": 2
          },
          "yaxis": {
           "gridcolor": "#283442",
           "linecolor": "#506784",
           "ticks": "",
           "title": {
            "standoff": 15
           },
           "zerolinecolor": "#283442",
           "automargin": true,
           "zerolinewidth": 2
          },
          "scene": {
           "xaxis": {
            "backgroundcolor": "rgb(17,17,17)",
            "gridcolor": "#506784",
            "linecolor": "#506784",
            "showbackground": true,
            "ticks": "",
            "zerolinecolor": "#C8D4E3",
            "gridwidth": 2
           },
           "yaxis": {
            "backgroundcolor": "rgb(17,17,17)",
            "gridcolor": "#506784",
            "linecolor": "#506784",
            "showbackground": true,
            "ticks": "",
            "zerolinecolor": "#C8D4E3",
            "gridwidth": 2
           },
           "zaxis": {
            "backgroundcolor": "rgb(17,17,17)",
            "gridcolor": "#506784",
            "linecolor": "#506784",
            "showbackground": true,
            "ticks": "",
            "zerolinecolor": "#C8D4E3",
            "gridwidth": 2
           }
          },
          "shapedefaults": {
           "line": {
            "color": "#f2f5fa"
           }
          },
          "annotationdefaults": {
           "arrowcolor": "#f2f5fa",
           "arrowhead": 0,
           "arrowwidth": 1
          },
          "geo": {
           "bgcolor": "rgb(17,17,17)",
           "landcolor": "rgb(17,17,17)",
           "subunitcolor": "#506784",
           "showland": true,
           "showlakes": true,
           "lakecolor": "rgb(17,17,17)"
          },
          "title": {
           "x": 0.05
          },
          "updatemenudefaults": {
           "bgcolor": "#506784",
           "borderwidth": 0
          },
          "sliderdefaults": {
           "bgcolor": "#C8D4E3",
           "borderwidth": 1,
           "bordercolor": "rgb(17,17,17)",
           "tickwidth": 0
          },
          "mapbox": {
           "style": "dark"
          }
         }
        },
        "xaxis": {
         "anchor": "y",
         "domain": [
          0.0,
          0.2888888888888889
         ],
         "title": {
          "text": "Positions variant"
         },
         "tickmode": "array",
         "tickvals": [
          1,
          2,
          3,
          4,
          5,
          6,
          7,
          8,
          9,
          10
         ],
         "ticktext": [
          1,
          2,
          3,
          4,
          5,
          6,
          7,
          8,
          9,
          10
         ]
        },
        "yaxis": {
         "anchor": "x",
         "domain": [
          0.0,
          1.0
         ],
         "title": {
          "text": "i_map"
         },
         "tickmode": "array",
         "tickvals": [
          1,
          2,
          3,
          4,
          5,
          6,
          7,
          8,
          9,
          10
         ],
         "ticktext": [
          1,
          2,
          3,
          4,
          5,
          6,
          7,
          8,
          9,
          10
         ],
         "autorange": "reversed"
        },
        "xaxis2": {
         "anchor": "y2",
         "domain": [
          0.35555555555555557,
          0.6444444444444445
         ],
         "title": {
          "text": "Positions variant"
         },
         "tickmode": "array",
         "tickvals": [
          1,
          2,
          3,
          4,
          5,
          6,
          7,
          8,
          9,
          10
         ],
         "ticktext": [
          1,
          2,
          3,
          4,
          5,
          6,
          7,
          8,
          9,
          10
         ]
        },
        "yaxis2": {
         "anchor": "x2",
         "domain": [
          0.0,
          1.0
         ],
         "title": {
          "text": "i_map"
         },
         "tickmode": "array",
         "tickvals": [
          1,
          2,
          3,
          4,
          5,
          6,
          7,
          8,
          9,
          10
         ],
         "ticktext": [
          1,
          2,
          3,
          4,
          5,
          6,
          7,
          8,
          9,
          10
         ],
         "autorange": "reversed"
        },
        "xaxis3": {
         "anchor": "y3",
         "domain": [
          0.7111111111111111,
          1.0
         ],
         "title": {
          "text": "Positions variant"
         },
         "tickmode": "array",
         "tickvals": [
          1,
          2,
          3,
          4,
          5,
          6,
          7,
          8,
          9,
          10
         ],
         "ticktext": [
          1,
          2,
          3,
          4,
          5,
          6,
          7,
          8,
          9,
          10
         ]
        },
        "yaxis3": {
         "anchor": "x3",
         "domain": [
          0.0,
          1.0
         ],
         "title": {
          "text": "i_map"
         },
         "tickmode": "array",
         "tickvals": [
          1,
          2,
          3,
          4,
          5,
          6,
          7,
          8,
          9,
          10
         ],
         "ticktext": [
          1,
          2,
          3,
          4,
          5,
          6,
          7,
          8,
          9,
          10
         ],
         "autorange": "reversed"
        },
        "annotations": [
         {
          "font": {
           "size": 16
          },
          "showarrow": false,
          "text": "baseline",
          "x": 0.14444444444444446,
          "xanchor": "center",
          "xref": "paper",
          "y": 1.0,
          "yanchor": "bottom",
          "yref": "paper"
         },
         {
          "font": {
           "size": 16
          },
          "showarrow": false,
          "text": "change of priorities",
          "x": 0.5,
          "xanchor": "center",
          "xref": "paper",
          "y": 1.0,
          "yanchor": "bottom",
          "yref": "paper"
         },
         {
          "font": {
           "size": 16
          },
          "showarrow": false,
          "text": "stops",
          "x": 0.8555555555555556,
          "xanchor": "center",
          "xref": "paper",
          "y": 1.0,
          "yanchor": "bottom",
          "yref": "paper"
         }
        ],
        "coloraxis": {
         "colorbar": {
          "title": {
           "text": "No. of completed missions",
           "side": "right",
           "font": {
            "size": 12
           }
          }
         },
         "colorscale": [
          [
           0.0,
           "rgb(247,252,245)"
          ],
          [
           0.125,
           "rgb(229,245,224)"
          ],
          [
           0.25,
           "rgb(199,233,192)"
          ],
          [
           0.375,
           "rgb(161,217,155)"
          ],
          [
           0.5,
           "rgb(116,196,118)"
          ],
          [
           0.625,
           "rgb(65,171,93)"
          ],
          [
           0.75,
           "rgb(35,139,69)"
          ],
          [
           0.875,
           "rgb(0,109,44)"
          ],
          [
           1.0,
           "rgb(0,68,27)"
          ]
         ]
        },
        "title": {
         "text": "No. of completed missions (20241230_173555, Coordination strategy, maps with high connectivity)"
        }
       },
       "config": {
        "plotlyServerURL": "https://plot.ly"
       }
      },
      "text/html": [
       "<div>                            <div id=\"2a03d205-3d2c-48b2-ad84-fada0990d8ba\" class=\"plotly-graph-div\" style=\"height:525px; width:100%;\"></div>            <script type=\"text/javascript\">                require([\"plotly\"], function(Plotly) {                    window.PLOTLYENV=window.PLOTLYENV || {};                                    if (document.getElementById(\"2a03d205-3d2c-48b2-ad84-fada0990d8ba\")) {                    Plotly.newPlot(                        \"2a03d205-3d2c-48b2-ad84-fada0990d8ba\",                        [{\"coloraxis\":\"coloraxis\",\"hovertemplate\":\"i_map: %{y}\\u003cbr\\u003ePositions variant: %{x}\\u003cbr\\u003eNo. of completed missions: %{z}\\u003cextra\\u003e\\u003c\\u002fextra\\u003e\",\"name\":\"0\",\"x\":[1,2,3,4,5,6,7,8,9,10],\"xaxis\":\"x\",\"y\":[1,2,3,4,5,6,7,8,9,10],\"yaxis\":\"y\",\"z\":[[70,74,42,48,74,52,55,53,86,81],[52,48,50,57,48,34,46,30,46,45],[50,50,43,43,41,47,37,43,44,40],[44,30,43,42,44,45,36,42,44,50],[38,36,42,32,22,46,44,36,32,32],[50,64,64,60,64,50,58,56,50,72],[38,36,44,44,36,22,36,20,34,28],[38,34,38,42,37,39,35,28,48,48],[27,0,43,36,38,4,31,42,41,48],[72,66,66,59,48,90,63,66,59,68]],\"type\":\"heatmap\"},{\"coloraxis\":\"coloraxis\",\"hovertemplate\":\"i_map: %{y}\\u003cbr\\u003ePositions variant: %{x}\\u003cbr\\u003eNo. of completed missions: %{z}\\u003cextra\\u003e\\u003c\\u002fextra\\u003e\",\"name\":\"0\",\"x\":[1,2,3,4,5,6,7,8,9,10],\"xaxis\":\"x2\",\"y\":[1,2,3,4,5,6,7,8,9,10],\"yaxis\":\"y2\",\"z\":[[34,35,42,48,60,48,52,51,85,80],[50,33,50,22,28,34,33,30,33,0],[4,4,4,4,34,18,2,4,42,38],[8,22,44,24,42,24,32,42,32,50],[38,36,44,34,22,24,38,38,34,34],[48,62,30,56,64,48,56,54,22,14],[38,36,28,44,36,22,34,26,34,30],[22,34,32,36,35,4,12,12,4,48],[24,4,40,30,34,24,30,38,22,16],[70,62,66,56,44,88,60,64,54,66]],\"type\":\"heatmap\"},{\"coloraxis\":\"coloraxis\",\"hovertemplate\":\"i_map: %{y}\\u003cbr\\u003ePositions variant: %{x}\\u003cbr\\u003eNo. of completed missions: %{z}\\u003cextra\\u003e\\u003c\\u002fextra\\u003e\",\"name\":\"0\",\"x\":[1,2,3,4,5,6,7,8,9,10],\"xaxis\":\"x3\",\"y\":[1,2,3,4,5,6,7,8,9,10],\"yaxis\":\"y3\",\"z\":[[44,30,38,43,38,47,50,48,75,76],[10,0,12,10,33,28,0,28,0,0],[8,8,4,4,36,20,2,4,37,35],[32,16,37,2,20,2,0,38,2,31],[32,30,2,30,12,42,36,30,30,30],[42,60,62,53,61,44,53,49,42,36],[32,30,36,36,30,0,30,22,26,22],[34,30,30,27,34,3,28,20,4,26],[2,0,36,2,10,25,20,10,34,38],[64,57,58,54,45,78,56,57,50,61]],\"type\":\"heatmap\"}],                        {\"template\":{\"data\":{\"histogram2dcontour\":[{\"type\":\"histogram2dcontour\",\"colorbar\":{\"outlinewidth\":0,\"ticks\":\"\"},\"colorscale\":[[0.0,\"#0d0887\"],[0.1111111111111111,\"#46039f\"],[0.2222222222222222,\"#7201a8\"],[0.3333333333333333,\"#9c179e\"],[0.4444444444444444,\"#bd3786\"],[0.5555555555555556,\"#d8576b\"],[0.6666666666666666,\"#ed7953\"],[0.7777777777777778,\"#fb9f3a\"],[0.8888888888888888,\"#fdca26\"],[1.0,\"#f0f921\"]]}],\"choropleth\":[{\"type\":\"choropleth\",\"colorbar\":{\"outlinewidth\":0,\"ticks\":\"\"}}],\"histogram2d\":[{\"type\":\"histogram2d\",\"colorbar\":{\"outlinewidth\":0,\"ticks\":\"\"},\"colorscale\":[[0.0,\"#0d0887\"],[0.1111111111111111,\"#46039f\"],[0.2222222222222222,\"#7201a8\"],[0.3333333333333333,\"#9c179e\"],[0.4444444444444444,\"#bd3786\"],[0.5555555555555556,\"#d8576b\"],[0.6666666666666666,\"#ed7953\"],[0.7777777777777778,\"#fb9f3a\"],[0.8888888888888888,\"#fdca26\"],[1.0,\"#f0f921\"]]}],\"heatmap\":[{\"type\":\"heatmap\",\"colorbar\":{\"outlinewidth\":0,\"ticks\":\"\"},\"colorscale\":[[0.0,\"#0d0887\"],[0.1111111111111111,\"#46039f\"],[0.2222222222222222,\"#7201a8\"],[0.3333333333333333,\"#9c179e\"],[0.4444444444444444,\"#bd3786\"],[0.5555555555555556,\"#d8576b\"],[0.6666666666666666,\"#ed7953\"],[0.7777777777777778,\"#fb9f3a\"],[0.8888888888888888,\"#fdca26\"],[1.0,\"#f0f921\"]]}],\"heatmapgl\":[{\"type\":\"heatmapgl\",\"colorbar\":{\"outlinewidth\":0,\"ticks\":\"\"},\"colorscale\":[[0.0,\"#0d0887\"],[0.1111111111111111,\"#46039f\"],[0.2222222222222222,\"#7201a8\"],[0.3333333333333333,\"#9c179e\"],[0.4444444444444444,\"#bd3786\"],[0.5555555555555556,\"#d8576b\"],[0.6666666666666666,\"#ed7953\"],[0.7777777777777778,\"#fb9f3a\"],[0.8888888888888888,\"#fdca26\"],[1.0,\"#f0f921\"]]}],\"contourcarpet\":[{\"type\":\"contourcarpet\",\"colorbar\":{\"outlinewidth\":0,\"ticks\":\"\"}}],\"contour\":[{\"type\":\"contour\",\"colorbar\":{\"outlinewidth\":0,\"ticks\":\"\"},\"colorscale\":[[0.0,\"#0d0887\"],[0.1111111111111111,\"#46039f\"],[0.2222222222222222,\"#7201a8\"],[0.3333333333333333,\"#9c179e\"],[0.4444444444444444,\"#bd3786\"],[0.5555555555555556,\"#d8576b\"],[0.6666666666666666,\"#ed7953\"],[0.7777777777777778,\"#fb9f3a\"],[0.8888888888888888,\"#fdca26\"],[1.0,\"#f0f921\"]]}],\"surface\":[{\"type\":\"surface\",\"colorbar\":{\"outlinewidth\":0,\"ticks\":\"\"},\"colorscale\":[[0.0,\"#0d0887\"],[0.1111111111111111,\"#46039f\"],[0.2222222222222222,\"#7201a8\"],[0.3333333333333333,\"#9c179e\"],[0.4444444444444444,\"#bd3786\"],[0.5555555555555556,\"#d8576b\"],[0.6666666666666666,\"#ed7953\"],[0.7777777777777778,\"#fb9f3a\"],[0.8888888888888888,\"#fdca26\"],[1.0,\"#f0f921\"]]}],\"mesh3d\":[{\"type\":\"mesh3d\",\"colorbar\":{\"outlinewidth\":0,\"ticks\":\"\"}}],\"scatter\":[{\"marker\":{\"line\":{\"color\":\"#283442\"}},\"type\":\"scatter\"}],\"parcoords\":[{\"type\":\"parcoords\",\"line\":{\"colorbar\":{\"outlinewidth\":0,\"ticks\":\"\"}}}],\"scatterpolargl\":[{\"type\":\"scatterpolargl\",\"marker\":{\"colorbar\":{\"outlinewidth\":0,\"ticks\":\"\"}}}],\"bar\":[{\"error_x\":{\"color\":\"#f2f5fa\"},\"error_y\":{\"color\":\"#f2f5fa\"},\"marker\":{\"line\":{\"color\":\"rgb(17,17,17)\",\"width\":0.5},\"pattern\":{\"fillmode\":\"overlay\",\"size\":10,\"solidity\":0.2}},\"type\":\"bar\"}],\"scattergeo\":[{\"type\":\"scattergeo\",\"marker\":{\"colorbar\":{\"outlinewidth\":0,\"ticks\":\"\"}}}],\"scatterpolar\":[{\"type\":\"scatterpolar\",\"marker\":{\"colorbar\":{\"outlinewidth\":0,\"ticks\":\"\"}}}],\"histogram\":[{\"marker\":{\"pattern\":{\"fillmode\":\"overlay\",\"size\":10,\"solidity\":0.2}},\"type\":\"histogram\"}],\"scattergl\":[{\"marker\":{\"line\":{\"color\":\"#283442\"}},\"type\":\"scattergl\"}],\"scatter3d\":[{\"type\":\"scatter3d\",\"line\":{\"colorbar\":{\"outlinewidth\":0,\"ticks\":\"\"}},\"marker\":{\"colorbar\":{\"outlinewidth\":0,\"ticks\":\"\"}}}],\"scattermapbox\":[{\"type\":\"scattermapbox\",\"marker\":{\"colorbar\":{\"outlinewidth\":0,\"ticks\":\"\"}}}],\"scatterternary\":[{\"type\":\"scatterternary\",\"marker\":{\"colorbar\":{\"outlinewidth\":0,\"ticks\":\"\"}}}],\"scattercarpet\":[{\"type\":\"scattercarpet\",\"marker\":{\"colorbar\":{\"outlinewidth\":0,\"ticks\":\"\"}}}],\"carpet\":[{\"aaxis\":{\"endlinecolor\":\"#A2B1C6\",\"gridcolor\":\"#506784\",\"linecolor\":\"#506784\",\"minorgridcolor\":\"#506784\",\"startlinecolor\":\"#A2B1C6\"},\"baxis\":{\"endlinecolor\":\"#A2B1C6\",\"gridcolor\":\"#506784\",\"linecolor\":\"#506784\",\"minorgridcolor\":\"#506784\",\"startlinecolor\":\"#A2B1C6\"},\"type\":\"carpet\"}],\"table\":[{\"cells\":{\"fill\":{\"color\":\"#506784\"},\"line\":{\"color\":\"rgb(17,17,17)\"}},\"header\":{\"fill\":{\"color\":\"#2a3f5f\"},\"line\":{\"color\":\"rgb(17,17,17)\"}},\"type\":\"table\"}],\"barpolar\":[{\"marker\":{\"line\":{\"color\":\"rgb(17,17,17)\",\"width\":0.5},\"pattern\":{\"fillmode\":\"overlay\",\"size\":10,\"solidity\":0.2}},\"type\":\"barpolar\"}],\"pie\":[{\"automargin\":true,\"type\":\"pie\"}]},\"layout\":{\"autotypenumbers\":\"strict\",\"colorway\":[\"#636efa\",\"#EF553B\",\"#00cc96\",\"#ab63fa\",\"#FFA15A\",\"#19d3f3\",\"#FF6692\",\"#B6E880\",\"#FF97FF\",\"#FECB52\"],\"font\":{\"color\":\"#f2f5fa\"},\"hovermode\":\"closest\",\"hoverlabel\":{\"align\":\"left\"},\"paper_bgcolor\":\"rgb(17,17,17)\",\"plot_bgcolor\":\"rgb(17,17,17)\",\"polar\":{\"bgcolor\":\"rgb(17,17,17)\",\"angularaxis\":{\"gridcolor\":\"#506784\",\"linecolor\":\"#506784\",\"ticks\":\"\"},\"radialaxis\":{\"gridcolor\":\"#506784\",\"linecolor\":\"#506784\",\"ticks\":\"\"}},\"ternary\":{\"bgcolor\":\"rgb(17,17,17)\",\"aaxis\":{\"gridcolor\":\"#506784\",\"linecolor\":\"#506784\",\"ticks\":\"\"},\"baxis\":{\"gridcolor\":\"#506784\",\"linecolor\":\"#506784\",\"ticks\":\"\"},\"caxis\":{\"gridcolor\":\"#506784\",\"linecolor\":\"#506784\",\"ticks\":\"\"}},\"coloraxis\":{\"colorbar\":{\"outlinewidth\":0,\"ticks\":\"\"}},\"colorscale\":{\"sequential\":[[0.0,\"#0d0887\"],[0.1111111111111111,\"#46039f\"],[0.2222222222222222,\"#7201a8\"],[0.3333333333333333,\"#9c179e\"],[0.4444444444444444,\"#bd3786\"],[0.5555555555555556,\"#d8576b\"],[0.6666666666666666,\"#ed7953\"],[0.7777777777777778,\"#fb9f3a\"],[0.8888888888888888,\"#fdca26\"],[1.0,\"#f0f921\"]],\"sequentialminus\":[[0.0,\"#0d0887\"],[0.1111111111111111,\"#46039f\"],[0.2222222222222222,\"#7201a8\"],[0.3333333333333333,\"#9c179e\"],[0.4444444444444444,\"#bd3786\"],[0.5555555555555556,\"#d8576b\"],[0.6666666666666666,\"#ed7953\"],[0.7777777777777778,\"#fb9f3a\"],[0.8888888888888888,\"#fdca26\"],[1.0,\"#f0f921\"]],\"diverging\":[[0,\"#8e0152\"],[0.1,\"#c51b7d\"],[0.2,\"#de77ae\"],[0.3,\"#f1b6da\"],[0.4,\"#fde0ef\"],[0.5,\"#f7f7f7\"],[0.6,\"#e6f5d0\"],[0.7,\"#b8e186\"],[0.8,\"#7fbc41\"],[0.9,\"#4d9221\"],[1,\"#276419\"]]},\"xaxis\":{\"gridcolor\":\"#283442\",\"linecolor\":\"#506784\",\"ticks\":\"\",\"title\":{\"standoff\":15},\"zerolinecolor\":\"#283442\",\"automargin\":true,\"zerolinewidth\":2},\"yaxis\":{\"gridcolor\":\"#283442\",\"linecolor\":\"#506784\",\"ticks\":\"\",\"title\":{\"standoff\":15},\"zerolinecolor\":\"#283442\",\"automargin\":true,\"zerolinewidth\":2},\"scene\":{\"xaxis\":{\"backgroundcolor\":\"rgb(17,17,17)\",\"gridcolor\":\"#506784\",\"linecolor\":\"#506784\",\"showbackground\":true,\"ticks\":\"\",\"zerolinecolor\":\"#C8D4E3\",\"gridwidth\":2},\"yaxis\":{\"backgroundcolor\":\"rgb(17,17,17)\",\"gridcolor\":\"#506784\",\"linecolor\":\"#506784\",\"showbackground\":true,\"ticks\":\"\",\"zerolinecolor\":\"#C8D4E3\",\"gridwidth\":2},\"zaxis\":{\"backgroundcolor\":\"rgb(17,17,17)\",\"gridcolor\":\"#506784\",\"linecolor\":\"#506784\",\"showbackground\":true,\"ticks\":\"\",\"zerolinecolor\":\"#C8D4E3\",\"gridwidth\":2}},\"shapedefaults\":{\"line\":{\"color\":\"#f2f5fa\"}},\"annotationdefaults\":{\"arrowcolor\":\"#f2f5fa\",\"arrowhead\":0,\"arrowwidth\":1},\"geo\":{\"bgcolor\":\"rgb(17,17,17)\",\"landcolor\":\"rgb(17,17,17)\",\"subunitcolor\":\"#506784\",\"showland\":true,\"showlakes\":true,\"lakecolor\":\"rgb(17,17,17)\"},\"title\":{\"x\":0.05},\"updatemenudefaults\":{\"bgcolor\":\"#506784\",\"borderwidth\":0},\"sliderdefaults\":{\"bgcolor\":\"#C8D4E3\",\"borderwidth\":1,\"bordercolor\":\"rgb(17,17,17)\",\"tickwidth\":0},\"mapbox\":{\"style\":\"dark\"}}},\"xaxis\":{\"anchor\":\"y\",\"domain\":[0.0,0.2888888888888889],\"title\":{\"text\":\"Positions variant\"},\"tickmode\":\"array\",\"tickvals\":[1,2,3,4,5,6,7,8,9,10],\"ticktext\":[1,2,3,4,5,6,7,8,9,10]},\"yaxis\":{\"anchor\":\"x\",\"domain\":[0.0,1.0],\"title\":{\"text\":\"i_map\"},\"tickmode\":\"array\",\"tickvals\":[1,2,3,4,5,6,7,8,9,10],\"ticktext\":[1,2,3,4,5,6,7,8,9,10],\"autorange\":\"reversed\"},\"xaxis2\":{\"anchor\":\"y2\",\"domain\":[0.35555555555555557,0.6444444444444445],\"title\":{\"text\":\"Positions variant\"},\"tickmode\":\"array\",\"tickvals\":[1,2,3,4,5,6,7,8,9,10],\"ticktext\":[1,2,3,4,5,6,7,8,9,10]},\"yaxis2\":{\"anchor\":\"x2\",\"domain\":[0.0,1.0],\"title\":{\"text\":\"i_map\"},\"tickmode\":\"array\",\"tickvals\":[1,2,3,4,5,6,7,8,9,10],\"ticktext\":[1,2,3,4,5,6,7,8,9,10],\"autorange\":\"reversed\"},\"xaxis3\":{\"anchor\":\"y3\",\"domain\":[0.7111111111111111,1.0],\"title\":{\"text\":\"Positions variant\"},\"tickmode\":\"array\",\"tickvals\":[1,2,3,4,5,6,7,8,9,10],\"ticktext\":[1,2,3,4,5,6,7,8,9,10]},\"yaxis3\":{\"anchor\":\"x3\",\"domain\":[0.0,1.0],\"title\":{\"text\":\"i_map\"},\"tickmode\":\"array\",\"tickvals\":[1,2,3,4,5,6,7,8,9,10],\"ticktext\":[1,2,3,4,5,6,7,8,9,10],\"autorange\":\"reversed\"},\"annotations\":[{\"font\":{\"size\":16},\"showarrow\":false,\"text\":\"baseline\",\"x\":0.14444444444444446,\"xanchor\":\"center\",\"xref\":\"paper\",\"y\":1.0,\"yanchor\":\"bottom\",\"yref\":\"paper\"},{\"font\":{\"size\":16},\"showarrow\":false,\"text\":\"change of priorities\",\"x\":0.5,\"xanchor\":\"center\",\"xref\":\"paper\",\"y\":1.0,\"yanchor\":\"bottom\",\"yref\":\"paper\"},{\"font\":{\"size\":16},\"showarrow\":false,\"text\":\"stops\",\"x\":0.8555555555555556,\"xanchor\":\"center\",\"xref\":\"paper\",\"y\":1.0,\"yanchor\":\"bottom\",\"yref\":\"paper\"}],\"coloraxis\":{\"colorbar\":{\"title\":{\"text\":\"No. of completed missions\",\"side\":\"right\",\"font\":{\"size\":12}}},\"colorscale\":[[0.0,\"rgb(247,252,245)\"],[0.125,\"rgb(229,245,224)\"],[0.25,\"rgb(199,233,192)\"],[0.375,\"rgb(161,217,155)\"],[0.5,\"rgb(116,196,118)\"],[0.625,\"rgb(65,171,93)\"],[0.75,\"rgb(35,139,69)\"],[0.875,\"rgb(0,109,44)\"],[1.0,\"rgb(0,68,27)\"]]},\"title\":{\"text\":\"No. of completed missions (20241230_173555, Coordination strategy, maps with high connectivity)\"}},                        {\"responsive\": true}                    ).then(function(){\n",
       "                            \n",
       "var gd = document.getElementById('2a03d205-3d2c-48b2-ad84-fada0990d8ba');\n",
       "var x = new MutationObserver(function (mutations, observer) {{\n",
       "        var display = window.getComputedStyle(gd).display;\n",
       "        if (!display || display === 'none') {{\n",
       "            console.log([gd, 'removed!']);\n",
       "            Plotly.purge(gd);\n",
       "            observer.disconnect();\n",
       "        }}\n",
       "}});\n",
       "\n",
       "// Listen for the removal of the full notebook cells\n",
       "var notebookContainer = gd.closest('#notebook-container');\n",
       "if (notebookContainer) {{\n",
       "    x.observe(notebookContainer, {childList: true});\n",
       "}}\n",
       "\n",
       "// Listen for the clearing of the current output cell\n",
       "var outputEl = gd.closest('.output');\n",
       "if (outputEl) {{\n",
       "    x.observe(outputEl, {childList: true});\n",
       "}}\n",
       "\n",
       "                        })                };                });            </script>        </div>"
      ]
     },
     "metadata": {},
     "output_type": "display_data"
    },
    {
     "data": {
      "text/plain": [
       "'\\n- No. of completed missions\\n- Average mission length\\n- Average CS density score\\n\\nHypotheses:f\\n- less Average mission length -> more No. of completed\\n- less Average CS density score -> more No. of completed missions (& less collisions, etc.) \\n'"
      ]
     },
     "execution_count": 6,
     "metadata": {},
     "output_type": "execute_result"
    }
   ],
   "execution_count": 6
  }
 ],
 "metadata": {
  "kernelspec": {
   "display_name": "Python 3",
   "language": "python",
   "name": "python3"
  },
  "language_info": {
   "codemirror_mode": {
    "name": "ipython",
    "version": 2
   },
   "file_extension": ".py",
   "mimetype": "text/x-python",
   "name": "python",
   "nbconvert_exporter": "python",
   "pygments_lexer": "ipython2",
   "version": "2.7.6"
  }
 },
 "nbformat": 4,
 "nbformat_minor": 5
}
