{
 "cells": [
  {
   "cell_type": "code",
   "id": "aa36440faaa8a5",
   "metadata": {
    "ExecuteTime": {
     "end_time": "2025-01-15T09:58:09.943419Z",
     "start_time": "2025-01-15T09:58:09.940842Z"
    }
   },
   "source": [
    "import functools\n",
    "import pickle\n",
    "\n",
    "import pandas as pd\n",
    "import plotly.express as px\n",
    "from PIL.ImageChops import offset\n",
    "from plotly.subplots import make_subplots\n",
    "from IPython.display import display, HTML\n",
    "\n",
    "RUNDIRS = '../logs/rundirs'"
   ],
   "outputs": [],
   "execution_count": 23
  },
  {
   "metadata": {
    "ExecuteTime": {
     "end_time": "2025-01-15T09:59:33.172772Z",
     "start_time": "2025-01-15T09:59:32.156042Z"
    }
   },
   "cell_type": "code",
   "source": [
    "@functools.cache\n",
    "def get_key2df(runname):\n",
    "    rundir = f'{RUNDIRS}/{runname}'\n",
    "    with open(f'{rundir}/key2df.pickle', 'rb') as file:\n",
    "        key2df = pickle.load(file)\n",
    "        \n",
    "    for key, df in key2df.items():\n",
    "        col = 'No. of collisions'\n",
    "        col2 = 'No. of violations'\n",
    "        if col in df.columns and col2 in df.columns:\n",
    "            df['Collisions rate'] = df.apply(lambda row: row[col] / row[col2] if row[col2] > 0 else 0, \n",
    "                                             axis=1)\n",
    "        \n",
    "    return key2df"
   ],
   "id": "cbc14bf1cea5fd4c",
   "outputs": [],
   "execution_count": 27
  },
  {
   "metadata": {
    "ExecuteTime": {
     "end_time": "2025-01-15T09:59:51.705312Z",
     "start_time": "2025-01-15T09:59:45.883657Z"
    }
   },
   "cell_type": "code",
   "source": [
    "MARGIN = dict(t=100, b=0, l=80, r=0)\n",
    "\n",
    "\n",
    "def calculate_heatmap_data(*, df, col_i, col_j, col_data):\n",
    "    return df[[col_i, col_j, col_data]].pivot(\n",
    "        index=col_i, columns=col_j, values=col_data\n",
    "    )\n",
    "\n",
    "\n",
    "def add_ticks(*, fig, offset_fig, col_i, col_j, heatmap_data, row2label=str, idx_x, idx_y, secondary_y=False):\n",
    "    idx_x += offset_fig\n",
    "    idx_y += offset_fig * 2\n",
    "    # print(f'{idx_x=}, {idx_y=}')\n",
    "    \n",
    "    # Apply axis settings to each subplot\n",
    "    xaxis_key = 'xaxis' + (str(idx_x + 1) if idx_x > 0 else '') \n",
    "    yaxis_key = 'yaxis' + (str(idx_y + 1) if idx_y > 0 else '')\n",
    "    \n",
    "    # Update axis title based on whether it's a secondary y-axis\n",
    "    yaxis_title = \"no. of OPs\" if secondary_y else col_i\n",
    "    \n",
    "    # Set a larger title_standoff for the secondary y-axis to move the label further from the chart\n",
    "    standoff_value = 10 if secondary_y else 0\n",
    "    \n",
    "    fig.update_layout(**{\n",
    "        xaxis_key: dict(\n",
    "            title=col_j,\n",
    "            tickmode=\"array\",\n",
    "            tickvals=list(heatmap_data.columns),\n",
    "            ticktext=[f'{x}' for x in heatmap_data.columns],\n",
    "            title_standoff=7,  # Move x-axis title closer\n",
    "            automargin=False,\n",
    "            constrain='domain',\n",
    "            # margin=MARGIN,\n",
    "        ),\n",
    "        yaxis_key: dict(\n",
    "            title=yaxis_title,\n",
    "            tickmode=\"array\",\n",
    "            tickvals=list(heatmap_data.index),\n",
    "            ticktext=[row2label(y) for y in heatmap_data.columns],\n",
    "            autorange=\"reversed\",  # Reverse the y-axis for top-to-bottom ticks\n",
    "            title_standoff=standoff_value,  # Move y-axis title closer\n",
    "            automargin=False,\n",
    "            constrain='domain',\n",
    "            # margin=MARGIN,\n",
    "        ),\n",
    "    })\n",
    "    \n",
    "    \n",
    "def add_all_ticks(*, fig, offset_fig, col_i, col_j, heatmap_data, idx, are_bridges):\n",
    "    # Dictionary to map Map IDs to the number of OPs\n",
    "    map_to_ops = {\n",
    "        1: 2, 6: 2, 10: 2,  # Maps with 2 OPs\n",
    "        2: 1, 3: 1, 4: 1, 5: 1, 7: 1, 8: 1, 9: 1,  # Maps with 1 OP\n",
    "    }\n",
    "    \n",
    "    # Check if the current map is low or high connectivity\n",
    "    primary_label = 'L' if not are_bridges else 'H'  # Use 'L' for low connectivity maps\n",
    "    \n",
    "    add_ticks(\n",
    "        fig=fig, offset_fig=offset_fig, col_i=col_i, col_j=col_j, heatmap_data=heatmap_data, \n",
    "        idx_x=idx, idx_y=idx * 2,\n",
    "        row2label=lambda r: f'{r}{primary_label}',\n",
    "    )\n",
    "    \n",
    "    add_ticks(\n",
    "        fig=fig, offset_fig=offset_fig, col_i=col_i, col_j=col_j, heatmap_data=heatmap_data, \n",
    "        idx_x=idx, idx_y=idx * 2 + 1,\n",
    "        row2label=lambda r: f'{map_to_ops[r]}',\n",
    "        secondary_y=True\n",
    "    )\n",
    "    \n",
    "    \n",
    "def set_hovertemplate(*, fig, col_i, col_j, col_data, is_value_in_tooltip):\n",
    "    hovertemplate=col_i + \": %{y}<br>\" + col_j + \": %{x}<br>\"\n",
    "    if is_value_in_tooltip:\n",
    "        hovertemplate+=col_data + \": %{z}\"\n",
    "    hovertemplate+=\"***<extra></extra>\"\n",
    "    \n",
    "    fig.update_traces(hovertemplate=hovertemplate)\n",
    "    \n",
    "    \n",
    "\n",
    "def plot_df_csd(*, title, col_i, col_j, col_data, heatmap_data):\n",
    "    # Create an interactive heatmap\n",
    "    fig = px.imshow(\n",
    "        heatmap_data,\n",
    "        labels={\"x\": col_j, \"y\": col_i, \"color\": col_data},\n",
    "        title=title,\n",
    "    )\n",
    "\n",
    "    set_hovertemplate(fig=fig, col_i=col_i, col_j=col_j, col_data=col_data, is_value_in_tooltip=True)\n",
    "    \n",
    "    # Add the secondary y-axis for 'no_ops'\n",
    "    fig.update_layout(\n",
    "        yaxis2=dict(\n",
    "            title=\"no. of OPs\",\n",
    "            overlaying=\"y\",\n",
    "            side=\"right\",\n",
    "            tickmode=\"array\",\n",
    "            tickvals=list(heatmap_data.index),\n",
    "            ticktext=[f\"{2 if y in [1, 6, 10] else 1}\" for y in heatmap_data.index],\n",
    "            automargin=True,\n",
    "        )\n",
    "    )\n",
    "\n",
    "    return fig\n",
    "\n",
    "\n",
    "def make_subplots_row(titles, *, horizontal_spacing=0.05):\n",
    "    if len(titles) == 2:\n",
    "        horizontal_spacing = 0.25 / len(titles)\n",
    "        width = 500 * len(titles)  # Adjust based on the number of subplots\n",
    "        height = 500               # Fixed height to make the plots square\n",
    "    elif len(titles) == 5:\n",
    "        horizontal_spacing = 0.25 / len(titles)\n",
    "        width = 460 * len(titles)  # Adjust based on the number of subplots\n",
    "        height = 500               # Fixed height to make the plots square\n",
    "    else:\n",
    "        horizontal_spacing = 0.25 / len(titles)\n",
    "        width = 500 * len(titles)  # Adjust based on the number of subplots\n",
    "        height = 500               # Fixed height to make the plots square\n",
    "    \n",
    "    fig = make_subplots(\n",
    "        rows=1,\n",
    "        cols=len(titles),\n",
    "        subplot_titles=titles,\n",
    "        specs=[[{'secondary_y': True}] * len(titles)],\n",
    "        horizontal_spacing=horizontal_spacing,  # Adjust spacing between subplots\n",
    "    )\n",
    "\n",
    "    # Set fixed dimensions to ensure square charts\n",
    "    fig.update_layout(\n",
    "        autosize=False,\n",
    "        width=width,\n",
    "        height=height,\n",
    "    )\n",
    "    \n",
    "    return fig\n",
    "\n",
    "    \n",
    "def plot_csd_scores(runname):    \n",
    "    col_i = 'i_map'\n",
    "    col_j = 'position'\n",
    "    col_data = 'CSD score (AVs)'\n",
    "    \n",
    "    display(HTML(f'<h1>CSD scores</h2>'))\n",
    "    key2df = get_key2df(runname)\n",
    "    \n",
    "    list_are_bridges = [False, True]\n",
    "    titles = ['Maps with low connectivity', 'Maps with high connectivity'] \n",
    "    \n",
    "    # Create subplots\n",
    "    fig = make_subplots_row(titles, horizontal_spacing=0.14)\n",
    "    \n",
    "    for idx, are_bridges in enumerate(list_are_bridges):\n",
    "        df = key2df[are_bridges, 'conf']\n",
    "        heatmap_data = calculate_heatmap_data(df=df, col_i=col_i, col_j=col_j, col_data=col_data)\n",
    "        \n",
    "        # Determine primary label (L for low connectivity, H for high connectivity)\n",
    "        primary_label = 'L' if not are_bridges else 'H'\n",
    "        \n",
    "        heatmap_fig = plot_df_csd(\n",
    "            title=f'{titles[idx]}',  # TODO: `subplot_titles`\n",
    "            col_i=col_i,\n",
    "            col_j=col_j,\n",
    "            col_data=col_data,\n",
    "            heatmap_data=heatmap_data,\n",
    "        )     \n",
    "        \n",
    "        # Apply the same layout settings to the individual figure\n",
    "        heatmap_fig.update_layout(\n",
    "            title=dict(\n",
    "                #text=f'{titles[idx]}',\n",
    "                x=0.57,\n",
    "                y=0.85,\n",
    "                xanchor='center',\n",
    "                yanchor='top',\n",
    "            ),\n",
    "            autosize=False,\n",
    "            width=500,  # Same fixed width as the subplot\n",
    "            height=500,  # Same fixed height as the subplot\n",
    "            coloraxis=dict(\n",
    "                colorscale=\"Greys\", \n",
    "                colorbar=dict(\n",
    "                    title=\"POD score\", \n",
    "                    titlefont=dict(size=16),\n",
    "                    x=-0.3,\n",
    "                    titleside=\"top\",\n",
    "                    thickness=10,\n",
    "                    len=1.1  # ⬅ Increases the length of the colorbar (default is 0.5)\n",
    "                )                        \n",
    "            ),  # Colorbar on the left\n",
    "                            \n",
    "            xaxis=dict(\n",
    "                title=col_j,\n",
    "                tickmode=\"array\",\n",
    "                tickvals=list(heatmap_data.columns),\n",
    "                ticktext=[f'{x}' for x in heatmap_data.columns],\n",
    "                constrain='domain',\n",
    "                automargin=False,\n",
    "                # margin=MARGIN,\n",
    "            ),\n",
    "            yaxis=dict(\n",
    "                title=f'{col_i} ({primary_label})',\n",
    "                tickmode=\"array\",\n",
    "                tickvals=list(heatmap_data.index),\n",
    "                ticktext=[f'{y}{primary_label}' for y in heatmap_data.index],\n",
    "                autorange=\"reversed\",\n",
    "                title_standoff=0.0,  # Move the y-axis label closer to the chart\n",
    "                constrain='domain',\n",
    "                automargin=False,\n",
    "                # margin=MARGIN,\n",
    "            ),\n",
    "            yaxis2=dict(\n",
    "                title='no. of OPs',\n",
    "                overlaying='y',\n",
    "                side='right',\n",
    "                tickmode=\"array\",\n",
    "                tickvals=list(heatmap_data.index),\n",
    "                ticktext=[f'{2 if y in [1, 6, 10] else 1}' for y in heatmap_data.index],\n",
    "                constrain='domain',\n",
    "                automargin=False,\n",
    "                # margin=MARGIN,\n",
    "            ),\n",
    "            margin=dict(l=50, r=50, t=80, b=50)  # Adjust margins for better spacing\n",
    "        )\n",
    "        \n",
    "        # Add heatmap to the subplot\n",
    "        for trace in heatmap_fig.data:\n",
    "            trace.update(coloraxis=\"coloraxis1\")  # Link each subplot to the shared color axis\n",
    "            trace.update(showscale=True)\n",
    "            fig.add_trace(trace, row=1, col=idx + 1, secondary_y=False)        \n",
    "            fig.add_trace(trace, row=1, col=idx + 1, secondary_y=True)        \n",
    "            \n",
    "        # Add ticks for the subplot\n",
    "        add_all_ticks(fig=fig, offset_fig=0, col_i='map ID', col_j='positions configuration', heatmap_data=heatmap_data, idx=idx, are_bridges=are_bridges)\n",
    "        \n",
    "        # for axis in fig.layout:\n",
    "        #     if axis.startswith('xaxis') or axis.startswith('yaxis'):\n",
    "        #         print(axis)\n",
    "\n",
    "        # Show the individual figure\n",
    "        heatmap_fig.show()\n",
    "        \n",
    "        # Show the individual figure separately\n",
    "     #   heatmap_fig.show()\n",
    "        \n",
    "    fig.update_layout(\n",
    "        coloraxis1=dict(  # shared color axis\n",
    "            colorscale=\"Greys\",\n",
    "            colorbar=dict(\n",
    "                title=\"POD score\",\n",
    "                titlefont=dict(size=16),\n",
    "                x=-0.13,  # Colorbar position for subplots\n",
    "                titleside=\"top\",\n",
    "                thickness=10,\n",
    "                len=1.1  # ⬅ Increases the length of the colorbar (default is 0.5)\n",
    "            )\n",
    "        ),\n",
    "        xaxis=dict(scaleanchor=\"y\"),  # Ensures the x-axis and y-axis are scaled equally\n",
    "        yaxis=dict(scaleanchor=\"x\"),  # Ensures the y-axis and x-axis are scaled equally\n",
    "    )\n",
    "        \n",
    "    # Display the figure\n",
    "    fig.show()\n",
    "    \n",
    "    display(HTML('<hr/>'))\n",
    "            \n",
    "plot_csd_scores('20241230_173555')"
   ],
   "id": "46e9a63fbcc3cedb",
   "outputs": [
    {
     "data": {
      "text/plain": [
       "<IPython.core.display.HTML object>"
      ],
      "text/html": [
       "<h1>CSD scores</h2>"
      ]
     },
     "metadata": {},
     "output_type": "display_data"
    },
    {
     "data": {
      "application/vnd.plotly.v1+json": {
       "data": [
        {
         "coloraxis": "coloraxis",
         "name": "0",
         "x": [
          1,
          2,
          3,
          4,
          5,
          6,
          7,
          8,
          9,
          10
         ],
         "y": [
          1,
          2,
          3,
          4,
          5,
          6,
          7,
          8,
          9,
          10
         ],
         "z": [
          [
           0.1109834106827025,
           0.03564095035460992,
           0.027295667648020938,
           0.09394079619981612,
           0.08852570445996777,
           0.023654089366124002,
           0.07450551729055259,
           0.0746597765244977,
           0.11649691846921797,
           0.05618795724465558
          ],
          [
           0.06768461786124952,
           0.17835673555053277,
           0.24253308985925656,
           0.19993141776667858,
           0.15017719308001237,
           0.2541482037576078,
           0.20057621716068647,
           0.22259451780752718,
           0.20057621716068647,
           0.5712000465623863
          ],
          [
           0.5575614397845324,
           0.5575614397845324,
           0.5028108322469983,
           0.4159552619130435,
           0.6206680638593244,
           0.26794575111415836,
           1.0175373348638896,
           0.4100232357723577,
           0.09302731169221522,
           0.20584499458843633
          ],
          [
           0.2661614019236374,
           0.2393662293794187,
           0.08455514095180357,
           0.15382659746835445,
           0.08642463267359947,
           0.1256398594626513,
           0.3132163156654888,
           0.12961422475106685,
           0.1666797305670816,
           0.048941079574624125
          ],
          [
           0.3049999028441983,
           0.357912960535757,
           0.060264992177850966,
           0.5034300715191479,
           0.6301811269809429,
           0.4298273393693412,
           0.42855802683229816,
           0.34675990733022805,
           0.5034300715191479,
           0.5404018646579402
          ],
          [
           0.27607584266543267,
           0.02193281275258195,
           0.0770840329962746,
           0.06642930686456403,
           0.038787090749671196,
           0.05724000529976813,
           0.08895945866759679,
           0.08248636871098054,
           0.46081194615061005,
           0.10411377508825011
          ],
          [
           0.447694925632507,
           0.44250405562047207,
           0.18801084761626208,
           0.26417850068399457,
           0.44250405562047207,
           0.6621382423937642,
           0.47093518200224976,
           0.6790656072389337,
           0.5280848159334646,
           0.24835119966111266
          ],
          [
           0.5392044898785425,
           0.29829608335231156,
           0.27422389204412106,
           0.15074390002808197,
           0.0570598904352976,
           0.3346415553028149,
           0.48487096561252685,
           0.3260551433528519,
           0.4600032924400181,
           0.17714393780212698
          ],
          [
           0.35206136069869,
           0.2939248089279675,
           0.2772994169410356,
           0.6565338856278365,
           0.5007121080612539,
           1.033663814273431,
           0.912720237216339,
           0.38735903385178405,
           0.3006511212954476,
           0.22293860589990055
          ],
          [
           0.12388452240613645,
           0.11656296480822459,
           0.11797602048340844,
           0.1330009155946031,
           0.17505572403100775,
           0.06752222735790131,
           0.15570741868787275,
           0.11442131334552103,
           0.13753947504244482,
           0.13977262923274753
          ]
         ],
         "xaxis": "x",
         "yaxis": "y",
         "hovertemplate": "i_map: %{y}<br>position: %{x}<br>CSD score (AVs): %{z}***<extra></extra>",
         "showscale": true,
         "type": "heatmap"
        }
       ],
       "layout": {
        "template": {
         "data": {
          "histogram2dcontour": [
           {
            "type": "histogram2dcontour",
            "colorbar": {
             "outlinewidth": 0,
             "ticks": ""
            },
            "colorscale": [
             [
              0.0,
              "#0d0887"
             ],
             [
              0.1111111111111111,
              "#46039f"
             ],
             [
              0.2222222222222222,
              "#7201a8"
             ],
             [
              0.3333333333333333,
              "#9c179e"
             ],
             [
              0.4444444444444444,
              "#bd3786"
             ],
             [
              0.5555555555555556,
              "#d8576b"
             ],
             [
              0.6666666666666666,
              "#ed7953"
             ],
             [
              0.7777777777777778,
              "#fb9f3a"
             ],
             [
              0.8888888888888888,
              "#fdca26"
             ],
             [
              1.0,
              "#f0f921"
             ]
            ]
           }
          ],
          "choropleth": [
           {
            "type": "choropleth",
            "colorbar": {
             "outlinewidth": 0,
             "ticks": ""
            }
           }
          ],
          "histogram2d": [
           {
            "type": "histogram2d",
            "colorbar": {
             "outlinewidth": 0,
             "ticks": ""
            },
            "colorscale": [
             [
              0.0,
              "#0d0887"
             ],
             [
              0.1111111111111111,
              "#46039f"
             ],
             [
              0.2222222222222222,
              "#7201a8"
             ],
             [
              0.3333333333333333,
              "#9c179e"
             ],
             [
              0.4444444444444444,
              "#bd3786"
             ],
             [
              0.5555555555555556,
              "#d8576b"
             ],
             [
              0.6666666666666666,
              "#ed7953"
             ],
             [
              0.7777777777777778,
              "#fb9f3a"
             ],
             [
              0.8888888888888888,
              "#fdca26"
             ],
             [
              1.0,
              "#f0f921"
             ]
            ]
           }
          ],
          "heatmap": [
           {
            "type": "heatmap",
            "colorbar": {
             "outlinewidth": 0,
             "ticks": ""
            },
            "colorscale": [
             [
              0.0,
              "#0d0887"
             ],
             [
              0.1111111111111111,
              "#46039f"
             ],
             [
              0.2222222222222222,
              "#7201a8"
             ],
             [
              0.3333333333333333,
              "#9c179e"
             ],
             [
              0.4444444444444444,
              "#bd3786"
             ],
             [
              0.5555555555555556,
              "#d8576b"
             ],
             [
              0.6666666666666666,
              "#ed7953"
             ],
             [
              0.7777777777777778,
              "#fb9f3a"
             ],
             [
              0.8888888888888888,
              "#fdca26"
             ],
             [
              1.0,
              "#f0f921"
             ]
            ]
           }
          ],
          "heatmapgl": [
           {
            "type": "heatmapgl",
            "colorbar": {
             "outlinewidth": 0,
             "ticks": ""
            },
            "colorscale": [
             [
              0.0,
              "#0d0887"
             ],
             [
              0.1111111111111111,
              "#46039f"
             ],
             [
              0.2222222222222222,
              "#7201a8"
             ],
             [
              0.3333333333333333,
              "#9c179e"
             ],
             [
              0.4444444444444444,
              "#bd3786"
             ],
             [
              0.5555555555555556,
              "#d8576b"
             ],
             [
              0.6666666666666666,
              "#ed7953"
             ],
             [
              0.7777777777777778,
              "#fb9f3a"
             ],
             [
              0.8888888888888888,
              "#fdca26"
             ],
             [
              1.0,
              "#f0f921"
             ]
            ]
           }
          ],
          "contourcarpet": [
           {
            "type": "contourcarpet",
            "colorbar": {
             "outlinewidth": 0,
             "ticks": ""
            }
           }
          ],
          "contour": [
           {
            "type": "contour",
            "colorbar": {
             "outlinewidth": 0,
             "ticks": ""
            },
            "colorscale": [
             [
              0.0,
              "#0d0887"
             ],
             [
              0.1111111111111111,
              "#46039f"
             ],
             [
              0.2222222222222222,
              "#7201a8"
             ],
             [
              0.3333333333333333,
              "#9c179e"
             ],
             [
              0.4444444444444444,
              "#bd3786"
             ],
             [
              0.5555555555555556,
              "#d8576b"
             ],
             [
              0.6666666666666666,
              "#ed7953"
             ],
             [
              0.7777777777777778,
              "#fb9f3a"
             ],
             [
              0.8888888888888888,
              "#fdca26"
             ],
             [
              1.0,
              "#f0f921"
             ]
            ]
           }
          ],
          "surface": [
           {
            "type": "surface",
            "colorbar": {
             "outlinewidth": 0,
             "ticks": ""
            },
            "colorscale": [
             [
              0.0,
              "#0d0887"
             ],
             [
              0.1111111111111111,
              "#46039f"
             ],
             [
              0.2222222222222222,
              "#7201a8"
             ],
             [
              0.3333333333333333,
              "#9c179e"
             ],
             [
              0.4444444444444444,
              "#bd3786"
             ],
             [
              0.5555555555555556,
              "#d8576b"
             ],
             [
              0.6666666666666666,
              "#ed7953"
             ],
             [
              0.7777777777777778,
              "#fb9f3a"
             ],
             [
              0.8888888888888888,
              "#fdca26"
             ],
             [
              1.0,
              "#f0f921"
             ]
            ]
           }
          ],
          "mesh3d": [
           {
            "type": "mesh3d",
            "colorbar": {
             "outlinewidth": 0,
             "ticks": ""
            }
           }
          ],
          "scatter": [
           {
            "marker": {
             "line": {
              "color": "#283442"
             }
            },
            "type": "scatter"
           }
          ],
          "parcoords": [
           {
            "type": "parcoords",
            "line": {
             "colorbar": {
              "outlinewidth": 0,
              "ticks": ""
             }
            }
           }
          ],
          "scatterpolargl": [
           {
            "type": "scatterpolargl",
            "marker": {
             "colorbar": {
              "outlinewidth": 0,
              "ticks": ""
             }
            }
           }
          ],
          "bar": [
           {
            "error_x": {
             "color": "#f2f5fa"
            },
            "error_y": {
             "color": "#f2f5fa"
            },
            "marker": {
             "line": {
              "color": "rgb(17,17,17)",
              "width": 0.5
             },
             "pattern": {
              "fillmode": "overlay",
              "size": 10,
              "solidity": 0.2
             }
            },
            "type": "bar"
           }
          ],
          "scattergeo": [
           {
            "type": "scattergeo",
            "marker": {
             "colorbar": {
              "outlinewidth": 0,
              "ticks": ""
             }
            }
           }
          ],
          "scatterpolar": [
           {
            "type": "scatterpolar",
            "marker": {
             "colorbar": {
              "outlinewidth": 0,
              "ticks": ""
             }
            }
           }
          ],
          "histogram": [
           {
            "marker": {
             "pattern": {
              "fillmode": "overlay",
              "size": 10,
              "solidity": 0.2
             }
            },
            "type": "histogram"
           }
          ],
          "scattergl": [
           {
            "marker": {
             "line": {
              "color": "#283442"
             }
            },
            "type": "scattergl"
           }
          ],
          "scatter3d": [
           {
            "type": "scatter3d",
            "line": {
             "colorbar": {
              "outlinewidth": 0,
              "ticks": ""
             }
            },
            "marker": {
             "colorbar": {
              "outlinewidth": 0,
              "ticks": ""
             }
            }
           }
          ],
          "scattermapbox": [
           {
            "type": "scattermapbox",
            "marker": {
             "colorbar": {
              "outlinewidth": 0,
              "ticks": ""
             }
            }
           }
          ],
          "scatterternary": [
           {
            "type": "scatterternary",
            "marker": {
             "colorbar": {
              "outlinewidth": 0,
              "ticks": ""
             }
            }
           }
          ],
          "scattercarpet": [
           {
            "type": "scattercarpet",
            "marker": {
             "colorbar": {
              "outlinewidth": 0,
              "ticks": ""
             }
            }
           }
          ],
          "carpet": [
           {
            "aaxis": {
             "endlinecolor": "#A2B1C6",
             "gridcolor": "#506784",
             "linecolor": "#506784",
             "minorgridcolor": "#506784",
             "startlinecolor": "#A2B1C6"
            },
            "baxis": {
             "endlinecolor": "#A2B1C6",
             "gridcolor": "#506784",
             "linecolor": "#506784",
             "minorgridcolor": "#506784",
             "startlinecolor": "#A2B1C6"
            },
            "type": "carpet"
           }
          ],
          "table": [
           {
            "cells": {
             "fill": {
              "color": "#506784"
             },
             "line": {
              "color": "rgb(17,17,17)"
             }
            },
            "header": {
             "fill": {
              "color": "#2a3f5f"
             },
             "line": {
              "color": "rgb(17,17,17)"
             }
            },
            "type": "table"
           }
          ],
          "barpolar": [
           {
            "marker": {
             "line": {
              "color": "rgb(17,17,17)",
              "width": 0.5
             },
             "pattern": {
              "fillmode": "overlay",
              "size": 10,
              "solidity": 0.2
             }
            },
            "type": "barpolar"
           }
          ],
          "pie": [
           {
            "automargin": true,
            "type": "pie"
           }
          ]
         },
         "layout": {
          "autotypenumbers": "strict",
          "colorway": [
           "#636efa",
           "#EF553B",
           "#00cc96",
           "#ab63fa",
           "#FFA15A",
           "#19d3f3",
           "#FF6692",
           "#B6E880",
           "#FF97FF",
           "#FECB52"
          ],
          "font": {
           "color": "#f2f5fa"
          },
          "hovermode": "closest",
          "hoverlabel": {
           "align": "left"
          },
          "paper_bgcolor": "rgb(17,17,17)",
          "plot_bgcolor": "rgb(17,17,17)",
          "polar": {
           "bgcolor": "rgb(17,17,17)",
           "angularaxis": {
            "gridcolor": "#506784",
            "linecolor": "#506784",
            "ticks": ""
           },
           "radialaxis": {
            "gridcolor": "#506784",
            "linecolor": "#506784",
            "ticks": ""
           }
          },
          "ternary": {
           "bgcolor": "rgb(17,17,17)",
           "aaxis": {
            "gridcolor": "#506784",
            "linecolor": "#506784",
            "ticks": ""
           },
           "baxis": {
            "gridcolor": "#506784",
            "linecolor": "#506784",
            "ticks": ""
           },
           "caxis": {
            "gridcolor": "#506784",
            "linecolor": "#506784",
            "ticks": ""
           }
          },
          "coloraxis": {
           "colorbar": {
            "outlinewidth": 0,
            "ticks": ""
           }
          },
          "colorscale": {
           "sequential": [
            [
             0.0,
             "#0d0887"
            ],
            [
             0.1111111111111111,
             "#46039f"
            ],
            [
             0.2222222222222222,
             "#7201a8"
            ],
            [
             0.3333333333333333,
             "#9c179e"
            ],
            [
             0.4444444444444444,
             "#bd3786"
            ],
            [
             0.5555555555555556,
             "#d8576b"
            ],
            [
             0.6666666666666666,
             "#ed7953"
            ],
            [
             0.7777777777777778,
             "#fb9f3a"
            ],
            [
             0.8888888888888888,
             "#fdca26"
            ],
            [
             1.0,
             "#f0f921"
            ]
           ],
           "sequentialminus": [
            [
             0.0,
             "#0d0887"
            ],
            [
             0.1111111111111111,
             "#46039f"
            ],
            [
             0.2222222222222222,
             "#7201a8"
            ],
            [
             0.3333333333333333,
             "#9c179e"
            ],
            [
             0.4444444444444444,
             "#bd3786"
            ],
            [
             0.5555555555555556,
             "#d8576b"
            ],
            [
             0.6666666666666666,
             "#ed7953"
            ],
            [
             0.7777777777777778,
             "#fb9f3a"
            ],
            [
             0.8888888888888888,
             "#fdca26"
            ],
            [
             1.0,
             "#f0f921"
            ]
           ],
           "diverging": [
            [
             0,
             "#8e0152"
            ],
            [
             0.1,
             "#c51b7d"
            ],
            [
             0.2,
             "#de77ae"
            ],
            [
             0.3,
             "#f1b6da"
            ],
            [
             0.4,
             "#fde0ef"
            ],
            [
             0.5,
             "#f7f7f7"
            ],
            [
             0.6,
             "#e6f5d0"
            ],
            [
             0.7,
             "#b8e186"
            ],
            [
             0.8,
             "#7fbc41"
            ],
            [
             0.9,
             "#4d9221"
            ],
            [
             1,
             "#276419"
            ]
           ]
          },
          "xaxis": {
           "gridcolor": "#283442",
           "linecolor": "#506784",
           "ticks": "",
           "title": {
            "standoff": 15
           },
           "zerolinecolor": "#283442",
           "automargin": true,
           "zerolinewidth": 2
          },
          "yaxis": {
           "gridcolor": "#283442",
           "linecolor": "#506784",
           "ticks": "",
           "title": {
            "standoff": 15
           },
           "zerolinecolor": "#283442",
           "automargin": true,
           "zerolinewidth": 2
          },
          "scene": {
           "xaxis": {
            "backgroundcolor": "rgb(17,17,17)",
            "gridcolor": "#506784",
            "linecolor": "#506784",
            "showbackground": true,
            "ticks": "",
            "zerolinecolor": "#C8D4E3",
            "gridwidth": 2
           },
           "yaxis": {
            "backgroundcolor": "rgb(17,17,17)",
            "gridcolor": "#506784",
            "linecolor": "#506784",
            "showbackground": true,
            "ticks": "",
            "zerolinecolor": "#C8D4E3",
            "gridwidth": 2
           },
           "zaxis": {
            "backgroundcolor": "rgb(17,17,17)",
            "gridcolor": "#506784",
            "linecolor": "#506784",
            "showbackground": true,
            "ticks": "",
            "zerolinecolor": "#C8D4E3",
            "gridwidth": 2
           }
          },
          "shapedefaults": {
           "line": {
            "color": "#f2f5fa"
           }
          },
          "annotationdefaults": {
           "arrowcolor": "#f2f5fa",
           "arrowhead": 0,
           "arrowwidth": 1
          },
          "geo": {
           "bgcolor": "rgb(17,17,17)",
           "landcolor": "rgb(17,17,17)",
           "subunitcolor": "#506784",
           "showland": true,
           "showlakes": true,
           "lakecolor": "rgb(17,17,17)"
          },
          "title": {
           "x": 0.05
          },
          "updatemenudefaults": {
           "bgcolor": "#506784",
           "borderwidth": 0
          },
          "sliderdefaults": {
           "bgcolor": "#C8D4E3",
           "borderwidth": 1,
           "bordercolor": "rgb(17,17,17)",
           "tickwidth": 0
          },
          "mapbox": {
           "style": "dark"
          }
         }
        },
        "xaxis": {
         "anchor": "y",
         "domain": [
          0.0,
          1.0
         ],
         "scaleanchor": "y",
         "constrain": "domain",
         "title": {
          "text": "position"
         },
         "tickmode": "array",
         "tickvals": [
          1,
          2,
          3,
          4,
          5,
          6,
          7,
          8,
          9,
          10
         ],
         "ticktext": [
          "1",
          "2",
          "3",
          "4",
          "5",
          "6",
          "7",
          "8",
          "9",
          "10"
         ],
         "automargin": false
        },
        "yaxis": {
         "anchor": "x",
         "domain": [
          0.0,
          1.0
         ],
         "autorange": "reversed",
         "constrain": "domain",
         "title": {
          "text": "i_map (L)",
          "standoff": 0.0
         },
         "tickmode": "array",
         "tickvals": [
          1,
          2,
          3,
          4,
          5,
          6,
          7,
          8,
          9,
          10
         ],
         "ticktext": [
          "1L",
          "2L",
          "3L",
          "4L",
          "5L",
          "6L",
          "7L",
          "8L",
          "9L",
          "10L"
         ],
         "automargin": false
        },
        "coloraxis": {
         "colorbar": {
          "title": {
           "text": "POD score",
           "font": {
            "size": 16
           },
           "side": "top"
          },
          "x": -0.3,
          "thickness": 10,
          "len": 1.1
         },
         "colorscale": [
          [
           0.0,
           "rgb(255,255,255)"
          ],
          [
           0.125,
           "rgb(240,240,240)"
          ],
          [
           0.25,
           "rgb(217,217,217)"
          ],
          [
           0.375,
           "rgb(189,189,189)"
          ],
          [
           0.5,
           "rgb(150,150,150)"
          ],
          [
           0.625,
           "rgb(115,115,115)"
          ],
          [
           0.75,
           "rgb(82,82,82)"
          ],
          [
           0.875,
           "rgb(37,37,37)"
          ],
          [
           1.0,
           "rgb(0,0,0)"
          ]
         ]
        },
        "title": {
         "text": "Maps with low connectivity",
         "x": 0.57,
         "y": 0.85,
         "xanchor": "center",
         "yanchor": "top"
        },
        "yaxis2": {
         "title": {
          "text": "no. of OPs"
         },
         "overlaying": "y",
         "side": "right",
         "tickmode": "array",
         "tickvals": [
          1,
          2,
          3,
          4,
          5,
          6,
          7,
          8,
          9,
          10
         ],
         "ticktext": [
          "2",
          "1",
          "1",
          "1",
          "1",
          "2",
          "1",
          "1",
          "1",
          "2"
         ],
         "automargin": false,
         "constrain": "domain"
        },
        "margin": {
         "l": 50,
         "r": 50,
         "t": 80,
         "b": 50
        },
        "autosize": false,
        "width": 500,
        "height": 500
       },
       "config": {
        "plotlyServerURL": "https://plot.ly"
       }
      },
      "text/html": [
       "<div>                            <div id=\"6ba682c4-5ca7-4d32-a849-4932252f2eb1\" class=\"plotly-graph-div\" style=\"height:500px; width:500px;\"></div>            <script type=\"text/javascript\">                require([\"plotly\"], function(Plotly) {                    window.PLOTLYENV=window.PLOTLYENV || {};                                    if (document.getElementById(\"6ba682c4-5ca7-4d32-a849-4932252f2eb1\")) {                    Plotly.newPlot(                        \"6ba682c4-5ca7-4d32-a849-4932252f2eb1\",                        [{\"coloraxis\":\"coloraxis\",\"name\":\"0\",\"x\":[1,2,3,4,5,6,7,8,9,10],\"y\":[1,2,3,4,5,6,7,8,9,10],\"z\":[[0.1109834106827025,0.03564095035460992,0.027295667648020938,0.09394079619981612,0.08852570445996777,0.023654089366124002,0.07450551729055259,0.0746597765244977,0.11649691846921797,0.05618795724465558],[0.06768461786124952,0.17835673555053277,0.24253308985925656,0.19993141776667858,0.15017719308001237,0.2541482037576078,0.20057621716068647,0.22259451780752718,0.20057621716068647,0.5712000465623863],[0.5575614397845324,0.5575614397845324,0.5028108322469983,0.4159552619130435,0.6206680638593244,0.26794575111415836,1.0175373348638896,0.4100232357723577,0.09302731169221522,0.20584499458843633],[0.2661614019236374,0.2393662293794187,0.08455514095180357,0.15382659746835445,0.08642463267359947,0.1256398594626513,0.3132163156654888,0.12961422475106685,0.1666797305670816,0.048941079574624125],[0.3049999028441983,0.357912960535757,0.060264992177850966,0.5034300715191479,0.6301811269809429,0.4298273393693412,0.42855802683229816,0.34675990733022805,0.5034300715191479,0.5404018646579402],[0.27607584266543267,0.02193281275258195,0.0770840329962746,0.06642930686456403,0.038787090749671196,0.05724000529976813,0.08895945866759679,0.08248636871098054,0.46081194615061005,0.10411377508825011],[0.447694925632507,0.44250405562047207,0.18801084761626208,0.26417850068399457,0.44250405562047207,0.6621382423937642,0.47093518200224976,0.6790656072389337,0.5280848159334646,0.24835119966111266],[0.5392044898785425,0.29829608335231156,0.27422389204412106,0.15074390002808197,0.0570598904352976,0.3346415553028149,0.48487096561252685,0.3260551433528519,0.4600032924400181,0.17714393780212698],[0.35206136069869,0.2939248089279675,0.2772994169410356,0.6565338856278365,0.5007121080612539,1.033663814273431,0.912720237216339,0.38735903385178405,0.3006511212954476,0.22293860589990055],[0.12388452240613645,0.11656296480822459,0.11797602048340844,0.1330009155946031,0.17505572403100775,0.06752222735790131,0.15570741868787275,0.11442131334552103,0.13753947504244482,0.13977262923274753]],\"xaxis\":\"x\",\"yaxis\":\"y\",\"hovertemplate\":\"i_map: %{y}\\u003cbr\\u003eposition: %{x}\\u003cbr\\u003eCSD score (AVs): %{z}***\\u003cextra\\u003e\\u003c\\u002fextra\\u003e\",\"showscale\":true,\"type\":\"heatmap\"}],                        {\"template\":{\"data\":{\"histogram2dcontour\":[{\"type\":\"histogram2dcontour\",\"colorbar\":{\"outlinewidth\":0,\"ticks\":\"\"},\"colorscale\":[[0.0,\"#0d0887\"],[0.1111111111111111,\"#46039f\"],[0.2222222222222222,\"#7201a8\"],[0.3333333333333333,\"#9c179e\"],[0.4444444444444444,\"#bd3786\"],[0.5555555555555556,\"#d8576b\"],[0.6666666666666666,\"#ed7953\"],[0.7777777777777778,\"#fb9f3a\"],[0.8888888888888888,\"#fdca26\"],[1.0,\"#f0f921\"]]}],\"choropleth\":[{\"type\":\"choropleth\",\"colorbar\":{\"outlinewidth\":0,\"ticks\":\"\"}}],\"histogram2d\":[{\"type\":\"histogram2d\",\"colorbar\":{\"outlinewidth\":0,\"ticks\":\"\"},\"colorscale\":[[0.0,\"#0d0887\"],[0.1111111111111111,\"#46039f\"],[0.2222222222222222,\"#7201a8\"],[0.3333333333333333,\"#9c179e\"],[0.4444444444444444,\"#bd3786\"],[0.5555555555555556,\"#d8576b\"],[0.6666666666666666,\"#ed7953\"],[0.7777777777777778,\"#fb9f3a\"],[0.8888888888888888,\"#fdca26\"],[1.0,\"#f0f921\"]]}],\"heatmap\":[{\"type\":\"heatmap\",\"colorbar\":{\"outlinewidth\":0,\"ticks\":\"\"},\"colorscale\":[[0.0,\"#0d0887\"],[0.1111111111111111,\"#46039f\"],[0.2222222222222222,\"#7201a8\"],[0.3333333333333333,\"#9c179e\"],[0.4444444444444444,\"#bd3786\"],[0.5555555555555556,\"#d8576b\"],[0.6666666666666666,\"#ed7953\"],[0.7777777777777778,\"#fb9f3a\"],[0.8888888888888888,\"#fdca26\"],[1.0,\"#f0f921\"]]}],\"heatmapgl\":[{\"type\":\"heatmapgl\",\"colorbar\":{\"outlinewidth\":0,\"ticks\":\"\"},\"colorscale\":[[0.0,\"#0d0887\"],[0.1111111111111111,\"#46039f\"],[0.2222222222222222,\"#7201a8\"],[0.3333333333333333,\"#9c179e\"],[0.4444444444444444,\"#bd3786\"],[0.5555555555555556,\"#d8576b\"],[0.6666666666666666,\"#ed7953\"],[0.7777777777777778,\"#fb9f3a\"],[0.8888888888888888,\"#fdca26\"],[1.0,\"#f0f921\"]]}],\"contourcarpet\":[{\"type\":\"contourcarpet\",\"colorbar\":{\"outlinewidth\":0,\"ticks\":\"\"}}],\"contour\":[{\"type\":\"contour\",\"colorbar\":{\"outlinewidth\":0,\"ticks\":\"\"},\"colorscale\":[[0.0,\"#0d0887\"],[0.1111111111111111,\"#46039f\"],[0.2222222222222222,\"#7201a8\"],[0.3333333333333333,\"#9c179e\"],[0.4444444444444444,\"#bd3786\"],[0.5555555555555556,\"#d8576b\"],[0.6666666666666666,\"#ed7953\"],[0.7777777777777778,\"#fb9f3a\"],[0.8888888888888888,\"#fdca26\"],[1.0,\"#f0f921\"]]}],\"surface\":[{\"type\":\"surface\",\"colorbar\":{\"outlinewidth\":0,\"ticks\":\"\"},\"colorscale\":[[0.0,\"#0d0887\"],[0.1111111111111111,\"#46039f\"],[0.2222222222222222,\"#7201a8\"],[0.3333333333333333,\"#9c179e\"],[0.4444444444444444,\"#bd3786\"],[0.5555555555555556,\"#d8576b\"],[0.6666666666666666,\"#ed7953\"],[0.7777777777777778,\"#fb9f3a\"],[0.8888888888888888,\"#fdca26\"],[1.0,\"#f0f921\"]]}],\"mesh3d\":[{\"type\":\"mesh3d\",\"colorbar\":{\"outlinewidth\":0,\"ticks\":\"\"}}],\"scatter\":[{\"marker\":{\"line\":{\"color\":\"#283442\"}},\"type\":\"scatter\"}],\"parcoords\":[{\"type\":\"parcoords\",\"line\":{\"colorbar\":{\"outlinewidth\":0,\"ticks\":\"\"}}}],\"scatterpolargl\":[{\"type\":\"scatterpolargl\",\"marker\":{\"colorbar\":{\"outlinewidth\":0,\"ticks\":\"\"}}}],\"bar\":[{\"error_x\":{\"color\":\"#f2f5fa\"},\"error_y\":{\"color\":\"#f2f5fa\"},\"marker\":{\"line\":{\"color\":\"rgb(17,17,17)\",\"width\":0.5},\"pattern\":{\"fillmode\":\"overlay\",\"size\":10,\"solidity\":0.2}},\"type\":\"bar\"}],\"scattergeo\":[{\"type\":\"scattergeo\",\"marker\":{\"colorbar\":{\"outlinewidth\":0,\"ticks\":\"\"}}}],\"scatterpolar\":[{\"type\":\"scatterpolar\",\"marker\":{\"colorbar\":{\"outlinewidth\":0,\"ticks\":\"\"}}}],\"histogram\":[{\"marker\":{\"pattern\":{\"fillmode\":\"overlay\",\"size\":10,\"solidity\":0.2}},\"type\":\"histogram\"}],\"scattergl\":[{\"marker\":{\"line\":{\"color\":\"#283442\"}},\"type\":\"scattergl\"}],\"scatter3d\":[{\"type\":\"scatter3d\",\"line\":{\"colorbar\":{\"outlinewidth\":0,\"ticks\":\"\"}},\"marker\":{\"colorbar\":{\"outlinewidth\":0,\"ticks\":\"\"}}}],\"scattermapbox\":[{\"type\":\"scattermapbox\",\"marker\":{\"colorbar\":{\"outlinewidth\":0,\"ticks\":\"\"}}}],\"scatterternary\":[{\"type\":\"scatterternary\",\"marker\":{\"colorbar\":{\"outlinewidth\":0,\"ticks\":\"\"}}}],\"scattercarpet\":[{\"type\":\"scattercarpet\",\"marker\":{\"colorbar\":{\"outlinewidth\":0,\"ticks\":\"\"}}}],\"carpet\":[{\"aaxis\":{\"endlinecolor\":\"#A2B1C6\",\"gridcolor\":\"#506784\",\"linecolor\":\"#506784\",\"minorgridcolor\":\"#506784\",\"startlinecolor\":\"#A2B1C6\"},\"baxis\":{\"endlinecolor\":\"#A2B1C6\",\"gridcolor\":\"#506784\",\"linecolor\":\"#506784\",\"minorgridcolor\":\"#506784\",\"startlinecolor\":\"#A2B1C6\"},\"type\":\"carpet\"}],\"table\":[{\"cells\":{\"fill\":{\"color\":\"#506784\"},\"line\":{\"color\":\"rgb(17,17,17)\"}},\"header\":{\"fill\":{\"color\":\"#2a3f5f\"},\"line\":{\"color\":\"rgb(17,17,17)\"}},\"type\":\"table\"}],\"barpolar\":[{\"marker\":{\"line\":{\"color\":\"rgb(17,17,17)\",\"width\":0.5},\"pattern\":{\"fillmode\":\"overlay\",\"size\":10,\"solidity\":0.2}},\"type\":\"barpolar\"}],\"pie\":[{\"automargin\":true,\"type\":\"pie\"}]},\"layout\":{\"autotypenumbers\":\"strict\",\"colorway\":[\"#636efa\",\"#EF553B\",\"#00cc96\",\"#ab63fa\",\"#FFA15A\",\"#19d3f3\",\"#FF6692\",\"#B6E880\",\"#FF97FF\",\"#FECB52\"],\"font\":{\"color\":\"#f2f5fa\"},\"hovermode\":\"closest\",\"hoverlabel\":{\"align\":\"left\"},\"paper_bgcolor\":\"rgb(17,17,17)\",\"plot_bgcolor\":\"rgb(17,17,17)\",\"polar\":{\"bgcolor\":\"rgb(17,17,17)\",\"angularaxis\":{\"gridcolor\":\"#506784\",\"linecolor\":\"#506784\",\"ticks\":\"\"},\"radialaxis\":{\"gridcolor\":\"#506784\",\"linecolor\":\"#506784\",\"ticks\":\"\"}},\"ternary\":{\"bgcolor\":\"rgb(17,17,17)\",\"aaxis\":{\"gridcolor\":\"#506784\",\"linecolor\":\"#506784\",\"ticks\":\"\"},\"baxis\":{\"gridcolor\":\"#506784\",\"linecolor\":\"#506784\",\"ticks\":\"\"},\"caxis\":{\"gridcolor\":\"#506784\",\"linecolor\":\"#506784\",\"ticks\":\"\"}},\"coloraxis\":{\"colorbar\":{\"outlinewidth\":0,\"ticks\":\"\"}},\"colorscale\":{\"sequential\":[[0.0,\"#0d0887\"],[0.1111111111111111,\"#46039f\"],[0.2222222222222222,\"#7201a8\"],[0.3333333333333333,\"#9c179e\"],[0.4444444444444444,\"#bd3786\"],[0.5555555555555556,\"#d8576b\"],[0.6666666666666666,\"#ed7953\"],[0.7777777777777778,\"#fb9f3a\"],[0.8888888888888888,\"#fdca26\"],[1.0,\"#f0f921\"]],\"sequentialminus\":[[0.0,\"#0d0887\"],[0.1111111111111111,\"#46039f\"],[0.2222222222222222,\"#7201a8\"],[0.3333333333333333,\"#9c179e\"],[0.4444444444444444,\"#bd3786\"],[0.5555555555555556,\"#d8576b\"],[0.6666666666666666,\"#ed7953\"],[0.7777777777777778,\"#fb9f3a\"],[0.8888888888888888,\"#fdca26\"],[1.0,\"#f0f921\"]],\"diverging\":[[0,\"#8e0152\"],[0.1,\"#c51b7d\"],[0.2,\"#de77ae\"],[0.3,\"#f1b6da\"],[0.4,\"#fde0ef\"],[0.5,\"#f7f7f7\"],[0.6,\"#e6f5d0\"],[0.7,\"#b8e186\"],[0.8,\"#7fbc41\"],[0.9,\"#4d9221\"],[1,\"#276419\"]]},\"xaxis\":{\"gridcolor\":\"#283442\",\"linecolor\":\"#506784\",\"ticks\":\"\",\"title\":{\"standoff\":15},\"zerolinecolor\":\"#283442\",\"automargin\":true,\"zerolinewidth\":2},\"yaxis\":{\"gridcolor\":\"#283442\",\"linecolor\":\"#506784\",\"ticks\":\"\",\"title\":{\"standoff\":15},\"zerolinecolor\":\"#283442\",\"automargin\":true,\"zerolinewidth\":2},\"scene\":{\"xaxis\":{\"backgroundcolor\":\"rgb(17,17,17)\",\"gridcolor\":\"#506784\",\"linecolor\":\"#506784\",\"showbackground\":true,\"ticks\":\"\",\"zerolinecolor\":\"#C8D4E3\",\"gridwidth\":2},\"yaxis\":{\"backgroundcolor\":\"rgb(17,17,17)\",\"gridcolor\":\"#506784\",\"linecolor\":\"#506784\",\"showbackground\":true,\"ticks\":\"\",\"zerolinecolor\":\"#C8D4E3\",\"gridwidth\":2},\"zaxis\":{\"backgroundcolor\":\"rgb(17,17,17)\",\"gridcolor\":\"#506784\",\"linecolor\":\"#506784\",\"showbackground\":true,\"ticks\":\"\",\"zerolinecolor\":\"#C8D4E3\",\"gridwidth\":2}},\"shapedefaults\":{\"line\":{\"color\":\"#f2f5fa\"}},\"annotationdefaults\":{\"arrowcolor\":\"#f2f5fa\",\"arrowhead\":0,\"arrowwidth\":1},\"geo\":{\"bgcolor\":\"rgb(17,17,17)\",\"landcolor\":\"rgb(17,17,17)\",\"subunitcolor\":\"#506784\",\"showland\":true,\"showlakes\":true,\"lakecolor\":\"rgb(17,17,17)\"},\"title\":{\"x\":0.05},\"updatemenudefaults\":{\"bgcolor\":\"#506784\",\"borderwidth\":0},\"sliderdefaults\":{\"bgcolor\":\"#C8D4E3\",\"borderwidth\":1,\"bordercolor\":\"rgb(17,17,17)\",\"tickwidth\":0},\"mapbox\":{\"style\":\"dark\"}}},\"xaxis\":{\"anchor\":\"y\",\"domain\":[0.0,1.0],\"scaleanchor\":\"y\",\"constrain\":\"domain\",\"title\":{\"text\":\"position\"},\"tickmode\":\"array\",\"tickvals\":[1,2,3,4,5,6,7,8,9,10],\"ticktext\":[\"1\",\"2\",\"3\",\"4\",\"5\",\"6\",\"7\",\"8\",\"9\",\"10\"],\"automargin\":false},\"yaxis\":{\"anchor\":\"x\",\"domain\":[0.0,1.0],\"autorange\":\"reversed\",\"constrain\":\"domain\",\"title\":{\"text\":\"i_map (L)\",\"standoff\":0.0},\"tickmode\":\"array\",\"tickvals\":[1,2,3,4,5,6,7,8,9,10],\"ticktext\":[\"1L\",\"2L\",\"3L\",\"4L\",\"5L\",\"6L\",\"7L\",\"8L\",\"9L\",\"10L\"],\"automargin\":false},\"coloraxis\":{\"colorbar\":{\"title\":{\"text\":\"POD score\",\"font\":{\"size\":16},\"side\":\"top\"},\"x\":-0.3,\"thickness\":10,\"len\":1.1},\"colorscale\":[[0.0,\"rgb(255,255,255)\"],[0.125,\"rgb(240,240,240)\"],[0.25,\"rgb(217,217,217)\"],[0.375,\"rgb(189,189,189)\"],[0.5,\"rgb(150,150,150)\"],[0.625,\"rgb(115,115,115)\"],[0.75,\"rgb(82,82,82)\"],[0.875,\"rgb(37,37,37)\"],[1.0,\"rgb(0,0,0)\"]]},\"title\":{\"text\":\"Maps with low connectivity\",\"x\":0.57,\"y\":0.85,\"xanchor\":\"center\",\"yanchor\":\"top\"},\"yaxis2\":{\"title\":{\"text\":\"no. of OPs\"},\"overlaying\":\"y\",\"side\":\"right\",\"tickmode\":\"array\",\"tickvals\":[1,2,3,4,5,6,7,8,9,10],\"ticktext\":[\"2\",\"1\",\"1\",\"1\",\"1\",\"2\",\"1\",\"1\",\"1\",\"2\"],\"automargin\":false,\"constrain\":\"domain\"},\"margin\":{\"l\":50,\"r\":50,\"t\":80,\"b\":50},\"autosize\":false,\"width\":500,\"height\":500},                        {\"responsive\": true}                    ).then(function(){\n",
       "                            \n",
       "var gd = document.getElementById('6ba682c4-5ca7-4d32-a849-4932252f2eb1');\n",
       "var x = new MutationObserver(function (mutations, observer) {{\n",
       "        var display = window.getComputedStyle(gd).display;\n",
       "        if (!display || display === 'none') {{\n",
       "            console.log([gd, 'removed!']);\n",
       "            Plotly.purge(gd);\n",
       "            observer.disconnect();\n",
       "        }}\n",
       "}});\n",
       "\n",
       "// Listen for the removal of the full notebook cells\n",
       "var notebookContainer = gd.closest('#notebook-container');\n",
       "if (notebookContainer) {{\n",
       "    x.observe(notebookContainer, {childList: true});\n",
       "}}\n",
       "\n",
       "// Listen for the clearing of the current output cell\n",
       "var outputEl = gd.closest('.output');\n",
       "if (outputEl) {{\n",
       "    x.observe(outputEl, {childList: true});\n",
       "}}\n",
       "\n",
       "                        })                };                });            </script>        </div>"
      ]
     },
     "metadata": {},
     "output_type": "display_data"
    },
    {
     "data": {
      "application/vnd.plotly.v1+json": {
       "data": [
        {
         "coloraxis": "coloraxis",
         "name": "0",
         "x": [
          1,
          2,
          3,
          4,
          5,
          6,
          7,
          8,
          9,
          10
         ],
         "y": [
          1,
          2,
          3,
          4,
          5,
          6,
          7,
          8,
          9,
          10
         ],
         "z": [
          [
           0.07563212965009208,
           0.027200214726840855,
           0.3003034764964491,
           0.0664841427230047,
           0.06969988907376595,
           0.014969698339809254,
           0.06755066109698511,
           0.0652898637814828,
           0.046284624232272475,
           0.02580479685194294
          ],
          [
           0.04501250295624754,
           0.17875841782370036,
           0.22547454584994564,
           0.14046143172616854,
           0.10177919085934985,
           0.6236841273954117,
           0.1765291782650143,
           0.5840286654703921,
           0.1765291782650143,
           0.41864713176558416
          ],
          [
           0.35181547326095697,
           0.35181547326095697,
           0.32709482428115016,
           0.3337383079671311,
           0.6634171344578313,
           0.2224625088265836,
           0.6524519093676023,
           0.3396094591401379,
           0.07119316508422664,
           0.1819961434770032
          ],
          [
           0.19185685103821848,
           0.8052728511318242,
           0.08355213770094025,
           0.11210231637103808,
           0.26973300660869565,
           0.10615586258625863,
           0.2318073151827324,
           0.07999498734922036,
           0.12393531415551125,
           0.04966528984976182
          ],
          [
           0.29332530852948624,
           0.296408373006135,
           0.39336394895789023,
           0.4670319023387304,
           0.9991170099331037,
           0.4037924128294697,
           0.2971057091190907,
           0.2870492151962009,
           0.4670319023387304,
           0.45829825780258815
          ],
          [
           0.38026640605173256,
           0.019293206507004064,
           0.0763229568919638,
           0.0636090771524413,
           0.021736389995368227,
           0.05500906883937479,
           0.07615342502658631,
           0.07923244747511979,
           0.33337746244029526,
           0.04967827514330381
          ],
          [
           0.34285232973400054,
           0.2995831992197025,
           0.09761060080271688,
           0.2031252742163231,
           0.2995831992197025,
           1.0272341281045752,
           0.3056210990734141,
           0.6986001993455827,
           0.2914085835434334,
           0.5712678954923915
          ],
          [
           0.5325219597934341,
           0.3322531841034235,
           0.33979414094123384,
           0.1302728101918122,
           0.25092630026650875,
           0.2949532724594993,
           0.47745820209166406,
           0.6372298755394049,
           0.4563308149659864,
           0.17117814118792601
          ],
          [
           0.6929237152219243,
           0.2924624315898857,
           0.2781140520802155,
           0.45559077313525215,
           0.4979254512301013,
           1.0295926507750803,
           0.9107276161065699,
           0.38834012633506265,
           0.25042516548097743,
           0.2007233894597282
          ],
          [
           0.0948847303323517,
           0.06992442219440967,
           0.09169195322650499,
           0.059412088306312526,
           0.44866752617662614,
           0.06726874921036007,
           0.08634346834381551,
           0.08088753189882975,
           0.10382524078539442,
           0.08975126534216335
          ]
         ],
         "xaxis": "x",
         "yaxis": "y",
         "hovertemplate": "i_map: %{y}<br>position: %{x}<br>CSD score (AVs): %{z}***<extra></extra>",
         "showscale": true,
         "type": "heatmap"
        }
       ],
       "layout": {
        "template": {
         "data": {
          "histogram2dcontour": [
           {
            "type": "histogram2dcontour",
            "colorbar": {
             "outlinewidth": 0,
             "ticks": ""
            },
            "colorscale": [
             [
              0.0,
              "#0d0887"
             ],
             [
              0.1111111111111111,
              "#46039f"
             ],
             [
              0.2222222222222222,
              "#7201a8"
             ],
             [
              0.3333333333333333,
              "#9c179e"
             ],
             [
              0.4444444444444444,
              "#bd3786"
             ],
             [
              0.5555555555555556,
              "#d8576b"
             ],
             [
              0.6666666666666666,
              "#ed7953"
             ],
             [
              0.7777777777777778,
              "#fb9f3a"
             ],
             [
              0.8888888888888888,
              "#fdca26"
             ],
             [
              1.0,
              "#f0f921"
             ]
            ]
           }
          ],
          "choropleth": [
           {
            "type": "choropleth",
            "colorbar": {
             "outlinewidth": 0,
             "ticks": ""
            }
           }
          ],
          "histogram2d": [
           {
            "type": "histogram2d",
            "colorbar": {
             "outlinewidth": 0,
             "ticks": ""
            },
            "colorscale": [
             [
              0.0,
              "#0d0887"
             ],
             [
              0.1111111111111111,
              "#46039f"
             ],
             [
              0.2222222222222222,
              "#7201a8"
             ],
             [
              0.3333333333333333,
              "#9c179e"
             ],
             [
              0.4444444444444444,
              "#bd3786"
             ],
             [
              0.5555555555555556,
              "#d8576b"
             ],
             [
              0.6666666666666666,
              "#ed7953"
             ],
             [
              0.7777777777777778,
              "#fb9f3a"
             ],
             [
              0.8888888888888888,
              "#fdca26"
             ],
             [
              1.0,
              "#f0f921"
             ]
            ]
           }
          ],
          "heatmap": [
           {
            "type": "heatmap",
            "colorbar": {
             "outlinewidth": 0,
             "ticks": ""
            },
            "colorscale": [
             [
              0.0,
              "#0d0887"
             ],
             [
              0.1111111111111111,
              "#46039f"
             ],
             [
              0.2222222222222222,
              "#7201a8"
             ],
             [
              0.3333333333333333,
              "#9c179e"
             ],
             [
              0.4444444444444444,
              "#bd3786"
             ],
             [
              0.5555555555555556,
              "#d8576b"
             ],
             [
              0.6666666666666666,
              "#ed7953"
             ],
             [
              0.7777777777777778,
              "#fb9f3a"
             ],
             [
              0.8888888888888888,
              "#fdca26"
             ],
             [
              1.0,
              "#f0f921"
             ]
            ]
           }
          ],
          "heatmapgl": [
           {
            "type": "heatmapgl",
            "colorbar": {
             "outlinewidth": 0,
             "ticks": ""
            },
            "colorscale": [
             [
              0.0,
              "#0d0887"
             ],
             [
              0.1111111111111111,
              "#46039f"
             ],
             [
              0.2222222222222222,
              "#7201a8"
             ],
             [
              0.3333333333333333,
              "#9c179e"
             ],
             [
              0.4444444444444444,
              "#bd3786"
             ],
             [
              0.5555555555555556,
              "#d8576b"
             ],
             [
              0.6666666666666666,
              "#ed7953"
             ],
             [
              0.7777777777777778,
              "#fb9f3a"
             ],
             [
              0.8888888888888888,
              "#fdca26"
             ],
             [
              1.0,
              "#f0f921"
             ]
            ]
           }
          ],
          "contourcarpet": [
           {
            "type": "contourcarpet",
            "colorbar": {
             "outlinewidth": 0,
             "ticks": ""
            }
           }
          ],
          "contour": [
           {
            "type": "contour",
            "colorbar": {
             "outlinewidth": 0,
             "ticks": ""
            },
            "colorscale": [
             [
              0.0,
              "#0d0887"
             ],
             [
              0.1111111111111111,
              "#46039f"
             ],
             [
              0.2222222222222222,
              "#7201a8"
             ],
             [
              0.3333333333333333,
              "#9c179e"
             ],
             [
              0.4444444444444444,
              "#bd3786"
             ],
             [
              0.5555555555555556,
              "#d8576b"
             ],
             [
              0.6666666666666666,
              "#ed7953"
             ],
             [
              0.7777777777777778,
              "#fb9f3a"
             ],
             [
              0.8888888888888888,
              "#fdca26"
             ],
             [
              1.0,
              "#f0f921"
             ]
            ]
           }
          ],
          "surface": [
           {
            "type": "surface",
            "colorbar": {
             "outlinewidth": 0,
             "ticks": ""
            },
            "colorscale": [
             [
              0.0,
              "#0d0887"
             ],
             [
              0.1111111111111111,
              "#46039f"
             ],
             [
              0.2222222222222222,
              "#7201a8"
             ],
             [
              0.3333333333333333,
              "#9c179e"
             ],
             [
              0.4444444444444444,
              "#bd3786"
             ],
             [
              0.5555555555555556,
              "#d8576b"
             ],
             [
              0.6666666666666666,
              "#ed7953"
             ],
             [
              0.7777777777777778,
              "#fb9f3a"
             ],
             [
              0.8888888888888888,
              "#fdca26"
             ],
             [
              1.0,
              "#f0f921"
             ]
            ]
           }
          ],
          "mesh3d": [
           {
            "type": "mesh3d",
            "colorbar": {
             "outlinewidth": 0,
             "ticks": ""
            }
           }
          ],
          "scatter": [
           {
            "marker": {
             "line": {
              "color": "#283442"
             }
            },
            "type": "scatter"
           }
          ],
          "parcoords": [
           {
            "type": "parcoords",
            "line": {
             "colorbar": {
              "outlinewidth": 0,
              "ticks": ""
             }
            }
           }
          ],
          "scatterpolargl": [
           {
            "type": "scatterpolargl",
            "marker": {
             "colorbar": {
              "outlinewidth": 0,
              "ticks": ""
             }
            }
           }
          ],
          "bar": [
           {
            "error_x": {
             "color": "#f2f5fa"
            },
            "error_y": {
             "color": "#f2f5fa"
            },
            "marker": {
             "line": {
              "color": "rgb(17,17,17)",
              "width": 0.5
             },
             "pattern": {
              "fillmode": "overlay",
              "size": 10,
              "solidity": 0.2
             }
            },
            "type": "bar"
           }
          ],
          "scattergeo": [
           {
            "type": "scattergeo",
            "marker": {
             "colorbar": {
              "outlinewidth": 0,
              "ticks": ""
             }
            }
           }
          ],
          "scatterpolar": [
           {
            "type": "scatterpolar",
            "marker": {
             "colorbar": {
              "outlinewidth": 0,
              "ticks": ""
             }
            }
           }
          ],
          "histogram": [
           {
            "marker": {
             "pattern": {
              "fillmode": "overlay",
              "size": 10,
              "solidity": 0.2
             }
            },
            "type": "histogram"
           }
          ],
          "scattergl": [
           {
            "marker": {
             "line": {
              "color": "#283442"
             }
            },
            "type": "scattergl"
           }
          ],
          "scatter3d": [
           {
            "type": "scatter3d",
            "line": {
             "colorbar": {
              "outlinewidth": 0,
              "ticks": ""
             }
            },
            "marker": {
             "colorbar": {
              "outlinewidth": 0,
              "ticks": ""
             }
            }
           }
          ],
          "scattermapbox": [
           {
            "type": "scattermapbox",
            "marker": {
             "colorbar": {
              "outlinewidth": 0,
              "ticks": ""
             }
            }
           }
          ],
          "scatterternary": [
           {
            "type": "scatterternary",
            "marker": {
             "colorbar": {
              "outlinewidth": 0,
              "ticks": ""
             }
            }
           }
          ],
          "scattercarpet": [
           {
            "type": "scattercarpet",
            "marker": {
             "colorbar": {
              "outlinewidth": 0,
              "ticks": ""
             }
            }
           }
          ],
          "carpet": [
           {
            "aaxis": {
             "endlinecolor": "#A2B1C6",
             "gridcolor": "#506784",
             "linecolor": "#506784",
             "minorgridcolor": "#506784",
             "startlinecolor": "#A2B1C6"
            },
            "baxis": {
             "endlinecolor": "#A2B1C6",
             "gridcolor": "#506784",
             "linecolor": "#506784",
             "minorgridcolor": "#506784",
             "startlinecolor": "#A2B1C6"
            },
            "type": "carpet"
           }
          ],
          "table": [
           {
            "cells": {
             "fill": {
              "color": "#506784"
             },
             "line": {
              "color": "rgb(17,17,17)"
             }
            },
            "header": {
             "fill": {
              "color": "#2a3f5f"
             },
             "line": {
              "color": "rgb(17,17,17)"
             }
            },
            "type": "table"
           }
          ],
          "barpolar": [
           {
            "marker": {
             "line": {
              "color": "rgb(17,17,17)",
              "width": 0.5
             },
             "pattern": {
              "fillmode": "overlay",
              "size": 10,
              "solidity": 0.2
             }
            },
            "type": "barpolar"
           }
          ],
          "pie": [
           {
            "automargin": true,
            "type": "pie"
           }
          ]
         },
         "layout": {
          "autotypenumbers": "strict",
          "colorway": [
           "#636efa",
           "#EF553B",
           "#00cc96",
           "#ab63fa",
           "#FFA15A",
           "#19d3f3",
           "#FF6692",
           "#B6E880",
           "#FF97FF",
           "#FECB52"
          ],
          "font": {
           "color": "#f2f5fa"
          },
          "hovermode": "closest",
          "hoverlabel": {
           "align": "left"
          },
          "paper_bgcolor": "rgb(17,17,17)",
          "plot_bgcolor": "rgb(17,17,17)",
          "polar": {
           "bgcolor": "rgb(17,17,17)",
           "angularaxis": {
            "gridcolor": "#506784",
            "linecolor": "#506784",
            "ticks": ""
           },
           "radialaxis": {
            "gridcolor": "#506784",
            "linecolor": "#506784",
            "ticks": ""
           }
          },
          "ternary": {
           "bgcolor": "rgb(17,17,17)",
           "aaxis": {
            "gridcolor": "#506784",
            "linecolor": "#506784",
            "ticks": ""
           },
           "baxis": {
            "gridcolor": "#506784",
            "linecolor": "#506784",
            "ticks": ""
           },
           "caxis": {
            "gridcolor": "#506784",
            "linecolor": "#506784",
            "ticks": ""
           }
          },
          "coloraxis": {
           "colorbar": {
            "outlinewidth": 0,
            "ticks": ""
           }
          },
          "colorscale": {
           "sequential": [
            [
             0.0,
             "#0d0887"
            ],
            [
             0.1111111111111111,
             "#46039f"
            ],
            [
             0.2222222222222222,
             "#7201a8"
            ],
            [
             0.3333333333333333,
             "#9c179e"
            ],
            [
             0.4444444444444444,
             "#bd3786"
            ],
            [
             0.5555555555555556,
             "#d8576b"
            ],
            [
             0.6666666666666666,
             "#ed7953"
            ],
            [
             0.7777777777777778,
             "#fb9f3a"
            ],
            [
             0.8888888888888888,
             "#fdca26"
            ],
            [
             1.0,
             "#f0f921"
            ]
           ],
           "sequentialminus": [
            [
             0.0,
             "#0d0887"
            ],
            [
             0.1111111111111111,
             "#46039f"
            ],
            [
             0.2222222222222222,
             "#7201a8"
            ],
            [
             0.3333333333333333,
             "#9c179e"
            ],
            [
             0.4444444444444444,
             "#bd3786"
            ],
            [
             0.5555555555555556,
             "#d8576b"
            ],
            [
             0.6666666666666666,
             "#ed7953"
            ],
            [
             0.7777777777777778,
             "#fb9f3a"
            ],
            [
             0.8888888888888888,
             "#fdca26"
            ],
            [
             1.0,
             "#f0f921"
            ]
           ],
           "diverging": [
            [
             0,
             "#8e0152"
            ],
            [
             0.1,
             "#c51b7d"
            ],
            [
             0.2,
             "#de77ae"
            ],
            [
             0.3,
             "#f1b6da"
            ],
            [
             0.4,
             "#fde0ef"
            ],
            [
             0.5,
             "#f7f7f7"
            ],
            [
             0.6,
             "#e6f5d0"
            ],
            [
             0.7,
             "#b8e186"
            ],
            [
             0.8,
             "#7fbc41"
            ],
            [
             0.9,
             "#4d9221"
            ],
            [
             1,
             "#276419"
            ]
           ]
          },
          "xaxis": {
           "gridcolor": "#283442",
           "linecolor": "#506784",
           "ticks": "",
           "title": {
            "standoff": 15
           },
           "zerolinecolor": "#283442",
           "automargin": true,
           "zerolinewidth": 2
          },
          "yaxis": {
           "gridcolor": "#283442",
           "linecolor": "#506784",
           "ticks": "",
           "title": {
            "standoff": 15
           },
           "zerolinecolor": "#283442",
           "automargin": true,
           "zerolinewidth": 2
          },
          "scene": {
           "xaxis": {
            "backgroundcolor": "rgb(17,17,17)",
            "gridcolor": "#506784",
            "linecolor": "#506784",
            "showbackground": true,
            "ticks": "",
            "zerolinecolor": "#C8D4E3",
            "gridwidth": 2
           },
           "yaxis": {
            "backgroundcolor": "rgb(17,17,17)",
            "gridcolor": "#506784",
            "linecolor": "#506784",
            "showbackground": true,
            "ticks": "",
            "zerolinecolor": "#C8D4E3",
            "gridwidth": 2
           },
           "zaxis": {
            "backgroundcolor": "rgb(17,17,17)",
            "gridcolor": "#506784",
            "linecolor": "#506784",
            "showbackground": true,
            "ticks": "",
            "zerolinecolor": "#C8D4E3",
            "gridwidth": 2
           }
          },
          "shapedefaults": {
           "line": {
            "color": "#f2f5fa"
           }
          },
          "annotationdefaults": {
           "arrowcolor": "#f2f5fa",
           "arrowhead": 0,
           "arrowwidth": 1
          },
          "geo": {
           "bgcolor": "rgb(17,17,17)",
           "landcolor": "rgb(17,17,17)",
           "subunitcolor": "#506784",
           "showland": true,
           "showlakes": true,
           "lakecolor": "rgb(17,17,17)"
          },
          "title": {
           "x": 0.05
          },
          "updatemenudefaults": {
           "bgcolor": "#506784",
           "borderwidth": 0
          },
          "sliderdefaults": {
           "bgcolor": "#C8D4E3",
           "borderwidth": 1,
           "bordercolor": "rgb(17,17,17)",
           "tickwidth": 0
          },
          "mapbox": {
           "style": "dark"
          }
         }
        },
        "xaxis": {
         "anchor": "y",
         "domain": [
          0.0,
          1.0
         ],
         "scaleanchor": "y",
         "constrain": "domain",
         "title": {
          "text": "position"
         },
         "tickmode": "array",
         "tickvals": [
          1,
          2,
          3,
          4,
          5,
          6,
          7,
          8,
          9,
          10
         ],
         "ticktext": [
          "1",
          "2",
          "3",
          "4",
          "5",
          "6",
          "7",
          "8",
          "9",
          "10"
         ],
         "automargin": false
        },
        "yaxis": {
         "anchor": "x",
         "domain": [
          0.0,
          1.0
         ],
         "autorange": "reversed",
         "constrain": "domain",
         "title": {
          "text": "i_map (H)",
          "standoff": 0.0
         },
         "tickmode": "array",
         "tickvals": [
          1,
          2,
          3,
          4,
          5,
          6,
          7,
          8,
          9,
          10
         ],
         "ticktext": [
          "1H",
          "2H",
          "3H",
          "4H",
          "5H",
          "6H",
          "7H",
          "8H",
          "9H",
          "10H"
         ],
         "automargin": false
        },
        "coloraxis": {
         "colorbar": {
          "title": {
           "text": "POD score",
           "font": {
            "size": 16
           },
           "side": "top"
          },
          "x": -0.3,
          "thickness": 10,
          "len": 1.1
         },
         "colorscale": [
          [
           0.0,
           "rgb(255,255,255)"
          ],
          [
           0.125,
           "rgb(240,240,240)"
          ],
          [
           0.25,
           "rgb(217,217,217)"
          ],
          [
           0.375,
           "rgb(189,189,189)"
          ],
          [
           0.5,
           "rgb(150,150,150)"
          ],
          [
           0.625,
           "rgb(115,115,115)"
          ],
          [
           0.75,
           "rgb(82,82,82)"
          ],
          [
           0.875,
           "rgb(37,37,37)"
          ],
          [
           1.0,
           "rgb(0,0,0)"
          ]
         ]
        },
        "title": {
         "text": "Maps with high connectivity",
         "x": 0.57,
         "y": 0.85,
         "xanchor": "center",
         "yanchor": "top"
        },
        "yaxis2": {
         "title": {
          "text": "no. of OPs"
         },
         "overlaying": "y",
         "side": "right",
         "tickmode": "array",
         "tickvals": [
          1,
          2,
          3,
          4,
          5,
          6,
          7,
          8,
          9,
          10
         ],
         "ticktext": [
          "2",
          "1",
          "1",
          "1",
          "1",
          "2",
          "1",
          "1",
          "1",
          "2"
         ],
         "automargin": false,
         "constrain": "domain"
        },
        "margin": {
         "l": 50,
         "r": 50,
         "t": 80,
         "b": 50
        },
        "autosize": false,
        "width": 500,
        "height": 500
       },
       "config": {
        "plotlyServerURL": "https://plot.ly"
       }
      },
      "text/html": [
       "<div>                            <div id=\"7506985a-b0c2-43ef-b809-6c9d9414553e\" class=\"plotly-graph-div\" style=\"height:500px; width:500px;\"></div>            <script type=\"text/javascript\">                require([\"plotly\"], function(Plotly) {                    window.PLOTLYENV=window.PLOTLYENV || {};                                    if (document.getElementById(\"7506985a-b0c2-43ef-b809-6c9d9414553e\")) {                    Plotly.newPlot(                        \"7506985a-b0c2-43ef-b809-6c9d9414553e\",                        [{\"coloraxis\":\"coloraxis\",\"name\":\"0\",\"x\":[1,2,3,4,5,6,7,8,9,10],\"y\":[1,2,3,4,5,6,7,8,9,10],\"z\":[[0.07563212965009208,0.027200214726840855,0.3003034764964491,0.0664841427230047,0.06969988907376595,0.014969698339809254,0.06755066109698511,0.0652898637814828,0.046284624232272475,0.02580479685194294],[0.04501250295624754,0.17875841782370036,0.22547454584994564,0.14046143172616854,0.10177919085934985,0.6236841273954117,0.1765291782650143,0.5840286654703921,0.1765291782650143,0.41864713176558416],[0.35181547326095697,0.35181547326095697,0.32709482428115016,0.3337383079671311,0.6634171344578313,0.2224625088265836,0.6524519093676023,0.3396094591401379,0.07119316508422664,0.1819961434770032],[0.19185685103821848,0.8052728511318242,0.08355213770094025,0.11210231637103808,0.26973300660869565,0.10615586258625863,0.2318073151827324,0.07999498734922036,0.12393531415551125,0.04966528984976182],[0.29332530852948624,0.296408373006135,0.39336394895789023,0.4670319023387304,0.9991170099331037,0.4037924128294697,0.2971057091190907,0.2870492151962009,0.4670319023387304,0.45829825780258815],[0.38026640605173256,0.019293206507004064,0.0763229568919638,0.0636090771524413,0.021736389995368227,0.05500906883937479,0.07615342502658631,0.07923244747511979,0.33337746244029526,0.04967827514330381],[0.34285232973400054,0.2995831992197025,0.09761060080271688,0.2031252742163231,0.2995831992197025,1.0272341281045752,0.3056210990734141,0.6986001993455827,0.2914085835434334,0.5712678954923915],[0.5325219597934341,0.3322531841034235,0.33979414094123384,0.1302728101918122,0.25092630026650875,0.2949532724594993,0.47745820209166406,0.6372298755394049,0.4563308149659864,0.17117814118792601],[0.6929237152219243,0.2924624315898857,0.2781140520802155,0.45559077313525215,0.4979254512301013,1.0295926507750803,0.9107276161065699,0.38834012633506265,0.25042516548097743,0.2007233894597282],[0.0948847303323517,0.06992442219440967,0.09169195322650499,0.059412088306312526,0.44866752617662614,0.06726874921036007,0.08634346834381551,0.08088753189882975,0.10382524078539442,0.08975126534216335]],\"xaxis\":\"x\",\"yaxis\":\"y\",\"hovertemplate\":\"i_map: %{y}\\u003cbr\\u003eposition: %{x}\\u003cbr\\u003eCSD score (AVs): %{z}***\\u003cextra\\u003e\\u003c\\u002fextra\\u003e\",\"showscale\":true,\"type\":\"heatmap\"}],                        {\"template\":{\"data\":{\"histogram2dcontour\":[{\"type\":\"histogram2dcontour\",\"colorbar\":{\"outlinewidth\":0,\"ticks\":\"\"},\"colorscale\":[[0.0,\"#0d0887\"],[0.1111111111111111,\"#46039f\"],[0.2222222222222222,\"#7201a8\"],[0.3333333333333333,\"#9c179e\"],[0.4444444444444444,\"#bd3786\"],[0.5555555555555556,\"#d8576b\"],[0.6666666666666666,\"#ed7953\"],[0.7777777777777778,\"#fb9f3a\"],[0.8888888888888888,\"#fdca26\"],[1.0,\"#f0f921\"]]}],\"choropleth\":[{\"type\":\"choropleth\",\"colorbar\":{\"outlinewidth\":0,\"ticks\":\"\"}}],\"histogram2d\":[{\"type\":\"histogram2d\",\"colorbar\":{\"outlinewidth\":0,\"ticks\":\"\"},\"colorscale\":[[0.0,\"#0d0887\"],[0.1111111111111111,\"#46039f\"],[0.2222222222222222,\"#7201a8\"],[0.3333333333333333,\"#9c179e\"],[0.4444444444444444,\"#bd3786\"],[0.5555555555555556,\"#d8576b\"],[0.6666666666666666,\"#ed7953\"],[0.7777777777777778,\"#fb9f3a\"],[0.8888888888888888,\"#fdca26\"],[1.0,\"#f0f921\"]]}],\"heatmap\":[{\"type\":\"heatmap\",\"colorbar\":{\"outlinewidth\":0,\"ticks\":\"\"},\"colorscale\":[[0.0,\"#0d0887\"],[0.1111111111111111,\"#46039f\"],[0.2222222222222222,\"#7201a8\"],[0.3333333333333333,\"#9c179e\"],[0.4444444444444444,\"#bd3786\"],[0.5555555555555556,\"#d8576b\"],[0.6666666666666666,\"#ed7953\"],[0.7777777777777778,\"#fb9f3a\"],[0.8888888888888888,\"#fdca26\"],[1.0,\"#f0f921\"]]}],\"heatmapgl\":[{\"type\":\"heatmapgl\",\"colorbar\":{\"outlinewidth\":0,\"ticks\":\"\"},\"colorscale\":[[0.0,\"#0d0887\"],[0.1111111111111111,\"#46039f\"],[0.2222222222222222,\"#7201a8\"],[0.3333333333333333,\"#9c179e\"],[0.4444444444444444,\"#bd3786\"],[0.5555555555555556,\"#d8576b\"],[0.6666666666666666,\"#ed7953\"],[0.7777777777777778,\"#fb9f3a\"],[0.8888888888888888,\"#fdca26\"],[1.0,\"#f0f921\"]]}],\"contourcarpet\":[{\"type\":\"contourcarpet\",\"colorbar\":{\"outlinewidth\":0,\"ticks\":\"\"}}],\"contour\":[{\"type\":\"contour\",\"colorbar\":{\"outlinewidth\":0,\"ticks\":\"\"},\"colorscale\":[[0.0,\"#0d0887\"],[0.1111111111111111,\"#46039f\"],[0.2222222222222222,\"#7201a8\"],[0.3333333333333333,\"#9c179e\"],[0.4444444444444444,\"#bd3786\"],[0.5555555555555556,\"#d8576b\"],[0.6666666666666666,\"#ed7953\"],[0.7777777777777778,\"#fb9f3a\"],[0.8888888888888888,\"#fdca26\"],[1.0,\"#f0f921\"]]}],\"surface\":[{\"type\":\"surface\",\"colorbar\":{\"outlinewidth\":0,\"ticks\":\"\"},\"colorscale\":[[0.0,\"#0d0887\"],[0.1111111111111111,\"#46039f\"],[0.2222222222222222,\"#7201a8\"],[0.3333333333333333,\"#9c179e\"],[0.4444444444444444,\"#bd3786\"],[0.5555555555555556,\"#d8576b\"],[0.6666666666666666,\"#ed7953\"],[0.7777777777777778,\"#fb9f3a\"],[0.8888888888888888,\"#fdca26\"],[1.0,\"#f0f921\"]]}],\"mesh3d\":[{\"type\":\"mesh3d\",\"colorbar\":{\"outlinewidth\":0,\"ticks\":\"\"}}],\"scatter\":[{\"marker\":{\"line\":{\"color\":\"#283442\"}},\"type\":\"scatter\"}],\"parcoords\":[{\"type\":\"parcoords\",\"line\":{\"colorbar\":{\"outlinewidth\":0,\"ticks\":\"\"}}}],\"scatterpolargl\":[{\"type\":\"scatterpolargl\",\"marker\":{\"colorbar\":{\"outlinewidth\":0,\"ticks\":\"\"}}}],\"bar\":[{\"error_x\":{\"color\":\"#f2f5fa\"},\"error_y\":{\"color\":\"#f2f5fa\"},\"marker\":{\"line\":{\"color\":\"rgb(17,17,17)\",\"width\":0.5},\"pattern\":{\"fillmode\":\"overlay\",\"size\":10,\"solidity\":0.2}},\"type\":\"bar\"}],\"scattergeo\":[{\"type\":\"scattergeo\",\"marker\":{\"colorbar\":{\"outlinewidth\":0,\"ticks\":\"\"}}}],\"scatterpolar\":[{\"type\":\"scatterpolar\",\"marker\":{\"colorbar\":{\"outlinewidth\":0,\"ticks\":\"\"}}}],\"histogram\":[{\"marker\":{\"pattern\":{\"fillmode\":\"overlay\",\"size\":10,\"solidity\":0.2}},\"type\":\"histogram\"}],\"scattergl\":[{\"marker\":{\"line\":{\"color\":\"#283442\"}},\"type\":\"scattergl\"}],\"scatter3d\":[{\"type\":\"scatter3d\",\"line\":{\"colorbar\":{\"outlinewidth\":0,\"ticks\":\"\"}},\"marker\":{\"colorbar\":{\"outlinewidth\":0,\"ticks\":\"\"}}}],\"scattermapbox\":[{\"type\":\"scattermapbox\",\"marker\":{\"colorbar\":{\"outlinewidth\":0,\"ticks\":\"\"}}}],\"scatterternary\":[{\"type\":\"scatterternary\",\"marker\":{\"colorbar\":{\"outlinewidth\":0,\"ticks\":\"\"}}}],\"scattercarpet\":[{\"type\":\"scattercarpet\",\"marker\":{\"colorbar\":{\"outlinewidth\":0,\"ticks\":\"\"}}}],\"carpet\":[{\"aaxis\":{\"endlinecolor\":\"#A2B1C6\",\"gridcolor\":\"#506784\",\"linecolor\":\"#506784\",\"minorgridcolor\":\"#506784\",\"startlinecolor\":\"#A2B1C6\"},\"baxis\":{\"endlinecolor\":\"#A2B1C6\",\"gridcolor\":\"#506784\",\"linecolor\":\"#506784\",\"minorgridcolor\":\"#506784\",\"startlinecolor\":\"#A2B1C6\"},\"type\":\"carpet\"}],\"table\":[{\"cells\":{\"fill\":{\"color\":\"#506784\"},\"line\":{\"color\":\"rgb(17,17,17)\"}},\"header\":{\"fill\":{\"color\":\"#2a3f5f\"},\"line\":{\"color\":\"rgb(17,17,17)\"}},\"type\":\"table\"}],\"barpolar\":[{\"marker\":{\"line\":{\"color\":\"rgb(17,17,17)\",\"width\":0.5},\"pattern\":{\"fillmode\":\"overlay\",\"size\":10,\"solidity\":0.2}},\"type\":\"barpolar\"}],\"pie\":[{\"automargin\":true,\"type\":\"pie\"}]},\"layout\":{\"autotypenumbers\":\"strict\",\"colorway\":[\"#636efa\",\"#EF553B\",\"#00cc96\",\"#ab63fa\",\"#FFA15A\",\"#19d3f3\",\"#FF6692\",\"#B6E880\",\"#FF97FF\",\"#FECB52\"],\"font\":{\"color\":\"#f2f5fa\"},\"hovermode\":\"closest\",\"hoverlabel\":{\"align\":\"left\"},\"paper_bgcolor\":\"rgb(17,17,17)\",\"plot_bgcolor\":\"rgb(17,17,17)\",\"polar\":{\"bgcolor\":\"rgb(17,17,17)\",\"angularaxis\":{\"gridcolor\":\"#506784\",\"linecolor\":\"#506784\",\"ticks\":\"\"},\"radialaxis\":{\"gridcolor\":\"#506784\",\"linecolor\":\"#506784\",\"ticks\":\"\"}},\"ternary\":{\"bgcolor\":\"rgb(17,17,17)\",\"aaxis\":{\"gridcolor\":\"#506784\",\"linecolor\":\"#506784\",\"ticks\":\"\"},\"baxis\":{\"gridcolor\":\"#506784\",\"linecolor\":\"#506784\",\"ticks\":\"\"},\"caxis\":{\"gridcolor\":\"#506784\",\"linecolor\":\"#506784\",\"ticks\":\"\"}},\"coloraxis\":{\"colorbar\":{\"outlinewidth\":0,\"ticks\":\"\"}},\"colorscale\":{\"sequential\":[[0.0,\"#0d0887\"],[0.1111111111111111,\"#46039f\"],[0.2222222222222222,\"#7201a8\"],[0.3333333333333333,\"#9c179e\"],[0.4444444444444444,\"#bd3786\"],[0.5555555555555556,\"#d8576b\"],[0.6666666666666666,\"#ed7953\"],[0.7777777777777778,\"#fb9f3a\"],[0.8888888888888888,\"#fdca26\"],[1.0,\"#f0f921\"]],\"sequentialminus\":[[0.0,\"#0d0887\"],[0.1111111111111111,\"#46039f\"],[0.2222222222222222,\"#7201a8\"],[0.3333333333333333,\"#9c179e\"],[0.4444444444444444,\"#bd3786\"],[0.5555555555555556,\"#d8576b\"],[0.6666666666666666,\"#ed7953\"],[0.7777777777777778,\"#fb9f3a\"],[0.8888888888888888,\"#fdca26\"],[1.0,\"#f0f921\"]],\"diverging\":[[0,\"#8e0152\"],[0.1,\"#c51b7d\"],[0.2,\"#de77ae\"],[0.3,\"#f1b6da\"],[0.4,\"#fde0ef\"],[0.5,\"#f7f7f7\"],[0.6,\"#e6f5d0\"],[0.7,\"#b8e186\"],[0.8,\"#7fbc41\"],[0.9,\"#4d9221\"],[1,\"#276419\"]]},\"xaxis\":{\"gridcolor\":\"#283442\",\"linecolor\":\"#506784\",\"ticks\":\"\",\"title\":{\"standoff\":15},\"zerolinecolor\":\"#283442\",\"automargin\":true,\"zerolinewidth\":2},\"yaxis\":{\"gridcolor\":\"#283442\",\"linecolor\":\"#506784\",\"ticks\":\"\",\"title\":{\"standoff\":15},\"zerolinecolor\":\"#283442\",\"automargin\":true,\"zerolinewidth\":2},\"scene\":{\"xaxis\":{\"backgroundcolor\":\"rgb(17,17,17)\",\"gridcolor\":\"#506784\",\"linecolor\":\"#506784\",\"showbackground\":true,\"ticks\":\"\",\"zerolinecolor\":\"#C8D4E3\",\"gridwidth\":2},\"yaxis\":{\"backgroundcolor\":\"rgb(17,17,17)\",\"gridcolor\":\"#506784\",\"linecolor\":\"#506784\",\"showbackground\":true,\"ticks\":\"\",\"zerolinecolor\":\"#C8D4E3\",\"gridwidth\":2},\"zaxis\":{\"backgroundcolor\":\"rgb(17,17,17)\",\"gridcolor\":\"#506784\",\"linecolor\":\"#506784\",\"showbackground\":true,\"ticks\":\"\",\"zerolinecolor\":\"#C8D4E3\",\"gridwidth\":2}},\"shapedefaults\":{\"line\":{\"color\":\"#f2f5fa\"}},\"annotationdefaults\":{\"arrowcolor\":\"#f2f5fa\",\"arrowhead\":0,\"arrowwidth\":1},\"geo\":{\"bgcolor\":\"rgb(17,17,17)\",\"landcolor\":\"rgb(17,17,17)\",\"subunitcolor\":\"#506784\",\"showland\":true,\"showlakes\":true,\"lakecolor\":\"rgb(17,17,17)\"},\"title\":{\"x\":0.05},\"updatemenudefaults\":{\"bgcolor\":\"#506784\",\"borderwidth\":0},\"sliderdefaults\":{\"bgcolor\":\"#C8D4E3\",\"borderwidth\":1,\"bordercolor\":\"rgb(17,17,17)\",\"tickwidth\":0},\"mapbox\":{\"style\":\"dark\"}}},\"xaxis\":{\"anchor\":\"y\",\"domain\":[0.0,1.0],\"scaleanchor\":\"y\",\"constrain\":\"domain\",\"title\":{\"text\":\"position\"},\"tickmode\":\"array\",\"tickvals\":[1,2,3,4,5,6,7,8,9,10],\"ticktext\":[\"1\",\"2\",\"3\",\"4\",\"5\",\"6\",\"7\",\"8\",\"9\",\"10\"],\"automargin\":false},\"yaxis\":{\"anchor\":\"x\",\"domain\":[0.0,1.0],\"autorange\":\"reversed\",\"constrain\":\"domain\",\"title\":{\"text\":\"i_map (H)\",\"standoff\":0.0},\"tickmode\":\"array\",\"tickvals\":[1,2,3,4,5,6,7,8,9,10],\"ticktext\":[\"1H\",\"2H\",\"3H\",\"4H\",\"5H\",\"6H\",\"7H\",\"8H\",\"9H\",\"10H\"],\"automargin\":false},\"coloraxis\":{\"colorbar\":{\"title\":{\"text\":\"POD score\",\"font\":{\"size\":16},\"side\":\"top\"},\"x\":-0.3,\"thickness\":10,\"len\":1.1},\"colorscale\":[[0.0,\"rgb(255,255,255)\"],[0.125,\"rgb(240,240,240)\"],[0.25,\"rgb(217,217,217)\"],[0.375,\"rgb(189,189,189)\"],[0.5,\"rgb(150,150,150)\"],[0.625,\"rgb(115,115,115)\"],[0.75,\"rgb(82,82,82)\"],[0.875,\"rgb(37,37,37)\"],[1.0,\"rgb(0,0,0)\"]]},\"title\":{\"text\":\"Maps with high connectivity\",\"x\":0.57,\"y\":0.85,\"xanchor\":\"center\",\"yanchor\":\"top\"},\"yaxis2\":{\"title\":{\"text\":\"no. of OPs\"},\"overlaying\":\"y\",\"side\":\"right\",\"tickmode\":\"array\",\"tickvals\":[1,2,3,4,5,6,7,8,9,10],\"ticktext\":[\"2\",\"1\",\"1\",\"1\",\"1\",\"2\",\"1\",\"1\",\"1\",\"2\"],\"automargin\":false,\"constrain\":\"domain\"},\"margin\":{\"l\":50,\"r\":50,\"t\":80,\"b\":50},\"autosize\":false,\"width\":500,\"height\":500},                        {\"responsive\": true}                    ).then(function(){\n",
       "                            \n",
       "var gd = document.getElementById('7506985a-b0c2-43ef-b809-6c9d9414553e');\n",
       "var x = new MutationObserver(function (mutations, observer) {{\n",
       "        var display = window.getComputedStyle(gd).display;\n",
       "        if (!display || display === 'none') {{\n",
       "            console.log([gd, 'removed!']);\n",
       "            Plotly.purge(gd);\n",
       "            observer.disconnect();\n",
       "        }}\n",
       "}});\n",
       "\n",
       "// Listen for the removal of the full notebook cells\n",
       "var notebookContainer = gd.closest('#notebook-container');\n",
       "if (notebookContainer) {{\n",
       "    x.observe(notebookContainer, {childList: true});\n",
       "}}\n",
       "\n",
       "// Listen for the clearing of the current output cell\n",
       "var outputEl = gd.closest('.output');\n",
       "if (outputEl) {{\n",
       "    x.observe(outputEl, {childList: true});\n",
       "}}\n",
       "\n",
       "                        })                };                });            </script>        </div>"
      ]
     },
     "metadata": {},
     "output_type": "display_data"
    },
    {
     "data": {
      "application/vnd.plotly.v1+json": {
       "data": [
        {
         "coloraxis": "coloraxis",
         "hovertemplate": "i_map: %{y}<br>position: %{x}<br>CSD score (AVs): %{z}***<extra></extra>",
         "name": "0",
         "showscale": true,
         "x": [
          1,
          2,
          3,
          4,
          5,
          6,
          7,
          8,
          9,
          10
         ],
         "xaxis": "x",
         "y": [
          1,
          2,
          3,
          4,
          5,
          6,
          7,
          8,
          9,
          10
         ],
         "yaxis": "y",
         "z": [
          [
           0.1109834106827025,
           0.03564095035460992,
           0.027295667648020938,
           0.09394079619981612,
           0.08852570445996777,
           0.023654089366124002,
           0.07450551729055259,
           0.0746597765244977,
           0.11649691846921797,
           0.05618795724465558
          ],
          [
           0.06768461786124952,
           0.17835673555053277,
           0.24253308985925656,
           0.19993141776667858,
           0.15017719308001237,
           0.2541482037576078,
           0.20057621716068647,
           0.22259451780752718,
           0.20057621716068647,
           0.5712000465623863
          ],
          [
           0.5575614397845324,
           0.5575614397845324,
           0.5028108322469983,
           0.4159552619130435,
           0.6206680638593244,
           0.26794575111415836,
           1.0175373348638896,
           0.4100232357723577,
           0.09302731169221522,
           0.20584499458843633
          ],
          [
           0.2661614019236374,
           0.2393662293794187,
           0.08455514095180357,
           0.15382659746835445,
           0.08642463267359947,
           0.1256398594626513,
           0.3132163156654888,
           0.12961422475106685,
           0.1666797305670816,
           0.048941079574624125
          ],
          [
           0.3049999028441983,
           0.357912960535757,
           0.060264992177850966,
           0.5034300715191479,
           0.6301811269809429,
           0.4298273393693412,
           0.42855802683229816,
           0.34675990733022805,
           0.5034300715191479,
           0.5404018646579402
          ],
          [
           0.27607584266543267,
           0.02193281275258195,
           0.0770840329962746,
           0.06642930686456403,
           0.038787090749671196,
           0.05724000529976813,
           0.08895945866759679,
           0.08248636871098054,
           0.46081194615061005,
           0.10411377508825011
          ],
          [
           0.447694925632507,
           0.44250405562047207,
           0.18801084761626208,
           0.26417850068399457,
           0.44250405562047207,
           0.6621382423937642,
           0.47093518200224976,
           0.6790656072389337,
           0.5280848159334646,
           0.24835119966111266
          ],
          [
           0.5392044898785425,
           0.29829608335231156,
           0.27422389204412106,
           0.15074390002808197,
           0.0570598904352976,
           0.3346415553028149,
           0.48487096561252685,
           0.3260551433528519,
           0.4600032924400181,
           0.17714393780212698
          ],
          [
           0.35206136069869,
           0.2939248089279675,
           0.2772994169410356,
           0.6565338856278365,
           0.5007121080612539,
           1.033663814273431,
           0.912720237216339,
           0.38735903385178405,
           0.3006511212954476,
           0.22293860589990055
          ],
          [
           0.12388452240613645,
           0.11656296480822459,
           0.11797602048340844,
           0.1330009155946031,
           0.17505572403100775,
           0.06752222735790131,
           0.15570741868787275,
           0.11442131334552103,
           0.13753947504244482,
           0.13977262923274753
          ]
         ],
         "type": "heatmap"
        },
        {
         "coloraxis": "coloraxis",
         "hovertemplate": "i_map: %{y}<br>position: %{x}<br>CSD score (AVs): %{z}***<extra></extra>",
         "name": "0",
         "showscale": true,
         "x": [
          1,
          2,
          3,
          4,
          5,
          6,
          7,
          8,
          9,
          10
         ],
         "xaxis": "x",
         "y": [
          1,
          2,
          3,
          4,
          5,
          6,
          7,
          8,
          9,
          10
         ],
         "yaxis": "y2",
         "z": [
          [
           0.1109834106827025,
           0.03564095035460992,
           0.027295667648020938,
           0.09394079619981612,
           0.08852570445996777,
           0.023654089366124002,
           0.07450551729055259,
           0.0746597765244977,
           0.11649691846921797,
           0.05618795724465558
          ],
          [
           0.06768461786124952,
           0.17835673555053277,
           0.24253308985925656,
           0.19993141776667858,
           0.15017719308001237,
           0.2541482037576078,
           0.20057621716068647,
           0.22259451780752718,
           0.20057621716068647,
           0.5712000465623863
          ],
          [
           0.5575614397845324,
           0.5575614397845324,
           0.5028108322469983,
           0.4159552619130435,
           0.6206680638593244,
           0.26794575111415836,
           1.0175373348638896,
           0.4100232357723577,
           0.09302731169221522,
           0.20584499458843633
          ],
          [
           0.2661614019236374,
           0.2393662293794187,
           0.08455514095180357,
           0.15382659746835445,
           0.08642463267359947,
           0.1256398594626513,
           0.3132163156654888,
           0.12961422475106685,
           0.1666797305670816,
           0.048941079574624125
          ],
          [
           0.3049999028441983,
           0.357912960535757,
           0.060264992177850966,
           0.5034300715191479,
           0.6301811269809429,
           0.4298273393693412,
           0.42855802683229816,
           0.34675990733022805,
           0.5034300715191479,
           0.5404018646579402
          ],
          [
           0.27607584266543267,
           0.02193281275258195,
           0.0770840329962746,
           0.06642930686456403,
           0.038787090749671196,
           0.05724000529976813,
           0.08895945866759679,
           0.08248636871098054,
           0.46081194615061005,
           0.10411377508825011
          ],
          [
           0.447694925632507,
           0.44250405562047207,
           0.18801084761626208,
           0.26417850068399457,
           0.44250405562047207,
           0.6621382423937642,
           0.47093518200224976,
           0.6790656072389337,
           0.5280848159334646,
           0.24835119966111266
          ],
          [
           0.5392044898785425,
           0.29829608335231156,
           0.27422389204412106,
           0.15074390002808197,
           0.0570598904352976,
           0.3346415553028149,
           0.48487096561252685,
           0.3260551433528519,
           0.4600032924400181,
           0.17714393780212698
          ],
          [
           0.35206136069869,
           0.2939248089279675,
           0.2772994169410356,
           0.6565338856278365,
           0.5007121080612539,
           1.033663814273431,
           0.912720237216339,
           0.38735903385178405,
           0.3006511212954476,
           0.22293860589990055
          ],
          [
           0.12388452240613645,
           0.11656296480822459,
           0.11797602048340844,
           0.1330009155946031,
           0.17505572403100775,
           0.06752222735790131,
           0.15570741868787275,
           0.11442131334552103,
           0.13753947504244482,
           0.13977262923274753
          ]
         ],
         "type": "heatmap"
        },
        {
         "coloraxis": "coloraxis",
         "hovertemplate": "i_map: %{y}<br>position: %{x}<br>CSD score (AVs): %{z}***<extra></extra>",
         "name": "0",
         "showscale": true,
         "x": [
          1,
          2,
          3,
          4,
          5,
          6,
          7,
          8,
          9,
          10
         ],
         "xaxis": "x2",
         "y": [
          1,
          2,
          3,
          4,
          5,
          6,
          7,
          8,
          9,
          10
         ],
         "yaxis": "y3",
         "z": [
          [
           0.07563212965009208,
           0.027200214726840855,
           0.3003034764964491,
           0.0664841427230047,
           0.06969988907376595,
           0.014969698339809254,
           0.06755066109698511,
           0.0652898637814828,
           0.046284624232272475,
           0.02580479685194294
          ],
          [
           0.04501250295624754,
           0.17875841782370036,
           0.22547454584994564,
           0.14046143172616854,
           0.10177919085934985,
           0.6236841273954117,
           0.1765291782650143,
           0.5840286654703921,
           0.1765291782650143,
           0.41864713176558416
          ],
          [
           0.35181547326095697,
           0.35181547326095697,
           0.32709482428115016,
           0.3337383079671311,
           0.6634171344578313,
           0.2224625088265836,
           0.6524519093676023,
           0.3396094591401379,
           0.07119316508422664,
           0.1819961434770032
          ],
          [
           0.19185685103821848,
           0.8052728511318242,
           0.08355213770094025,
           0.11210231637103808,
           0.26973300660869565,
           0.10615586258625863,
           0.2318073151827324,
           0.07999498734922036,
           0.12393531415551125,
           0.04966528984976182
          ],
          [
           0.29332530852948624,
           0.296408373006135,
           0.39336394895789023,
           0.4670319023387304,
           0.9991170099331037,
           0.4037924128294697,
           0.2971057091190907,
           0.2870492151962009,
           0.4670319023387304,
           0.45829825780258815
          ],
          [
           0.38026640605173256,
           0.019293206507004064,
           0.0763229568919638,
           0.0636090771524413,
           0.021736389995368227,
           0.05500906883937479,
           0.07615342502658631,
           0.07923244747511979,
           0.33337746244029526,
           0.04967827514330381
          ],
          [
           0.34285232973400054,
           0.2995831992197025,
           0.09761060080271688,
           0.2031252742163231,
           0.2995831992197025,
           1.0272341281045752,
           0.3056210990734141,
           0.6986001993455827,
           0.2914085835434334,
           0.5712678954923915
          ],
          [
           0.5325219597934341,
           0.3322531841034235,
           0.33979414094123384,
           0.1302728101918122,
           0.25092630026650875,
           0.2949532724594993,
           0.47745820209166406,
           0.6372298755394049,
           0.4563308149659864,
           0.17117814118792601
          ],
          [
           0.6929237152219243,
           0.2924624315898857,
           0.2781140520802155,
           0.45559077313525215,
           0.4979254512301013,
           1.0295926507750803,
           0.9107276161065699,
           0.38834012633506265,
           0.25042516548097743,
           0.2007233894597282
          ],
          [
           0.0948847303323517,
           0.06992442219440967,
           0.09169195322650499,
           0.059412088306312526,
           0.44866752617662614,
           0.06726874921036007,
           0.08634346834381551,
           0.08088753189882975,
           0.10382524078539442,
           0.08975126534216335
          ]
         ],
         "type": "heatmap"
        },
        {
         "coloraxis": "coloraxis",
         "hovertemplate": "i_map: %{y}<br>position: %{x}<br>CSD score (AVs): %{z}***<extra></extra>",
         "name": "0",
         "showscale": true,
         "x": [
          1,
          2,
          3,
          4,
          5,
          6,
          7,
          8,
          9,
          10
         ],
         "xaxis": "x2",
         "y": [
          1,
          2,
          3,
          4,
          5,
          6,
          7,
          8,
          9,
          10
         ],
         "yaxis": "y4",
         "z": [
          [
           0.07563212965009208,
           0.027200214726840855,
           0.3003034764964491,
           0.0664841427230047,
           0.06969988907376595,
           0.014969698339809254,
           0.06755066109698511,
           0.0652898637814828,
           0.046284624232272475,
           0.02580479685194294
          ],
          [
           0.04501250295624754,
           0.17875841782370036,
           0.22547454584994564,
           0.14046143172616854,
           0.10177919085934985,
           0.6236841273954117,
           0.1765291782650143,
           0.5840286654703921,
           0.1765291782650143,
           0.41864713176558416
          ],
          [
           0.35181547326095697,
           0.35181547326095697,
           0.32709482428115016,
           0.3337383079671311,
           0.6634171344578313,
           0.2224625088265836,
           0.6524519093676023,
           0.3396094591401379,
           0.07119316508422664,
           0.1819961434770032
          ],
          [
           0.19185685103821848,
           0.8052728511318242,
           0.08355213770094025,
           0.11210231637103808,
           0.26973300660869565,
           0.10615586258625863,
           0.2318073151827324,
           0.07999498734922036,
           0.12393531415551125,
           0.04966528984976182
          ],
          [
           0.29332530852948624,
           0.296408373006135,
           0.39336394895789023,
           0.4670319023387304,
           0.9991170099331037,
           0.4037924128294697,
           0.2971057091190907,
           0.2870492151962009,
           0.4670319023387304,
           0.45829825780258815
          ],
          [
           0.38026640605173256,
           0.019293206507004064,
           0.0763229568919638,
           0.0636090771524413,
           0.021736389995368227,
           0.05500906883937479,
           0.07615342502658631,
           0.07923244747511979,
           0.33337746244029526,
           0.04967827514330381
          ],
          [
           0.34285232973400054,
           0.2995831992197025,
           0.09761060080271688,
           0.2031252742163231,
           0.2995831992197025,
           1.0272341281045752,
           0.3056210990734141,
           0.6986001993455827,
           0.2914085835434334,
           0.5712678954923915
          ],
          [
           0.5325219597934341,
           0.3322531841034235,
           0.33979414094123384,
           0.1302728101918122,
           0.25092630026650875,
           0.2949532724594993,
           0.47745820209166406,
           0.6372298755394049,
           0.4563308149659864,
           0.17117814118792601
          ],
          [
           0.6929237152219243,
           0.2924624315898857,
           0.2781140520802155,
           0.45559077313525215,
           0.4979254512301013,
           1.0295926507750803,
           0.9107276161065699,
           0.38834012633506265,
           0.25042516548097743,
           0.2007233894597282
          ],
          [
           0.0948847303323517,
           0.06992442219440967,
           0.09169195322650499,
           0.059412088306312526,
           0.44866752617662614,
           0.06726874921036007,
           0.08634346834381551,
           0.08088753189882975,
           0.10382524078539442,
           0.08975126534216335
          ]
         ],
         "type": "heatmap"
        }
       ],
       "layout": {
        "template": {
         "data": {
          "histogram2dcontour": [
           {
            "type": "histogram2dcontour",
            "colorbar": {
             "outlinewidth": 0,
             "ticks": ""
            },
            "colorscale": [
             [
              0.0,
              "#0d0887"
             ],
             [
              0.1111111111111111,
              "#46039f"
             ],
             [
              0.2222222222222222,
              "#7201a8"
             ],
             [
              0.3333333333333333,
              "#9c179e"
             ],
             [
              0.4444444444444444,
              "#bd3786"
             ],
             [
              0.5555555555555556,
              "#d8576b"
             ],
             [
              0.6666666666666666,
              "#ed7953"
             ],
             [
              0.7777777777777778,
              "#fb9f3a"
             ],
             [
              0.8888888888888888,
              "#fdca26"
             ],
             [
              1.0,
              "#f0f921"
             ]
            ]
           }
          ],
          "choropleth": [
           {
            "type": "choropleth",
            "colorbar": {
             "outlinewidth": 0,
             "ticks": ""
            }
           }
          ],
          "histogram2d": [
           {
            "type": "histogram2d",
            "colorbar": {
             "outlinewidth": 0,
             "ticks": ""
            },
            "colorscale": [
             [
              0.0,
              "#0d0887"
             ],
             [
              0.1111111111111111,
              "#46039f"
             ],
             [
              0.2222222222222222,
              "#7201a8"
             ],
             [
              0.3333333333333333,
              "#9c179e"
             ],
             [
              0.4444444444444444,
              "#bd3786"
             ],
             [
              0.5555555555555556,
              "#d8576b"
             ],
             [
              0.6666666666666666,
              "#ed7953"
             ],
             [
              0.7777777777777778,
              "#fb9f3a"
             ],
             [
              0.8888888888888888,
              "#fdca26"
             ],
             [
              1.0,
              "#f0f921"
             ]
            ]
           }
          ],
          "heatmap": [
           {
            "type": "heatmap",
            "colorbar": {
             "outlinewidth": 0,
             "ticks": ""
            },
            "colorscale": [
             [
              0.0,
              "#0d0887"
             ],
             [
              0.1111111111111111,
              "#46039f"
             ],
             [
              0.2222222222222222,
              "#7201a8"
             ],
             [
              0.3333333333333333,
              "#9c179e"
             ],
             [
              0.4444444444444444,
              "#bd3786"
             ],
             [
              0.5555555555555556,
              "#d8576b"
             ],
             [
              0.6666666666666666,
              "#ed7953"
             ],
             [
              0.7777777777777778,
              "#fb9f3a"
             ],
             [
              0.8888888888888888,
              "#fdca26"
             ],
             [
              1.0,
              "#f0f921"
             ]
            ]
           }
          ],
          "heatmapgl": [
           {
            "type": "heatmapgl",
            "colorbar": {
             "outlinewidth": 0,
             "ticks": ""
            },
            "colorscale": [
             [
              0.0,
              "#0d0887"
             ],
             [
              0.1111111111111111,
              "#46039f"
             ],
             [
              0.2222222222222222,
              "#7201a8"
             ],
             [
              0.3333333333333333,
              "#9c179e"
             ],
             [
              0.4444444444444444,
              "#bd3786"
             ],
             [
              0.5555555555555556,
              "#d8576b"
             ],
             [
              0.6666666666666666,
              "#ed7953"
             ],
             [
              0.7777777777777778,
              "#fb9f3a"
             ],
             [
              0.8888888888888888,
              "#fdca26"
             ],
             [
              1.0,
              "#f0f921"
             ]
            ]
           }
          ],
          "contourcarpet": [
           {
            "type": "contourcarpet",
            "colorbar": {
             "outlinewidth": 0,
             "ticks": ""
            }
           }
          ],
          "contour": [
           {
            "type": "contour",
            "colorbar": {
             "outlinewidth": 0,
             "ticks": ""
            },
            "colorscale": [
             [
              0.0,
              "#0d0887"
             ],
             [
              0.1111111111111111,
              "#46039f"
             ],
             [
              0.2222222222222222,
              "#7201a8"
             ],
             [
              0.3333333333333333,
              "#9c179e"
             ],
             [
              0.4444444444444444,
              "#bd3786"
             ],
             [
              0.5555555555555556,
              "#d8576b"
             ],
             [
              0.6666666666666666,
              "#ed7953"
             ],
             [
              0.7777777777777778,
              "#fb9f3a"
             ],
             [
              0.8888888888888888,
              "#fdca26"
             ],
             [
              1.0,
              "#f0f921"
             ]
            ]
           }
          ],
          "surface": [
           {
            "type": "surface",
            "colorbar": {
             "outlinewidth": 0,
             "ticks": ""
            },
            "colorscale": [
             [
              0.0,
              "#0d0887"
             ],
             [
              0.1111111111111111,
              "#46039f"
             ],
             [
              0.2222222222222222,
              "#7201a8"
             ],
             [
              0.3333333333333333,
              "#9c179e"
             ],
             [
              0.4444444444444444,
              "#bd3786"
             ],
             [
              0.5555555555555556,
              "#d8576b"
             ],
             [
              0.6666666666666666,
              "#ed7953"
             ],
             [
              0.7777777777777778,
              "#fb9f3a"
             ],
             [
              0.8888888888888888,
              "#fdca26"
             ],
             [
              1.0,
              "#f0f921"
             ]
            ]
           }
          ],
          "mesh3d": [
           {
            "type": "mesh3d",
            "colorbar": {
             "outlinewidth": 0,
             "ticks": ""
            }
           }
          ],
          "scatter": [
           {
            "marker": {
             "line": {
              "color": "#283442"
             }
            },
            "type": "scatter"
           }
          ],
          "parcoords": [
           {
            "type": "parcoords",
            "line": {
             "colorbar": {
              "outlinewidth": 0,
              "ticks": ""
             }
            }
           }
          ],
          "scatterpolargl": [
           {
            "type": "scatterpolargl",
            "marker": {
             "colorbar": {
              "outlinewidth": 0,
              "ticks": ""
             }
            }
           }
          ],
          "bar": [
           {
            "error_x": {
             "color": "#f2f5fa"
            },
            "error_y": {
             "color": "#f2f5fa"
            },
            "marker": {
             "line": {
              "color": "rgb(17,17,17)",
              "width": 0.5
             },
             "pattern": {
              "fillmode": "overlay",
              "size": 10,
              "solidity": 0.2
             }
            },
            "type": "bar"
           }
          ],
          "scattergeo": [
           {
            "type": "scattergeo",
            "marker": {
             "colorbar": {
              "outlinewidth": 0,
              "ticks": ""
             }
            }
           }
          ],
          "scatterpolar": [
           {
            "type": "scatterpolar",
            "marker": {
             "colorbar": {
              "outlinewidth": 0,
              "ticks": ""
             }
            }
           }
          ],
          "histogram": [
           {
            "marker": {
             "pattern": {
              "fillmode": "overlay",
              "size": 10,
              "solidity": 0.2
             }
            },
            "type": "histogram"
           }
          ],
          "scattergl": [
           {
            "marker": {
             "line": {
              "color": "#283442"
             }
            },
            "type": "scattergl"
           }
          ],
          "scatter3d": [
           {
            "type": "scatter3d",
            "line": {
             "colorbar": {
              "outlinewidth": 0,
              "ticks": ""
             }
            },
            "marker": {
             "colorbar": {
              "outlinewidth": 0,
              "ticks": ""
             }
            }
           }
          ],
          "scattermapbox": [
           {
            "type": "scattermapbox",
            "marker": {
             "colorbar": {
              "outlinewidth": 0,
              "ticks": ""
             }
            }
           }
          ],
          "scatterternary": [
           {
            "type": "scatterternary",
            "marker": {
             "colorbar": {
              "outlinewidth": 0,
              "ticks": ""
             }
            }
           }
          ],
          "scattercarpet": [
           {
            "type": "scattercarpet",
            "marker": {
             "colorbar": {
              "outlinewidth": 0,
              "ticks": ""
             }
            }
           }
          ],
          "carpet": [
           {
            "aaxis": {
             "endlinecolor": "#A2B1C6",
             "gridcolor": "#506784",
             "linecolor": "#506784",
             "minorgridcolor": "#506784",
             "startlinecolor": "#A2B1C6"
            },
            "baxis": {
             "endlinecolor": "#A2B1C6",
             "gridcolor": "#506784",
             "linecolor": "#506784",
             "minorgridcolor": "#506784",
             "startlinecolor": "#A2B1C6"
            },
            "type": "carpet"
           }
          ],
          "table": [
           {
            "cells": {
             "fill": {
              "color": "#506784"
             },
             "line": {
              "color": "rgb(17,17,17)"
             }
            },
            "header": {
             "fill": {
              "color": "#2a3f5f"
             },
             "line": {
              "color": "rgb(17,17,17)"
             }
            },
            "type": "table"
           }
          ],
          "barpolar": [
           {
            "marker": {
             "line": {
              "color": "rgb(17,17,17)",
              "width": 0.5
             },
             "pattern": {
              "fillmode": "overlay",
              "size": 10,
              "solidity": 0.2
             }
            },
            "type": "barpolar"
           }
          ],
          "pie": [
           {
            "automargin": true,
            "type": "pie"
           }
          ]
         },
         "layout": {
          "autotypenumbers": "strict",
          "colorway": [
           "#636efa",
           "#EF553B",
           "#00cc96",
           "#ab63fa",
           "#FFA15A",
           "#19d3f3",
           "#FF6692",
           "#B6E880",
           "#FF97FF",
           "#FECB52"
          ],
          "font": {
           "color": "#f2f5fa"
          },
          "hovermode": "closest",
          "hoverlabel": {
           "align": "left"
          },
          "paper_bgcolor": "rgb(17,17,17)",
          "plot_bgcolor": "rgb(17,17,17)",
          "polar": {
           "bgcolor": "rgb(17,17,17)",
           "angularaxis": {
            "gridcolor": "#506784",
            "linecolor": "#506784",
            "ticks": ""
           },
           "radialaxis": {
            "gridcolor": "#506784",
            "linecolor": "#506784",
            "ticks": ""
           }
          },
          "ternary": {
           "bgcolor": "rgb(17,17,17)",
           "aaxis": {
            "gridcolor": "#506784",
            "linecolor": "#506784",
            "ticks": ""
           },
           "baxis": {
            "gridcolor": "#506784",
            "linecolor": "#506784",
            "ticks": ""
           },
           "caxis": {
            "gridcolor": "#506784",
            "linecolor": "#506784",
            "ticks": ""
           }
          },
          "coloraxis": {
           "colorbar": {
            "outlinewidth": 0,
            "ticks": ""
           }
          },
          "colorscale": {
           "sequential": [
            [
             0.0,
             "#0d0887"
            ],
            [
             0.1111111111111111,
             "#46039f"
            ],
            [
             0.2222222222222222,
             "#7201a8"
            ],
            [
             0.3333333333333333,
             "#9c179e"
            ],
            [
             0.4444444444444444,
             "#bd3786"
            ],
            [
             0.5555555555555556,
             "#d8576b"
            ],
            [
             0.6666666666666666,
             "#ed7953"
            ],
            [
             0.7777777777777778,
             "#fb9f3a"
            ],
            [
             0.8888888888888888,
             "#fdca26"
            ],
            [
             1.0,
             "#f0f921"
            ]
           ],
           "sequentialminus": [
            [
             0.0,
             "#0d0887"
            ],
            [
             0.1111111111111111,
             "#46039f"
            ],
            [
             0.2222222222222222,
             "#7201a8"
            ],
            [
             0.3333333333333333,
             "#9c179e"
            ],
            [
             0.4444444444444444,
             "#bd3786"
            ],
            [
             0.5555555555555556,
             "#d8576b"
            ],
            [
             0.6666666666666666,
             "#ed7953"
            ],
            [
             0.7777777777777778,
             "#fb9f3a"
            ],
            [
             0.8888888888888888,
             "#fdca26"
            ],
            [
             1.0,
             "#f0f921"
            ]
           ],
           "diverging": [
            [
             0,
             "#8e0152"
            ],
            [
             0.1,
             "#c51b7d"
            ],
            [
             0.2,
             "#de77ae"
            ],
            [
             0.3,
             "#f1b6da"
            ],
            [
             0.4,
             "#fde0ef"
            ],
            [
             0.5,
             "#f7f7f7"
            ],
            [
             0.6,
             "#e6f5d0"
            ],
            [
             0.7,
             "#b8e186"
            ],
            [
             0.8,
             "#7fbc41"
            ],
            [
             0.9,
             "#4d9221"
            ],
            [
             1,
             "#276419"
            ]
           ]
          },
          "xaxis": {
           "gridcolor": "#283442",
           "linecolor": "#506784",
           "ticks": "",
           "title": {
            "standoff": 15
           },
           "zerolinecolor": "#283442",
           "automargin": true,
           "zerolinewidth": 2
          },
          "yaxis": {
           "gridcolor": "#283442",
           "linecolor": "#506784",
           "ticks": "",
           "title": {
            "standoff": 15
           },
           "zerolinecolor": "#283442",
           "automargin": true,
           "zerolinewidth": 2
          },
          "scene": {
           "xaxis": {
            "backgroundcolor": "rgb(17,17,17)",
            "gridcolor": "#506784",
            "linecolor": "#506784",
            "showbackground": true,
            "ticks": "",
            "zerolinecolor": "#C8D4E3",
            "gridwidth": 2
           },
           "yaxis": {
            "backgroundcolor": "rgb(17,17,17)",
            "gridcolor": "#506784",
            "linecolor": "#506784",
            "showbackground": true,
            "ticks": "",
            "zerolinecolor": "#C8D4E3",
            "gridwidth": 2
           },
           "zaxis": {
            "backgroundcolor": "rgb(17,17,17)",
            "gridcolor": "#506784",
            "linecolor": "#506784",
            "showbackground": true,
            "ticks": "",
            "zerolinecolor": "#C8D4E3",
            "gridwidth": 2
           }
          },
          "shapedefaults": {
           "line": {
            "color": "#f2f5fa"
           }
          },
          "annotationdefaults": {
           "arrowcolor": "#f2f5fa",
           "arrowhead": 0,
           "arrowwidth": 1
          },
          "geo": {
           "bgcolor": "rgb(17,17,17)",
           "landcolor": "rgb(17,17,17)",
           "subunitcolor": "#506784",
           "showland": true,
           "showlakes": true,
           "lakecolor": "rgb(17,17,17)"
          },
          "title": {
           "x": 0.05
          },
          "updatemenudefaults": {
           "bgcolor": "#506784",
           "borderwidth": 0
          },
          "sliderdefaults": {
           "bgcolor": "#C8D4E3",
           "borderwidth": 1,
           "bordercolor": "rgb(17,17,17)",
           "tickwidth": 0
          },
          "mapbox": {
           "style": "dark"
          }
         }
        },
        "xaxis": {
         "anchor": "y",
         "domain": [
          0.0,
          0.4075
         ],
         "title": {
          "text": "positions configuration"
         },
         "tickmode": "array",
         "tickvals": [
          1,
          2,
          3,
          4,
          5,
          6,
          7,
          8,
          9,
          10
         ],
         "ticktext": [
          "1",
          "2",
          "3",
          "4",
          "5",
          "6",
          "7",
          "8",
          "9",
          "10"
         ],
         "automargin": false,
         "constrain": "domain",
         "scaleanchor": "y"
        },
        "yaxis": {
         "anchor": "x",
         "domain": [
          0.0,
          1.0
         ],
         "title": {
          "text": "map ID",
          "standoff": 0
         },
         "tickmode": "array",
         "tickvals": [
          1,
          2,
          3,
          4,
          5,
          6,
          7,
          8,
          9,
          10
         ],
         "ticktext": [
          "1L",
          "2L",
          "3L",
          "4L",
          "5L",
          "6L",
          "7L",
          "8L",
          "9L",
          "10L"
         ],
         "autorange": "reversed",
         "automargin": false,
         "constrain": "domain",
         "scaleanchor": "x"
        },
        "yaxis2": {
         "anchor": "x",
         "overlaying": "y",
         "side": "right",
         "title": {
          "text": "no. of OPs",
          "standoff": 10
         },
         "tickmode": "array",
         "tickvals": [
          1,
          2,
          3,
          4,
          5,
          6,
          7,
          8,
          9,
          10
         ],
         "ticktext": [
          "2",
          "1",
          "1",
          "1",
          "1",
          "2",
          "1",
          "1",
          "1",
          "2"
         ],
         "autorange": "reversed",
         "automargin": false,
         "constrain": "domain"
        },
        "xaxis2": {
         "anchor": "y3",
         "domain": [
          0.5325,
          0.94
         ],
         "title": {
          "text": "positions configuration"
         },
         "tickmode": "array",
         "tickvals": [
          1,
          2,
          3,
          4,
          5,
          6,
          7,
          8,
          9,
          10
         ],
         "ticktext": [
          "1",
          "2",
          "3",
          "4",
          "5",
          "6",
          "7",
          "8",
          "9",
          "10"
         ],
         "automargin": false,
         "constrain": "domain"
        },
        "yaxis3": {
         "anchor": "x2",
         "domain": [
          0.0,
          1.0
         ],
         "title": {
          "text": "map ID",
          "standoff": 0
         },
         "tickmode": "array",
         "tickvals": [
          1,
          2,
          3,
          4,
          5,
          6,
          7,
          8,
          9,
          10
         ],
         "ticktext": [
          "1H",
          "2H",
          "3H",
          "4H",
          "5H",
          "6H",
          "7H",
          "8H",
          "9H",
          "10H"
         ],
         "autorange": "reversed",
         "automargin": false,
         "constrain": "domain"
        },
        "yaxis4": {
         "anchor": "x2",
         "overlaying": "y3",
         "side": "right",
         "title": {
          "text": "no. of OPs",
          "standoff": 10
         },
         "tickmode": "array",
         "tickvals": [
          1,
          2,
          3,
          4,
          5,
          6,
          7,
          8,
          9,
          10
         ],
         "ticktext": [
          "2",
          "1",
          "1",
          "1",
          "1",
          "2",
          "1",
          "1",
          "1",
          "2"
         ],
         "autorange": "reversed",
         "automargin": false,
         "constrain": "domain"
        },
        "annotations": [
         {
          "font": {
           "size": 16
          },
          "showarrow": false,
          "text": "Maps with low connectivity",
          "x": 0.20375,
          "xanchor": "center",
          "xref": "paper",
          "y": 1.0,
          "yanchor": "bottom",
          "yref": "paper"
         },
         {
          "font": {
           "size": 16
          },
          "showarrow": false,
          "text": "Maps with high connectivity",
          "x": 0.73625,
          "xanchor": "center",
          "xref": "paper",
          "y": 1.0,
          "yanchor": "bottom",
          "yref": "paper"
         }
        ],
        "autosize": false,
        "width": 1000,
        "height": 500,
        "coloraxis": {
         "colorbar": {
          "title": {
           "text": "POD score",
           "font": {
            "size": 16
           },
           "side": "top"
          },
          "x": -0.13,
          "thickness": 10,
          "len": 1.1
         },
         "colorscale": [
          [
           0.0,
           "rgb(255,255,255)"
          ],
          [
           0.125,
           "rgb(240,240,240)"
          ],
          [
           0.25,
           "rgb(217,217,217)"
          ],
          [
           0.375,
           "rgb(189,189,189)"
          ],
          [
           0.5,
           "rgb(150,150,150)"
          ],
          [
           0.625,
           "rgb(115,115,115)"
          ],
          [
           0.75,
           "rgb(82,82,82)"
          ],
          [
           0.875,
           "rgb(37,37,37)"
          ],
          [
           1.0,
           "rgb(0,0,0)"
          ]
         ]
        }
       },
       "config": {
        "plotlyServerURL": "https://plot.ly"
       }
      },
      "text/html": [
       "<div>                            <div id=\"7686dff2-2965-4457-ac9f-364b182bbb38\" class=\"plotly-graph-div\" style=\"height:500px; width:1000px;\"></div>            <script type=\"text/javascript\">                require([\"plotly\"], function(Plotly) {                    window.PLOTLYENV=window.PLOTLYENV || {};                                    if (document.getElementById(\"7686dff2-2965-4457-ac9f-364b182bbb38\")) {                    Plotly.newPlot(                        \"7686dff2-2965-4457-ac9f-364b182bbb38\",                        [{\"coloraxis\":\"coloraxis\",\"hovertemplate\":\"i_map: %{y}\\u003cbr\\u003eposition: %{x}\\u003cbr\\u003eCSD score (AVs): %{z}***\\u003cextra\\u003e\\u003c\\u002fextra\\u003e\",\"name\":\"0\",\"showscale\":true,\"x\":[1,2,3,4,5,6,7,8,9,10],\"xaxis\":\"x\",\"y\":[1,2,3,4,5,6,7,8,9,10],\"yaxis\":\"y\",\"z\":[[0.1109834106827025,0.03564095035460992,0.027295667648020938,0.09394079619981612,0.08852570445996777,0.023654089366124002,0.07450551729055259,0.0746597765244977,0.11649691846921797,0.05618795724465558],[0.06768461786124952,0.17835673555053277,0.24253308985925656,0.19993141776667858,0.15017719308001237,0.2541482037576078,0.20057621716068647,0.22259451780752718,0.20057621716068647,0.5712000465623863],[0.5575614397845324,0.5575614397845324,0.5028108322469983,0.4159552619130435,0.6206680638593244,0.26794575111415836,1.0175373348638896,0.4100232357723577,0.09302731169221522,0.20584499458843633],[0.2661614019236374,0.2393662293794187,0.08455514095180357,0.15382659746835445,0.08642463267359947,0.1256398594626513,0.3132163156654888,0.12961422475106685,0.1666797305670816,0.048941079574624125],[0.3049999028441983,0.357912960535757,0.060264992177850966,0.5034300715191479,0.6301811269809429,0.4298273393693412,0.42855802683229816,0.34675990733022805,0.5034300715191479,0.5404018646579402],[0.27607584266543267,0.02193281275258195,0.0770840329962746,0.06642930686456403,0.038787090749671196,0.05724000529976813,0.08895945866759679,0.08248636871098054,0.46081194615061005,0.10411377508825011],[0.447694925632507,0.44250405562047207,0.18801084761626208,0.26417850068399457,0.44250405562047207,0.6621382423937642,0.47093518200224976,0.6790656072389337,0.5280848159334646,0.24835119966111266],[0.5392044898785425,0.29829608335231156,0.27422389204412106,0.15074390002808197,0.0570598904352976,0.3346415553028149,0.48487096561252685,0.3260551433528519,0.4600032924400181,0.17714393780212698],[0.35206136069869,0.2939248089279675,0.2772994169410356,0.6565338856278365,0.5007121080612539,1.033663814273431,0.912720237216339,0.38735903385178405,0.3006511212954476,0.22293860589990055],[0.12388452240613645,0.11656296480822459,0.11797602048340844,0.1330009155946031,0.17505572403100775,0.06752222735790131,0.15570741868787275,0.11442131334552103,0.13753947504244482,0.13977262923274753]],\"type\":\"heatmap\"},{\"coloraxis\":\"coloraxis\",\"hovertemplate\":\"i_map: %{y}\\u003cbr\\u003eposition: %{x}\\u003cbr\\u003eCSD score (AVs): %{z}***\\u003cextra\\u003e\\u003c\\u002fextra\\u003e\",\"name\":\"0\",\"showscale\":true,\"x\":[1,2,3,4,5,6,7,8,9,10],\"xaxis\":\"x\",\"y\":[1,2,3,4,5,6,7,8,9,10],\"yaxis\":\"y2\",\"z\":[[0.1109834106827025,0.03564095035460992,0.027295667648020938,0.09394079619981612,0.08852570445996777,0.023654089366124002,0.07450551729055259,0.0746597765244977,0.11649691846921797,0.05618795724465558],[0.06768461786124952,0.17835673555053277,0.24253308985925656,0.19993141776667858,0.15017719308001237,0.2541482037576078,0.20057621716068647,0.22259451780752718,0.20057621716068647,0.5712000465623863],[0.5575614397845324,0.5575614397845324,0.5028108322469983,0.4159552619130435,0.6206680638593244,0.26794575111415836,1.0175373348638896,0.4100232357723577,0.09302731169221522,0.20584499458843633],[0.2661614019236374,0.2393662293794187,0.08455514095180357,0.15382659746835445,0.08642463267359947,0.1256398594626513,0.3132163156654888,0.12961422475106685,0.1666797305670816,0.048941079574624125],[0.3049999028441983,0.357912960535757,0.060264992177850966,0.5034300715191479,0.6301811269809429,0.4298273393693412,0.42855802683229816,0.34675990733022805,0.5034300715191479,0.5404018646579402],[0.27607584266543267,0.02193281275258195,0.0770840329962746,0.06642930686456403,0.038787090749671196,0.05724000529976813,0.08895945866759679,0.08248636871098054,0.46081194615061005,0.10411377508825011],[0.447694925632507,0.44250405562047207,0.18801084761626208,0.26417850068399457,0.44250405562047207,0.6621382423937642,0.47093518200224976,0.6790656072389337,0.5280848159334646,0.24835119966111266],[0.5392044898785425,0.29829608335231156,0.27422389204412106,0.15074390002808197,0.0570598904352976,0.3346415553028149,0.48487096561252685,0.3260551433528519,0.4600032924400181,0.17714393780212698],[0.35206136069869,0.2939248089279675,0.2772994169410356,0.6565338856278365,0.5007121080612539,1.033663814273431,0.912720237216339,0.38735903385178405,0.3006511212954476,0.22293860589990055],[0.12388452240613645,0.11656296480822459,0.11797602048340844,0.1330009155946031,0.17505572403100775,0.06752222735790131,0.15570741868787275,0.11442131334552103,0.13753947504244482,0.13977262923274753]],\"type\":\"heatmap\"},{\"coloraxis\":\"coloraxis\",\"hovertemplate\":\"i_map: %{y}\\u003cbr\\u003eposition: %{x}\\u003cbr\\u003eCSD score (AVs): %{z}***\\u003cextra\\u003e\\u003c\\u002fextra\\u003e\",\"name\":\"0\",\"showscale\":true,\"x\":[1,2,3,4,5,6,7,8,9,10],\"xaxis\":\"x2\",\"y\":[1,2,3,4,5,6,7,8,9,10],\"yaxis\":\"y3\",\"z\":[[0.07563212965009208,0.027200214726840855,0.3003034764964491,0.0664841427230047,0.06969988907376595,0.014969698339809254,0.06755066109698511,0.0652898637814828,0.046284624232272475,0.02580479685194294],[0.04501250295624754,0.17875841782370036,0.22547454584994564,0.14046143172616854,0.10177919085934985,0.6236841273954117,0.1765291782650143,0.5840286654703921,0.1765291782650143,0.41864713176558416],[0.35181547326095697,0.35181547326095697,0.32709482428115016,0.3337383079671311,0.6634171344578313,0.2224625088265836,0.6524519093676023,0.3396094591401379,0.07119316508422664,0.1819961434770032],[0.19185685103821848,0.8052728511318242,0.08355213770094025,0.11210231637103808,0.26973300660869565,0.10615586258625863,0.2318073151827324,0.07999498734922036,0.12393531415551125,0.04966528984976182],[0.29332530852948624,0.296408373006135,0.39336394895789023,0.4670319023387304,0.9991170099331037,0.4037924128294697,0.2971057091190907,0.2870492151962009,0.4670319023387304,0.45829825780258815],[0.38026640605173256,0.019293206507004064,0.0763229568919638,0.0636090771524413,0.021736389995368227,0.05500906883937479,0.07615342502658631,0.07923244747511979,0.33337746244029526,0.04967827514330381],[0.34285232973400054,0.2995831992197025,0.09761060080271688,0.2031252742163231,0.2995831992197025,1.0272341281045752,0.3056210990734141,0.6986001993455827,0.2914085835434334,0.5712678954923915],[0.5325219597934341,0.3322531841034235,0.33979414094123384,0.1302728101918122,0.25092630026650875,0.2949532724594993,0.47745820209166406,0.6372298755394049,0.4563308149659864,0.17117814118792601],[0.6929237152219243,0.2924624315898857,0.2781140520802155,0.45559077313525215,0.4979254512301013,1.0295926507750803,0.9107276161065699,0.38834012633506265,0.25042516548097743,0.2007233894597282],[0.0948847303323517,0.06992442219440967,0.09169195322650499,0.059412088306312526,0.44866752617662614,0.06726874921036007,0.08634346834381551,0.08088753189882975,0.10382524078539442,0.08975126534216335]],\"type\":\"heatmap\"},{\"coloraxis\":\"coloraxis\",\"hovertemplate\":\"i_map: %{y}\\u003cbr\\u003eposition: %{x}\\u003cbr\\u003eCSD score (AVs): %{z}***\\u003cextra\\u003e\\u003c\\u002fextra\\u003e\",\"name\":\"0\",\"showscale\":true,\"x\":[1,2,3,4,5,6,7,8,9,10],\"xaxis\":\"x2\",\"y\":[1,2,3,4,5,6,7,8,9,10],\"yaxis\":\"y4\",\"z\":[[0.07563212965009208,0.027200214726840855,0.3003034764964491,0.0664841427230047,0.06969988907376595,0.014969698339809254,0.06755066109698511,0.0652898637814828,0.046284624232272475,0.02580479685194294],[0.04501250295624754,0.17875841782370036,0.22547454584994564,0.14046143172616854,0.10177919085934985,0.6236841273954117,0.1765291782650143,0.5840286654703921,0.1765291782650143,0.41864713176558416],[0.35181547326095697,0.35181547326095697,0.32709482428115016,0.3337383079671311,0.6634171344578313,0.2224625088265836,0.6524519093676023,0.3396094591401379,0.07119316508422664,0.1819961434770032],[0.19185685103821848,0.8052728511318242,0.08355213770094025,0.11210231637103808,0.26973300660869565,0.10615586258625863,0.2318073151827324,0.07999498734922036,0.12393531415551125,0.04966528984976182],[0.29332530852948624,0.296408373006135,0.39336394895789023,0.4670319023387304,0.9991170099331037,0.4037924128294697,0.2971057091190907,0.2870492151962009,0.4670319023387304,0.45829825780258815],[0.38026640605173256,0.019293206507004064,0.0763229568919638,0.0636090771524413,0.021736389995368227,0.05500906883937479,0.07615342502658631,0.07923244747511979,0.33337746244029526,0.04967827514330381],[0.34285232973400054,0.2995831992197025,0.09761060080271688,0.2031252742163231,0.2995831992197025,1.0272341281045752,0.3056210990734141,0.6986001993455827,0.2914085835434334,0.5712678954923915],[0.5325219597934341,0.3322531841034235,0.33979414094123384,0.1302728101918122,0.25092630026650875,0.2949532724594993,0.47745820209166406,0.6372298755394049,0.4563308149659864,0.17117814118792601],[0.6929237152219243,0.2924624315898857,0.2781140520802155,0.45559077313525215,0.4979254512301013,1.0295926507750803,0.9107276161065699,0.38834012633506265,0.25042516548097743,0.2007233894597282],[0.0948847303323517,0.06992442219440967,0.09169195322650499,0.059412088306312526,0.44866752617662614,0.06726874921036007,0.08634346834381551,0.08088753189882975,0.10382524078539442,0.08975126534216335]],\"type\":\"heatmap\"}],                        {\"template\":{\"data\":{\"histogram2dcontour\":[{\"type\":\"histogram2dcontour\",\"colorbar\":{\"outlinewidth\":0,\"ticks\":\"\"},\"colorscale\":[[0.0,\"#0d0887\"],[0.1111111111111111,\"#46039f\"],[0.2222222222222222,\"#7201a8\"],[0.3333333333333333,\"#9c179e\"],[0.4444444444444444,\"#bd3786\"],[0.5555555555555556,\"#d8576b\"],[0.6666666666666666,\"#ed7953\"],[0.7777777777777778,\"#fb9f3a\"],[0.8888888888888888,\"#fdca26\"],[1.0,\"#f0f921\"]]}],\"choropleth\":[{\"type\":\"choropleth\",\"colorbar\":{\"outlinewidth\":0,\"ticks\":\"\"}}],\"histogram2d\":[{\"type\":\"histogram2d\",\"colorbar\":{\"outlinewidth\":0,\"ticks\":\"\"},\"colorscale\":[[0.0,\"#0d0887\"],[0.1111111111111111,\"#46039f\"],[0.2222222222222222,\"#7201a8\"],[0.3333333333333333,\"#9c179e\"],[0.4444444444444444,\"#bd3786\"],[0.5555555555555556,\"#d8576b\"],[0.6666666666666666,\"#ed7953\"],[0.7777777777777778,\"#fb9f3a\"],[0.8888888888888888,\"#fdca26\"],[1.0,\"#f0f921\"]]}],\"heatmap\":[{\"type\":\"heatmap\",\"colorbar\":{\"outlinewidth\":0,\"ticks\":\"\"},\"colorscale\":[[0.0,\"#0d0887\"],[0.1111111111111111,\"#46039f\"],[0.2222222222222222,\"#7201a8\"],[0.3333333333333333,\"#9c179e\"],[0.4444444444444444,\"#bd3786\"],[0.5555555555555556,\"#d8576b\"],[0.6666666666666666,\"#ed7953\"],[0.7777777777777778,\"#fb9f3a\"],[0.8888888888888888,\"#fdca26\"],[1.0,\"#f0f921\"]]}],\"heatmapgl\":[{\"type\":\"heatmapgl\",\"colorbar\":{\"outlinewidth\":0,\"ticks\":\"\"},\"colorscale\":[[0.0,\"#0d0887\"],[0.1111111111111111,\"#46039f\"],[0.2222222222222222,\"#7201a8\"],[0.3333333333333333,\"#9c179e\"],[0.4444444444444444,\"#bd3786\"],[0.5555555555555556,\"#d8576b\"],[0.6666666666666666,\"#ed7953\"],[0.7777777777777778,\"#fb9f3a\"],[0.8888888888888888,\"#fdca26\"],[1.0,\"#f0f921\"]]}],\"contourcarpet\":[{\"type\":\"contourcarpet\",\"colorbar\":{\"outlinewidth\":0,\"ticks\":\"\"}}],\"contour\":[{\"type\":\"contour\",\"colorbar\":{\"outlinewidth\":0,\"ticks\":\"\"},\"colorscale\":[[0.0,\"#0d0887\"],[0.1111111111111111,\"#46039f\"],[0.2222222222222222,\"#7201a8\"],[0.3333333333333333,\"#9c179e\"],[0.4444444444444444,\"#bd3786\"],[0.5555555555555556,\"#d8576b\"],[0.6666666666666666,\"#ed7953\"],[0.7777777777777778,\"#fb9f3a\"],[0.8888888888888888,\"#fdca26\"],[1.0,\"#f0f921\"]]}],\"surface\":[{\"type\":\"surface\",\"colorbar\":{\"outlinewidth\":0,\"ticks\":\"\"},\"colorscale\":[[0.0,\"#0d0887\"],[0.1111111111111111,\"#46039f\"],[0.2222222222222222,\"#7201a8\"],[0.3333333333333333,\"#9c179e\"],[0.4444444444444444,\"#bd3786\"],[0.5555555555555556,\"#d8576b\"],[0.6666666666666666,\"#ed7953\"],[0.7777777777777778,\"#fb9f3a\"],[0.8888888888888888,\"#fdca26\"],[1.0,\"#f0f921\"]]}],\"mesh3d\":[{\"type\":\"mesh3d\",\"colorbar\":{\"outlinewidth\":0,\"ticks\":\"\"}}],\"scatter\":[{\"marker\":{\"line\":{\"color\":\"#283442\"}},\"type\":\"scatter\"}],\"parcoords\":[{\"type\":\"parcoords\",\"line\":{\"colorbar\":{\"outlinewidth\":0,\"ticks\":\"\"}}}],\"scatterpolargl\":[{\"type\":\"scatterpolargl\",\"marker\":{\"colorbar\":{\"outlinewidth\":0,\"ticks\":\"\"}}}],\"bar\":[{\"error_x\":{\"color\":\"#f2f5fa\"},\"error_y\":{\"color\":\"#f2f5fa\"},\"marker\":{\"line\":{\"color\":\"rgb(17,17,17)\",\"width\":0.5},\"pattern\":{\"fillmode\":\"overlay\",\"size\":10,\"solidity\":0.2}},\"type\":\"bar\"}],\"scattergeo\":[{\"type\":\"scattergeo\",\"marker\":{\"colorbar\":{\"outlinewidth\":0,\"ticks\":\"\"}}}],\"scatterpolar\":[{\"type\":\"scatterpolar\",\"marker\":{\"colorbar\":{\"outlinewidth\":0,\"ticks\":\"\"}}}],\"histogram\":[{\"marker\":{\"pattern\":{\"fillmode\":\"overlay\",\"size\":10,\"solidity\":0.2}},\"type\":\"histogram\"}],\"scattergl\":[{\"marker\":{\"line\":{\"color\":\"#283442\"}},\"type\":\"scattergl\"}],\"scatter3d\":[{\"type\":\"scatter3d\",\"line\":{\"colorbar\":{\"outlinewidth\":0,\"ticks\":\"\"}},\"marker\":{\"colorbar\":{\"outlinewidth\":0,\"ticks\":\"\"}}}],\"scattermapbox\":[{\"type\":\"scattermapbox\",\"marker\":{\"colorbar\":{\"outlinewidth\":0,\"ticks\":\"\"}}}],\"scatterternary\":[{\"type\":\"scatterternary\",\"marker\":{\"colorbar\":{\"outlinewidth\":0,\"ticks\":\"\"}}}],\"scattercarpet\":[{\"type\":\"scattercarpet\",\"marker\":{\"colorbar\":{\"outlinewidth\":0,\"ticks\":\"\"}}}],\"carpet\":[{\"aaxis\":{\"endlinecolor\":\"#A2B1C6\",\"gridcolor\":\"#506784\",\"linecolor\":\"#506784\",\"minorgridcolor\":\"#506784\",\"startlinecolor\":\"#A2B1C6\"},\"baxis\":{\"endlinecolor\":\"#A2B1C6\",\"gridcolor\":\"#506784\",\"linecolor\":\"#506784\",\"minorgridcolor\":\"#506784\",\"startlinecolor\":\"#A2B1C6\"},\"type\":\"carpet\"}],\"table\":[{\"cells\":{\"fill\":{\"color\":\"#506784\"},\"line\":{\"color\":\"rgb(17,17,17)\"}},\"header\":{\"fill\":{\"color\":\"#2a3f5f\"},\"line\":{\"color\":\"rgb(17,17,17)\"}},\"type\":\"table\"}],\"barpolar\":[{\"marker\":{\"line\":{\"color\":\"rgb(17,17,17)\",\"width\":0.5},\"pattern\":{\"fillmode\":\"overlay\",\"size\":10,\"solidity\":0.2}},\"type\":\"barpolar\"}],\"pie\":[{\"automargin\":true,\"type\":\"pie\"}]},\"layout\":{\"autotypenumbers\":\"strict\",\"colorway\":[\"#636efa\",\"#EF553B\",\"#00cc96\",\"#ab63fa\",\"#FFA15A\",\"#19d3f3\",\"#FF6692\",\"#B6E880\",\"#FF97FF\",\"#FECB52\"],\"font\":{\"color\":\"#f2f5fa\"},\"hovermode\":\"closest\",\"hoverlabel\":{\"align\":\"left\"},\"paper_bgcolor\":\"rgb(17,17,17)\",\"plot_bgcolor\":\"rgb(17,17,17)\",\"polar\":{\"bgcolor\":\"rgb(17,17,17)\",\"angularaxis\":{\"gridcolor\":\"#506784\",\"linecolor\":\"#506784\",\"ticks\":\"\"},\"radialaxis\":{\"gridcolor\":\"#506784\",\"linecolor\":\"#506784\",\"ticks\":\"\"}},\"ternary\":{\"bgcolor\":\"rgb(17,17,17)\",\"aaxis\":{\"gridcolor\":\"#506784\",\"linecolor\":\"#506784\",\"ticks\":\"\"},\"baxis\":{\"gridcolor\":\"#506784\",\"linecolor\":\"#506784\",\"ticks\":\"\"},\"caxis\":{\"gridcolor\":\"#506784\",\"linecolor\":\"#506784\",\"ticks\":\"\"}},\"coloraxis\":{\"colorbar\":{\"outlinewidth\":0,\"ticks\":\"\"}},\"colorscale\":{\"sequential\":[[0.0,\"#0d0887\"],[0.1111111111111111,\"#46039f\"],[0.2222222222222222,\"#7201a8\"],[0.3333333333333333,\"#9c179e\"],[0.4444444444444444,\"#bd3786\"],[0.5555555555555556,\"#d8576b\"],[0.6666666666666666,\"#ed7953\"],[0.7777777777777778,\"#fb9f3a\"],[0.8888888888888888,\"#fdca26\"],[1.0,\"#f0f921\"]],\"sequentialminus\":[[0.0,\"#0d0887\"],[0.1111111111111111,\"#46039f\"],[0.2222222222222222,\"#7201a8\"],[0.3333333333333333,\"#9c179e\"],[0.4444444444444444,\"#bd3786\"],[0.5555555555555556,\"#d8576b\"],[0.6666666666666666,\"#ed7953\"],[0.7777777777777778,\"#fb9f3a\"],[0.8888888888888888,\"#fdca26\"],[1.0,\"#f0f921\"]],\"diverging\":[[0,\"#8e0152\"],[0.1,\"#c51b7d\"],[0.2,\"#de77ae\"],[0.3,\"#f1b6da\"],[0.4,\"#fde0ef\"],[0.5,\"#f7f7f7\"],[0.6,\"#e6f5d0\"],[0.7,\"#b8e186\"],[0.8,\"#7fbc41\"],[0.9,\"#4d9221\"],[1,\"#276419\"]]},\"xaxis\":{\"gridcolor\":\"#283442\",\"linecolor\":\"#506784\",\"ticks\":\"\",\"title\":{\"standoff\":15},\"zerolinecolor\":\"#283442\",\"automargin\":true,\"zerolinewidth\":2},\"yaxis\":{\"gridcolor\":\"#283442\",\"linecolor\":\"#506784\",\"ticks\":\"\",\"title\":{\"standoff\":15},\"zerolinecolor\":\"#283442\",\"automargin\":true,\"zerolinewidth\":2},\"scene\":{\"xaxis\":{\"backgroundcolor\":\"rgb(17,17,17)\",\"gridcolor\":\"#506784\",\"linecolor\":\"#506784\",\"showbackground\":true,\"ticks\":\"\",\"zerolinecolor\":\"#C8D4E3\",\"gridwidth\":2},\"yaxis\":{\"backgroundcolor\":\"rgb(17,17,17)\",\"gridcolor\":\"#506784\",\"linecolor\":\"#506784\",\"showbackground\":true,\"ticks\":\"\",\"zerolinecolor\":\"#C8D4E3\",\"gridwidth\":2},\"zaxis\":{\"backgroundcolor\":\"rgb(17,17,17)\",\"gridcolor\":\"#506784\",\"linecolor\":\"#506784\",\"showbackground\":true,\"ticks\":\"\",\"zerolinecolor\":\"#C8D4E3\",\"gridwidth\":2}},\"shapedefaults\":{\"line\":{\"color\":\"#f2f5fa\"}},\"annotationdefaults\":{\"arrowcolor\":\"#f2f5fa\",\"arrowhead\":0,\"arrowwidth\":1},\"geo\":{\"bgcolor\":\"rgb(17,17,17)\",\"landcolor\":\"rgb(17,17,17)\",\"subunitcolor\":\"#506784\",\"showland\":true,\"showlakes\":true,\"lakecolor\":\"rgb(17,17,17)\"},\"title\":{\"x\":0.05},\"updatemenudefaults\":{\"bgcolor\":\"#506784\",\"borderwidth\":0},\"sliderdefaults\":{\"bgcolor\":\"#C8D4E3\",\"borderwidth\":1,\"bordercolor\":\"rgb(17,17,17)\",\"tickwidth\":0},\"mapbox\":{\"style\":\"dark\"}}},\"xaxis\":{\"anchor\":\"y\",\"domain\":[0.0,0.4075],\"title\":{\"text\":\"positions configuration\"},\"tickmode\":\"array\",\"tickvals\":[1,2,3,4,5,6,7,8,9,10],\"ticktext\":[\"1\",\"2\",\"3\",\"4\",\"5\",\"6\",\"7\",\"8\",\"9\",\"10\"],\"automargin\":false,\"constrain\":\"domain\",\"scaleanchor\":\"y\"},\"yaxis\":{\"anchor\":\"x\",\"domain\":[0.0,1.0],\"title\":{\"text\":\"map ID\",\"standoff\":0},\"tickmode\":\"array\",\"tickvals\":[1,2,3,4,5,6,7,8,9,10],\"ticktext\":[\"1L\",\"2L\",\"3L\",\"4L\",\"5L\",\"6L\",\"7L\",\"8L\",\"9L\",\"10L\"],\"autorange\":\"reversed\",\"automargin\":false,\"constrain\":\"domain\",\"scaleanchor\":\"x\"},\"yaxis2\":{\"anchor\":\"x\",\"overlaying\":\"y\",\"side\":\"right\",\"title\":{\"text\":\"no. of OPs\",\"standoff\":10},\"tickmode\":\"array\",\"tickvals\":[1,2,3,4,5,6,7,8,9,10],\"ticktext\":[\"2\",\"1\",\"1\",\"1\",\"1\",\"2\",\"1\",\"1\",\"1\",\"2\"],\"autorange\":\"reversed\",\"automargin\":false,\"constrain\":\"domain\"},\"xaxis2\":{\"anchor\":\"y3\",\"domain\":[0.5325,0.94],\"title\":{\"text\":\"positions configuration\"},\"tickmode\":\"array\",\"tickvals\":[1,2,3,4,5,6,7,8,9,10],\"ticktext\":[\"1\",\"2\",\"3\",\"4\",\"5\",\"6\",\"7\",\"8\",\"9\",\"10\"],\"automargin\":false,\"constrain\":\"domain\"},\"yaxis3\":{\"anchor\":\"x2\",\"domain\":[0.0,1.0],\"title\":{\"text\":\"map ID\",\"standoff\":0},\"tickmode\":\"array\",\"tickvals\":[1,2,3,4,5,6,7,8,9,10],\"ticktext\":[\"1H\",\"2H\",\"3H\",\"4H\",\"5H\",\"6H\",\"7H\",\"8H\",\"9H\",\"10H\"],\"autorange\":\"reversed\",\"automargin\":false,\"constrain\":\"domain\"},\"yaxis4\":{\"anchor\":\"x2\",\"overlaying\":\"y3\",\"side\":\"right\",\"title\":{\"text\":\"no. of OPs\",\"standoff\":10},\"tickmode\":\"array\",\"tickvals\":[1,2,3,4,5,6,7,8,9,10],\"ticktext\":[\"2\",\"1\",\"1\",\"1\",\"1\",\"2\",\"1\",\"1\",\"1\",\"2\"],\"autorange\":\"reversed\",\"automargin\":false,\"constrain\":\"domain\"},\"annotations\":[{\"font\":{\"size\":16},\"showarrow\":false,\"text\":\"Maps with low connectivity\",\"x\":0.20375,\"xanchor\":\"center\",\"xref\":\"paper\",\"y\":1.0,\"yanchor\":\"bottom\",\"yref\":\"paper\"},{\"font\":{\"size\":16},\"showarrow\":false,\"text\":\"Maps with high connectivity\",\"x\":0.73625,\"xanchor\":\"center\",\"xref\":\"paper\",\"y\":1.0,\"yanchor\":\"bottom\",\"yref\":\"paper\"}],\"autosize\":false,\"width\":1000,\"height\":500,\"coloraxis\":{\"colorbar\":{\"title\":{\"text\":\"POD score\",\"font\":{\"size\":16},\"side\":\"top\"},\"x\":-0.13,\"thickness\":10,\"len\":1.1},\"colorscale\":[[0.0,\"rgb(255,255,255)\"],[0.125,\"rgb(240,240,240)\"],[0.25,\"rgb(217,217,217)\"],[0.375,\"rgb(189,189,189)\"],[0.5,\"rgb(150,150,150)\"],[0.625,\"rgb(115,115,115)\"],[0.75,\"rgb(82,82,82)\"],[0.875,\"rgb(37,37,37)\"],[1.0,\"rgb(0,0,0)\"]]}},                        {\"responsive\": true}                    ).then(function(){\n",
       "                            \n",
       "var gd = document.getElementById('7686dff2-2965-4457-ac9f-364b182bbb38');\n",
       "var x = new MutationObserver(function (mutations, observer) {{\n",
       "        var display = window.getComputedStyle(gd).display;\n",
       "        if (!display || display === 'none') {{\n",
       "            console.log([gd, 'removed!']);\n",
       "            Plotly.purge(gd);\n",
       "            observer.disconnect();\n",
       "        }}\n",
       "}});\n",
       "\n",
       "// Listen for the removal of the full notebook cells\n",
       "var notebookContainer = gd.closest('#notebook-container');\n",
       "if (notebookContainer) {{\n",
       "    x.observe(notebookContainer, {childList: true});\n",
       "}}\n",
       "\n",
       "// Listen for the clearing of the current output cell\n",
       "var outputEl = gd.closest('.output');\n",
       "if (outputEl) {{\n",
       "    x.observe(outputEl, {childList: true});\n",
       "}}\n",
       "\n",
       "                        })                };                });            </script>        </div>"
      ]
     },
     "metadata": {},
     "output_type": "display_data"
    },
    {
     "data": {
      "text/plain": [
       "<IPython.core.display.HTML object>"
      ],
      "text/html": [
       "<hr/>"
      ]
     },
     "metadata": {},
     "output_type": "display_data"
    }
   ],
   "execution_count": 28
  },
  {
   "metadata": {
    "collapsed": true,
    "ExecuteTime": {
     "end_time": "2025-01-15T10:01:47.636672Z",
     "start_time": "2025-01-15T10:01:47.450541Z"
    }
   },
   "cell_type": "code",
   "source": [
    "COLUMN_TO_IS_THE_MORE_THE_BETTER = {\n",
    "    'No. of completed missions': True,\n",
    "    'No. of collisions': False,\n",
    "    'No. of near-misses': False,\n",
    "    'Collisions rate': False,\n",
    "}\n",
    "TITLE_CMP = 'Strategies Comparison'\n",
    "\n",
    "\n",
    "def rank_dataframes(dataframes, is_the_more_the_better=True):\n",
    "    ranked_dfs = [pd.DataFrame(index=df.index, columns=df.columns)\n",
    "                  for df in dataframes]\n",
    "    \n",
    "    # Get the shape of the DataFrames\n",
    "    num_rows, num_cols = dataframes[0].shape\n",
    "    \n",
    "    # Iterate over each cell in the DataFrame\n",
    "    for row in range(num_rows):\n",
    "        for col in range(num_cols):\n",
    "            # Extract the values across all DataFrames at the same position\n",
    "            cell_values = (df.iloc[row, col] for df in dataframes)\n",
    "            series = pd.Series(cell_values)\n",
    "            ranks = series.rank(method='min', ascending=not is_the_more_the_better)\n",
    "\n",
    "            # Iterate over each DataFrame\n",
    "            for df_index, ranked_df in enumerate(ranked_dfs):\n",
    "                ranked_df.iloc[row, col] = ranks[df_index]\n",
    "        \n",
    "    return ranked_dfs\n",
    "\n",
    "\n",
    "def compare_ranked_dfs(df_a, df_b, label_a, label_b, color_a, color_b, color_ab):\n",
    "    df_cmp = pd.DataFrame(index=df_a.index, columns=df_a.columns)\n",
    "    df_colors = pd.DataFrame(index=df_a.index, columns=df_a.columns)\n",
    "    \n",
    "    # Get the shape of the DataFrames\n",
    "    num_rows, num_cols = df_a.shape\n",
    "    \n",
    "    # Iterate over each cell in the DataFrame\n",
    "    for row in range(num_rows):\n",
    "        for col in range(num_cols):\n",
    "            # Extract the values across all DataFrames at the same position\n",
    "            value_a = df_a.iloc[row, col]\n",
    "            value_b = df_b.iloc[row, col]\n",
    "            \n",
    "            if value_a < value_b:\n",
    "                value_c = label_a\n",
    "                color = color_a\n",
    "            elif value_a > value_b:\n",
    "                value_c = label_b\n",
    "                color = color_b\n",
    "            else:\n",
    "                value_c = label_a + label_b\n",
    "                color = color_ab\n",
    "                \n",
    "            df_cmp.iloc[row, col] = value_c\n",
    "            df_colors.iloc[row, col] = color\n",
    "            \n",
    "    return df_cmp, df_colors\n",
    "\n",
    "\n",
    "def plot_df(*, runname, title, col_i, col_j, col_data, heatmap_data, df_ranks, is_value_in_tooltip):\n",
    "    # Create an interactive heatmap\n",
    "    fig = px.imshow(\n",
    "        heatmap_data,\n",
    "        labels={\"x\": col_j, \"y\": col_i, \"color\": col_data},\n",
    "        title=f\"{runname}: {title}: {col_data}\",\n",
    "        # text_auto=True,\n",
    "    )\n",
    "    \n",
    "    # fig.data[0].update(text=df_ranks.values, texttemplate=\"%{text}\")\n",
    "    \n",
    "    # Show ranking text only for the \"Strategies Comparison\" heatmap\n",
    "    if df_ranks is not None:\n",
    "        fig.data[0].update(text=df_ranks.values, texttemplate=\"%{text}\")\n",
    "    \n",
    "    set_hovertemplate(fig=fig, col_i=col_i, col_j=col_j, col_data=col_data, is_value_in_tooltip=is_value_in_tooltip)\n",
    "    \n",
    "    return fig\n",
    "\n",
    "\n",
    "def plot_df_all(\n",
    "        runname, col_data, *, \n",
    "        fig, offset_fig, strategies, titles, df, are_bridges, slowness, \n",
    "        is_full, is_baseline_only, is_comparison_only\n",
    "):\n",
    "    assert is_full + is_baseline_only + is_comparison_only == 1\n",
    "    \n",
    "    col_strategy = 'forcing'\n",
    "    col_i = 'i_map'\n",
    "    col_j = 'position'\n",
    "    is_the_more_the_better = COLUMN_TO_IS_THE_MORE_THE_BETTER[col_data]\n",
    "    \n",
    "    title_to_heatmap_data = {}\n",
    "    for idx, strategy in enumerate(strategies):\n",
    "        heatmap_data = calculate_heatmap_data(\n",
    "            df=df[df[col_strategy] == strategy],\n",
    "            col_i=col_i,\n",
    "            col_j=col_j, \n",
    "            col_data=col_data,            \n",
    "        )\n",
    "        title_to_heatmap_data[strategy] = heatmap_data\n",
    "        \n",
    "    if is_full or is_comparison_only:\n",
    "        dfs_ranks = rank_dataframes(list(title_to_heatmap_data.values()),\n",
    "                                    is_the_more_the_better=is_the_more_the_better)\n",
    "        df_cmp, df_color = compare_ranked_dfs(\n",
    "            dfs_ranks[1], dfs_ranks[2],\n",
    "            strategies[1].split()[-1][0].upper(),\n",
    "            strategies[2].split()[-1][0].upper(),\n",
    "            0.0, # 'blue',\n",
    "            1.0, # 'yellow',\n",
    "            0.5, # 'gray',\n",
    "        )\n",
    "        title_to_heatmap_data[TITLE_CMP] = df_color\n",
    "     \n",
    "        # Modify ranks for comparison heatmap if slowness is \"with rerouting\"\n",
    "        if slowness == 'with rerouting':\n",
    "            df_cmp = df_cmp.replace({'P': 'PR', 'S': 'SR', 'PS': 'PSR'})\n",
    "        \n",
    "    for idx, title in enumerate(titles):\n",
    "        heatmap_data = title_to_heatmap_data[title]\n",
    "        \n",
    "        heatmap_fig = plot_df(\n",
    "            runname=runname, \n",
    "            title=title, \n",
    "            col_i=col_i,\n",
    "            col_j=col_j, \n",
    "            col_data=col_data,\n",
    "            heatmap_data=heatmap_data,\n",
    "            df_ranks=df_cmp if title == TITLE_CMP else None,\n",
    "            is_value_in_tooltip=title != TITLE_CMP,\n",
    "        )\n",
    "          \n",
    "        # Add heatmap to the subplot\n",
    "        for trace in heatmap_fig.data:\n",
    "            if title != TITLE_CMP:\n",
    "                trace.update(coloraxis=\"coloraxis1\")  # Link each subplot to the shared color axis\n",
    "            else:\n",
    "                trace.update(coloraxis=\"coloraxis2\", showscale=False)\n",
    "            trace.update(showscale=title != TITLE_CMP)  # Show colorbar only if it's not the Comparison plot\n",
    "            for secondary_y in False, True:\n",
    "                fig.add_trace(trace, row=1, col=idx + 1 + offset_fig, secondary_y=secondary_y)\n",
    "       \n",
    "        add_all_ticks(fig=fig, offset_fig=offset_fig, col_i='map ID', col_j='positions configuration', heatmap_data=heatmap_data, idx=idx, are_bridges=are_bridges)\n",
    "    \n",
    "    # Update layout with shared color scale\n",
    "    fig.update_layout(\n",
    "        title=\"\" if is_comparison_only else f\"{col_data}<br>(slowness: {slowness}; coordination strategies)\",\n",
    "        coloraxis1=dict(  # shared color axis\n",
    "            colorscale=\"Greens\" if is_the_more_the_better else \"Reds\",\n",
    "            colorbar=dict(\n",
    "                title=(\n",
    "                    \"No. of<br>completed<br>missions\" \n",
    "                    if col_data == \"No. of completed missions\"\n",
    "                    else\n",
    "                    'No. of<br>collisions'\n",
    "                    if col_data == 'No. of collisions'\n",
    "                    else\n",
    "                    col_data\n",
    "                ),  # ⬅ Conditional title\n",
    "                titlefont=dict(size=14),\n",
    "                x=-0.13, \n",
    "                titleside=\"top\",\n",
    "                thickness=10,\n",
    "                len=1.1  # ⬅ Increases the length of the colorbar (default is 0.5)\n",
    "            )\n",
    "        ),\n",
    "        coloraxis2=dict(\n",
    "            colorscale=[\n",
    "                [0.0, '#FFFFE0'],  # 0.0 is P\n",
    "                [0.5, '#D3D3D3'],  # 0.5 is PS\n",
    "                [1.0, '#ADD8E6'],  # 1.0 is S\n",
    "            ],\n",
    "        )\n",
    "    )\n",
    "\n",
    "\n",
    "\"\"\"\n",
    "- No. of completed missions\n",
    "- Average mission length\n",
    "- Average CS density score\n",
    "\n",
    "Hypotheses:\n",
    "- less Average mission length -> more No. of completed\n",
    "- less Average CS density score -> more No. of completed missions (& less collisions, etc.) \n",
    "\"\"\"\n",
    "\n",
    "def make_comparison_title(are_bridges, slowness):\n",
    "    if slowness == 'baseline':\n",
    "        comment = 'Violations by MV: priorities'\n",
    "    else:\n",
    "        comment = 'Violations by MV: priorities, speed'\n",
    "    return f'{TITLE_CMP}<br>Maps with {\"high\" if are_bridges else \"low\"} connectivity<br>{comment}'\n",
    "\n",
    "\n",
    "def plot_runname(runname, column, *, is_baseline_only=False, is_comparison_only=False):\n",
    "    is_full = not (is_baseline_only or is_comparison_only)\n",
    "    assert is_full + is_baseline_only + is_comparison_only == 1\n",
    "    \n",
    "    display(HTML(f'<h1>{column}</h2>'))\n",
    "    \n",
    "    if is_baseline_only:\n",
    "        strategies = titles = ['baseline']\n",
    "        fig = make_subplots_row(['baseline (Maps with low connectivity)', 'baseline (Maps with high connectivity)'])\n",
    "        offset_fig = 0\n",
    "    elif is_comparison_only:\n",
    "        titles = [TITLE_CMP]\n",
    "        fig = make_subplots_row([\n",
    "            make_comparison_title(are_bridges, slowness)\n",
    "            for slowness in ('baseline', 'without rerouting', 'with rerouting')\n",
    "            for are_bridges in (False, True)\n",
    "            if not (not are_bridges and slowness == 'with rerouting')\n",
    "        ])\n",
    "        offset_fig = 0\n",
    "    \n",
    "    for are_bridges in False, True:\n",
    "        if is_full:\n",
    "            label_are_bridges = 'Maps with high connectivity' if are_bridges else 'Maps with low connectivity'\n",
    "            display(HTML(f'<h2>{label_are_bridges}</h2>'))\n",
    "        \n",
    "        slownesses = ['baseline']\n",
    "        if is_full or is_comparison_only:\n",
    "            slownesses += [\n",
    "                'without rerouting',\n",
    "                'with rerouting',\n",
    "            ]\n",
    "            \n",
    "        key2df = get_key2df(runname)\n",
    "        df = key2df[are_bridges, True]\n",
    "            \n",
    "        for slowness in slownesses:\n",
    "            dfx = df[~df['passhum'] & (df['slowness'] == slowness)]\n",
    "            assert dfx.empty == (not are_bridges and slowness == 'with rerouting')\n",
    "            if dfx.empty:\n",
    "                continue\n",
    "            \n",
    "            if is_full or is_comparison_only:\n",
    "                col_strategy = 'forcing'\n",
    "                strategies = list(dfx[col_strategy].unique())\n",
    "                if is_full:\n",
    "                    titles = strategies + [TITLE_CMP]          \n",
    "                    fig = make_subplots_row(titles)\n",
    "                    offset_fig = 0\n",
    "                \n",
    "            plot_df_all(\n",
    "                runname,\n",
    "                column,\n",
    "                fig=fig,\n",
    "                offset_fig=offset_fig,\n",
    "                strategies=strategies,\n",
    "                titles=titles,\n",
    "                df=dfx,\n",
    "                are_bridges=are_bridges,\n",
    "                slowness=slowness,\n",
    "                is_full=is_full,\n",
    "                is_baseline_only=is_baseline_only,\n",
    "                is_comparison_only=is_comparison_only,\n",
    "            )\n",
    "            offset_fig += len(titles)\n",
    "            \n",
    "            if is_full:\n",
    "                fig.show()\n",
    "                \n",
    "    if is_baseline_only or is_comparison_only:\n",
    "        fig.show()\n",
    "        \n",
    "    display(HTML('<hr/>'))\n",
    "\n",
    "\n",
    "plot_runname('20241230_173555', 'No. of violations')\n",
    "plot_runname('20241230_173555', 'Collisions rate')\n",
    "plot_runname('20241230_173555', 'No. of completed missions', is_comparison_only=True)\n",
    "plot_runname('20241230_173555', 'No. of collisions', is_comparison_only=True)\n",
    "plot_runname('20241230_173555', 'No. of completed missions', is_baseline_only=True)\n",
    "plot_runname('20241230_173555', 'No. of completed missions')\n",
    "plot_runname('20241230_173555', 'No. of collisions')\n",
    "plot_runname('20241230_173555', 'No. of near-misses')"
   ],
   "id": "initial_id",
   "outputs": [
    {
     "data": {
      "text/plain": [
       "<IPython.core.display.HTML object>"
      ],
      "text/html": [
       "<h1>No. of violations</h2>"
      ]
     },
     "metadata": {},
     "output_type": "display_data"
    },
    {
     "data": {
      "text/plain": [
       "<IPython.core.display.HTML object>"
      ],
      "text/html": [
       "<h2>Maps with low connectivity</h2>"
      ]
     },
     "metadata": {},
     "output_type": "display_data"
    },
    {
     "ename": "KeyError",
     "evalue": "'No. of violations'",
     "output_type": "error",
     "traceback": [
      "\u001B[0;31m---------------------------------------------------------------------------\u001B[0m",
      "\u001B[0;31mKeyError\u001B[0m                                  Traceback (most recent call last)",
      "Cell \u001B[0;32mIn[29], line 271\u001B[0m\n\u001B[1;32m    266\u001B[0m         fig\u001B[38;5;241m.\u001B[39mshow()\n\u001B[1;32m    268\u001B[0m     display(HTML(\u001B[38;5;124m'\u001B[39m\u001B[38;5;124m<hr/>\u001B[39m\u001B[38;5;124m'\u001B[39m))\n\u001B[0;32m--> 271\u001B[0m plot_runname(\u001B[38;5;124m'\u001B[39m\u001B[38;5;124m20241230_173555\u001B[39m\u001B[38;5;124m'\u001B[39m, \u001B[38;5;124m'\u001B[39m\u001B[38;5;124mNo. of violations\u001B[39m\u001B[38;5;124m'\u001B[39m)\n\u001B[1;32m    272\u001B[0m plot_runname(\u001B[38;5;124m'\u001B[39m\u001B[38;5;124m20241230_173555\u001B[39m\u001B[38;5;124m'\u001B[39m, \u001B[38;5;124m'\u001B[39m\u001B[38;5;124mCollisions rate\u001B[39m\u001B[38;5;124m'\u001B[39m)\n\u001B[1;32m    273\u001B[0m plot_runname(\u001B[38;5;124m'\u001B[39m\u001B[38;5;124m20241230_173555\u001B[39m\u001B[38;5;124m'\u001B[39m, \u001B[38;5;124m'\u001B[39m\u001B[38;5;124mNo. of completed missions\u001B[39m\u001B[38;5;124m'\u001B[39m, is_comparison_only\u001B[38;5;241m=\u001B[39m\u001B[38;5;28;01mTrue\u001B[39;00m)\n",
      "Cell \u001B[0;32mIn[29], line 246\u001B[0m, in \u001B[0;36mplot_runname\u001B[0;34m(runname, column, is_baseline_only, is_comparison_only)\u001B[0m\n\u001B[1;32m    243\u001B[0m         fig \u001B[38;5;241m=\u001B[39m make_subplots_row(titles)\n\u001B[1;32m    244\u001B[0m         offset_fig \u001B[38;5;241m=\u001B[39m \u001B[38;5;241m0\u001B[39m\n\u001B[0;32m--> 246\u001B[0m plot_df_all(\n\u001B[1;32m    247\u001B[0m     runname,\n\u001B[1;32m    248\u001B[0m     column,\n\u001B[1;32m    249\u001B[0m     fig\u001B[38;5;241m=\u001B[39mfig,\n\u001B[1;32m    250\u001B[0m     offset_fig\u001B[38;5;241m=\u001B[39moffset_fig,\n\u001B[1;32m    251\u001B[0m     strategies\u001B[38;5;241m=\u001B[39mstrategies,\n\u001B[1;32m    252\u001B[0m     titles\u001B[38;5;241m=\u001B[39mtitles,\n\u001B[1;32m    253\u001B[0m     df\u001B[38;5;241m=\u001B[39mdfx,\n\u001B[1;32m    254\u001B[0m     are_bridges\u001B[38;5;241m=\u001B[39mare_bridges,\n\u001B[1;32m    255\u001B[0m     slowness\u001B[38;5;241m=\u001B[39mslowness,\n\u001B[1;32m    256\u001B[0m     is_full\u001B[38;5;241m=\u001B[39mis_full,\n\u001B[1;32m    257\u001B[0m     is_baseline_only\u001B[38;5;241m=\u001B[39mis_baseline_only,\n\u001B[1;32m    258\u001B[0m     is_comparison_only\u001B[38;5;241m=\u001B[39mis_comparison_only,\n\u001B[1;32m    259\u001B[0m )\n\u001B[1;32m    260\u001B[0m offset_fig \u001B[38;5;241m+\u001B[39m\u001B[38;5;241m=\u001B[39m \u001B[38;5;28mlen\u001B[39m(titles)\n\u001B[1;32m    262\u001B[0m \u001B[38;5;28;01mif\u001B[39;00m is_full:\n",
      "Cell \u001B[0;32mIn[29], line 92\u001B[0m, in \u001B[0;36mplot_df_all\u001B[0;34m(runname, col_data, fig, offset_fig, strategies, titles, df, are_bridges, slowness, is_full, is_baseline_only, is_comparison_only)\u001B[0m\n\u001B[1;32m     90\u001B[0m col_i \u001B[38;5;241m=\u001B[39m \u001B[38;5;124m'\u001B[39m\u001B[38;5;124mi_map\u001B[39m\u001B[38;5;124m'\u001B[39m\n\u001B[1;32m     91\u001B[0m col_j \u001B[38;5;241m=\u001B[39m \u001B[38;5;124m'\u001B[39m\u001B[38;5;124mposition\u001B[39m\u001B[38;5;124m'\u001B[39m\n\u001B[0;32m---> 92\u001B[0m is_the_more_the_better \u001B[38;5;241m=\u001B[39m COLUMN_TO_IS_THE_MORE_THE_BETTER[col_data]\n\u001B[1;32m     94\u001B[0m title_to_heatmap_data \u001B[38;5;241m=\u001B[39m {}\n\u001B[1;32m     95\u001B[0m \u001B[38;5;28;01mfor\u001B[39;00m idx, strategy \u001B[38;5;129;01min\u001B[39;00m \u001B[38;5;28menumerate\u001B[39m(strategies):\n",
      "\u001B[0;31mKeyError\u001B[0m: 'No. of violations'"
     ]
    }
   ],
   "execution_count": 29
  }
 ],
 "metadata": {
  "kernelspec": {
   "display_name": "Python 3",
   "language": "python",
   "name": "python3"
  },
  "language_info": {
   "codemirror_mode": {
    "name": "ipython",
    "version": 2
   },
   "file_extension": ".py",
   "mimetype": "text/x-python",
   "name": "python",
   "nbconvert_exporter": "python",
   "pygments_lexer": "ipython2",
   "version": "2.7.6"
  }
 },
 "nbformat": 4,
 "nbformat_minor": 5
}
