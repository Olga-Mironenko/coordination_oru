{
 "cells": [
  {
   "cell_type": "code",
   "id": "aa36440faaa8a5",
   "metadata": {
    "ExecuteTime": {
     "end_time": "2025-01-09T18:58:18.338092Z",
     "start_time": "2025-01-09T18:58:17.892736Z"
    }
   },
   "source": [
    "import functools\n",
    "import pickle\n",
    "\n",
    "import pandas as pd\n",
    "import plotly.express as px\n",
    "from plotly.subplots import make_subplots\n",
    "from IPython.display import display, HTML\n",
    "\n",
    "RUNDIRS = '../logs/rundirs'"
   ],
   "outputs": [],
   "execution_count": 1
  },
  {
   "metadata": {
    "ExecuteTime": {
     "end_time": "2025-01-09T18:58:18.344203Z",
     "start_time": "2025-01-09T18:58:18.341532Z"
    }
   },
   "cell_type": "code",
   "source": [
    "@functools.cache\n",
    "def get_key2df(runname):\n",
    "    rundir = f'{RUNDIRS}/{runname}'\n",
    "    with open(f'{rundir}/key2df.pickle', 'rb') as file:\n",
    "        return pickle.load(file)"
   ],
   "id": "cbc14bf1cea5fd4c",
   "outputs": [],
   "execution_count": 2
  },
  {
   "metadata": {
    "collapsed": true,
    "ExecuteTime": {
     "end_time": "2025-01-09T19:05:14.274767Z",
     "start_time": "2025-01-09T19:05:13.220340Z"
    }
   },
   "cell_type": "code",
   "source": [
    "def calculate_heatmap_data(*, df, col_strategy, strategy, col_i, col_j, col_data):\n",
    "    df = df[df[col_strategy] == strategy]\n",
    "    df = df[~df['passhum']]\n",
    "    return df[[col_i, col_j, col_data]].pivot(\n",
    "        index=col_i, columns=col_j, values=col_data\n",
    "    )\n",
    "\n",
    "\n",
    "def rank_dataframes(dataframes, is_the_more_the_better=True):\n",
    "    ranked_dfs = [pd.DataFrame(index=df.index, columns=df.columns)\n",
    "                  for df in dataframes]\n",
    "    \n",
    "    # Get the shape of the DataFrames\n",
    "    num_rows, num_cols = dataframes[0].shape\n",
    "    \n",
    "    # Iterate over each cell in the DataFrame\n",
    "    for row in range(num_rows):\n",
    "        for col in range(num_cols):\n",
    "            # Extract the values across all DataFrames at the same position\n",
    "            cell_values = (df.iloc[row, col] for df in dataframes)\n",
    "            series = pd.Series(cell_values)\n",
    "            ranks = series.rank(method='min', ascending=not is_the_more_the_better)\n",
    "\n",
    "            # Iterate over each DataFrame\n",
    "            for df_index, ranked_df in enumerate(ranked_dfs):\n",
    "                ranked_df.iloc[row, col] = ranks[df_index]\n",
    "        \n",
    "    return ranked_dfs\n",
    "\n",
    "\n",
    "def compare_ranked_dfs(df_a, df_b, label_a, label_b, color_a, color_b, color_ab):\n",
    "    df_cmp = pd.DataFrame(index=df_a.index, columns=df_a.columns)\n",
    "    df_colors = pd.DataFrame(index=df_a.index, columns=df_a.columns)\n",
    "    \n",
    "    # Get the shape of the DataFrames\n",
    "    num_rows, num_cols = df_a.shape\n",
    "    \n",
    "    # Iterate over each cell in the DataFrame\n",
    "    for row in range(num_rows):\n",
    "        for col in range(num_cols):\n",
    "            # Extract the values across all DataFrames at the same position\n",
    "            value_a = df_a.iloc[row, col]\n",
    "            value_b = df_b.iloc[row, col]\n",
    "            \n",
    "            if value_a < value_b:\n",
    "                value_c = label_a\n",
    "                color = color_a\n",
    "            elif value_a > value_b:\n",
    "                value_c = label_b\n",
    "                color = color_b\n",
    "            else:\n",
    "                value_c = label_a + label_b\n",
    "                color = color_ab\n",
    "                \n",
    "            df_cmp.iloc[row, col] = value_c\n",
    "            df_colors.iloc[row, col] = color\n",
    "            \n",
    "    return df_cmp, df_colors\n",
    "\n",
    "\n",
    "def plot_df(*, runname, title, col_i, col_j, col_data, heatmap_data, df_ranks):\n",
    "    # Create an interactive heatmap\n",
    "    fig = px.imshow(\n",
    "        heatmap_data,\n",
    "        labels={\"x\": col_j, \"y\": col_i, \"color\": col_data},\n",
    "        title=f\"{runname}: {title}: {col_data}\",\n",
    "        # text_auto=True,\n",
    "    )\n",
    "    \n",
    "    fig.data[0].update(text=df_ranks.values, texttemplate=\"%{text}\")\n",
    "    \n",
    "    fig.update_traces(\n",
    "        hovertemplate=(\n",
    "            col_i + \": %{y}<br>\" + col_j + \": %{x}<br>\" + col_data + \": %{z}<extra></extra>\"\n",
    "        )\n",
    "    )\n",
    "    \n",
    "    return fig\n",
    "\n",
    "\n",
    "def plot_df_all(runname, *, are_bridges, slowness):\n",
    "    key2df = get_key2df(runname)\n",
    "    df = key2df[are_bridges, True]\n",
    "    \n",
    "    dfx = df[~df['passhum'] & (df['slowness'] == slowness)]\n",
    "    assert dfx.empty == (not are_bridges and slowness == 'with rerouting')\n",
    "    if dfx.empty:\n",
    "        return\n",
    "    df = dfx\n",
    "    \n",
    "    col_strategy = 'forcing'\n",
    "    col_i = 'i_map'\n",
    "    col_j = 'position'\n",
    "    col_data = 'No. of completed missions'\n",
    "    is_the_more_the_better = True\n",
    "    \n",
    "    strategies = list(df[col_strategy].unique())\n",
    "    \n",
    "    title_cmp = 'Strategies Comparison'\n",
    "    titles = strategies + [title_cmp]\n",
    "    \n",
    "    # Create subplots\n",
    "    fig = make_subplots(\n",
    "        rows=1,\n",
    "        cols=len(titles),\n",
    "        subplot_titles=titles,\n",
    "    )\n",
    "    \n",
    "    dfs_heatmap_data = []\n",
    "    for idx, strategy in enumerate(strategies):\n",
    "        heatmap_data = calculate_heatmap_data(\n",
    "            df=df,\n",
    "            col_strategy=col_strategy,\n",
    "            strategy=strategy, \n",
    "            col_i=col_i,\n",
    "            col_j=col_j, \n",
    "            col_data=col_data,            \n",
    "        )\n",
    "        dfs_heatmap_data.append(heatmap_data)\n",
    "        \n",
    "    dfs_ranks = rank_dataframes(dfs_heatmap_data, is_the_more_the_better=is_the_more_the_better)\n",
    "    df_cmp, df_color = compare_ranked_dfs(\n",
    "        dfs_ranks[1], dfs_ranks[2],\n",
    "        strategies[1].split()[-1][0].upper(),\n",
    "        strategies[2].split()[-1][0].upper(),\n",
    "        0.0, # 'blue',\n",
    "        1.0, # 'yellow',\n",
    "        0.5, # 'gray',\n",
    "    )\n",
    "        \n",
    "    for idx, title in enumerate(titles):\n",
    "        heatmap_fig = plot_df(\n",
    "            runname=runname, \n",
    "            title=title, \n",
    "            col_i=col_i,\n",
    "            col_j=col_j, \n",
    "            col_data=col_data,\n",
    "            heatmap_data=df_color if title == title_cmp else dfs_heatmap_data[idx],\n",
    "            df_ranks=df_cmp if title == title_cmp else dfs_ranks[idx],\n",
    "        )\n",
    "          \n",
    "        # Add heatmap to the subplot\n",
    "        for trace in heatmap_fig.data:\n",
    "            if title != title_cmp:\n",
    "                trace.update(coloraxis=\"coloraxis1\")  # Link each subplot to the shared color axis\n",
    "            else:\n",
    "                trace.update(coloraxis=\"coloraxis2\", showscale=False)\n",
    "            trace.update(showscale=title != title_cmp)  # Show colorbar only if it's not the Comparison plot\n",
    "            fig.add_trace(trace, row=1, col=idx + 1)\n",
    "            \n",
    "       \n",
    "        # Apply axis settings to each subplot\n",
    "        xaxis_key = f\"xaxis{idx + 1}\" if idx > 0 else \"xaxis\"\n",
    "        yaxis_key = f\"yaxis{idx + 1}\" if idx > 0 else \"yaxis\"\n",
    "        \n",
    "        fig.update_layout(**{\n",
    "            xaxis_key: dict(\n",
    "                title=col_j,\n",
    "                tickmode=\"array\",\n",
    "                tickvals=list(dfs_heatmap_data[0].columns),\n",
    "                ticktext=dfs_heatmap_data[0].columns.tolist(),\n",
    "                title_standoff=7,  # Move x-axis title closer\n",
    "                automargin=True,\n",
    "            ),\n",
    "            yaxis_key: dict(\n",
    "                title=col_i,\n",
    "                tickmode=\"array\",\n",
    "                tickvals=list(dfs_heatmap_data[0].index),\n",
    "                ticktext=dfs_heatmap_data[0].index.tolist(),\n",
    "                autorange=\"reversed\",  # Reverse the y-axis for top-to-bottom ticks\n",
    "                title_standoff=0,  # Move y-axis title closer\n",
    "                automargin=True,\n",
    "            )\n",
    "        })\n",
    "    \n",
    "    # Update layout with shared color scale\n",
    "    label_are_bridges = 'maps with high connectivity' if are_bridges else 'maps with low connectivity'\n",
    "    fig.update_layout(\n",
    "        title=f\"{col_data}<br>(slowness: {slowness}; coordination strategies)\",\n",
    "        coloraxis1=dict(\n",
    "            colorscale=\"Greens\",  # Apply \"Greens\" color scale to the shared color axis\n",
    "            colorbar=dict(\n",
    "                title=col_data,\n",
    "                titlefont=dict(size=12),\n",
    "                x=-0.08,\n",
    "                titleside=\"right\",\n",
    "                thickness=10\n",
    "            )\n",
    "        ),\n",
    "        coloraxis2=dict(\n",
    "            colorscale=[\n",
    "             #   [0.0, '#0000ff'],  # 0.0 is P\n",
    "             #   [0.5, '#808080'],  # 0.5 is PS\n",
    "             #   [1.0, '#ffff00'],  # 1.0 is S\n",
    "             #   [0.0, '#ADD8E6'],  # Light blue (replacing '#0000ff')\n",
    "             #   [0.5, '#FFFFE0'],  # Light yellow (replacing '#ffff00')\n",
    "             #   [1.0, '#D3D3D3'],  # Light Gray (replacing '#808080')\n",
    "                \n",
    "                [0.0, '#FFFFE0'],  \n",
    "                [0.5, '#D3D3D3'], \n",
    "                [1.0, '#ADD8E6'], \n",
    "\n",
    "            ],\n",
    "         #   colorbar={\"x\": 1000},\n",
    "        )\n",
    "    )\n",
    "    \n",
    "    # Display the figure\n",
    "    fig.show()\n",
    "\n",
    "\n",
    "\"\"\"\n",
    "- No. of completed missions\n",
    "- Average mission length\n",
    "- Average CS density score\n",
    "\n",
    "Hypotheses:\n",
    "- less Average mission length -> more No. of completed\n",
    "- less Average CS density score -> more No. of completed missions (& less collisions, etc.) \n",
    "\"\"\"\n",
    "\n",
    "def plot_runname(runname):\n",
    "    for are_bridges in False, True:\n",
    "        label_are_bridges = 'Maps with high connectivity' if are_bridges else 'Maps with low connectivity'\n",
    "        display(HTML(f'<h2>{label_are_bridges}</h2>'))\n",
    "        for slowness in (\n",
    "                'baseline', \n",
    "                'without rerouting',\n",
    "                'with rerouting',\n",
    "        ):\n",
    "            plot_df_all(runname, \n",
    "                        are_bridges=are_bridges,\n",
    "                        slowness=slowness)\n",
    "            \n",
    "plot_runname('20241230_173555')"
   ],
   "id": "initial_id",
   "outputs": [
    {
     "data": {
      "text/plain": [
       "<IPython.core.display.HTML object>"
      ],
      "text/html": [
       "<h2>Maps with low connectivity</h2>"
      ]
     },
     "metadata": {},
     "output_type": "display_data"
    },
    {
     "data": {
      "application/vnd.plotly.v1+json": {
       "data": [
        {
         "coloraxis": "coloraxis",
         "hovertemplate": "i_map: %{y}<br>position: %{x}<br>No. of completed missions: %{z}<extra></extra>",
         "name": "0",
         "showscale": true,
         "text": [
          [
           1.0,
           1.0,
           1.0,
           1.0,
           1.0,
           1.0,
           1.0,
           1.0,
           1.0,
           1.0
          ],
          [
           1.0,
           1.0,
           1.0,
           1.0,
           1.0,
           1.0,
           1.0,
           1.0,
           1.0,
           1.0
          ],
          [
           1.0,
           1.0,
           1.0,
           1.0,
           1.0,
           1.0,
           1.0,
           1.0,
           1.0,
           1.0
          ],
          [
           1.0,
           1.0,
           1.0,
           1.0,
           1.0,
           1.0,
           1.0,
           1.0,
           1.0,
           1.0
          ],
          [
           1.0,
           2.0,
           2.0,
           2.0,
           2.0,
           1.0,
           1.0,
           1.0,
           2.0,
           2.0
          ],
          [
           1.0,
           1.0,
           1.0,
           1.0,
           1.0,
           1.0,
           1.0,
           1.0,
           1.0,
           1.0
          ],
          [
           1.0,
           2.0,
           1.0,
           1.0,
           2.0,
           2.0,
           2.0,
           2.0,
           2.0,
           1.0
          ],
          [
           1.0,
           1.0,
           1.0,
           1.0,
           2.0,
           1.0,
           1.0,
           1.0,
           1.0,
           1.0
          ],
          [
           1.0,
           1.0,
           1.0,
           1.0,
           1.0,
           3.0,
           1.0,
           1.0,
           1.0,
           1.0
          ],
          [
           1.0,
           1.0,
           1.0,
           1.0,
           1.0,
           1.0,
           1.0,
           1.0,
           1.0,
           1.0
          ]
         ],
         "texttemplate": "%{text}",
         "x": [
          1,
          2,
          3,
          4,
          5,
          6,
          7,
          8,
          9,
          10
         ],
         "xaxis": "x",
         "y": [
          1,
          2,
          3,
          4,
          5,
          6,
          7,
          8,
          9,
          10
         ],
         "yaxis": "y",
         "z": [
          [
           34,
           36,
           23,
           23,
           36,
           25,
           27,
           27,
           37,
           41
          ],
          [
           26,
           24,
           25,
           29,
           24,
           20,
           23,
           19,
           23,
           20
          ],
          [
           21,
           21,
           19,
           20,
           21,
           24,
           13,
           21,
           23,
           21
          ],
          [
           20,
           20,
           22,
           21,
           23,
           23,
           18,
           21,
           22,
           26
          ],
          [
           18,
           14,
           27,
           14,
           11,
           24,
           19,
           18,
           14,
           14
          ],
          [
           28,
           31,
           32,
           30,
           31,
           25,
           28,
           28,
           22,
           35
          ],
          [
           18,
           17,
           22,
           21,
           17,
           13,
           15,
           13,
           15,
           23
          ],
          [
           19,
           16,
           19,
           22,
           21,
           20,
           18,
           16,
           24,
           24
          ],
          [
           16,
           23,
           22,
           17,
           19,
           2,
           15,
           21,
           21,
           24
          ],
          [
           34,
           31,
           33,
           26,
           36,
           44,
           28,
           31,
           29,
           31
          ]
         ],
         "type": "heatmap"
        },
        {
         "coloraxis": "coloraxis",
         "hovertemplate": "i_map: %{y}<br>position: %{x}<br>No. of completed missions: %{z}<extra></extra>",
         "name": "0",
         "showscale": true,
         "text": [
          [
           2.0,
           3.0,
           1.0,
           2.0,
           2.0,
           2.0,
           2.0,
           2.0,
           3.0,
           2.0
          ],
          [
           2.0,
           2.0,
           3.0,
           2.0,
           2.0,
           2.0,
           2.0,
           2.0,
           2.0,
           2.0
          ],
          [
           2.0,
           2.0,
           3.0,
           2.0,
           2.0,
           2.0,
           2.0,
           3.0,
           3.0,
           3.0
          ],
          [
           3.0,
           2.0,
           1.0,
           3.0,
           2.0,
           3.0,
           3.0,
           2.0,
           3.0,
           1.0
          ],
          [
           1.0,
           1.0,
           1.0,
           1.0,
           1.0,
           2.0,
           3.0,
           1.0,
           1.0,
           1.0
          ],
          [
           2.0,
           1.0,
           3.0,
           2.0,
           2.0,
           2.0,
           2.0,
           2.0,
           3.0,
           2.0
          ],
          [
           3.0,
           1.0,
           2.0,
           3.0,
           1.0,
           1.0,
           1.0,
           1.0,
           1.0,
           1.0
          ],
          [
           3.0,
           1.0,
           2.0,
           2.0,
           1.0,
           2.0,
           3.0,
           3.0,
           2.0,
           1.0
          ],
          [
           3.0,
           3.0,
           2.0,
           1.0,
           2.0,
           1.0,
           1.0,
           2.0,
           3.0,
           3.0
          ],
          [
           1.0,
           2.0,
           2.0,
           1.0,
           2.0,
           1.0,
           2.0,
           2.0,
           2.0,
           2.0
          ]
         ],
         "texttemplate": "%{text}",
         "x": [
          1,
          2,
          3,
          4,
          5,
          6,
          7,
          8,
          9,
          10
         ],
         "xaxis": "x2",
         "y": [
          1,
          2,
          3,
          4,
          5,
          6,
          7,
          8,
          9,
          10
         ],
         "yaxis": "y2",
         "z": [
          [
           33,
           20,
           23,
           22,
           3,
           22,
           26,
           26,
           31,
           39
          ],
          [
           5,
           4,
           5,
           26,
           1,
           19,
           4,
           18,
           4,
           0
          ],
          [
           20,
           20,
           2,
           2,
           19,
           12,
           1,
           2,
           14,
           1
          ],
          [
           7,
           18,
           22,
           1,
           12,
           1,
           10,
           20,
           1,
           26
          ],
          [
           18,
           16,
           29,
           18,
           12,
           22,
           12,
           18,
           18,
           16
          ],
          [
           24,
           31,
           15,
           28,
           30,
           24,
           25,
           27,
           9,
           15
          ],
          [
           6,
           19,
           21,
           6,
           19,
           14,
           16,
           14,
           16,
           23
          ],
          [
           11,
           16,
           17,
           21,
           22,
           2,
           6,
           5,
           2,
           24
          ],
          [
           5,
           2,
           20,
           17,
           17,
           14,
           15,
           19,
           2,
           8
          ],
          [
           34,
           30,
           29,
           26,
           35,
           44,
           27,
           30,
           27,
           30
          ]
         ],
         "type": "heatmap"
        },
        {
         "coloraxis": "coloraxis",
         "hovertemplate": "i_map: %{y}<br>position: %{x}<br>No. of completed missions: %{z}<extra></extra>",
         "name": "0",
         "showscale": true,
         "text": [
          [
           3.0,
           2.0,
           3.0,
           2.0,
           2.0,
           2.0,
           3.0,
           3.0,
           2.0,
           3.0
          ],
          [
           2.0,
           3.0,
           2.0,
           3.0,
           2.0,
           3.0,
           3.0,
           3.0,
           3.0,
           2.0
          ],
          [
           3.0,
           3.0,
           2.0,
           2.0,
           3.0,
           3.0,
           2.0,
           2.0,
           2.0,
           2.0
          ],
          [
           2.0,
           3.0,
           3.0,
           2.0,
           3.0,
           2.0,
           2.0,
           3.0,
           2.0,
           3.0
          ],
          [
           3.0,
           3.0,
           3.0,
           3.0,
           3.0,
           3.0,
           2.0,
           3.0,
           3.0,
           3.0
          ],
          [
           3.0,
           3.0,
           1.0,
           3.0,
           3.0,
           3.0,
           3.0,
           3.0,
           2.0,
           2.0
          ],
          [
           2.0,
           3.0,
           3.0,
           2.0,
           3.0,
           2.0,
           3.0,
           2.0,
           3.0,
           3.0
          ],
          [
           2.0,
           3.0,
           3.0,
           3.0,
           3.0,
           3.0,
           2.0,
           2.0,
           2.0,
           3.0
          ],
          [
           2.0,
           2.0,
           3.0,
           3.0,
           3.0,
           2.0,
           3.0,
           3.0,
           2.0,
           2.0
          ],
          [
           3.0,
           3.0,
           3.0,
           3.0,
           3.0,
           3.0,
           3.0,
           3.0,
           3.0,
           3.0
          ]
         ],
         "texttemplate": "%{text}",
         "x": [
          1,
          2,
          3,
          4,
          5,
          6,
          7,
          8,
          9,
          10
         ],
         "xaxis": "x3",
         "y": [
          1,
          2,
          3,
          4,
          5,
          6,
          7,
          8,
          9,
          10
         ],
         "yaxis": "y3",
         "z": [
          [
           29,
           33,
           21,
           22,
           3,
           22,
           24,
           22,
           32,
           33
          ],
          [
           5,
           0,
           8,
           9,
           1,
           16,
           0,
           15,
           0,
           0
          ],
          [
           8,
           8,
           4,
           2,
           17,
           8,
           1,
           6,
           19,
           17
          ],
          [
           14,
           12,
           18,
           17,
           1,
           18,
           12,
           17,
           17,
           12
          ],
          [
           15,
           13,
           1,
           13,
           6,
           21,
           17,
           15,
           13,
           13
          ],
          [
           23,
           29,
           32,
           26,
           28,
           21,
           24,
           24,
           16,
           15
          ],
          [
           15,
           15,
           17,
           17,
           15,
           13,
           13,
           13,
           8,
           19
          ],
          [
           17,
           14,
           14,
           6,
           14,
           1,
           14,
           12,
           2,
           20
          ],
          [
           13,
           19,
           17,
           1,
           5,
           13,
           14,
           5,
           17,
           19
          ],
          [
           12,
           26,
           28,
           23,
           31,
           41,
           24,
           28,
           24,
           26
          ]
         ],
         "type": "heatmap"
        },
        {
         "coloraxis": "coloraxis2",
         "hovertemplate": "i_map: %{y}<br>position: %{x}<br>No. of completed missions: %{z}<extra></extra>",
         "name": "0",
         "showscale": false,
         "text": [
          [
           "P",
           "S",
           "P",
           "PS",
           "PS",
           "PS",
           "P",
           "P",
           "S",
           "P"
          ],
          [
           "PS",
           "P",
           "S",
           "P",
           "PS",
           "P",
           "P",
           "P",
           "P",
           "PS"
          ],
          [
           "P",
           "P",
           "S",
           "PS",
           "P",
           "P",
           "PS",
           "S",
           "S",
           "S"
          ],
          [
           "S",
           "P",
           "P",
           "S",
           "P",
           "S",
           "S",
           "P",
           "S",
           "P"
          ],
          [
           "P",
           "P",
           "P",
           "P",
           "P",
           "P",
           "S",
           "P",
           "P",
           "P"
          ],
          [
           "P",
           "P",
           "S",
           "P",
           "P",
           "P",
           "P",
           "P",
           "S",
           "PS"
          ],
          [
           "S",
           "P",
           "P",
           "S",
           "P",
           "P",
           "P",
           "P",
           "P",
           "P"
          ],
          [
           "S",
           "P",
           "P",
           "P",
           "P",
           "P",
           "S",
           "S",
           "PS",
           "P"
          ],
          [
           "S",
           "S",
           "P",
           "P",
           "P",
           "P",
           "P",
           "P",
           "S",
           "S"
          ],
          [
           "P",
           "P",
           "P",
           "P",
           "P",
           "P",
           "P",
           "P",
           "P",
           "P"
          ]
         ],
         "texttemplate": "%{text}",
         "x": [
          1,
          2,
          3,
          4,
          5,
          6,
          7,
          8,
          9,
          10
         ],
         "xaxis": "x4",
         "y": [
          1,
          2,
          3,
          4,
          5,
          6,
          7,
          8,
          9,
          10
         ],
         "yaxis": "y4",
         "z": [
          [
           0.0,
           1.0,
           0.0,
           0.5,
           0.5,
           0.5,
           0.0,
           0.0,
           1.0,
           0.0
          ],
          [
           0.5,
           0.0,
           1.0,
           0.0,
           0.5,
           0.0,
           0.0,
           0.0,
           0.0,
           0.5
          ],
          [
           0.0,
           0.0,
           1.0,
           0.5,
           0.0,
           0.0,
           0.5,
           1.0,
           1.0,
           1.0
          ],
          [
           1.0,
           0.0,
           0.0,
           1.0,
           0.0,
           1.0,
           1.0,
           0.0,
           1.0,
           0.0
          ],
          [
           0.0,
           0.0,
           0.0,
           0.0,
           0.0,
           0.0,
           1.0,
           0.0,
           0.0,
           0.0
          ],
          [
           0.0,
           0.0,
           1.0,
           0.0,
           0.0,
           0.0,
           0.0,
           0.0,
           1.0,
           0.5
          ],
          [
           1.0,
           0.0,
           0.0,
           1.0,
           0.0,
           0.0,
           0.0,
           0.0,
           0.0,
           0.0
          ],
          [
           1.0,
           0.0,
           0.0,
           0.0,
           0.0,
           0.0,
           1.0,
           1.0,
           0.5,
           0.0
          ],
          [
           1.0,
           1.0,
           0.0,
           0.0,
           0.0,
           0.0,
           0.0,
           0.0,
           1.0,
           1.0
          ],
          [
           0.0,
           0.0,
           0.0,
           0.0,
           0.0,
           0.0,
           0.0,
           0.0,
           0.0,
           0.0
          ]
         ],
         "type": "heatmap"
        }
       ],
       "layout": {
        "template": {
         "data": {
          "histogram2dcontour": [
           {
            "type": "histogram2dcontour",
            "colorbar": {
             "outlinewidth": 0,
             "ticks": ""
            },
            "colorscale": [
             [
              0.0,
              "#0d0887"
             ],
             [
              0.1111111111111111,
              "#46039f"
             ],
             [
              0.2222222222222222,
              "#7201a8"
             ],
             [
              0.3333333333333333,
              "#9c179e"
             ],
             [
              0.4444444444444444,
              "#bd3786"
             ],
             [
              0.5555555555555556,
              "#d8576b"
             ],
             [
              0.6666666666666666,
              "#ed7953"
             ],
             [
              0.7777777777777778,
              "#fb9f3a"
             ],
             [
              0.8888888888888888,
              "#fdca26"
             ],
             [
              1.0,
              "#f0f921"
             ]
            ]
           }
          ],
          "choropleth": [
           {
            "type": "choropleth",
            "colorbar": {
             "outlinewidth": 0,
             "ticks": ""
            }
           }
          ],
          "histogram2d": [
           {
            "type": "histogram2d",
            "colorbar": {
             "outlinewidth": 0,
             "ticks": ""
            },
            "colorscale": [
             [
              0.0,
              "#0d0887"
             ],
             [
              0.1111111111111111,
              "#46039f"
             ],
             [
              0.2222222222222222,
              "#7201a8"
             ],
             [
              0.3333333333333333,
              "#9c179e"
             ],
             [
              0.4444444444444444,
              "#bd3786"
             ],
             [
              0.5555555555555556,
              "#d8576b"
             ],
             [
              0.6666666666666666,
              "#ed7953"
             ],
             [
              0.7777777777777778,
              "#fb9f3a"
             ],
             [
              0.8888888888888888,
              "#fdca26"
             ],
             [
              1.0,
              "#f0f921"
             ]
            ]
           }
          ],
          "heatmap": [
           {
            "type": "heatmap",
            "colorbar": {
             "outlinewidth": 0,
             "ticks": ""
            },
            "colorscale": [
             [
              0.0,
              "#0d0887"
             ],
             [
              0.1111111111111111,
              "#46039f"
             ],
             [
              0.2222222222222222,
              "#7201a8"
             ],
             [
              0.3333333333333333,
              "#9c179e"
             ],
             [
              0.4444444444444444,
              "#bd3786"
             ],
             [
              0.5555555555555556,
              "#d8576b"
             ],
             [
              0.6666666666666666,
              "#ed7953"
             ],
             [
              0.7777777777777778,
              "#fb9f3a"
             ],
             [
              0.8888888888888888,
              "#fdca26"
             ],
             [
              1.0,
              "#f0f921"
             ]
            ]
           }
          ],
          "heatmapgl": [
           {
            "type": "heatmapgl",
            "colorbar": {
             "outlinewidth": 0,
             "ticks": ""
            },
            "colorscale": [
             [
              0.0,
              "#0d0887"
             ],
             [
              0.1111111111111111,
              "#46039f"
             ],
             [
              0.2222222222222222,
              "#7201a8"
             ],
             [
              0.3333333333333333,
              "#9c179e"
             ],
             [
              0.4444444444444444,
              "#bd3786"
             ],
             [
              0.5555555555555556,
              "#d8576b"
             ],
             [
              0.6666666666666666,
              "#ed7953"
             ],
             [
              0.7777777777777778,
              "#fb9f3a"
             ],
             [
              0.8888888888888888,
              "#fdca26"
             ],
             [
              1.0,
              "#f0f921"
             ]
            ]
           }
          ],
          "contourcarpet": [
           {
            "type": "contourcarpet",
            "colorbar": {
             "outlinewidth": 0,
             "ticks": ""
            }
           }
          ],
          "contour": [
           {
            "type": "contour",
            "colorbar": {
             "outlinewidth": 0,
             "ticks": ""
            },
            "colorscale": [
             [
              0.0,
              "#0d0887"
             ],
             [
              0.1111111111111111,
              "#46039f"
             ],
             [
              0.2222222222222222,
              "#7201a8"
             ],
             [
              0.3333333333333333,
              "#9c179e"
             ],
             [
              0.4444444444444444,
              "#bd3786"
             ],
             [
              0.5555555555555556,
              "#d8576b"
             ],
             [
              0.6666666666666666,
              "#ed7953"
             ],
             [
              0.7777777777777778,
              "#fb9f3a"
             ],
             [
              0.8888888888888888,
              "#fdca26"
             ],
             [
              1.0,
              "#f0f921"
             ]
            ]
           }
          ],
          "surface": [
           {
            "type": "surface",
            "colorbar": {
             "outlinewidth": 0,
             "ticks": ""
            },
            "colorscale": [
             [
              0.0,
              "#0d0887"
             ],
             [
              0.1111111111111111,
              "#46039f"
             ],
             [
              0.2222222222222222,
              "#7201a8"
             ],
             [
              0.3333333333333333,
              "#9c179e"
             ],
             [
              0.4444444444444444,
              "#bd3786"
             ],
             [
              0.5555555555555556,
              "#d8576b"
             ],
             [
              0.6666666666666666,
              "#ed7953"
             ],
             [
              0.7777777777777778,
              "#fb9f3a"
             ],
             [
              0.8888888888888888,
              "#fdca26"
             ],
             [
              1.0,
              "#f0f921"
             ]
            ]
           }
          ],
          "mesh3d": [
           {
            "type": "mesh3d",
            "colorbar": {
             "outlinewidth": 0,
             "ticks": ""
            }
           }
          ],
          "scatter": [
           {
            "marker": {
             "line": {
              "color": "#283442"
             }
            },
            "type": "scatter"
           }
          ],
          "parcoords": [
           {
            "type": "parcoords",
            "line": {
             "colorbar": {
              "outlinewidth": 0,
              "ticks": ""
             }
            }
           }
          ],
          "scatterpolargl": [
           {
            "type": "scatterpolargl",
            "marker": {
             "colorbar": {
              "outlinewidth": 0,
              "ticks": ""
             }
            }
           }
          ],
          "bar": [
           {
            "error_x": {
             "color": "#f2f5fa"
            },
            "error_y": {
             "color": "#f2f5fa"
            },
            "marker": {
             "line": {
              "color": "rgb(17,17,17)",
              "width": 0.5
             },
             "pattern": {
              "fillmode": "overlay",
              "size": 10,
              "solidity": 0.2
             }
            },
            "type": "bar"
           }
          ],
          "scattergeo": [
           {
            "type": "scattergeo",
            "marker": {
             "colorbar": {
              "outlinewidth": 0,
              "ticks": ""
             }
            }
           }
          ],
          "scatterpolar": [
           {
            "type": "scatterpolar",
            "marker": {
             "colorbar": {
              "outlinewidth": 0,
              "ticks": ""
             }
            }
           }
          ],
          "histogram": [
           {
            "marker": {
             "pattern": {
              "fillmode": "overlay",
              "size": 10,
              "solidity": 0.2
             }
            },
            "type": "histogram"
           }
          ],
          "scattergl": [
           {
            "marker": {
             "line": {
              "color": "#283442"
             }
            },
            "type": "scattergl"
           }
          ],
          "scatter3d": [
           {
            "type": "scatter3d",
            "line": {
             "colorbar": {
              "outlinewidth": 0,
              "ticks": ""
             }
            },
            "marker": {
             "colorbar": {
              "outlinewidth": 0,
              "ticks": ""
             }
            }
           }
          ],
          "scattermapbox": [
           {
            "type": "scattermapbox",
            "marker": {
             "colorbar": {
              "outlinewidth": 0,
              "ticks": ""
             }
            }
           }
          ],
          "scatterternary": [
           {
            "type": "scatterternary",
            "marker": {
             "colorbar": {
              "outlinewidth": 0,
              "ticks": ""
             }
            }
           }
          ],
          "scattercarpet": [
           {
            "type": "scattercarpet",
            "marker": {
             "colorbar": {
              "outlinewidth": 0,
              "ticks": ""
             }
            }
           }
          ],
          "carpet": [
           {
            "aaxis": {
             "endlinecolor": "#A2B1C6",
             "gridcolor": "#506784",
             "linecolor": "#506784",
             "minorgridcolor": "#506784",
             "startlinecolor": "#A2B1C6"
            },
            "baxis": {
             "endlinecolor": "#A2B1C6",
             "gridcolor": "#506784",
             "linecolor": "#506784",
             "minorgridcolor": "#506784",
             "startlinecolor": "#A2B1C6"
            },
            "type": "carpet"
           }
          ],
          "table": [
           {
            "cells": {
             "fill": {
              "color": "#506784"
             },
             "line": {
              "color": "rgb(17,17,17)"
             }
            },
            "header": {
             "fill": {
              "color": "#2a3f5f"
             },
             "line": {
              "color": "rgb(17,17,17)"
             }
            },
            "type": "table"
           }
          ],
          "barpolar": [
           {
            "marker": {
             "line": {
              "color": "rgb(17,17,17)",
              "width": 0.5
             },
             "pattern": {
              "fillmode": "overlay",
              "size": 10,
              "solidity": 0.2
             }
            },
            "type": "barpolar"
           }
          ],
          "pie": [
           {
            "automargin": true,
            "type": "pie"
           }
          ]
         },
         "layout": {
          "autotypenumbers": "strict",
          "colorway": [
           "#636efa",
           "#EF553B",
           "#00cc96",
           "#ab63fa",
           "#FFA15A",
           "#19d3f3",
           "#FF6692",
           "#B6E880",
           "#FF97FF",
           "#FECB52"
          ],
          "font": {
           "color": "#f2f5fa"
          },
          "hovermode": "closest",
          "hoverlabel": {
           "align": "left"
          },
          "paper_bgcolor": "rgb(17,17,17)",
          "plot_bgcolor": "rgb(17,17,17)",
          "polar": {
           "bgcolor": "rgb(17,17,17)",
           "angularaxis": {
            "gridcolor": "#506784",
            "linecolor": "#506784",
            "ticks": ""
           },
           "radialaxis": {
            "gridcolor": "#506784",
            "linecolor": "#506784",
            "ticks": ""
           }
          },
          "ternary": {
           "bgcolor": "rgb(17,17,17)",
           "aaxis": {
            "gridcolor": "#506784",
            "linecolor": "#506784",
            "ticks": ""
           },
           "baxis": {
            "gridcolor": "#506784",
            "linecolor": "#506784",
            "ticks": ""
           },
           "caxis": {
            "gridcolor": "#506784",
            "linecolor": "#506784",
            "ticks": ""
           }
          },
          "coloraxis": {
           "colorbar": {
            "outlinewidth": 0,
            "ticks": ""
           }
          },
          "colorscale": {
           "sequential": [
            [
             0.0,
             "#0d0887"
            ],
            [
             0.1111111111111111,
             "#46039f"
            ],
            [
             0.2222222222222222,
             "#7201a8"
            ],
            [
             0.3333333333333333,
             "#9c179e"
            ],
            [
             0.4444444444444444,
             "#bd3786"
            ],
            [
             0.5555555555555556,
             "#d8576b"
            ],
            [
             0.6666666666666666,
             "#ed7953"
            ],
            [
             0.7777777777777778,
             "#fb9f3a"
            ],
            [
             0.8888888888888888,
             "#fdca26"
            ],
            [
             1.0,
             "#f0f921"
            ]
           ],
           "sequentialminus": [
            [
             0.0,
             "#0d0887"
            ],
            [
             0.1111111111111111,
             "#46039f"
            ],
            [
             0.2222222222222222,
             "#7201a8"
            ],
            [
             0.3333333333333333,
             "#9c179e"
            ],
            [
             0.4444444444444444,
             "#bd3786"
            ],
            [
             0.5555555555555556,
             "#d8576b"
            ],
            [
             0.6666666666666666,
             "#ed7953"
            ],
            [
             0.7777777777777778,
             "#fb9f3a"
            ],
            [
             0.8888888888888888,
             "#fdca26"
            ],
            [
             1.0,
             "#f0f921"
            ]
           ],
           "diverging": [
            [
             0,
             "#8e0152"
            ],
            [
             0.1,
             "#c51b7d"
            ],
            [
             0.2,
             "#de77ae"
            ],
            [
             0.3,
             "#f1b6da"
            ],
            [
             0.4,
             "#fde0ef"
            ],
            [
             0.5,
             "#f7f7f7"
            ],
            [
             0.6,
             "#e6f5d0"
            ],
            [
             0.7,
             "#b8e186"
            ],
            [
             0.8,
             "#7fbc41"
            ],
            [
             0.9,
             "#4d9221"
            ],
            [
             1,
             "#276419"
            ]
           ]
          },
          "xaxis": {
           "gridcolor": "#283442",
           "linecolor": "#506784",
           "ticks": "",
           "title": {
            "standoff": 15
           },
           "zerolinecolor": "#283442",
           "automargin": true,
           "zerolinewidth": 2
          },
          "yaxis": {
           "gridcolor": "#283442",
           "linecolor": "#506784",
           "ticks": "",
           "title": {
            "standoff": 15
           },
           "zerolinecolor": "#283442",
           "automargin": true,
           "zerolinewidth": 2
          },
          "scene": {
           "xaxis": {
            "backgroundcolor": "rgb(17,17,17)",
            "gridcolor": "#506784",
            "linecolor": "#506784",
            "showbackground": true,
            "ticks": "",
            "zerolinecolor": "#C8D4E3",
            "gridwidth": 2
           },
           "yaxis": {
            "backgroundcolor": "rgb(17,17,17)",
            "gridcolor": "#506784",
            "linecolor": "#506784",
            "showbackground": true,
            "ticks": "",
            "zerolinecolor": "#C8D4E3",
            "gridwidth": 2
           },
           "zaxis": {
            "backgroundcolor": "rgb(17,17,17)",
            "gridcolor": "#506784",
            "linecolor": "#506784",
            "showbackground": true,
            "ticks": "",
            "zerolinecolor": "#C8D4E3",
            "gridwidth": 2
           }
          },
          "shapedefaults": {
           "line": {
            "color": "#f2f5fa"
           }
          },
          "annotationdefaults": {
           "arrowcolor": "#f2f5fa",
           "arrowhead": 0,
           "arrowwidth": 1
          },
          "geo": {
           "bgcolor": "rgb(17,17,17)",
           "landcolor": "rgb(17,17,17)",
           "subunitcolor": "#506784",
           "showland": true,
           "showlakes": true,
           "lakecolor": "rgb(17,17,17)"
          },
          "title": {
           "x": 0.05
          },
          "updatemenudefaults": {
           "bgcolor": "#506784",
           "borderwidth": 0
          },
          "sliderdefaults": {
           "bgcolor": "#C8D4E3",
           "borderwidth": 1,
           "bordercolor": "rgb(17,17,17)",
           "tickwidth": 0
          },
          "mapbox": {
           "style": "dark"
          }
         }
        },
        "xaxis": {
         "anchor": "y",
         "domain": [
          0.0,
          0.2125
         ],
         "title": {
          "text": "position",
          "standoff": 7
         },
         "tickmode": "array",
         "tickvals": [
          1,
          2,
          3,
          4,
          5,
          6,
          7,
          8,
          9,
          10
         ],
         "ticktext": [
          1,
          2,
          3,
          4,
          5,
          6,
          7,
          8,
          9,
          10
         ],
         "automargin": true
        },
        "yaxis": {
         "anchor": "x",
         "domain": [
          0.0,
          1.0
         ],
         "title": {
          "text": "i_map",
          "standoff": 0
         },
         "tickmode": "array",
         "tickvals": [
          1,
          2,
          3,
          4,
          5,
          6,
          7,
          8,
          9,
          10
         ],
         "ticktext": [
          1,
          2,
          3,
          4,
          5,
          6,
          7,
          8,
          9,
          10
         ],
         "autorange": "reversed",
         "automargin": true
        },
        "xaxis2": {
         "anchor": "y2",
         "domain": [
          0.2625,
          0.475
         ],
         "title": {
          "text": "position",
          "standoff": 7
         },
         "tickmode": "array",
         "tickvals": [
          1,
          2,
          3,
          4,
          5,
          6,
          7,
          8,
          9,
          10
         ],
         "ticktext": [
          1,
          2,
          3,
          4,
          5,
          6,
          7,
          8,
          9,
          10
         ],
         "automargin": true
        },
        "yaxis2": {
         "anchor": "x2",
         "domain": [
          0.0,
          1.0
         ],
         "title": {
          "text": "i_map",
          "standoff": 0
         },
         "tickmode": "array",
         "tickvals": [
          1,
          2,
          3,
          4,
          5,
          6,
          7,
          8,
          9,
          10
         ],
         "ticktext": [
          1,
          2,
          3,
          4,
          5,
          6,
          7,
          8,
          9,
          10
         ],
         "autorange": "reversed",
         "automargin": true
        },
        "xaxis3": {
         "anchor": "y3",
         "domain": [
          0.525,
          0.7375
         ],
         "title": {
          "text": "position",
          "standoff": 7
         },
         "tickmode": "array",
         "tickvals": [
          1,
          2,
          3,
          4,
          5,
          6,
          7,
          8,
          9,
          10
         ],
         "ticktext": [
          1,
          2,
          3,
          4,
          5,
          6,
          7,
          8,
          9,
          10
         ],
         "automargin": true
        },
        "yaxis3": {
         "anchor": "x3",
         "domain": [
          0.0,
          1.0
         ],
         "title": {
          "text": "i_map",
          "standoff": 0
         },
         "tickmode": "array",
         "tickvals": [
          1,
          2,
          3,
          4,
          5,
          6,
          7,
          8,
          9,
          10
         ],
         "ticktext": [
          1,
          2,
          3,
          4,
          5,
          6,
          7,
          8,
          9,
          10
         ],
         "autorange": "reversed",
         "automargin": true
        },
        "xaxis4": {
         "anchor": "y4",
         "domain": [
          0.7875,
          1.0
         ],
         "title": {
          "text": "position",
          "standoff": 7
         },
         "tickmode": "array",
         "tickvals": [
          1,
          2,
          3,
          4,
          5,
          6,
          7,
          8,
          9,
          10
         ],
         "ticktext": [
          1,
          2,
          3,
          4,
          5,
          6,
          7,
          8,
          9,
          10
         ],
         "automargin": true
        },
        "yaxis4": {
         "anchor": "x4",
         "domain": [
          0.0,
          1.0
         ],
         "title": {
          "text": "i_map",
          "standoff": 0
         },
         "tickmode": "array",
         "tickvals": [
          1,
          2,
          3,
          4,
          5,
          6,
          7,
          8,
          9,
          10
         ],
         "ticktext": [
          1,
          2,
          3,
          4,
          5,
          6,
          7,
          8,
          9,
          10
         ],
         "autorange": "reversed",
         "automargin": true
        },
        "annotations": [
         {
          "font": {
           "size": 16
          },
          "showarrow": false,
          "text": "baseline",
          "x": 0.10625,
          "xanchor": "center",
          "xref": "paper",
          "y": 1.0,
          "yanchor": "bottom",
          "yref": "paper"
         },
         {
          "font": {
           "size": 16
          },
          "showarrow": false,
          "text": "change of priorities",
          "x": 0.36875,
          "xanchor": "center",
          "xref": "paper",
          "y": 1.0,
          "yanchor": "bottom",
          "yref": "paper"
         },
         {
          "font": {
           "size": 16
          },
          "showarrow": false,
          "text": "stops",
          "x": 0.6312500000000001,
          "xanchor": "center",
          "xref": "paper",
          "y": 1.0,
          "yanchor": "bottom",
          "yref": "paper"
         },
         {
          "font": {
           "size": 16
          },
          "showarrow": false,
          "text": "Strategies Comparison",
          "x": 0.89375,
          "xanchor": "center",
          "xref": "paper",
          "y": 1.0,
          "yanchor": "bottom",
          "yref": "paper"
         }
        ],
        "coloraxis": {
         "colorbar": {
          "title": {
           "text": "No. of completed missions",
           "font": {
            "size": 12
           },
           "side": "right"
          },
          "x": -0.08,
          "thickness": 10
         },
         "colorscale": [
          [
           0.0,
           "rgb(247,252,245)"
          ],
          [
           0.125,
           "rgb(229,245,224)"
          ],
          [
           0.25,
           "rgb(199,233,192)"
          ],
          [
           0.375,
           "rgb(161,217,155)"
          ],
          [
           0.5,
           "rgb(116,196,118)"
          ],
          [
           0.625,
           "rgb(65,171,93)"
          ],
          [
           0.75,
           "rgb(35,139,69)"
          ],
          [
           0.875,
           "rgb(0,109,44)"
          ],
          [
           1.0,
           "rgb(0,68,27)"
          ]
         ]
        },
        "coloraxis2": {
         "colorscale": [
          [
           0.0,
           "#FFFFE0"
          ],
          [
           0.5,
           "#D3D3D3"
          ],
          [
           1.0,
           "#ADD8E6"
          ]
         ]
        },
        "title": {
         "text": "No. of completed missions<br>(slowness: baseline; coordination strategies)"
        }
       },
       "config": {
        "plotlyServerURL": "https://plot.ly"
       }
      },
      "text/html": [
       "<div>                            <div id=\"34396088-a50c-43b2-bd88-9bd864442c8d\" class=\"plotly-graph-div\" style=\"height:525px; width:100%;\"></div>            <script type=\"text/javascript\">                require([\"plotly\"], function(Plotly) {                    window.PLOTLYENV=window.PLOTLYENV || {};                                    if (document.getElementById(\"34396088-a50c-43b2-bd88-9bd864442c8d\")) {                    Plotly.newPlot(                        \"34396088-a50c-43b2-bd88-9bd864442c8d\",                        [{\"coloraxis\":\"coloraxis\",\"hovertemplate\":\"i_map: %{y}\\u003cbr\\u003eposition: %{x}\\u003cbr\\u003eNo. of completed missions: %{z}\\u003cextra\\u003e\\u003c\\u002fextra\\u003e\",\"name\":\"0\",\"showscale\":true,\"text\":[[1.0,1.0,1.0,1.0,1.0,1.0,1.0,1.0,1.0,1.0],[1.0,1.0,1.0,1.0,1.0,1.0,1.0,1.0,1.0,1.0],[1.0,1.0,1.0,1.0,1.0,1.0,1.0,1.0,1.0,1.0],[1.0,1.0,1.0,1.0,1.0,1.0,1.0,1.0,1.0,1.0],[1.0,2.0,2.0,2.0,2.0,1.0,1.0,1.0,2.0,2.0],[1.0,1.0,1.0,1.0,1.0,1.0,1.0,1.0,1.0,1.0],[1.0,2.0,1.0,1.0,2.0,2.0,2.0,2.0,2.0,1.0],[1.0,1.0,1.0,1.0,2.0,1.0,1.0,1.0,1.0,1.0],[1.0,1.0,1.0,1.0,1.0,3.0,1.0,1.0,1.0,1.0],[1.0,1.0,1.0,1.0,1.0,1.0,1.0,1.0,1.0,1.0]],\"texttemplate\":\"%{text}\",\"x\":[1,2,3,4,5,6,7,8,9,10],\"xaxis\":\"x\",\"y\":[1,2,3,4,5,6,7,8,9,10],\"yaxis\":\"y\",\"z\":[[34,36,23,23,36,25,27,27,37,41],[26,24,25,29,24,20,23,19,23,20],[21,21,19,20,21,24,13,21,23,21],[20,20,22,21,23,23,18,21,22,26],[18,14,27,14,11,24,19,18,14,14],[28,31,32,30,31,25,28,28,22,35],[18,17,22,21,17,13,15,13,15,23],[19,16,19,22,21,20,18,16,24,24],[16,23,22,17,19,2,15,21,21,24],[34,31,33,26,36,44,28,31,29,31]],\"type\":\"heatmap\"},{\"coloraxis\":\"coloraxis\",\"hovertemplate\":\"i_map: %{y}\\u003cbr\\u003eposition: %{x}\\u003cbr\\u003eNo. of completed missions: %{z}\\u003cextra\\u003e\\u003c\\u002fextra\\u003e\",\"name\":\"0\",\"showscale\":true,\"text\":[[2.0,3.0,1.0,2.0,2.0,2.0,2.0,2.0,3.0,2.0],[2.0,2.0,3.0,2.0,2.0,2.0,2.0,2.0,2.0,2.0],[2.0,2.0,3.0,2.0,2.0,2.0,2.0,3.0,3.0,3.0],[3.0,2.0,1.0,3.0,2.0,3.0,3.0,2.0,3.0,1.0],[1.0,1.0,1.0,1.0,1.0,2.0,3.0,1.0,1.0,1.0],[2.0,1.0,3.0,2.0,2.0,2.0,2.0,2.0,3.0,2.0],[3.0,1.0,2.0,3.0,1.0,1.0,1.0,1.0,1.0,1.0],[3.0,1.0,2.0,2.0,1.0,2.0,3.0,3.0,2.0,1.0],[3.0,3.0,2.0,1.0,2.0,1.0,1.0,2.0,3.0,3.0],[1.0,2.0,2.0,1.0,2.0,1.0,2.0,2.0,2.0,2.0]],\"texttemplate\":\"%{text}\",\"x\":[1,2,3,4,5,6,7,8,9,10],\"xaxis\":\"x2\",\"y\":[1,2,3,4,5,6,7,8,9,10],\"yaxis\":\"y2\",\"z\":[[33,20,23,22,3,22,26,26,31,39],[5,4,5,26,1,19,4,18,4,0],[20,20,2,2,19,12,1,2,14,1],[7,18,22,1,12,1,10,20,1,26],[18,16,29,18,12,22,12,18,18,16],[24,31,15,28,30,24,25,27,9,15],[6,19,21,6,19,14,16,14,16,23],[11,16,17,21,22,2,6,5,2,24],[5,2,20,17,17,14,15,19,2,8],[34,30,29,26,35,44,27,30,27,30]],\"type\":\"heatmap\"},{\"coloraxis\":\"coloraxis\",\"hovertemplate\":\"i_map: %{y}\\u003cbr\\u003eposition: %{x}\\u003cbr\\u003eNo. of completed missions: %{z}\\u003cextra\\u003e\\u003c\\u002fextra\\u003e\",\"name\":\"0\",\"showscale\":true,\"text\":[[3.0,2.0,3.0,2.0,2.0,2.0,3.0,3.0,2.0,3.0],[2.0,3.0,2.0,3.0,2.0,3.0,3.0,3.0,3.0,2.0],[3.0,3.0,2.0,2.0,3.0,3.0,2.0,2.0,2.0,2.0],[2.0,3.0,3.0,2.0,3.0,2.0,2.0,3.0,2.0,3.0],[3.0,3.0,3.0,3.0,3.0,3.0,2.0,3.0,3.0,3.0],[3.0,3.0,1.0,3.0,3.0,3.0,3.0,3.0,2.0,2.0],[2.0,3.0,3.0,2.0,3.0,2.0,3.0,2.0,3.0,3.0],[2.0,3.0,3.0,3.0,3.0,3.0,2.0,2.0,2.0,3.0],[2.0,2.0,3.0,3.0,3.0,2.0,3.0,3.0,2.0,2.0],[3.0,3.0,3.0,3.0,3.0,3.0,3.0,3.0,3.0,3.0]],\"texttemplate\":\"%{text}\",\"x\":[1,2,3,4,5,6,7,8,9,10],\"xaxis\":\"x3\",\"y\":[1,2,3,4,5,6,7,8,9,10],\"yaxis\":\"y3\",\"z\":[[29,33,21,22,3,22,24,22,32,33],[5,0,8,9,1,16,0,15,0,0],[8,8,4,2,17,8,1,6,19,17],[14,12,18,17,1,18,12,17,17,12],[15,13,1,13,6,21,17,15,13,13],[23,29,32,26,28,21,24,24,16,15],[15,15,17,17,15,13,13,13,8,19],[17,14,14,6,14,1,14,12,2,20],[13,19,17,1,5,13,14,5,17,19],[12,26,28,23,31,41,24,28,24,26]],\"type\":\"heatmap\"},{\"coloraxis\":\"coloraxis2\",\"hovertemplate\":\"i_map: %{y}\\u003cbr\\u003eposition: %{x}\\u003cbr\\u003eNo. of completed missions: %{z}\\u003cextra\\u003e\\u003c\\u002fextra\\u003e\",\"name\":\"0\",\"showscale\":false,\"text\":[[\"P\",\"S\",\"P\",\"PS\",\"PS\",\"PS\",\"P\",\"P\",\"S\",\"P\"],[\"PS\",\"P\",\"S\",\"P\",\"PS\",\"P\",\"P\",\"P\",\"P\",\"PS\"],[\"P\",\"P\",\"S\",\"PS\",\"P\",\"P\",\"PS\",\"S\",\"S\",\"S\"],[\"S\",\"P\",\"P\",\"S\",\"P\",\"S\",\"S\",\"P\",\"S\",\"P\"],[\"P\",\"P\",\"P\",\"P\",\"P\",\"P\",\"S\",\"P\",\"P\",\"P\"],[\"P\",\"P\",\"S\",\"P\",\"P\",\"P\",\"P\",\"P\",\"S\",\"PS\"],[\"S\",\"P\",\"P\",\"S\",\"P\",\"P\",\"P\",\"P\",\"P\",\"P\"],[\"S\",\"P\",\"P\",\"P\",\"P\",\"P\",\"S\",\"S\",\"PS\",\"P\"],[\"S\",\"S\",\"P\",\"P\",\"P\",\"P\",\"P\",\"P\",\"S\",\"S\"],[\"P\",\"P\",\"P\",\"P\",\"P\",\"P\",\"P\",\"P\",\"P\",\"P\"]],\"texttemplate\":\"%{text}\",\"x\":[1,2,3,4,5,6,7,8,9,10],\"xaxis\":\"x4\",\"y\":[1,2,3,4,5,6,7,8,9,10],\"yaxis\":\"y4\",\"z\":[[0.0,1.0,0.0,0.5,0.5,0.5,0.0,0.0,1.0,0.0],[0.5,0.0,1.0,0.0,0.5,0.0,0.0,0.0,0.0,0.5],[0.0,0.0,1.0,0.5,0.0,0.0,0.5,1.0,1.0,1.0],[1.0,0.0,0.0,1.0,0.0,1.0,1.0,0.0,1.0,0.0],[0.0,0.0,0.0,0.0,0.0,0.0,1.0,0.0,0.0,0.0],[0.0,0.0,1.0,0.0,0.0,0.0,0.0,0.0,1.0,0.5],[1.0,0.0,0.0,1.0,0.0,0.0,0.0,0.0,0.0,0.0],[1.0,0.0,0.0,0.0,0.0,0.0,1.0,1.0,0.5,0.0],[1.0,1.0,0.0,0.0,0.0,0.0,0.0,0.0,1.0,1.0],[0.0,0.0,0.0,0.0,0.0,0.0,0.0,0.0,0.0,0.0]],\"type\":\"heatmap\"}],                        {\"template\":{\"data\":{\"histogram2dcontour\":[{\"type\":\"histogram2dcontour\",\"colorbar\":{\"outlinewidth\":0,\"ticks\":\"\"},\"colorscale\":[[0.0,\"#0d0887\"],[0.1111111111111111,\"#46039f\"],[0.2222222222222222,\"#7201a8\"],[0.3333333333333333,\"#9c179e\"],[0.4444444444444444,\"#bd3786\"],[0.5555555555555556,\"#d8576b\"],[0.6666666666666666,\"#ed7953\"],[0.7777777777777778,\"#fb9f3a\"],[0.8888888888888888,\"#fdca26\"],[1.0,\"#f0f921\"]]}],\"choropleth\":[{\"type\":\"choropleth\",\"colorbar\":{\"outlinewidth\":0,\"ticks\":\"\"}}],\"histogram2d\":[{\"type\":\"histogram2d\",\"colorbar\":{\"outlinewidth\":0,\"ticks\":\"\"},\"colorscale\":[[0.0,\"#0d0887\"],[0.1111111111111111,\"#46039f\"],[0.2222222222222222,\"#7201a8\"],[0.3333333333333333,\"#9c179e\"],[0.4444444444444444,\"#bd3786\"],[0.5555555555555556,\"#d8576b\"],[0.6666666666666666,\"#ed7953\"],[0.7777777777777778,\"#fb9f3a\"],[0.8888888888888888,\"#fdca26\"],[1.0,\"#f0f921\"]]}],\"heatmap\":[{\"type\":\"heatmap\",\"colorbar\":{\"outlinewidth\":0,\"ticks\":\"\"},\"colorscale\":[[0.0,\"#0d0887\"],[0.1111111111111111,\"#46039f\"],[0.2222222222222222,\"#7201a8\"],[0.3333333333333333,\"#9c179e\"],[0.4444444444444444,\"#bd3786\"],[0.5555555555555556,\"#d8576b\"],[0.6666666666666666,\"#ed7953\"],[0.7777777777777778,\"#fb9f3a\"],[0.8888888888888888,\"#fdca26\"],[1.0,\"#f0f921\"]]}],\"heatmapgl\":[{\"type\":\"heatmapgl\",\"colorbar\":{\"outlinewidth\":0,\"ticks\":\"\"},\"colorscale\":[[0.0,\"#0d0887\"],[0.1111111111111111,\"#46039f\"],[0.2222222222222222,\"#7201a8\"],[0.3333333333333333,\"#9c179e\"],[0.4444444444444444,\"#bd3786\"],[0.5555555555555556,\"#d8576b\"],[0.6666666666666666,\"#ed7953\"],[0.7777777777777778,\"#fb9f3a\"],[0.8888888888888888,\"#fdca26\"],[1.0,\"#f0f921\"]]}],\"contourcarpet\":[{\"type\":\"contourcarpet\",\"colorbar\":{\"outlinewidth\":0,\"ticks\":\"\"}}],\"contour\":[{\"type\":\"contour\",\"colorbar\":{\"outlinewidth\":0,\"ticks\":\"\"},\"colorscale\":[[0.0,\"#0d0887\"],[0.1111111111111111,\"#46039f\"],[0.2222222222222222,\"#7201a8\"],[0.3333333333333333,\"#9c179e\"],[0.4444444444444444,\"#bd3786\"],[0.5555555555555556,\"#d8576b\"],[0.6666666666666666,\"#ed7953\"],[0.7777777777777778,\"#fb9f3a\"],[0.8888888888888888,\"#fdca26\"],[1.0,\"#f0f921\"]]}],\"surface\":[{\"type\":\"surface\",\"colorbar\":{\"outlinewidth\":0,\"ticks\":\"\"},\"colorscale\":[[0.0,\"#0d0887\"],[0.1111111111111111,\"#46039f\"],[0.2222222222222222,\"#7201a8\"],[0.3333333333333333,\"#9c179e\"],[0.4444444444444444,\"#bd3786\"],[0.5555555555555556,\"#d8576b\"],[0.6666666666666666,\"#ed7953\"],[0.7777777777777778,\"#fb9f3a\"],[0.8888888888888888,\"#fdca26\"],[1.0,\"#f0f921\"]]}],\"mesh3d\":[{\"type\":\"mesh3d\",\"colorbar\":{\"outlinewidth\":0,\"ticks\":\"\"}}],\"scatter\":[{\"marker\":{\"line\":{\"color\":\"#283442\"}},\"type\":\"scatter\"}],\"parcoords\":[{\"type\":\"parcoords\",\"line\":{\"colorbar\":{\"outlinewidth\":0,\"ticks\":\"\"}}}],\"scatterpolargl\":[{\"type\":\"scatterpolargl\",\"marker\":{\"colorbar\":{\"outlinewidth\":0,\"ticks\":\"\"}}}],\"bar\":[{\"error_x\":{\"color\":\"#f2f5fa\"},\"error_y\":{\"color\":\"#f2f5fa\"},\"marker\":{\"line\":{\"color\":\"rgb(17,17,17)\",\"width\":0.5},\"pattern\":{\"fillmode\":\"overlay\",\"size\":10,\"solidity\":0.2}},\"type\":\"bar\"}],\"scattergeo\":[{\"type\":\"scattergeo\",\"marker\":{\"colorbar\":{\"outlinewidth\":0,\"ticks\":\"\"}}}],\"scatterpolar\":[{\"type\":\"scatterpolar\",\"marker\":{\"colorbar\":{\"outlinewidth\":0,\"ticks\":\"\"}}}],\"histogram\":[{\"marker\":{\"pattern\":{\"fillmode\":\"overlay\",\"size\":10,\"solidity\":0.2}},\"type\":\"histogram\"}],\"scattergl\":[{\"marker\":{\"line\":{\"color\":\"#283442\"}},\"type\":\"scattergl\"}],\"scatter3d\":[{\"type\":\"scatter3d\",\"line\":{\"colorbar\":{\"outlinewidth\":0,\"ticks\":\"\"}},\"marker\":{\"colorbar\":{\"outlinewidth\":0,\"ticks\":\"\"}}}],\"scattermapbox\":[{\"type\":\"scattermapbox\",\"marker\":{\"colorbar\":{\"outlinewidth\":0,\"ticks\":\"\"}}}],\"scatterternary\":[{\"type\":\"scatterternary\",\"marker\":{\"colorbar\":{\"outlinewidth\":0,\"ticks\":\"\"}}}],\"scattercarpet\":[{\"type\":\"scattercarpet\",\"marker\":{\"colorbar\":{\"outlinewidth\":0,\"ticks\":\"\"}}}],\"carpet\":[{\"aaxis\":{\"endlinecolor\":\"#A2B1C6\",\"gridcolor\":\"#506784\",\"linecolor\":\"#506784\",\"minorgridcolor\":\"#506784\",\"startlinecolor\":\"#A2B1C6\"},\"baxis\":{\"endlinecolor\":\"#A2B1C6\",\"gridcolor\":\"#506784\",\"linecolor\":\"#506784\",\"minorgridcolor\":\"#506784\",\"startlinecolor\":\"#A2B1C6\"},\"type\":\"carpet\"}],\"table\":[{\"cells\":{\"fill\":{\"color\":\"#506784\"},\"line\":{\"color\":\"rgb(17,17,17)\"}},\"header\":{\"fill\":{\"color\":\"#2a3f5f\"},\"line\":{\"color\":\"rgb(17,17,17)\"}},\"type\":\"table\"}],\"barpolar\":[{\"marker\":{\"line\":{\"color\":\"rgb(17,17,17)\",\"width\":0.5},\"pattern\":{\"fillmode\":\"overlay\",\"size\":10,\"solidity\":0.2}},\"type\":\"barpolar\"}],\"pie\":[{\"automargin\":true,\"type\":\"pie\"}]},\"layout\":{\"autotypenumbers\":\"strict\",\"colorway\":[\"#636efa\",\"#EF553B\",\"#00cc96\",\"#ab63fa\",\"#FFA15A\",\"#19d3f3\",\"#FF6692\",\"#B6E880\",\"#FF97FF\",\"#FECB52\"],\"font\":{\"color\":\"#f2f5fa\"},\"hovermode\":\"closest\",\"hoverlabel\":{\"align\":\"left\"},\"paper_bgcolor\":\"rgb(17,17,17)\",\"plot_bgcolor\":\"rgb(17,17,17)\",\"polar\":{\"bgcolor\":\"rgb(17,17,17)\",\"angularaxis\":{\"gridcolor\":\"#506784\",\"linecolor\":\"#506784\",\"ticks\":\"\"},\"radialaxis\":{\"gridcolor\":\"#506784\",\"linecolor\":\"#506784\",\"ticks\":\"\"}},\"ternary\":{\"bgcolor\":\"rgb(17,17,17)\",\"aaxis\":{\"gridcolor\":\"#506784\",\"linecolor\":\"#506784\",\"ticks\":\"\"},\"baxis\":{\"gridcolor\":\"#506784\",\"linecolor\":\"#506784\",\"ticks\":\"\"},\"caxis\":{\"gridcolor\":\"#506784\",\"linecolor\":\"#506784\",\"ticks\":\"\"}},\"coloraxis\":{\"colorbar\":{\"outlinewidth\":0,\"ticks\":\"\"}},\"colorscale\":{\"sequential\":[[0.0,\"#0d0887\"],[0.1111111111111111,\"#46039f\"],[0.2222222222222222,\"#7201a8\"],[0.3333333333333333,\"#9c179e\"],[0.4444444444444444,\"#bd3786\"],[0.5555555555555556,\"#d8576b\"],[0.6666666666666666,\"#ed7953\"],[0.7777777777777778,\"#fb9f3a\"],[0.8888888888888888,\"#fdca26\"],[1.0,\"#f0f921\"]],\"sequentialminus\":[[0.0,\"#0d0887\"],[0.1111111111111111,\"#46039f\"],[0.2222222222222222,\"#7201a8\"],[0.3333333333333333,\"#9c179e\"],[0.4444444444444444,\"#bd3786\"],[0.5555555555555556,\"#d8576b\"],[0.6666666666666666,\"#ed7953\"],[0.7777777777777778,\"#fb9f3a\"],[0.8888888888888888,\"#fdca26\"],[1.0,\"#f0f921\"]],\"diverging\":[[0,\"#8e0152\"],[0.1,\"#c51b7d\"],[0.2,\"#de77ae\"],[0.3,\"#f1b6da\"],[0.4,\"#fde0ef\"],[0.5,\"#f7f7f7\"],[0.6,\"#e6f5d0\"],[0.7,\"#b8e186\"],[0.8,\"#7fbc41\"],[0.9,\"#4d9221\"],[1,\"#276419\"]]},\"xaxis\":{\"gridcolor\":\"#283442\",\"linecolor\":\"#506784\",\"ticks\":\"\",\"title\":{\"standoff\":15},\"zerolinecolor\":\"#283442\",\"automargin\":true,\"zerolinewidth\":2},\"yaxis\":{\"gridcolor\":\"#283442\",\"linecolor\":\"#506784\",\"ticks\":\"\",\"title\":{\"standoff\":15},\"zerolinecolor\":\"#283442\",\"automargin\":true,\"zerolinewidth\":2},\"scene\":{\"xaxis\":{\"backgroundcolor\":\"rgb(17,17,17)\",\"gridcolor\":\"#506784\",\"linecolor\":\"#506784\",\"showbackground\":true,\"ticks\":\"\",\"zerolinecolor\":\"#C8D4E3\",\"gridwidth\":2},\"yaxis\":{\"backgroundcolor\":\"rgb(17,17,17)\",\"gridcolor\":\"#506784\",\"linecolor\":\"#506784\",\"showbackground\":true,\"ticks\":\"\",\"zerolinecolor\":\"#C8D4E3\",\"gridwidth\":2},\"zaxis\":{\"backgroundcolor\":\"rgb(17,17,17)\",\"gridcolor\":\"#506784\",\"linecolor\":\"#506784\",\"showbackground\":true,\"ticks\":\"\",\"zerolinecolor\":\"#C8D4E3\",\"gridwidth\":2}},\"shapedefaults\":{\"line\":{\"color\":\"#f2f5fa\"}},\"annotationdefaults\":{\"arrowcolor\":\"#f2f5fa\",\"arrowhead\":0,\"arrowwidth\":1},\"geo\":{\"bgcolor\":\"rgb(17,17,17)\",\"landcolor\":\"rgb(17,17,17)\",\"subunitcolor\":\"#506784\",\"showland\":true,\"showlakes\":true,\"lakecolor\":\"rgb(17,17,17)\"},\"title\":{\"x\":0.05},\"updatemenudefaults\":{\"bgcolor\":\"#506784\",\"borderwidth\":0},\"sliderdefaults\":{\"bgcolor\":\"#C8D4E3\",\"borderwidth\":1,\"bordercolor\":\"rgb(17,17,17)\",\"tickwidth\":0},\"mapbox\":{\"style\":\"dark\"}}},\"xaxis\":{\"anchor\":\"y\",\"domain\":[0.0,0.2125],\"title\":{\"text\":\"position\",\"standoff\":7},\"tickmode\":\"array\",\"tickvals\":[1,2,3,4,5,6,7,8,9,10],\"ticktext\":[1,2,3,4,5,6,7,8,9,10],\"automargin\":true},\"yaxis\":{\"anchor\":\"x\",\"domain\":[0.0,1.0],\"title\":{\"text\":\"i_map\",\"standoff\":0},\"tickmode\":\"array\",\"tickvals\":[1,2,3,4,5,6,7,8,9,10],\"ticktext\":[1,2,3,4,5,6,7,8,9,10],\"autorange\":\"reversed\",\"automargin\":true},\"xaxis2\":{\"anchor\":\"y2\",\"domain\":[0.2625,0.475],\"title\":{\"text\":\"position\",\"standoff\":7},\"tickmode\":\"array\",\"tickvals\":[1,2,3,4,5,6,7,8,9,10],\"ticktext\":[1,2,3,4,5,6,7,8,9,10],\"automargin\":true},\"yaxis2\":{\"anchor\":\"x2\",\"domain\":[0.0,1.0],\"title\":{\"text\":\"i_map\",\"standoff\":0},\"tickmode\":\"array\",\"tickvals\":[1,2,3,4,5,6,7,8,9,10],\"ticktext\":[1,2,3,4,5,6,7,8,9,10],\"autorange\":\"reversed\",\"automargin\":true},\"xaxis3\":{\"anchor\":\"y3\",\"domain\":[0.525,0.7375],\"title\":{\"text\":\"position\",\"standoff\":7},\"tickmode\":\"array\",\"tickvals\":[1,2,3,4,5,6,7,8,9,10],\"ticktext\":[1,2,3,4,5,6,7,8,9,10],\"automargin\":true},\"yaxis3\":{\"anchor\":\"x3\",\"domain\":[0.0,1.0],\"title\":{\"text\":\"i_map\",\"standoff\":0},\"tickmode\":\"array\",\"tickvals\":[1,2,3,4,5,6,7,8,9,10],\"ticktext\":[1,2,3,4,5,6,7,8,9,10],\"autorange\":\"reversed\",\"automargin\":true},\"xaxis4\":{\"anchor\":\"y4\",\"domain\":[0.7875,1.0],\"title\":{\"text\":\"position\",\"standoff\":7},\"tickmode\":\"array\",\"tickvals\":[1,2,3,4,5,6,7,8,9,10],\"ticktext\":[1,2,3,4,5,6,7,8,9,10],\"automargin\":true},\"yaxis4\":{\"anchor\":\"x4\",\"domain\":[0.0,1.0],\"title\":{\"text\":\"i_map\",\"standoff\":0},\"tickmode\":\"array\",\"tickvals\":[1,2,3,4,5,6,7,8,9,10],\"ticktext\":[1,2,3,4,5,6,7,8,9,10],\"autorange\":\"reversed\",\"automargin\":true},\"annotations\":[{\"font\":{\"size\":16},\"showarrow\":false,\"text\":\"baseline\",\"x\":0.10625,\"xanchor\":\"center\",\"xref\":\"paper\",\"y\":1.0,\"yanchor\":\"bottom\",\"yref\":\"paper\"},{\"font\":{\"size\":16},\"showarrow\":false,\"text\":\"change of priorities\",\"x\":0.36875,\"xanchor\":\"center\",\"xref\":\"paper\",\"y\":1.0,\"yanchor\":\"bottom\",\"yref\":\"paper\"},{\"font\":{\"size\":16},\"showarrow\":false,\"text\":\"stops\",\"x\":0.6312500000000001,\"xanchor\":\"center\",\"xref\":\"paper\",\"y\":1.0,\"yanchor\":\"bottom\",\"yref\":\"paper\"},{\"font\":{\"size\":16},\"showarrow\":false,\"text\":\"Strategies Comparison\",\"x\":0.89375,\"xanchor\":\"center\",\"xref\":\"paper\",\"y\":1.0,\"yanchor\":\"bottom\",\"yref\":\"paper\"}],\"coloraxis\":{\"colorbar\":{\"title\":{\"text\":\"No. of completed missions\",\"font\":{\"size\":12},\"side\":\"right\"},\"x\":-0.08,\"thickness\":10},\"colorscale\":[[0.0,\"rgb(247,252,245)\"],[0.125,\"rgb(229,245,224)\"],[0.25,\"rgb(199,233,192)\"],[0.375,\"rgb(161,217,155)\"],[0.5,\"rgb(116,196,118)\"],[0.625,\"rgb(65,171,93)\"],[0.75,\"rgb(35,139,69)\"],[0.875,\"rgb(0,109,44)\"],[1.0,\"rgb(0,68,27)\"]]},\"coloraxis2\":{\"colorscale\":[[0.0,\"#FFFFE0\"],[0.5,\"#D3D3D3\"],[1.0,\"#ADD8E6\"]]},\"title\":{\"text\":\"No. of completed missions\\u003cbr\\u003e(slowness: baseline; coordination strategies)\"}},                        {\"responsive\": true}                    ).then(function(){\n",
       "                            \n",
       "var gd = document.getElementById('34396088-a50c-43b2-bd88-9bd864442c8d');\n",
       "var x = new MutationObserver(function (mutations, observer) {{\n",
       "        var display = window.getComputedStyle(gd).display;\n",
       "        if (!display || display === 'none') {{\n",
       "            console.log([gd, 'removed!']);\n",
       "            Plotly.purge(gd);\n",
       "            observer.disconnect();\n",
       "        }}\n",
       "}});\n",
       "\n",
       "// Listen for the removal of the full notebook cells\n",
       "var notebookContainer = gd.closest('#notebook-container');\n",
       "if (notebookContainer) {{\n",
       "    x.observe(notebookContainer, {childList: true});\n",
       "}}\n",
       "\n",
       "// Listen for the clearing of the current output cell\n",
       "var outputEl = gd.closest('.output');\n",
       "if (outputEl) {{\n",
       "    x.observe(outputEl, {childList: true});\n",
       "}}\n",
       "\n",
       "                        })                };                });            </script>        </div>"
      ]
     },
     "metadata": {},
     "output_type": "display_data"
    },
    {
     "data": {
      "application/vnd.plotly.v1+json": {
       "data": [
        {
         "coloraxis": "coloraxis",
         "hovertemplate": "i_map: %{y}<br>position: %{x}<br>No. of completed missions: %{z}<extra></extra>",
         "name": "0",
         "showscale": true,
         "text": [
          [
           1.0,
           1.0,
           1.0,
           1.0,
           1.0,
           1.0,
           1.0,
           1.0,
           1.0,
           1.0
          ],
          [
           1.0,
           1.0,
           1.0,
           1.0,
           1.0,
           1.0,
           1.0,
           1.0,
           1.0,
           1.0
          ],
          [
           1.0,
           1.0,
           1.0,
           1.0,
           1.0,
           1.0,
           1.0,
           1.0,
           1.0,
           1.0
          ],
          [
           1.0,
           1.0,
           1.0,
           1.0,
           1.0,
           1.0,
           1.0,
           1.0,
           1.0,
           1.0
          ],
          [
           1.0,
           3.0,
           2.0,
           3.0,
           2.0,
           3.0,
           1.0,
           2.0,
           3.0,
           3.0
          ],
          [
           1.0,
           1.0,
           1.0,
           1.0,
           1.0,
           1.0,
           1.0,
           1.0,
           1.0,
           1.0
          ],
          [
           3.0,
           2.0,
           1.0,
           1.0,
           2.0,
           3.0,
           3.0,
           3.0,
           2.0,
           2.0
          ],
          [
           1.0,
           1.0,
           1.0,
           1.0,
           1.0,
           1.0,
           1.0,
           1.0,
           3.0,
           2.0
          ],
          [
           1.0,
           1.0,
           1.0,
           1.0,
           1.0,
           3.0,
           1.0,
           1.0,
           1.0,
           1.0
          ],
          [
           1.0,
           1.0,
           1.0,
           1.0,
           1.0,
           1.0,
           1.0,
           1.0,
           1.0,
           1.0
          ]
         ],
         "texttemplate": "%{text}",
         "x": [
          1,
          2,
          3,
          4,
          5,
          6,
          7,
          8,
          9,
          10
         ],
         "xaxis": "x",
         "y": [
          1,
          2,
          3,
          4,
          5,
          6,
          7,
          8,
          9,
          10
         ],
         "yaxis": "y",
         "z": [
          [
           33,
           33,
           23,
           23,
           35,
           25,
           27,
           23,
           36,
           37
          ],
          [
           25,
           20,
           22,
           25,
           22,
           18,
           19,
           17,
           19,
           16
          ],
          [
           18,
           18,
           16,
           18,
           18,
           19,
           12,
           16,
           21,
           16
          ],
          [
           17,
           16,
           22,
           18,
           21,
           18,
           13,
           19,
           18,
           26
          ],
          [
           13,
           11,
           27,
           9,
           7,
           20,
           17,
           13,
           9,
           9
          ],
          [
           28,
           31,
           32,
           28,
           31,
           24,
           26,
           27,
           19,
           34
          ],
          [
           12,
           15,
           18,
           17,
           15,
           9,
           10,
           9,
           10,
           18
          ],
          [
           14,
           15,
           17,
           19,
           21,
           16,
           12,
           12,
           15,
           15
          ],
          [
           16,
           19,
           19,
           14,
           17,
           2,
           13,
           19,
           17,
           20
          ],
          [
           32,
           29,
           29,
           25,
           35,
           42,
           26,
           29,
           27,
           29
          ]
         ],
         "type": "heatmap"
        },
        {
         "coloraxis": "coloraxis",
         "hovertemplate": "i_map: %{y}<br>position: %{x}<br>No. of completed missions: %{z}<extra></extra>",
         "name": "0",
         "showscale": true,
         "text": [
          [
           3.0,
           1.0,
           1.0,
           3.0,
           3.0,
           1.0,
           2.0,
           1.0,
           2.0,
           2.0
          ],
          [
           2.0,
           3.0,
           2.0,
           3.0,
           3.0,
           2.0,
           3.0,
           2.0,
           3.0,
           2.0
          ],
          [
           2.0,
           2.0,
           2.0,
           3.0,
           2.0,
           1.0,
           2.0,
           3.0,
           3.0,
           3.0
          ],
          [
           3.0,
           2.0,
           2.0,
           2.0,
           2.0,
           3.0,
           3.0,
           2.0,
           2.0,
           3.0
          ],
          [
           1.0,
           2.0,
           1.0,
           1.0,
           1.0,
           1.0,
           3.0,
           1.0,
           1.0,
           1.0
          ],
          [
           2.0,
           1.0,
           2.0,
           2.0,
           2.0,
           2.0,
           2.0,
           2.0,
           2.0,
           2.0
          ],
          [
           1.0,
           1.0,
           1.0,
           1.0,
           1.0,
           1.0,
           1.0,
           1.0,
           1.0,
           3.0
          ],
          [
           1.0,
           2.0,
           2.0,
           3.0,
           1.0,
           3.0,
           1.0,
           3.0,
           1.0,
           1.0
          ],
          [
           2.0,
           2.0,
           3.0,
           1.0,
           2.0,
           2.0,
           2.0,
           2.0,
           3.0,
           1.0
          ],
          [
           2.0,
           2.0,
           2.0,
           2.0,
           2.0,
           2.0,
           2.0,
           2.0,
           2.0,
           2.0
          ]
         ],
         "texttemplate": "%{text}",
         "x": [
          1,
          2,
          3,
          4,
          5,
          6,
          7,
          8,
          9,
          10
         ],
         "xaxis": "x2",
         "y": [
          1,
          2,
          3,
          4,
          5,
          6,
          7,
          8,
          9,
          10
         ],
         "yaxis": "y2",
         "z": [
          [
           15,
           33,
           23,
           19,
           13,
           25,
           24,
           23,
           34,
           35
          ],
          [
           22,
           2,
           18,
           17,
           15,
           15,
           2,
           15,
           2,
           2
          ],
          [
           15,
           15,
           14,
           16,
           16,
           19,
           10,
           13,
           16,
           6
          ],
          [
           2,
           6,
           18,
           13,
           20,
           14,
           3,
           16,
           5,
           9
          ],
          [
           13,
           13,
           28,
           14,
           12,
           21,
           12,
           18,
           14,
           13
          ],
          [
           23,
           31,
           30,
           27,
           27,
           22,
           23,
           24,
           18,
           30
          ],
          [
           16,
           17,
           18,
           17,
           17,
           14,
           16,
           14,
           16,
           17
          ],
          [
           14,
           12,
           14,
           14,
           21,
           12,
           12,
           8,
           16,
           16
          ],
          [
           9,
           14,
           14,
           14,
           14,
           10,
           7,
           16,
           10,
           20
          ],
          [
           29,
           27,
           17,
           21,
           29,
           39,
           24,
           26,
           24,
           28
          ]
         ],
         "type": "heatmap"
        },
        {
         "coloraxis": "coloraxis",
         "hovertemplate": "i_map: %{y}<br>position: %{x}<br>No. of completed missions: %{z}<extra></extra>",
         "name": "0",
         "showscale": true,
         "text": [
          [
           2.0,
           3.0,
           3.0,
           2.0,
           2.0,
           3.0,
           3.0,
           3.0,
           3.0,
           3.0
          ],
          [
           3.0,
           2.0,
           2.0,
           2.0,
           2.0,
           3.0,
           2.0,
           3.0,
           2.0,
           2.0
          ],
          [
           2.0,
           2.0,
           2.0,
           2.0,
           2.0,
           1.0,
           2.0,
           2.0,
           2.0,
           2.0
          ],
          [
           2.0,
           3.0,
           2.0,
           3.0,
           3.0,
           2.0,
           2.0,
           2.0,
           2.0,
           2.0
          ],
          [
           3.0,
           1.0,
           3.0,
           2.0,
           3.0,
           1.0,
           2.0,
           3.0,
           2.0,
           1.0
          ],
          [
           2.0,
           3.0,
           2.0,
           3.0,
           2.0,
           3.0,
           3.0,
           2.0,
           3.0,
           2.0
          ],
          [
           2.0,
           2.0,
           3.0,
           1.0,
           2.0,
           2.0,
           2.0,
           2.0,
           3.0,
           1.0
          ],
          [
           1.0,
           2.0,
           2.0,
           2.0,
           3.0,
           2.0,
           1.0,
           2.0,
           1.0,
           3.0
          ],
          [
           2.0,
           2.0,
           2.0,
           3.0,
           3.0,
           1.0,
           2.0,
           2.0,
           2.0,
           3.0
          ],
          [
           3.0,
           2.0,
           3.0,
           2.0,
           3.0,
           2.0,
           2.0,
           3.0,
           2.0,
           3.0
          ]
         ],
         "texttemplate": "%{text}",
         "x": [
          1,
          2,
          3,
          4,
          5,
          6,
          7,
          8,
          9,
          10
         ],
         "xaxis": "x3",
         "y": [
          1,
          2,
          3,
          4,
          5,
          6,
          7,
          8,
          9,
          10
         ],
         "yaxis": "y3",
         "z": [
          [
           28,
           17,
           22,
           20,
           32,
           24,
           23,
           17,
           33,
           29
          ],
          [
           20,
           17,
           18,
           19,
           16,
           14,
           15,
           13,
           15,
           2
          ],
          [
           15,
           15,
           14,
           17,
           16,
           19,
           10,
           15,
           19,
           13
          ],
          [
           13,
           5,
           18,
           12,
           19,
           15,
           9,
           16,
           5,
           20
          ],
          [
           10,
           14,
           23,
           13,
           1,
           21,
           14,
           10,
           13,
           13
          ],
          [
           23,
           28,
           30,
           26,
           27,
           20,
           22,
           24,
           16,
           30
          ],
          [
           15,
           15,
           17,
           17,
           15,
           13,
           13,
           13,
           8,
           19
          ],
          [
           14,
           12,
           14,
           16,
           13,
           13,
           12,
           9,
           16,
           7
          ],
          [
           9,
           14,
           17,
           13,
           6,
           11,
           7,
           16,
           13,
           18
          ],
          [
           28,
           27,
           14,
           21,
           28,
           39,
           24,
           25,
           24,
           27
          ]
         ],
         "type": "heatmap"
        },
        {
         "coloraxis": "coloraxis2",
         "hovertemplate": "i_map: %{y}<br>position: %{x}<br>No. of completed missions: %{z}<extra></extra>",
         "name": "0",
         "showscale": false,
         "text": [
          [
           "S",
           "P",
           "P",
           "S",
           "S",
           "P",
           "P",
           "P",
           "P",
           "P"
          ],
          [
           "P",
           "S",
           "PS",
           "S",
           "S",
           "P",
           "S",
           "P",
           "S",
           "PS"
          ],
          [
           "PS",
           "PS",
           "PS",
           "S",
           "PS",
           "PS",
           "PS",
           "S",
           "S",
           "S"
          ],
          [
           "S",
           "P",
           "PS",
           "P",
           "P",
           "S",
           "S",
           "PS",
           "PS",
           "S"
          ],
          [
           "P",
           "S",
           "P",
           "P",
           "P",
           "PS",
           "S",
           "P",
           "P",
           "PS"
          ],
          [
           "PS",
           "P",
           "PS",
           "P",
           "PS",
           "P",
           "P",
           "PS",
           "P",
           "PS"
          ],
          [
           "P",
           "P",
           "P",
           "PS",
           "P",
           "P",
           "P",
           "P",
           "P",
           "S"
          ],
          [
           "PS",
           "PS",
           "PS",
           "S",
           "P",
           "S",
           "PS",
           "S",
           "PS",
           "P"
          ],
          [
           "PS",
           "PS",
           "S",
           "P",
           "P",
           "S",
           "PS",
           "PS",
           "S",
           "P"
          ],
          [
           "P",
           "PS",
           "P",
           "PS",
           "P",
           "PS",
           "PS",
           "P",
           "PS",
           "P"
          ]
         ],
         "texttemplate": "%{text}",
         "x": [
          1,
          2,
          3,
          4,
          5,
          6,
          7,
          8,
          9,
          10
         ],
         "xaxis": "x4",
         "y": [
          1,
          2,
          3,
          4,
          5,
          6,
          7,
          8,
          9,
          10
         ],
         "yaxis": "y4",
         "z": [
          [
           1.0,
           0.0,
           0.0,
           1.0,
           1.0,
           0.0,
           0.0,
           0.0,
           0.0,
           0.0
          ],
          [
           0.0,
           1.0,
           0.5,
           1.0,
           1.0,
           0.0,
           1.0,
           0.0,
           1.0,
           0.5
          ],
          [
           0.5,
           0.5,
           0.5,
           1.0,
           0.5,
           0.5,
           0.5,
           1.0,
           1.0,
           1.0
          ],
          [
           1.0,
           0.0,
           0.5,
           0.0,
           0.0,
           1.0,
           1.0,
           0.5,
           0.5,
           1.0
          ],
          [
           0.0,
           1.0,
           0.0,
           0.0,
           0.0,
           0.5,
           1.0,
           0.0,
           0.0,
           0.5
          ],
          [
           0.5,
           0.0,
           0.5,
           0.0,
           0.5,
           0.0,
           0.0,
           0.5,
           0.0,
           0.5
          ],
          [
           0.0,
           0.0,
           0.0,
           0.5,
           0.0,
           0.0,
           0.0,
           0.0,
           0.0,
           1.0
          ],
          [
           0.5,
           0.5,
           0.5,
           1.0,
           0.0,
           1.0,
           0.5,
           1.0,
           0.5,
           0.0
          ],
          [
           0.5,
           0.5,
           1.0,
           0.0,
           0.0,
           1.0,
           0.5,
           0.5,
           1.0,
           0.0
          ],
          [
           0.0,
           0.5,
           0.0,
           0.5,
           0.0,
           0.5,
           0.5,
           0.0,
           0.5,
           0.0
          ]
         ],
         "type": "heatmap"
        }
       ],
       "layout": {
        "template": {
         "data": {
          "histogram2dcontour": [
           {
            "type": "histogram2dcontour",
            "colorbar": {
             "outlinewidth": 0,
             "ticks": ""
            },
            "colorscale": [
             [
              0.0,
              "#0d0887"
             ],
             [
              0.1111111111111111,
              "#46039f"
             ],
             [
              0.2222222222222222,
              "#7201a8"
             ],
             [
              0.3333333333333333,
              "#9c179e"
             ],
             [
              0.4444444444444444,
              "#bd3786"
             ],
             [
              0.5555555555555556,
              "#d8576b"
             ],
             [
              0.6666666666666666,
              "#ed7953"
             ],
             [
              0.7777777777777778,
              "#fb9f3a"
             ],
             [
              0.8888888888888888,
              "#fdca26"
             ],
             [
              1.0,
              "#f0f921"
             ]
            ]
           }
          ],
          "choropleth": [
           {
            "type": "choropleth",
            "colorbar": {
             "outlinewidth": 0,
             "ticks": ""
            }
           }
          ],
          "histogram2d": [
           {
            "type": "histogram2d",
            "colorbar": {
             "outlinewidth": 0,
             "ticks": ""
            },
            "colorscale": [
             [
              0.0,
              "#0d0887"
             ],
             [
              0.1111111111111111,
              "#46039f"
             ],
             [
              0.2222222222222222,
              "#7201a8"
             ],
             [
              0.3333333333333333,
              "#9c179e"
             ],
             [
              0.4444444444444444,
              "#bd3786"
             ],
             [
              0.5555555555555556,
              "#d8576b"
             ],
             [
              0.6666666666666666,
              "#ed7953"
             ],
             [
              0.7777777777777778,
              "#fb9f3a"
             ],
             [
              0.8888888888888888,
              "#fdca26"
             ],
             [
              1.0,
              "#f0f921"
             ]
            ]
           }
          ],
          "heatmap": [
           {
            "type": "heatmap",
            "colorbar": {
             "outlinewidth": 0,
             "ticks": ""
            },
            "colorscale": [
             [
              0.0,
              "#0d0887"
             ],
             [
              0.1111111111111111,
              "#46039f"
             ],
             [
              0.2222222222222222,
              "#7201a8"
             ],
             [
              0.3333333333333333,
              "#9c179e"
             ],
             [
              0.4444444444444444,
              "#bd3786"
             ],
             [
              0.5555555555555556,
              "#d8576b"
             ],
             [
              0.6666666666666666,
              "#ed7953"
             ],
             [
              0.7777777777777778,
              "#fb9f3a"
             ],
             [
              0.8888888888888888,
              "#fdca26"
             ],
             [
              1.0,
              "#f0f921"
             ]
            ]
           }
          ],
          "heatmapgl": [
           {
            "type": "heatmapgl",
            "colorbar": {
             "outlinewidth": 0,
             "ticks": ""
            },
            "colorscale": [
             [
              0.0,
              "#0d0887"
             ],
             [
              0.1111111111111111,
              "#46039f"
             ],
             [
              0.2222222222222222,
              "#7201a8"
             ],
             [
              0.3333333333333333,
              "#9c179e"
             ],
             [
              0.4444444444444444,
              "#bd3786"
             ],
             [
              0.5555555555555556,
              "#d8576b"
             ],
             [
              0.6666666666666666,
              "#ed7953"
             ],
             [
              0.7777777777777778,
              "#fb9f3a"
             ],
             [
              0.8888888888888888,
              "#fdca26"
             ],
             [
              1.0,
              "#f0f921"
             ]
            ]
           }
          ],
          "contourcarpet": [
           {
            "type": "contourcarpet",
            "colorbar": {
             "outlinewidth": 0,
             "ticks": ""
            }
           }
          ],
          "contour": [
           {
            "type": "contour",
            "colorbar": {
             "outlinewidth": 0,
             "ticks": ""
            },
            "colorscale": [
             [
              0.0,
              "#0d0887"
             ],
             [
              0.1111111111111111,
              "#46039f"
             ],
             [
              0.2222222222222222,
              "#7201a8"
             ],
             [
              0.3333333333333333,
              "#9c179e"
             ],
             [
              0.4444444444444444,
              "#bd3786"
             ],
             [
              0.5555555555555556,
              "#d8576b"
             ],
             [
              0.6666666666666666,
              "#ed7953"
             ],
             [
              0.7777777777777778,
              "#fb9f3a"
             ],
             [
              0.8888888888888888,
              "#fdca26"
             ],
             [
              1.0,
              "#f0f921"
             ]
            ]
           }
          ],
          "surface": [
           {
            "type": "surface",
            "colorbar": {
             "outlinewidth": 0,
             "ticks": ""
            },
            "colorscale": [
             [
              0.0,
              "#0d0887"
             ],
             [
              0.1111111111111111,
              "#46039f"
             ],
             [
              0.2222222222222222,
              "#7201a8"
             ],
             [
              0.3333333333333333,
              "#9c179e"
             ],
             [
              0.4444444444444444,
              "#bd3786"
             ],
             [
              0.5555555555555556,
              "#d8576b"
             ],
             [
              0.6666666666666666,
              "#ed7953"
             ],
             [
              0.7777777777777778,
              "#fb9f3a"
             ],
             [
              0.8888888888888888,
              "#fdca26"
             ],
             [
              1.0,
              "#f0f921"
             ]
            ]
           }
          ],
          "mesh3d": [
           {
            "type": "mesh3d",
            "colorbar": {
             "outlinewidth": 0,
             "ticks": ""
            }
           }
          ],
          "scatter": [
           {
            "marker": {
             "line": {
              "color": "#283442"
             }
            },
            "type": "scatter"
           }
          ],
          "parcoords": [
           {
            "type": "parcoords",
            "line": {
             "colorbar": {
              "outlinewidth": 0,
              "ticks": ""
             }
            }
           }
          ],
          "scatterpolargl": [
           {
            "type": "scatterpolargl",
            "marker": {
             "colorbar": {
              "outlinewidth": 0,
              "ticks": ""
             }
            }
           }
          ],
          "bar": [
           {
            "error_x": {
             "color": "#f2f5fa"
            },
            "error_y": {
             "color": "#f2f5fa"
            },
            "marker": {
             "line": {
              "color": "rgb(17,17,17)",
              "width": 0.5
             },
             "pattern": {
              "fillmode": "overlay",
              "size": 10,
              "solidity": 0.2
             }
            },
            "type": "bar"
           }
          ],
          "scattergeo": [
           {
            "type": "scattergeo",
            "marker": {
             "colorbar": {
              "outlinewidth": 0,
              "ticks": ""
             }
            }
           }
          ],
          "scatterpolar": [
           {
            "type": "scatterpolar",
            "marker": {
             "colorbar": {
              "outlinewidth": 0,
              "ticks": ""
             }
            }
           }
          ],
          "histogram": [
           {
            "marker": {
             "pattern": {
              "fillmode": "overlay",
              "size": 10,
              "solidity": 0.2
             }
            },
            "type": "histogram"
           }
          ],
          "scattergl": [
           {
            "marker": {
             "line": {
              "color": "#283442"
             }
            },
            "type": "scattergl"
           }
          ],
          "scatter3d": [
           {
            "type": "scatter3d",
            "line": {
             "colorbar": {
              "outlinewidth": 0,
              "ticks": ""
             }
            },
            "marker": {
             "colorbar": {
              "outlinewidth": 0,
              "ticks": ""
             }
            }
           }
          ],
          "scattermapbox": [
           {
            "type": "scattermapbox",
            "marker": {
             "colorbar": {
              "outlinewidth": 0,
              "ticks": ""
             }
            }
           }
          ],
          "scatterternary": [
           {
            "type": "scatterternary",
            "marker": {
             "colorbar": {
              "outlinewidth": 0,
              "ticks": ""
             }
            }
           }
          ],
          "scattercarpet": [
           {
            "type": "scattercarpet",
            "marker": {
             "colorbar": {
              "outlinewidth": 0,
              "ticks": ""
             }
            }
           }
          ],
          "carpet": [
           {
            "aaxis": {
             "endlinecolor": "#A2B1C6",
             "gridcolor": "#506784",
             "linecolor": "#506784",
             "minorgridcolor": "#506784",
             "startlinecolor": "#A2B1C6"
            },
            "baxis": {
             "endlinecolor": "#A2B1C6",
             "gridcolor": "#506784",
             "linecolor": "#506784",
             "minorgridcolor": "#506784",
             "startlinecolor": "#A2B1C6"
            },
            "type": "carpet"
           }
          ],
          "table": [
           {
            "cells": {
             "fill": {
              "color": "#506784"
             },
             "line": {
              "color": "rgb(17,17,17)"
             }
            },
            "header": {
             "fill": {
              "color": "#2a3f5f"
             },
             "line": {
              "color": "rgb(17,17,17)"
             }
            },
            "type": "table"
           }
          ],
          "barpolar": [
           {
            "marker": {
             "line": {
              "color": "rgb(17,17,17)",
              "width": 0.5
             },
             "pattern": {
              "fillmode": "overlay",
              "size": 10,
              "solidity": 0.2
             }
            },
            "type": "barpolar"
           }
          ],
          "pie": [
           {
            "automargin": true,
            "type": "pie"
           }
          ]
         },
         "layout": {
          "autotypenumbers": "strict",
          "colorway": [
           "#636efa",
           "#EF553B",
           "#00cc96",
           "#ab63fa",
           "#FFA15A",
           "#19d3f3",
           "#FF6692",
           "#B6E880",
           "#FF97FF",
           "#FECB52"
          ],
          "font": {
           "color": "#f2f5fa"
          },
          "hovermode": "closest",
          "hoverlabel": {
           "align": "left"
          },
          "paper_bgcolor": "rgb(17,17,17)",
          "plot_bgcolor": "rgb(17,17,17)",
          "polar": {
           "bgcolor": "rgb(17,17,17)",
           "angularaxis": {
            "gridcolor": "#506784",
            "linecolor": "#506784",
            "ticks": ""
           },
           "radialaxis": {
            "gridcolor": "#506784",
            "linecolor": "#506784",
            "ticks": ""
           }
          },
          "ternary": {
           "bgcolor": "rgb(17,17,17)",
           "aaxis": {
            "gridcolor": "#506784",
            "linecolor": "#506784",
            "ticks": ""
           },
           "baxis": {
            "gridcolor": "#506784",
            "linecolor": "#506784",
            "ticks": ""
           },
           "caxis": {
            "gridcolor": "#506784",
            "linecolor": "#506784",
            "ticks": ""
           }
          },
          "coloraxis": {
           "colorbar": {
            "outlinewidth": 0,
            "ticks": ""
           }
          },
          "colorscale": {
           "sequential": [
            [
             0.0,
             "#0d0887"
            ],
            [
             0.1111111111111111,
             "#46039f"
            ],
            [
             0.2222222222222222,
             "#7201a8"
            ],
            [
             0.3333333333333333,
             "#9c179e"
            ],
            [
             0.4444444444444444,
             "#bd3786"
            ],
            [
             0.5555555555555556,
             "#d8576b"
            ],
            [
             0.6666666666666666,
             "#ed7953"
            ],
            [
             0.7777777777777778,
             "#fb9f3a"
            ],
            [
             0.8888888888888888,
             "#fdca26"
            ],
            [
             1.0,
             "#f0f921"
            ]
           ],
           "sequentialminus": [
            [
             0.0,
             "#0d0887"
            ],
            [
             0.1111111111111111,
             "#46039f"
            ],
            [
             0.2222222222222222,
             "#7201a8"
            ],
            [
             0.3333333333333333,
             "#9c179e"
            ],
            [
             0.4444444444444444,
             "#bd3786"
            ],
            [
             0.5555555555555556,
             "#d8576b"
            ],
            [
             0.6666666666666666,
             "#ed7953"
            ],
            [
             0.7777777777777778,
             "#fb9f3a"
            ],
            [
             0.8888888888888888,
             "#fdca26"
            ],
            [
             1.0,
             "#f0f921"
            ]
           ],
           "diverging": [
            [
             0,
             "#8e0152"
            ],
            [
             0.1,
             "#c51b7d"
            ],
            [
             0.2,
             "#de77ae"
            ],
            [
             0.3,
             "#f1b6da"
            ],
            [
             0.4,
             "#fde0ef"
            ],
            [
             0.5,
             "#f7f7f7"
            ],
            [
             0.6,
             "#e6f5d0"
            ],
            [
             0.7,
             "#b8e186"
            ],
            [
             0.8,
             "#7fbc41"
            ],
            [
             0.9,
             "#4d9221"
            ],
            [
             1,
             "#276419"
            ]
           ]
          },
          "xaxis": {
           "gridcolor": "#283442",
           "linecolor": "#506784",
           "ticks": "",
           "title": {
            "standoff": 15
           },
           "zerolinecolor": "#283442",
           "automargin": true,
           "zerolinewidth": 2
          },
          "yaxis": {
           "gridcolor": "#283442",
           "linecolor": "#506784",
           "ticks": "",
           "title": {
            "standoff": 15
           },
           "zerolinecolor": "#283442",
           "automargin": true,
           "zerolinewidth": 2
          },
          "scene": {
           "xaxis": {
            "backgroundcolor": "rgb(17,17,17)",
            "gridcolor": "#506784",
            "linecolor": "#506784",
            "showbackground": true,
            "ticks": "",
            "zerolinecolor": "#C8D4E3",
            "gridwidth": 2
           },
           "yaxis": {
            "backgroundcolor": "rgb(17,17,17)",
            "gridcolor": "#506784",
            "linecolor": "#506784",
            "showbackground": true,
            "ticks": "",
            "zerolinecolor": "#C8D4E3",
            "gridwidth": 2
           },
           "zaxis": {
            "backgroundcolor": "rgb(17,17,17)",
            "gridcolor": "#506784",
            "linecolor": "#506784",
            "showbackground": true,
            "ticks": "",
            "zerolinecolor": "#C8D4E3",
            "gridwidth": 2
           }
          },
          "shapedefaults": {
           "line": {
            "color": "#f2f5fa"
           }
          },
          "annotationdefaults": {
           "arrowcolor": "#f2f5fa",
           "arrowhead": 0,
           "arrowwidth": 1
          },
          "geo": {
           "bgcolor": "rgb(17,17,17)",
           "landcolor": "rgb(17,17,17)",
           "subunitcolor": "#506784",
           "showland": true,
           "showlakes": true,
           "lakecolor": "rgb(17,17,17)"
          },
          "title": {
           "x": 0.05
          },
          "updatemenudefaults": {
           "bgcolor": "#506784",
           "borderwidth": 0
          },
          "sliderdefaults": {
           "bgcolor": "#C8D4E3",
           "borderwidth": 1,
           "bordercolor": "rgb(17,17,17)",
           "tickwidth": 0
          },
          "mapbox": {
           "style": "dark"
          }
         }
        },
        "xaxis": {
         "anchor": "y",
         "domain": [
          0.0,
          0.2125
         ],
         "title": {
          "text": "position",
          "standoff": 7
         },
         "tickmode": "array",
         "tickvals": [
          1,
          2,
          3,
          4,
          5,
          6,
          7,
          8,
          9,
          10
         ],
         "ticktext": [
          1,
          2,
          3,
          4,
          5,
          6,
          7,
          8,
          9,
          10
         ],
         "automargin": true
        },
        "yaxis": {
         "anchor": "x",
         "domain": [
          0.0,
          1.0
         ],
         "title": {
          "text": "i_map",
          "standoff": 0
         },
         "tickmode": "array",
         "tickvals": [
          1,
          2,
          3,
          4,
          5,
          6,
          7,
          8,
          9,
          10
         ],
         "ticktext": [
          1,
          2,
          3,
          4,
          5,
          6,
          7,
          8,
          9,
          10
         ],
         "autorange": "reversed",
         "automargin": true
        },
        "xaxis2": {
         "anchor": "y2",
         "domain": [
          0.2625,
          0.475
         ],
         "title": {
          "text": "position",
          "standoff": 7
         },
         "tickmode": "array",
         "tickvals": [
          1,
          2,
          3,
          4,
          5,
          6,
          7,
          8,
          9,
          10
         ],
         "ticktext": [
          1,
          2,
          3,
          4,
          5,
          6,
          7,
          8,
          9,
          10
         ],
         "automargin": true
        },
        "yaxis2": {
         "anchor": "x2",
         "domain": [
          0.0,
          1.0
         ],
         "title": {
          "text": "i_map",
          "standoff": 0
         },
         "tickmode": "array",
         "tickvals": [
          1,
          2,
          3,
          4,
          5,
          6,
          7,
          8,
          9,
          10
         ],
         "ticktext": [
          1,
          2,
          3,
          4,
          5,
          6,
          7,
          8,
          9,
          10
         ],
         "autorange": "reversed",
         "automargin": true
        },
        "xaxis3": {
         "anchor": "y3",
         "domain": [
          0.525,
          0.7375
         ],
         "title": {
          "text": "position",
          "standoff": 7
         },
         "tickmode": "array",
         "tickvals": [
          1,
          2,
          3,
          4,
          5,
          6,
          7,
          8,
          9,
          10
         ],
         "ticktext": [
          1,
          2,
          3,
          4,
          5,
          6,
          7,
          8,
          9,
          10
         ],
         "automargin": true
        },
        "yaxis3": {
         "anchor": "x3",
         "domain": [
          0.0,
          1.0
         ],
         "title": {
          "text": "i_map",
          "standoff": 0
         },
         "tickmode": "array",
         "tickvals": [
          1,
          2,
          3,
          4,
          5,
          6,
          7,
          8,
          9,
          10
         ],
         "ticktext": [
          1,
          2,
          3,
          4,
          5,
          6,
          7,
          8,
          9,
          10
         ],
         "autorange": "reversed",
         "automargin": true
        },
        "xaxis4": {
         "anchor": "y4",
         "domain": [
          0.7875,
          1.0
         ],
         "title": {
          "text": "position",
          "standoff": 7
         },
         "tickmode": "array",
         "tickvals": [
          1,
          2,
          3,
          4,
          5,
          6,
          7,
          8,
          9,
          10
         ],
         "ticktext": [
          1,
          2,
          3,
          4,
          5,
          6,
          7,
          8,
          9,
          10
         ],
         "automargin": true
        },
        "yaxis4": {
         "anchor": "x4",
         "domain": [
          0.0,
          1.0
         ],
         "title": {
          "text": "i_map",
          "standoff": 0
         },
         "tickmode": "array",
         "tickvals": [
          1,
          2,
          3,
          4,
          5,
          6,
          7,
          8,
          9,
          10
         ],
         "ticktext": [
          1,
          2,
          3,
          4,
          5,
          6,
          7,
          8,
          9,
          10
         ],
         "autorange": "reversed",
         "automargin": true
        },
        "annotations": [
         {
          "font": {
           "size": 16
          },
          "showarrow": false,
          "text": "baseline",
          "x": 0.10625,
          "xanchor": "center",
          "xref": "paper",
          "y": 1.0,
          "yanchor": "bottom",
          "yref": "paper"
         },
         {
          "font": {
           "size": 16
          },
          "showarrow": false,
          "text": "change of priorities",
          "x": 0.36875,
          "xanchor": "center",
          "xref": "paper",
          "y": 1.0,
          "yanchor": "bottom",
          "yref": "paper"
         },
         {
          "font": {
           "size": 16
          },
          "showarrow": false,
          "text": "stops",
          "x": 0.6312500000000001,
          "xanchor": "center",
          "xref": "paper",
          "y": 1.0,
          "yanchor": "bottom",
          "yref": "paper"
         },
         {
          "font": {
           "size": 16
          },
          "showarrow": false,
          "text": "Strategies Comparison",
          "x": 0.89375,
          "xanchor": "center",
          "xref": "paper",
          "y": 1.0,
          "yanchor": "bottom",
          "yref": "paper"
         }
        ],
        "coloraxis": {
         "colorbar": {
          "title": {
           "text": "No. of completed missions",
           "font": {
            "size": 12
           },
           "side": "right"
          },
          "x": -0.08,
          "thickness": 10
         },
         "colorscale": [
          [
           0.0,
           "rgb(247,252,245)"
          ],
          [
           0.125,
           "rgb(229,245,224)"
          ],
          [
           0.25,
           "rgb(199,233,192)"
          ],
          [
           0.375,
           "rgb(161,217,155)"
          ],
          [
           0.5,
           "rgb(116,196,118)"
          ],
          [
           0.625,
           "rgb(65,171,93)"
          ],
          [
           0.75,
           "rgb(35,139,69)"
          ],
          [
           0.875,
           "rgb(0,109,44)"
          ],
          [
           1.0,
           "rgb(0,68,27)"
          ]
         ]
        },
        "coloraxis2": {
         "colorscale": [
          [
           0.0,
           "#FFFFE0"
          ],
          [
           0.5,
           "#D3D3D3"
          ],
          [
           1.0,
           "#ADD8E6"
          ]
         ]
        },
        "title": {
         "text": "No. of completed missions<br>(slowness: without rerouting; coordination strategies)"
        }
       },
       "config": {
        "plotlyServerURL": "https://plot.ly"
       }
      },
      "text/html": [
       "<div>                            <div id=\"7085725e-04db-4f33-8f07-b773fe8c17aa\" class=\"plotly-graph-div\" style=\"height:525px; width:100%;\"></div>            <script type=\"text/javascript\">                require([\"plotly\"], function(Plotly) {                    window.PLOTLYENV=window.PLOTLYENV || {};                                    if (document.getElementById(\"7085725e-04db-4f33-8f07-b773fe8c17aa\")) {                    Plotly.newPlot(                        \"7085725e-04db-4f33-8f07-b773fe8c17aa\",                        [{\"coloraxis\":\"coloraxis\",\"hovertemplate\":\"i_map: %{y}\\u003cbr\\u003eposition: %{x}\\u003cbr\\u003eNo. of completed missions: %{z}\\u003cextra\\u003e\\u003c\\u002fextra\\u003e\",\"name\":\"0\",\"showscale\":true,\"text\":[[1.0,1.0,1.0,1.0,1.0,1.0,1.0,1.0,1.0,1.0],[1.0,1.0,1.0,1.0,1.0,1.0,1.0,1.0,1.0,1.0],[1.0,1.0,1.0,1.0,1.0,1.0,1.0,1.0,1.0,1.0],[1.0,1.0,1.0,1.0,1.0,1.0,1.0,1.0,1.0,1.0],[1.0,3.0,2.0,3.0,2.0,3.0,1.0,2.0,3.0,3.0],[1.0,1.0,1.0,1.0,1.0,1.0,1.0,1.0,1.0,1.0],[3.0,2.0,1.0,1.0,2.0,3.0,3.0,3.0,2.0,2.0],[1.0,1.0,1.0,1.0,1.0,1.0,1.0,1.0,3.0,2.0],[1.0,1.0,1.0,1.0,1.0,3.0,1.0,1.0,1.0,1.0],[1.0,1.0,1.0,1.0,1.0,1.0,1.0,1.0,1.0,1.0]],\"texttemplate\":\"%{text}\",\"x\":[1,2,3,4,5,6,7,8,9,10],\"xaxis\":\"x\",\"y\":[1,2,3,4,5,6,7,8,9,10],\"yaxis\":\"y\",\"z\":[[33,33,23,23,35,25,27,23,36,37],[25,20,22,25,22,18,19,17,19,16],[18,18,16,18,18,19,12,16,21,16],[17,16,22,18,21,18,13,19,18,26],[13,11,27,9,7,20,17,13,9,9],[28,31,32,28,31,24,26,27,19,34],[12,15,18,17,15,9,10,9,10,18],[14,15,17,19,21,16,12,12,15,15],[16,19,19,14,17,2,13,19,17,20],[32,29,29,25,35,42,26,29,27,29]],\"type\":\"heatmap\"},{\"coloraxis\":\"coloraxis\",\"hovertemplate\":\"i_map: %{y}\\u003cbr\\u003eposition: %{x}\\u003cbr\\u003eNo. of completed missions: %{z}\\u003cextra\\u003e\\u003c\\u002fextra\\u003e\",\"name\":\"0\",\"showscale\":true,\"text\":[[3.0,1.0,1.0,3.0,3.0,1.0,2.0,1.0,2.0,2.0],[2.0,3.0,2.0,3.0,3.0,2.0,3.0,2.0,3.0,2.0],[2.0,2.0,2.0,3.0,2.0,1.0,2.0,3.0,3.0,3.0],[3.0,2.0,2.0,2.0,2.0,3.0,3.0,2.0,2.0,3.0],[1.0,2.0,1.0,1.0,1.0,1.0,3.0,1.0,1.0,1.0],[2.0,1.0,2.0,2.0,2.0,2.0,2.0,2.0,2.0,2.0],[1.0,1.0,1.0,1.0,1.0,1.0,1.0,1.0,1.0,3.0],[1.0,2.0,2.0,3.0,1.0,3.0,1.0,3.0,1.0,1.0],[2.0,2.0,3.0,1.0,2.0,2.0,2.0,2.0,3.0,1.0],[2.0,2.0,2.0,2.0,2.0,2.0,2.0,2.0,2.0,2.0]],\"texttemplate\":\"%{text}\",\"x\":[1,2,3,4,5,6,7,8,9,10],\"xaxis\":\"x2\",\"y\":[1,2,3,4,5,6,7,8,9,10],\"yaxis\":\"y2\",\"z\":[[15,33,23,19,13,25,24,23,34,35],[22,2,18,17,15,15,2,15,2,2],[15,15,14,16,16,19,10,13,16,6],[2,6,18,13,20,14,3,16,5,9],[13,13,28,14,12,21,12,18,14,13],[23,31,30,27,27,22,23,24,18,30],[16,17,18,17,17,14,16,14,16,17],[14,12,14,14,21,12,12,8,16,16],[9,14,14,14,14,10,7,16,10,20],[29,27,17,21,29,39,24,26,24,28]],\"type\":\"heatmap\"},{\"coloraxis\":\"coloraxis\",\"hovertemplate\":\"i_map: %{y}\\u003cbr\\u003eposition: %{x}\\u003cbr\\u003eNo. of completed missions: %{z}\\u003cextra\\u003e\\u003c\\u002fextra\\u003e\",\"name\":\"0\",\"showscale\":true,\"text\":[[2.0,3.0,3.0,2.0,2.0,3.0,3.0,3.0,3.0,3.0],[3.0,2.0,2.0,2.0,2.0,3.0,2.0,3.0,2.0,2.0],[2.0,2.0,2.0,2.0,2.0,1.0,2.0,2.0,2.0,2.0],[2.0,3.0,2.0,3.0,3.0,2.0,2.0,2.0,2.0,2.0],[3.0,1.0,3.0,2.0,3.0,1.0,2.0,3.0,2.0,1.0],[2.0,3.0,2.0,3.0,2.0,3.0,3.0,2.0,3.0,2.0],[2.0,2.0,3.0,1.0,2.0,2.0,2.0,2.0,3.0,1.0],[1.0,2.0,2.0,2.0,3.0,2.0,1.0,2.0,1.0,3.0],[2.0,2.0,2.0,3.0,3.0,1.0,2.0,2.0,2.0,3.0],[3.0,2.0,3.0,2.0,3.0,2.0,2.0,3.0,2.0,3.0]],\"texttemplate\":\"%{text}\",\"x\":[1,2,3,4,5,6,7,8,9,10],\"xaxis\":\"x3\",\"y\":[1,2,3,4,5,6,7,8,9,10],\"yaxis\":\"y3\",\"z\":[[28,17,22,20,32,24,23,17,33,29],[20,17,18,19,16,14,15,13,15,2],[15,15,14,17,16,19,10,15,19,13],[13,5,18,12,19,15,9,16,5,20],[10,14,23,13,1,21,14,10,13,13],[23,28,30,26,27,20,22,24,16,30],[15,15,17,17,15,13,13,13,8,19],[14,12,14,16,13,13,12,9,16,7],[9,14,17,13,6,11,7,16,13,18],[28,27,14,21,28,39,24,25,24,27]],\"type\":\"heatmap\"},{\"coloraxis\":\"coloraxis2\",\"hovertemplate\":\"i_map: %{y}\\u003cbr\\u003eposition: %{x}\\u003cbr\\u003eNo. of completed missions: %{z}\\u003cextra\\u003e\\u003c\\u002fextra\\u003e\",\"name\":\"0\",\"showscale\":false,\"text\":[[\"S\",\"P\",\"P\",\"S\",\"S\",\"P\",\"P\",\"P\",\"P\",\"P\"],[\"P\",\"S\",\"PS\",\"S\",\"S\",\"P\",\"S\",\"P\",\"S\",\"PS\"],[\"PS\",\"PS\",\"PS\",\"S\",\"PS\",\"PS\",\"PS\",\"S\",\"S\",\"S\"],[\"S\",\"P\",\"PS\",\"P\",\"P\",\"S\",\"S\",\"PS\",\"PS\",\"S\"],[\"P\",\"S\",\"P\",\"P\",\"P\",\"PS\",\"S\",\"P\",\"P\",\"PS\"],[\"PS\",\"P\",\"PS\",\"P\",\"PS\",\"P\",\"P\",\"PS\",\"P\",\"PS\"],[\"P\",\"P\",\"P\",\"PS\",\"P\",\"P\",\"P\",\"P\",\"P\",\"S\"],[\"PS\",\"PS\",\"PS\",\"S\",\"P\",\"S\",\"PS\",\"S\",\"PS\",\"P\"],[\"PS\",\"PS\",\"S\",\"P\",\"P\",\"S\",\"PS\",\"PS\",\"S\",\"P\"],[\"P\",\"PS\",\"P\",\"PS\",\"P\",\"PS\",\"PS\",\"P\",\"PS\",\"P\"]],\"texttemplate\":\"%{text}\",\"x\":[1,2,3,4,5,6,7,8,9,10],\"xaxis\":\"x4\",\"y\":[1,2,3,4,5,6,7,8,9,10],\"yaxis\":\"y4\",\"z\":[[1.0,0.0,0.0,1.0,1.0,0.0,0.0,0.0,0.0,0.0],[0.0,1.0,0.5,1.0,1.0,0.0,1.0,0.0,1.0,0.5],[0.5,0.5,0.5,1.0,0.5,0.5,0.5,1.0,1.0,1.0],[1.0,0.0,0.5,0.0,0.0,1.0,1.0,0.5,0.5,1.0],[0.0,1.0,0.0,0.0,0.0,0.5,1.0,0.0,0.0,0.5],[0.5,0.0,0.5,0.0,0.5,0.0,0.0,0.5,0.0,0.5],[0.0,0.0,0.0,0.5,0.0,0.0,0.0,0.0,0.0,1.0],[0.5,0.5,0.5,1.0,0.0,1.0,0.5,1.0,0.5,0.0],[0.5,0.5,1.0,0.0,0.0,1.0,0.5,0.5,1.0,0.0],[0.0,0.5,0.0,0.5,0.0,0.5,0.5,0.0,0.5,0.0]],\"type\":\"heatmap\"}],                        {\"template\":{\"data\":{\"histogram2dcontour\":[{\"type\":\"histogram2dcontour\",\"colorbar\":{\"outlinewidth\":0,\"ticks\":\"\"},\"colorscale\":[[0.0,\"#0d0887\"],[0.1111111111111111,\"#46039f\"],[0.2222222222222222,\"#7201a8\"],[0.3333333333333333,\"#9c179e\"],[0.4444444444444444,\"#bd3786\"],[0.5555555555555556,\"#d8576b\"],[0.6666666666666666,\"#ed7953\"],[0.7777777777777778,\"#fb9f3a\"],[0.8888888888888888,\"#fdca26\"],[1.0,\"#f0f921\"]]}],\"choropleth\":[{\"type\":\"choropleth\",\"colorbar\":{\"outlinewidth\":0,\"ticks\":\"\"}}],\"histogram2d\":[{\"type\":\"histogram2d\",\"colorbar\":{\"outlinewidth\":0,\"ticks\":\"\"},\"colorscale\":[[0.0,\"#0d0887\"],[0.1111111111111111,\"#46039f\"],[0.2222222222222222,\"#7201a8\"],[0.3333333333333333,\"#9c179e\"],[0.4444444444444444,\"#bd3786\"],[0.5555555555555556,\"#d8576b\"],[0.6666666666666666,\"#ed7953\"],[0.7777777777777778,\"#fb9f3a\"],[0.8888888888888888,\"#fdca26\"],[1.0,\"#f0f921\"]]}],\"heatmap\":[{\"type\":\"heatmap\",\"colorbar\":{\"outlinewidth\":0,\"ticks\":\"\"},\"colorscale\":[[0.0,\"#0d0887\"],[0.1111111111111111,\"#46039f\"],[0.2222222222222222,\"#7201a8\"],[0.3333333333333333,\"#9c179e\"],[0.4444444444444444,\"#bd3786\"],[0.5555555555555556,\"#d8576b\"],[0.6666666666666666,\"#ed7953\"],[0.7777777777777778,\"#fb9f3a\"],[0.8888888888888888,\"#fdca26\"],[1.0,\"#f0f921\"]]}],\"heatmapgl\":[{\"type\":\"heatmapgl\",\"colorbar\":{\"outlinewidth\":0,\"ticks\":\"\"},\"colorscale\":[[0.0,\"#0d0887\"],[0.1111111111111111,\"#46039f\"],[0.2222222222222222,\"#7201a8\"],[0.3333333333333333,\"#9c179e\"],[0.4444444444444444,\"#bd3786\"],[0.5555555555555556,\"#d8576b\"],[0.6666666666666666,\"#ed7953\"],[0.7777777777777778,\"#fb9f3a\"],[0.8888888888888888,\"#fdca26\"],[1.0,\"#f0f921\"]]}],\"contourcarpet\":[{\"type\":\"contourcarpet\",\"colorbar\":{\"outlinewidth\":0,\"ticks\":\"\"}}],\"contour\":[{\"type\":\"contour\",\"colorbar\":{\"outlinewidth\":0,\"ticks\":\"\"},\"colorscale\":[[0.0,\"#0d0887\"],[0.1111111111111111,\"#46039f\"],[0.2222222222222222,\"#7201a8\"],[0.3333333333333333,\"#9c179e\"],[0.4444444444444444,\"#bd3786\"],[0.5555555555555556,\"#d8576b\"],[0.6666666666666666,\"#ed7953\"],[0.7777777777777778,\"#fb9f3a\"],[0.8888888888888888,\"#fdca26\"],[1.0,\"#f0f921\"]]}],\"surface\":[{\"type\":\"surface\",\"colorbar\":{\"outlinewidth\":0,\"ticks\":\"\"},\"colorscale\":[[0.0,\"#0d0887\"],[0.1111111111111111,\"#46039f\"],[0.2222222222222222,\"#7201a8\"],[0.3333333333333333,\"#9c179e\"],[0.4444444444444444,\"#bd3786\"],[0.5555555555555556,\"#d8576b\"],[0.6666666666666666,\"#ed7953\"],[0.7777777777777778,\"#fb9f3a\"],[0.8888888888888888,\"#fdca26\"],[1.0,\"#f0f921\"]]}],\"mesh3d\":[{\"type\":\"mesh3d\",\"colorbar\":{\"outlinewidth\":0,\"ticks\":\"\"}}],\"scatter\":[{\"marker\":{\"line\":{\"color\":\"#283442\"}},\"type\":\"scatter\"}],\"parcoords\":[{\"type\":\"parcoords\",\"line\":{\"colorbar\":{\"outlinewidth\":0,\"ticks\":\"\"}}}],\"scatterpolargl\":[{\"type\":\"scatterpolargl\",\"marker\":{\"colorbar\":{\"outlinewidth\":0,\"ticks\":\"\"}}}],\"bar\":[{\"error_x\":{\"color\":\"#f2f5fa\"},\"error_y\":{\"color\":\"#f2f5fa\"},\"marker\":{\"line\":{\"color\":\"rgb(17,17,17)\",\"width\":0.5},\"pattern\":{\"fillmode\":\"overlay\",\"size\":10,\"solidity\":0.2}},\"type\":\"bar\"}],\"scattergeo\":[{\"type\":\"scattergeo\",\"marker\":{\"colorbar\":{\"outlinewidth\":0,\"ticks\":\"\"}}}],\"scatterpolar\":[{\"type\":\"scatterpolar\",\"marker\":{\"colorbar\":{\"outlinewidth\":0,\"ticks\":\"\"}}}],\"histogram\":[{\"marker\":{\"pattern\":{\"fillmode\":\"overlay\",\"size\":10,\"solidity\":0.2}},\"type\":\"histogram\"}],\"scattergl\":[{\"marker\":{\"line\":{\"color\":\"#283442\"}},\"type\":\"scattergl\"}],\"scatter3d\":[{\"type\":\"scatter3d\",\"line\":{\"colorbar\":{\"outlinewidth\":0,\"ticks\":\"\"}},\"marker\":{\"colorbar\":{\"outlinewidth\":0,\"ticks\":\"\"}}}],\"scattermapbox\":[{\"type\":\"scattermapbox\",\"marker\":{\"colorbar\":{\"outlinewidth\":0,\"ticks\":\"\"}}}],\"scatterternary\":[{\"type\":\"scatterternary\",\"marker\":{\"colorbar\":{\"outlinewidth\":0,\"ticks\":\"\"}}}],\"scattercarpet\":[{\"type\":\"scattercarpet\",\"marker\":{\"colorbar\":{\"outlinewidth\":0,\"ticks\":\"\"}}}],\"carpet\":[{\"aaxis\":{\"endlinecolor\":\"#A2B1C6\",\"gridcolor\":\"#506784\",\"linecolor\":\"#506784\",\"minorgridcolor\":\"#506784\",\"startlinecolor\":\"#A2B1C6\"},\"baxis\":{\"endlinecolor\":\"#A2B1C6\",\"gridcolor\":\"#506784\",\"linecolor\":\"#506784\",\"minorgridcolor\":\"#506784\",\"startlinecolor\":\"#A2B1C6\"},\"type\":\"carpet\"}],\"table\":[{\"cells\":{\"fill\":{\"color\":\"#506784\"},\"line\":{\"color\":\"rgb(17,17,17)\"}},\"header\":{\"fill\":{\"color\":\"#2a3f5f\"},\"line\":{\"color\":\"rgb(17,17,17)\"}},\"type\":\"table\"}],\"barpolar\":[{\"marker\":{\"line\":{\"color\":\"rgb(17,17,17)\",\"width\":0.5},\"pattern\":{\"fillmode\":\"overlay\",\"size\":10,\"solidity\":0.2}},\"type\":\"barpolar\"}],\"pie\":[{\"automargin\":true,\"type\":\"pie\"}]},\"layout\":{\"autotypenumbers\":\"strict\",\"colorway\":[\"#636efa\",\"#EF553B\",\"#00cc96\",\"#ab63fa\",\"#FFA15A\",\"#19d3f3\",\"#FF6692\",\"#B6E880\",\"#FF97FF\",\"#FECB52\"],\"font\":{\"color\":\"#f2f5fa\"},\"hovermode\":\"closest\",\"hoverlabel\":{\"align\":\"left\"},\"paper_bgcolor\":\"rgb(17,17,17)\",\"plot_bgcolor\":\"rgb(17,17,17)\",\"polar\":{\"bgcolor\":\"rgb(17,17,17)\",\"angularaxis\":{\"gridcolor\":\"#506784\",\"linecolor\":\"#506784\",\"ticks\":\"\"},\"radialaxis\":{\"gridcolor\":\"#506784\",\"linecolor\":\"#506784\",\"ticks\":\"\"}},\"ternary\":{\"bgcolor\":\"rgb(17,17,17)\",\"aaxis\":{\"gridcolor\":\"#506784\",\"linecolor\":\"#506784\",\"ticks\":\"\"},\"baxis\":{\"gridcolor\":\"#506784\",\"linecolor\":\"#506784\",\"ticks\":\"\"},\"caxis\":{\"gridcolor\":\"#506784\",\"linecolor\":\"#506784\",\"ticks\":\"\"}},\"coloraxis\":{\"colorbar\":{\"outlinewidth\":0,\"ticks\":\"\"}},\"colorscale\":{\"sequential\":[[0.0,\"#0d0887\"],[0.1111111111111111,\"#46039f\"],[0.2222222222222222,\"#7201a8\"],[0.3333333333333333,\"#9c179e\"],[0.4444444444444444,\"#bd3786\"],[0.5555555555555556,\"#d8576b\"],[0.6666666666666666,\"#ed7953\"],[0.7777777777777778,\"#fb9f3a\"],[0.8888888888888888,\"#fdca26\"],[1.0,\"#f0f921\"]],\"sequentialminus\":[[0.0,\"#0d0887\"],[0.1111111111111111,\"#46039f\"],[0.2222222222222222,\"#7201a8\"],[0.3333333333333333,\"#9c179e\"],[0.4444444444444444,\"#bd3786\"],[0.5555555555555556,\"#d8576b\"],[0.6666666666666666,\"#ed7953\"],[0.7777777777777778,\"#fb9f3a\"],[0.8888888888888888,\"#fdca26\"],[1.0,\"#f0f921\"]],\"diverging\":[[0,\"#8e0152\"],[0.1,\"#c51b7d\"],[0.2,\"#de77ae\"],[0.3,\"#f1b6da\"],[0.4,\"#fde0ef\"],[0.5,\"#f7f7f7\"],[0.6,\"#e6f5d0\"],[0.7,\"#b8e186\"],[0.8,\"#7fbc41\"],[0.9,\"#4d9221\"],[1,\"#276419\"]]},\"xaxis\":{\"gridcolor\":\"#283442\",\"linecolor\":\"#506784\",\"ticks\":\"\",\"title\":{\"standoff\":15},\"zerolinecolor\":\"#283442\",\"automargin\":true,\"zerolinewidth\":2},\"yaxis\":{\"gridcolor\":\"#283442\",\"linecolor\":\"#506784\",\"ticks\":\"\",\"title\":{\"standoff\":15},\"zerolinecolor\":\"#283442\",\"automargin\":true,\"zerolinewidth\":2},\"scene\":{\"xaxis\":{\"backgroundcolor\":\"rgb(17,17,17)\",\"gridcolor\":\"#506784\",\"linecolor\":\"#506784\",\"showbackground\":true,\"ticks\":\"\",\"zerolinecolor\":\"#C8D4E3\",\"gridwidth\":2},\"yaxis\":{\"backgroundcolor\":\"rgb(17,17,17)\",\"gridcolor\":\"#506784\",\"linecolor\":\"#506784\",\"showbackground\":true,\"ticks\":\"\",\"zerolinecolor\":\"#C8D4E3\",\"gridwidth\":2},\"zaxis\":{\"backgroundcolor\":\"rgb(17,17,17)\",\"gridcolor\":\"#506784\",\"linecolor\":\"#506784\",\"showbackground\":true,\"ticks\":\"\",\"zerolinecolor\":\"#C8D4E3\",\"gridwidth\":2}},\"shapedefaults\":{\"line\":{\"color\":\"#f2f5fa\"}},\"annotationdefaults\":{\"arrowcolor\":\"#f2f5fa\",\"arrowhead\":0,\"arrowwidth\":1},\"geo\":{\"bgcolor\":\"rgb(17,17,17)\",\"landcolor\":\"rgb(17,17,17)\",\"subunitcolor\":\"#506784\",\"showland\":true,\"showlakes\":true,\"lakecolor\":\"rgb(17,17,17)\"},\"title\":{\"x\":0.05},\"updatemenudefaults\":{\"bgcolor\":\"#506784\",\"borderwidth\":0},\"sliderdefaults\":{\"bgcolor\":\"#C8D4E3\",\"borderwidth\":1,\"bordercolor\":\"rgb(17,17,17)\",\"tickwidth\":0},\"mapbox\":{\"style\":\"dark\"}}},\"xaxis\":{\"anchor\":\"y\",\"domain\":[0.0,0.2125],\"title\":{\"text\":\"position\",\"standoff\":7},\"tickmode\":\"array\",\"tickvals\":[1,2,3,4,5,6,7,8,9,10],\"ticktext\":[1,2,3,4,5,6,7,8,9,10],\"automargin\":true},\"yaxis\":{\"anchor\":\"x\",\"domain\":[0.0,1.0],\"title\":{\"text\":\"i_map\",\"standoff\":0},\"tickmode\":\"array\",\"tickvals\":[1,2,3,4,5,6,7,8,9,10],\"ticktext\":[1,2,3,4,5,6,7,8,9,10],\"autorange\":\"reversed\",\"automargin\":true},\"xaxis2\":{\"anchor\":\"y2\",\"domain\":[0.2625,0.475],\"title\":{\"text\":\"position\",\"standoff\":7},\"tickmode\":\"array\",\"tickvals\":[1,2,3,4,5,6,7,8,9,10],\"ticktext\":[1,2,3,4,5,6,7,8,9,10],\"automargin\":true},\"yaxis2\":{\"anchor\":\"x2\",\"domain\":[0.0,1.0],\"title\":{\"text\":\"i_map\",\"standoff\":0},\"tickmode\":\"array\",\"tickvals\":[1,2,3,4,5,6,7,8,9,10],\"ticktext\":[1,2,3,4,5,6,7,8,9,10],\"autorange\":\"reversed\",\"automargin\":true},\"xaxis3\":{\"anchor\":\"y3\",\"domain\":[0.525,0.7375],\"title\":{\"text\":\"position\",\"standoff\":7},\"tickmode\":\"array\",\"tickvals\":[1,2,3,4,5,6,7,8,9,10],\"ticktext\":[1,2,3,4,5,6,7,8,9,10],\"automargin\":true},\"yaxis3\":{\"anchor\":\"x3\",\"domain\":[0.0,1.0],\"title\":{\"text\":\"i_map\",\"standoff\":0},\"tickmode\":\"array\",\"tickvals\":[1,2,3,4,5,6,7,8,9,10],\"ticktext\":[1,2,3,4,5,6,7,8,9,10],\"autorange\":\"reversed\",\"automargin\":true},\"xaxis4\":{\"anchor\":\"y4\",\"domain\":[0.7875,1.0],\"title\":{\"text\":\"position\",\"standoff\":7},\"tickmode\":\"array\",\"tickvals\":[1,2,3,4,5,6,7,8,9,10],\"ticktext\":[1,2,3,4,5,6,7,8,9,10],\"automargin\":true},\"yaxis4\":{\"anchor\":\"x4\",\"domain\":[0.0,1.0],\"title\":{\"text\":\"i_map\",\"standoff\":0},\"tickmode\":\"array\",\"tickvals\":[1,2,3,4,5,6,7,8,9,10],\"ticktext\":[1,2,3,4,5,6,7,8,9,10],\"autorange\":\"reversed\",\"automargin\":true},\"annotations\":[{\"font\":{\"size\":16},\"showarrow\":false,\"text\":\"baseline\",\"x\":0.10625,\"xanchor\":\"center\",\"xref\":\"paper\",\"y\":1.0,\"yanchor\":\"bottom\",\"yref\":\"paper\"},{\"font\":{\"size\":16},\"showarrow\":false,\"text\":\"change of priorities\",\"x\":0.36875,\"xanchor\":\"center\",\"xref\":\"paper\",\"y\":1.0,\"yanchor\":\"bottom\",\"yref\":\"paper\"},{\"font\":{\"size\":16},\"showarrow\":false,\"text\":\"stops\",\"x\":0.6312500000000001,\"xanchor\":\"center\",\"xref\":\"paper\",\"y\":1.0,\"yanchor\":\"bottom\",\"yref\":\"paper\"},{\"font\":{\"size\":16},\"showarrow\":false,\"text\":\"Strategies Comparison\",\"x\":0.89375,\"xanchor\":\"center\",\"xref\":\"paper\",\"y\":1.0,\"yanchor\":\"bottom\",\"yref\":\"paper\"}],\"coloraxis\":{\"colorbar\":{\"title\":{\"text\":\"No. of completed missions\",\"font\":{\"size\":12},\"side\":\"right\"},\"x\":-0.08,\"thickness\":10},\"colorscale\":[[0.0,\"rgb(247,252,245)\"],[0.125,\"rgb(229,245,224)\"],[0.25,\"rgb(199,233,192)\"],[0.375,\"rgb(161,217,155)\"],[0.5,\"rgb(116,196,118)\"],[0.625,\"rgb(65,171,93)\"],[0.75,\"rgb(35,139,69)\"],[0.875,\"rgb(0,109,44)\"],[1.0,\"rgb(0,68,27)\"]]},\"coloraxis2\":{\"colorscale\":[[0.0,\"#FFFFE0\"],[0.5,\"#D3D3D3\"],[1.0,\"#ADD8E6\"]]},\"title\":{\"text\":\"No. of completed missions\\u003cbr\\u003e(slowness: without rerouting; coordination strategies)\"}},                        {\"responsive\": true}                    ).then(function(){\n",
       "                            \n",
       "var gd = document.getElementById('7085725e-04db-4f33-8f07-b773fe8c17aa');\n",
       "var x = new MutationObserver(function (mutations, observer) {{\n",
       "        var display = window.getComputedStyle(gd).display;\n",
       "        if (!display || display === 'none') {{\n",
       "            console.log([gd, 'removed!']);\n",
       "            Plotly.purge(gd);\n",
       "            observer.disconnect();\n",
       "        }}\n",
       "}});\n",
       "\n",
       "// Listen for the removal of the full notebook cells\n",
       "var notebookContainer = gd.closest('#notebook-container');\n",
       "if (notebookContainer) {{\n",
       "    x.observe(notebookContainer, {childList: true});\n",
       "}}\n",
       "\n",
       "// Listen for the clearing of the current output cell\n",
       "var outputEl = gd.closest('.output');\n",
       "if (outputEl) {{\n",
       "    x.observe(outputEl, {childList: true});\n",
       "}}\n",
       "\n",
       "                        })                };                });            </script>        </div>"
      ]
     },
     "metadata": {},
     "output_type": "display_data"
    },
    {
     "data": {
      "text/plain": [
       "<IPython.core.display.HTML object>"
      ],
      "text/html": [
       "<h2>Maps with high connectivity</h2>"
      ]
     },
     "metadata": {},
     "output_type": "display_data"
    },
    {
     "data": {
      "application/vnd.plotly.v1+json": {
       "data": [
        {
         "coloraxis": "coloraxis",
         "hovertemplate": "i_map: %{y}<br>position: %{x}<br>No. of completed missions: %{z}<extra></extra>",
         "name": "0",
         "showscale": true,
         "text": [
          [
           1.0,
           1.0,
           1.0,
           1.0,
           1.0,
           1.0,
           1.0,
           1.0,
           1.0,
           1.0
          ],
          [
           1.0,
           1.0,
           1.0,
           1.0,
           1.0,
           1.0,
           1.0,
           1.0,
           1.0,
           1.0
          ],
          [
           1.0,
           1.0,
           1.0,
           1.0,
           1.0,
           1.0,
           1.0,
           1.0,
           1.0,
           1.0
          ],
          [
           1.0,
           1.0,
           1.0,
           1.0,
           1.0,
           1.0,
           1.0,
           1.0,
           1.0,
           1.0
          ],
          [
           1.0,
           1.0,
           2.0,
           2.0,
           1.0,
           1.0,
           1.0,
           2.0,
           2.0,
           2.0
          ],
          [
           1.0,
           1.0,
           1.0,
           1.0,
           1.0,
           1.0,
           1.0,
           1.0,
           1.0,
           1.0
          ],
          [
           1.0,
           1.0,
           1.0,
           1.0,
           1.0,
           1.0,
           1.0,
           3.0,
           1.0,
           2.0
          ],
          [
           1.0,
           1.0,
           1.0,
           1.0,
           1.0,
           1.0,
           1.0,
           1.0,
           1.0,
           1.0
          ],
          [
           1.0,
           2.0,
           1.0,
           1.0,
           1.0,
           3.0,
           1.0,
           1.0,
           1.0,
           1.0
          ],
          [
           1.0,
           1.0,
           1.0,
           1.0,
           1.0,
           1.0,
           1.0,
           1.0,
           1.0,
           1.0
          ]
         ],
         "texttemplate": "%{text}",
         "x": [
          1,
          2,
          3,
          4,
          5,
          6,
          7,
          8,
          9,
          10
         ],
         "xaxis": "x",
         "y": [
          1,
          2,
          3,
          4,
          5,
          6,
          7,
          8,
          9,
          10
         ],
         "yaxis": "y",
         "z": [
          [
           35,
           37,
           21,
           24,
           38,
           26,
           28,
           27,
           43,
           41
          ],
          [
           26,
           24,
           25,
           30,
           24,
           17,
           22,
           15,
           22,
           23
          ],
          [
           25,
           25,
           22,
           22,
           21,
           24,
           19,
           21,
           22,
           20
          ],
          [
           22,
           15,
           22,
           21,
           22,
           23,
           18,
           21,
           22,
           25
          ],
          [
           19,
           18,
           21,
           16,
           11,
           23,
           22,
           18,
           16,
           16
          ],
          [
           25,
           32,
           32,
           30,
           32,
           25,
           29,
           28,
           25,
           36
          ],
          [
           19,
           18,
           22,
           22,
           18,
           11,
           18,
           10,
           17,
           14
          ],
          [
           19,
           17,
           19,
           21,
           18,
           19,
           18,
           14,
           24,
           24
          ],
          [
           14,
           0,
           22,
           18,
           19,
           2,
           15,
           21,
           21,
           24
          ],
          [
           36,
           33,
           33,
           30,
           24,
           45,
           32,
           33,
           30,
           34
          ]
         ],
         "type": "heatmap"
        },
        {
         "coloraxis": "coloraxis",
         "hovertemplate": "i_map: %{y}<br>position: %{x}<br>No. of completed missions: %{z}<extra></extra>",
         "name": "0",
         "showscale": true,
         "text": [
          [
           2.0,
           2.0,
           1.0,
           1.0,
           2.0,
           2.0,
           2.0,
           2.0,
           2.0,
           2.0
          ],
          [
           2.0,
           2.0,
           1.0,
           2.0,
           3.0,
           1.0,
           2.0,
           1.0,
           2.0,
           2.0
          ],
          [
           3.0,
           3.0,
           2.0,
           2.0,
           2.0,
           3.0,
           2.0,
           2.0,
           2.0,
           2.0
          ],
          [
           3.0,
           2.0,
           1.0,
           2.0,
           2.0,
           2.0,
           2.0,
           1.0,
           2.0,
           1.0
          ],
          [
           1.0,
           1.0,
           1.0,
           1.0,
           1.0,
           3.0,
           2.0,
           1.0,
           1.0,
           1.0
          ],
          [
           2.0,
           2.0,
           3.0,
           2.0,
           1.0,
           2.0,
           2.0,
           2.0,
           3.0,
           2.0
          ],
          [
           1.0,
           1.0,
           3.0,
           1.0,
           1.0,
           1.0,
           2.0,
           1.0,
           1.0,
           1.0
          ],
          [
           3.0,
           1.0,
           2.0,
           2.0,
           2.0,
           2.0,
           3.0,
           3.0,
           2.0,
           1.0
          ],
          [
           2.0,
           1.0,
           2.0,
           2.0,
           2.0,
           1.0,
           1.0,
           2.0,
           3.0,
           3.0
          ],
          [
           2.0,
           2.0,
           1.0,
           2.0,
           2.0,
           2.0,
           2.0,
           2.0,
           2.0,
           2.0
          ]
         ],
         "texttemplate": "%{text}",
         "x": [
          1,
          2,
          3,
          4,
          5,
          6,
          7,
          8,
          9,
          10
         ],
         "xaxis": "x2",
         "y": [
          1,
          2,
          3,
          4,
          5,
          6,
          7,
          8,
          9,
          10
         ],
         "yaxis": "y2",
         "z": [
          [
           22,
           20,
           21,
           24,
           25,
           24,
           26,
           26,
           42,
           40
          ],
          [
           25,
           9,
           25,
           11,
           14,
           17,
           9,
           15,
           9,
           0
          ],
          [
           2,
           2,
           2,
           2,
           19,
           9,
           1,
           2,
           21,
           19
          ],
          [
           4,
           12,
           22,
           12,
           20,
           12,
           16,
           21,
           15,
           25
          ],
          [
           19,
           18,
           22,
           17,
           11,
           12,
           19,
           19,
           17,
           17
          ],
          [
           24,
           31,
           15,
           28,
           32,
           24,
           28,
           27,
           11,
           11
          ],
          [
           19,
           18,
           14,
           22,
           18,
           11,
           17,
           13,
           17,
           15
          ],
          [
           11,
           17,
           16,
           18,
           17,
           2,
           6,
           8,
           2,
           24
          ],
          [
           13,
           2,
           20,
           15,
           17,
           12,
           15,
           19,
           11,
           8
          ],
          [
           35,
           31,
           33,
           28,
           22,
           44,
           30,
           32,
           27,
           33
          ]
         ],
         "type": "heatmap"
        },
        {
         "coloraxis": "coloraxis",
         "hovertemplate": "i_map: %{y}<br>position: %{x}<br>No. of completed missions: %{z}<extra></extra>",
         "name": "0",
         "showscale": true,
         "text": [
          [
           3.0,
           3.0,
           3.0,
           3.0,
           3.0,
           3.0,
           3.0,
           3.0,
           3.0,
           3.0
          ],
          [
           3.0,
           3.0,
           3.0,
           3.0,
           2.0,
           3.0,
           3.0,
           3.0,
           3.0,
           2.0
          ],
          [
           2.0,
           2.0,
           2.0,
           2.0,
           3.0,
           2.0,
           2.0,
           2.0,
           3.0,
           3.0
          ],
          [
           2.0,
           3.0,
           3.0,
           3.0,
           3.0,
           3.0,
           3.0,
           3.0,
           3.0,
           3.0
          ],
          [
           3.0,
           3.0,
           3.0,
           3.0,
           3.0,
           2.0,
           3.0,
           3.0,
           3.0,
           3.0
          ],
          [
           3.0,
           3.0,
           2.0,
           3.0,
           3.0,
           3.0,
           3.0,
           3.0,
           2.0,
           2.0
          ],
          [
           3.0,
           3.0,
           2.0,
           3.0,
           3.0,
           3.0,
           3.0,
           2.0,
           3.0,
           3.0
          ],
          [
           2.0,
           3.0,
           3.0,
           3.0,
           2.0,
           3.0,
           2.0,
           2.0,
           2.0,
           3.0
          ],
          [
           3.0,
           2.0,
           3.0,
           3.0,
           3.0,
           1.0,
           3.0,
           3.0,
           2.0,
           2.0
          ],
          [
           3.0,
           3.0,
           3.0,
           3.0,
           2.0,
           3.0,
           3.0,
           3.0,
           3.0,
           3.0
          ]
         ],
         "texttemplate": "%{text}",
         "x": [
          1,
          2,
          3,
          4,
          5,
          6,
          7,
          8,
          9,
          10
         ],
         "xaxis": "x3",
         "y": [
          1,
          2,
          3,
          4,
          5,
          6,
          7,
          8,
          9,
          10
         ],
         "yaxis": "y3",
         "z": [
          [
           12,
           15,
           19,
           21,
           3,
           23,
           24,
           23,
           37,
           38
          ],
          [
           5,
           0,
           4,
           5,
           15,
           13,
           0,
           13,
           0,
           0
          ],
          [
           4,
           4,
           2,
           2,
           18,
           12,
           1,
           2,
           20,
           17
          ],
          [
           16,
           9,
           18,
           1,
           1,
           1,
           0,
           19,
           1,
           8
          ],
          [
           16,
           15,
           1,
           15,
           6,
           21,
           18,
           15,
           15,
           15
          ],
          [
           21,
           29,
           31,
           26,
           30,
           21,
           26,
           24,
           21,
           11
          ],
          [
           16,
           15,
           18,
           18,
           15,
           0,
           15,
           11,
           13,
           11
          ],
          [
           17,
           15,
           15,
           10,
           17,
           1,
           14,
           9,
           2,
           20
          ],
          [
           1,
           0,
           18,
           1,
           5,
           12,
           10,
           5,
           17,
           19
          ],
          [
           32,
           28,
           28,
           26,
           22,
           39,
           28,
           28,
           25,
           30
          ]
         ],
         "type": "heatmap"
        },
        {
         "coloraxis": "coloraxis2",
         "hovertemplate": "i_map: %{y}<br>position: %{x}<br>No. of completed missions: %{z}<extra></extra>",
         "name": "0",
         "showscale": false,
         "text": [
          [
           "P",
           "P",
           "P",
           "P",
           "P",
           "P",
           "P",
           "P",
           "P",
           "P"
          ],
          [
           "P",
           "P",
           "P",
           "P",
           "S",
           "P",
           "P",
           "P",
           "P",
           "PS"
          ],
          [
           "S",
           "S",
           "PS",
           "PS",
           "P",
           "S",
           "PS",
           "PS",
           "P",
           "P"
          ],
          [
           "S",
           "P",
           "P",
           "P",
           "P",
           "P",
           "P",
           "P",
           "P",
           "P"
          ],
          [
           "P",
           "P",
           "P",
           "P",
           "P",
           "S",
           "P",
           "P",
           "P",
           "P"
          ],
          [
           "P",
           "P",
           "S",
           "P",
           "P",
           "P",
           "P",
           "P",
           "S",
           "PS"
          ],
          [
           "P",
           "P",
           "S",
           "P",
           "P",
           "P",
           "P",
           "P",
           "P",
           "P"
          ],
          [
           "S",
           "P",
           "P",
           "P",
           "PS",
           "P",
           "S",
           "S",
           "PS",
           "P"
          ],
          [
           "P",
           "P",
           "P",
           "P",
           "P",
           "PS",
           "P",
           "P",
           "S",
           "S"
          ],
          [
           "P",
           "P",
           "P",
           "P",
           "PS",
           "P",
           "P",
           "P",
           "P",
           "P"
          ]
         ],
         "texttemplate": "%{text}",
         "x": [
          1,
          2,
          3,
          4,
          5,
          6,
          7,
          8,
          9,
          10
         ],
         "xaxis": "x4",
         "y": [
          1,
          2,
          3,
          4,
          5,
          6,
          7,
          8,
          9,
          10
         ],
         "yaxis": "y4",
         "z": [
          [
           0.0,
           0.0,
           0.0,
           0.0,
           0.0,
           0.0,
           0.0,
           0.0,
           0.0,
           0.0
          ],
          [
           0.0,
           0.0,
           0.0,
           0.0,
           1.0,
           0.0,
           0.0,
           0.0,
           0.0,
           0.5
          ],
          [
           1.0,
           1.0,
           0.5,
           0.5,
           0.0,
           1.0,
           0.5,
           0.5,
           0.0,
           0.0
          ],
          [
           1.0,
           0.0,
           0.0,
           0.0,
           0.0,
           0.0,
           0.0,
           0.0,
           0.0,
           0.0
          ],
          [
           0.0,
           0.0,
           0.0,
           0.0,
           0.0,
           1.0,
           0.0,
           0.0,
           0.0,
           0.0
          ],
          [
           0.0,
           0.0,
           1.0,
           0.0,
           0.0,
           0.0,
           0.0,
           0.0,
           1.0,
           0.5
          ],
          [
           0.0,
           0.0,
           1.0,
           0.0,
           0.0,
           0.0,
           0.0,
           0.0,
           0.0,
           0.0
          ],
          [
           1.0,
           0.0,
           0.0,
           0.0,
           0.5,
           0.0,
           1.0,
           1.0,
           0.5,
           0.0
          ],
          [
           0.0,
           0.0,
           0.0,
           0.0,
           0.0,
           0.5,
           0.0,
           0.0,
           1.0,
           1.0
          ],
          [
           0.0,
           0.0,
           0.0,
           0.0,
           0.5,
           0.0,
           0.0,
           0.0,
           0.0,
           0.0
          ]
         ],
         "type": "heatmap"
        }
       ],
       "layout": {
        "template": {
         "data": {
          "histogram2dcontour": [
           {
            "type": "histogram2dcontour",
            "colorbar": {
             "outlinewidth": 0,
             "ticks": ""
            },
            "colorscale": [
             [
              0.0,
              "#0d0887"
             ],
             [
              0.1111111111111111,
              "#46039f"
             ],
             [
              0.2222222222222222,
              "#7201a8"
             ],
             [
              0.3333333333333333,
              "#9c179e"
             ],
             [
              0.4444444444444444,
              "#bd3786"
             ],
             [
              0.5555555555555556,
              "#d8576b"
             ],
             [
              0.6666666666666666,
              "#ed7953"
             ],
             [
              0.7777777777777778,
              "#fb9f3a"
             ],
             [
              0.8888888888888888,
              "#fdca26"
             ],
             [
              1.0,
              "#f0f921"
             ]
            ]
           }
          ],
          "choropleth": [
           {
            "type": "choropleth",
            "colorbar": {
             "outlinewidth": 0,
             "ticks": ""
            }
           }
          ],
          "histogram2d": [
           {
            "type": "histogram2d",
            "colorbar": {
             "outlinewidth": 0,
             "ticks": ""
            },
            "colorscale": [
             [
              0.0,
              "#0d0887"
             ],
             [
              0.1111111111111111,
              "#46039f"
             ],
             [
              0.2222222222222222,
              "#7201a8"
             ],
             [
              0.3333333333333333,
              "#9c179e"
             ],
             [
              0.4444444444444444,
              "#bd3786"
             ],
             [
              0.5555555555555556,
              "#d8576b"
             ],
             [
              0.6666666666666666,
              "#ed7953"
             ],
             [
              0.7777777777777778,
              "#fb9f3a"
             ],
             [
              0.8888888888888888,
              "#fdca26"
             ],
             [
              1.0,
              "#f0f921"
             ]
            ]
           }
          ],
          "heatmap": [
           {
            "type": "heatmap",
            "colorbar": {
             "outlinewidth": 0,
             "ticks": ""
            },
            "colorscale": [
             [
              0.0,
              "#0d0887"
             ],
             [
              0.1111111111111111,
              "#46039f"
             ],
             [
              0.2222222222222222,
              "#7201a8"
             ],
             [
              0.3333333333333333,
              "#9c179e"
             ],
             [
              0.4444444444444444,
              "#bd3786"
             ],
             [
              0.5555555555555556,
              "#d8576b"
             ],
             [
              0.6666666666666666,
              "#ed7953"
             ],
             [
              0.7777777777777778,
              "#fb9f3a"
             ],
             [
              0.8888888888888888,
              "#fdca26"
             ],
             [
              1.0,
              "#f0f921"
             ]
            ]
           }
          ],
          "heatmapgl": [
           {
            "type": "heatmapgl",
            "colorbar": {
             "outlinewidth": 0,
             "ticks": ""
            },
            "colorscale": [
             [
              0.0,
              "#0d0887"
             ],
             [
              0.1111111111111111,
              "#46039f"
             ],
             [
              0.2222222222222222,
              "#7201a8"
             ],
             [
              0.3333333333333333,
              "#9c179e"
             ],
             [
              0.4444444444444444,
              "#bd3786"
             ],
             [
              0.5555555555555556,
              "#d8576b"
             ],
             [
              0.6666666666666666,
              "#ed7953"
             ],
             [
              0.7777777777777778,
              "#fb9f3a"
             ],
             [
              0.8888888888888888,
              "#fdca26"
             ],
             [
              1.0,
              "#f0f921"
             ]
            ]
           }
          ],
          "contourcarpet": [
           {
            "type": "contourcarpet",
            "colorbar": {
             "outlinewidth": 0,
             "ticks": ""
            }
           }
          ],
          "contour": [
           {
            "type": "contour",
            "colorbar": {
             "outlinewidth": 0,
             "ticks": ""
            },
            "colorscale": [
             [
              0.0,
              "#0d0887"
             ],
             [
              0.1111111111111111,
              "#46039f"
             ],
             [
              0.2222222222222222,
              "#7201a8"
             ],
             [
              0.3333333333333333,
              "#9c179e"
             ],
             [
              0.4444444444444444,
              "#bd3786"
             ],
             [
              0.5555555555555556,
              "#d8576b"
             ],
             [
              0.6666666666666666,
              "#ed7953"
             ],
             [
              0.7777777777777778,
              "#fb9f3a"
             ],
             [
              0.8888888888888888,
              "#fdca26"
             ],
             [
              1.0,
              "#f0f921"
             ]
            ]
           }
          ],
          "surface": [
           {
            "type": "surface",
            "colorbar": {
             "outlinewidth": 0,
             "ticks": ""
            },
            "colorscale": [
             [
              0.0,
              "#0d0887"
             ],
             [
              0.1111111111111111,
              "#46039f"
             ],
             [
              0.2222222222222222,
              "#7201a8"
             ],
             [
              0.3333333333333333,
              "#9c179e"
             ],
             [
              0.4444444444444444,
              "#bd3786"
             ],
             [
              0.5555555555555556,
              "#d8576b"
             ],
             [
              0.6666666666666666,
              "#ed7953"
             ],
             [
              0.7777777777777778,
              "#fb9f3a"
             ],
             [
              0.8888888888888888,
              "#fdca26"
             ],
             [
              1.0,
              "#f0f921"
             ]
            ]
           }
          ],
          "mesh3d": [
           {
            "type": "mesh3d",
            "colorbar": {
             "outlinewidth": 0,
             "ticks": ""
            }
           }
          ],
          "scatter": [
           {
            "marker": {
             "line": {
              "color": "#283442"
             }
            },
            "type": "scatter"
           }
          ],
          "parcoords": [
           {
            "type": "parcoords",
            "line": {
             "colorbar": {
              "outlinewidth": 0,
              "ticks": ""
             }
            }
           }
          ],
          "scatterpolargl": [
           {
            "type": "scatterpolargl",
            "marker": {
             "colorbar": {
              "outlinewidth": 0,
              "ticks": ""
             }
            }
           }
          ],
          "bar": [
           {
            "error_x": {
             "color": "#f2f5fa"
            },
            "error_y": {
             "color": "#f2f5fa"
            },
            "marker": {
             "line": {
              "color": "rgb(17,17,17)",
              "width": 0.5
             },
             "pattern": {
              "fillmode": "overlay",
              "size": 10,
              "solidity": 0.2
             }
            },
            "type": "bar"
           }
          ],
          "scattergeo": [
           {
            "type": "scattergeo",
            "marker": {
             "colorbar": {
              "outlinewidth": 0,
              "ticks": ""
             }
            }
           }
          ],
          "scatterpolar": [
           {
            "type": "scatterpolar",
            "marker": {
             "colorbar": {
              "outlinewidth": 0,
              "ticks": ""
             }
            }
           }
          ],
          "histogram": [
           {
            "marker": {
             "pattern": {
              "fillmode": "overlay",
              "size": 10,
              "solidity": 0.2
             }
            },
            "type": "histogram"
           }
          ],
          "scattergl": [
           {
            "marker": {
             "line": {
              "color": "#283442"
             }
            },
            "type": "scattergl"
           }
          ],
          "scatter3d": [
           {
            "type": "scatter3d",
            "line": {
             "colorbar": {
              "outlinewidth": 0,
              "ticks": ""
             }
            },
            "marker": {
             "colorbar": {
              "outlinewidth": 0,
              "ticks": ""
             }
            }
           }
          ],
          "scattermapbox": [
           {
            "type": "scattermapbox",
            "marker": {
             "colorbar": {
              "outlinewidth": 0,
              "ticks": ""
             }
            }
           }
          ],
          "scatterternary": [
           {
            "type": "scatterternary",
            "marker": {
             "colorbar": {
              "outlinewidth": 0,
              "ticks": ""
             }
            }
           }
          ],
          "scattercarpet": [
           {
            "type": "scattercarpet",
            "marker": {
             "colorbar": {
              "outlinewidth": 0,
              "ticks": ""
             }
            }
           }
          ],
          "carpet": [
           {
            "aaxis": {
             "endlinecolor": "#A2B1C6",
             "gridcolor": "#506784",
             "linecolor": "#506784",
             "minorgridcolor": "#506784",
             "startlinecolor": "#A2B1C6"
            },
            "baxis": {
             "endlinecolor": "#A2B1C6",
             "gridcolor": "#506784",
             "linecolor": "#506784",
             "minorgridcolor": "#506784",
             "startlinecolor": "#A2B1C6"
            },
            "type": "carpet"
           }
          ],
          "table": [
           {
            "cells": {
             "fill": {
              "color": "#506784"
             },
             "line": {
              "color": "rgb(17,17,17)"
             }
            },
            "header": {
             "fill": {
              "color": "#2a3f5f"
             },
             "line": {
              "color": "rgb(17,17,17)"
             }
            },
            "type": "table"
           }
          ],
          "barpolar": [
           {
            "marker": {
             "line": {
              "color": "rgb(17,17,17)",
              "width": 0.5
             },
             "pattern": {
              "fillmode": "overlay",
              "size": 10,
              "solidity": 0.2
             }
            },
            "type": "barpolar"
           }
          ],
          "pie": [
           {
            "automargin": true,
            "type": "pie"
           }
          ]
         },
         "layout": {
          "autotypenumbers": "strict",
          "colorway": [
           "#636efa",
           "#EF553B",
           "#00cc96",
           "#ab63fa",
           "#FFA15A",
           "#19d3f3",
           "#FF6692",
           "#B6E880",
           "#FF97FF",
           "#FECB52"
          ],
          "font": {
           "color": "#f2f5fa"
          },
          "hovermode": "closest",
          "hoverlabel": {
           "align": "left"
          },
          "paper_bgcolor": "rgb(17,17,17)",
          "plot_bgcolor": "rgb(17,17,17)",
          "polar": {
           "bgcolor": "rgb(17,17,17)",
           "angularaxis": {
            "gridcolor": "#506784",
            "linecolor": "#506784",
            "ticks": ""
           },
           "radialaxis": {
            "gridcolor": "#506784",
            "linecolor": "#506784",
            "ticks": ""
           }
          },
          "ternary": {
           "bgcolor": "rgb(17,17,17)",
           "aaxis": {
            "gridcolor": "#506784",
            "linecolor": "#506784",
            "ticks": ""
           },
           "baxis": {
            "gridcolor": "#506784",
            "linecolor": "#506784",
            "ticks": ""
           },
           "caxis": {
            "gridcolor": "#506784",
            "linecolor": "#506784",
            "ticks": ""
           }
          },
          "coloraxis": {
           "colorbar": {
            "outlinewidth": 0,
            "ticks": ""
           }
          },
          "colorscale": {
           "sequential": [
            [
             0.0,
             "#0d0887"
            ],
            [
             0.1111111111111111,
             "#46039f"
            ],
            [
             0.2222222222222222,
             "#7201a8"
            ],
            [
             0.3333333333333333,
             "#9c179e"
            ],
            [
             0.4444444444444444,
             "#bd3786"
            ],
            [
             0.5555555555555556,
             "#d8576b"
            ],
            [
             0.6666666666666666,
             "#ed7953"
            ],
            [
             0.7777777777777778,
             "#fb9f3a"
            ],
            [
             0.8888888888888888,
             "#fdca26"
            ],
            [
             1.0,
             "#f0f921"
            ]
           ],
           "sequentialminus": [
            [
             0.0,
             "#0d0887"
            ],
            [
             0.1111111111111111,
             "#46039f"
            ],
            [
             0.2222222222222222,
             "#7201a8"
            ],
            [
             0.3333333333333333,
             "#9c179e"
            ],
            [
             0.4444444444444444,
             "#bd3786"
            ],
            [
             0.5555555555555556,
             "#d8576b"
            ],
            [
             0.6666666666666666,
             "#ed7953"
            ],
            [
             0.7777777777777778,
             "#fb9f3a"
            ],
            [
             0.8888888888888888,
             "#fdca26"
            ],
            [
             1.0,
             "#f0f921"
            ]
           ],
           "diverging": [
            [
             0,
             "#8e0152"
            ],
            [
             0.1,
             "#c51b7d"
            ],
            [
             0.2,
             "#de77ae"
            ],
            [
             0.3,
             "#f1b6da"
            ],
            [
             0.4,
             "#fde0ef"
            ],
            [
             0.5,
             "#f7f7f7"
            ],
            [
             0.6,
             "#e6f5d0"
            ],
            [
             0.7,
             "#b8e186"
            ],
            [
             0.8,
             "#7fbc41"
            ],
            [
             0.9,
             "#4d9221"
            ],
            [
             1,
             "#276419"
            ]
           ]
          },
          "xaxis": {
           "gridcolor": "#283442",
           "linecolor": "#506784",
           "ticks": "",
           "title": {
            "standoff": 15
           },
           "zerolinecolor": "#283442",
           "automargin": true,
           "zerolinewidth": 2
          },
          "yaxis": {
           "gridcolor": "#283442",
           "linecolor": "#506784",
           "ticks": "",
           "title": {
            "standoff": 15
           },
           "zerolinecolor": "#283442",
           "automargin": true,
           "zerolinewidth": 2
          },
          "scene": {
           "xaxis": {
            "backgroundcolor": "rgb(17,17,17)",
            "gridcolor": "#506784",
            "linecolor": "#506784",
            "showbackground": true,
            "ticks": "",
            "zerolinecolor": "#C8D4E3",
            "gridwidth": 2
           },
           "yaxis": {
            "backgroundcolor": "rgb(17,17,17)",
            "gridcolor": "#506784",
            "linecolor": "#506784",
            "showbackground": true,
            "ticks": "",
            "zerolinecolor": "#C8D4E3",
            "gridwidth": 2
           },
           "zaxis": {
            "backgroundcolor": "rgb(17,17,17)",
            "gridcolor": "#506784",
            "linecolor": "#506784",
            "showbackground": true,
            "ticks": "",
            "zerolinecolor": "#C8D4E3",
            "gridwidth": 2
           }
          },
          "shapedefaults": {
           "line": {
            "color": "#f2f5fa"
           }
          },
          "annotationdefaults": {
           "arrowcolor": "#f2f5fa",
           "arrowhead": 0,
           "arrowwidth": 1
          },
          "geo": {
           "bgcolor": "rgb(17,17,17)",
           "landcolor": "rgb(17,17,17)",
           "subunitcolor": "#506784",
           "showland": true,
           "showlakes": true,
           "lakecolor": "rgb(17,17,17)"
          },
          "title": {
           "x": 0.05
          },
          "updatemenudefaults": {
           "bgcolor": "#506784",
           "borderwidth": 0
          },
          "sliderdefaults": {
           "bgcolor": "#C8D4E3",
           "borderwidth": 1,
           "bordercolor": "rgb(17,17,17)",
           "tickwidth": 0
          },
          "mapbox": {
           "style": "dark"
          }
         }
        },
        "xaxis": {
         "anchor": "y",
         "domain": [
          0.0,
          0.2125
         ],
         "title": {
          "text": "position",
          "standoff": 7
         },
         "tickmode": "array",
         "tickvals": [
          1,
          2,
          3,
          4,
          5,
          6,
          7,
          8,
          9,
          10
         ],
         "ticktext": [
          1,
          2,
          3,
          4,
          5,
          6,
          7,
          8,
          9,
          10
         ],
         "automargin": true
        },
        "yaxis": {
         "anchor": "x",
         "domain": [
          0.0,
          1.0
         ],
         "title": {
          "text": "i_map",
          "standoff": 0
         },
         "tickmode": "array",
         "tickvals": [
          1,
          2,
          3,
          4,
          5,
          6,
          7,
          8,
          9,
          10
         ],
         "ticktext": [
          1,
          2,
          3,
          4,
          5,
          6,
          7,
          8,
          9,
          10
         ],
         "autorange": "reversed",
         "automargin": true
        },
        "xaxis2": {
         "anchor": "y2",
         "domain": [
          0.2625,
          0.475
         ],
         "title": {
          "text": "position",
          "standoff": 7
         },
         "tickmode": "array",
         "tickvals": [
          1,
          2,
          3,
          4,
          5,
          6,
          7,
          8,
          9,
          10
         ],
         "ticktext": [
          1,
          2,
          3,
          4,
          5,
          6,
          7,
          8,
          9,
          10
         ],
         "automargin": true
        },
        "yaxis2": {
         "anchor": "x2",
         "domain": [
          0.0,
          1.0
         ],
         "title": {
          "text": "i_map",
          "standoff": 0
         },
         "tickmode": "array",
         "tickvals": [
          1,
          2,
          3,
          4,
          5,
          6,
          7,
          8,
          9,
          10
         ],
         "ticktext": [
          1,
          2,
          3,
          4,
          5,
          6,
          7,
          8,
          9,
          10
         ],
         "autorange": "reversed",
         "automargin": true
        },
        "xaxis3": {
         "anchor": "y3",
         "domain": [
          0.525,
          0.7375
         ],
         "title": {
          "text": "position",
          "standoff": 7
         },
         "tickmode": "array",
         "tickvals": [
          1,
          2,
          3,
          4,
          5,
          6,
          7,
          8,
          9,
          10
         ],
         "ticktext": [
          1,
          2,
          3,
          4,
          5,
          6,
          7,
          8,
          9,
          10
         ],
         "automargin": true
        },
        "yaxis3": {
         "anchor": "x3",
         "domain": [
          0.0,
          1.0
         ],
         "title": {
          "text": "i_map",
          "standoff": 0
         },
         "tickmode": "array",
         "tickvals": [
          1,
          2,
          3,
          4,
          5,
          6,
          7,
          8,
          9,
          10
         ],
         "ticktext": [
          1,
          2,
          3,
          4,
          5,
          6,
          7,
          8,
          9,
          10
         ],
         "autorange": "reversed",
         "automargin": true
        },
        "xaxis4": {
         "anchor": "y4",
         "domain": [
          0.7875,
          1.0
         ],
         "title": {
          "text": "position",
          "standoff": 7
         },
         "tickmode": "array",
         "tickvals": [
          1,
          2,
          3,
          4,
          5,
          6,
          7,
          8,
          9,
          10
         ],
         "ticktext": [
          1,
          2,
          3,
          4,
          5,
          6,
          7,
          8,
          9,
          10
         ],
         "automargin": true
        },
        "yaxis4": {
         "anchor": "x4",
         "domain": [
          0.0,
          1.0
         ],
         "title": {
          "text": "i_map",
          "standoff": 0
         },
         "tickmode": "array",
         "tickvals": [
          1,
          2,
          3,
          4,
          5,
          6,
          7,
          8,
          9,
          10
         ],
         "ticktext": [
          1,
          2,
          3,
          4,
          5,
          6,
          7,
          8,
          9,
          10
         ],
         "autorange": "reversed",
         "automargin": true
        },
        "annotations": [
         {
          "font": {
           "size": 16
          },
          "showarrow": false,
          "text": "baseline",
          "x": 0.10625,
          "xanchor": "center",
          "xref": "paper",
          "y": 1.0,
          "yanchor": "bottom",
          "yref": "paper"
         },
         {
          "font": {
           "size": 16
          },
          "showarrow": false,
          "text": "change of priorities",
          "x": 0.36875,
          "xanchor": "center",
          "xref": "paper",
          "y": 1.0,
          "yanchor": "bottom",
          "yref": "paper"
         },
         {
          "font": {
           "size": 16
          },
          "showarrow": false,
          "text": "stops",
          "x": 0.6312500000000001,
          "xanchor": "center",
          "xref": "paper",
          "y": 1.0,
          "yanchor": "bottom",
          "yref": "paper"
         },
         {
          "font": {
           "size": 16
          },
          "showarrow": false,
          "text": "Strategies Comparison",
          "x": 0.89375,
          "xanchor": "center",
          "xref": "paper",
          "y": 1.0,
          "yanchor": "bottom",
          "yref": "paper"
         }
        ],
        "coloraxis": {
         "colorbar": {
          "title": {
           "text": "No. of completed missions",
           "font": {
            "size": 12
           },
           "side": "right"
          },
          "x": -0.08,
          "thickness": 10
         },
         "colorscale": [
          [
           0.0,
           "rgb(247,252,245)"
          ],
          [
           0.125,
           "rgb(229,245,224)"
          ],
          [
           0.25,
           "rgb(199,233,192)"
          ],
          [
           0.375,
           "rgb(161,217,155)"
          ],
          [
           0.5,
           "rgb(116,196,118)"
          ],
          [
           0.625,
           "rgb(65,171,93)"
          ],
          [
           0.75,
           "rgb(35,139,69)"
          ],
          [
           0.875,
           "rgb(0,109,44)"
          ],
          [
           1.0,
           "rgb(0,68,27)"
          ]
         ]
        },
        "coloraxis2": {
         "colorscale": [
          [
           0.0,
           "#FFFFE0"
          ],
          [
           0.5,
           "#D3D3D3"
          ],
          [
           1.0,
           "#ADD8E6"
          ]
         ]
        },
        "title": {
         "text": "No. of completed missions<br>(slowness: baseline; coordination strategies)"
        }
       },
       "config": {
        "plotlyServerURL": "https://plot.ly"
       }
      },
      "text/html": [
       "<div>                            <div id=\"c7b2270f-bff7-4cc8-ae29-83b5b9726c34\" class=\"plotly-graph-div\" style=\"height:525px; width:100%;\"></div>            <script type=\"text/javascript\">                require([\"plotly\"], function(Plotly) {                    window.PLOTLYENV=window.PLOTLYENV || {};                                    if (document.getElementById(\"c7b2270f-bff7-4cc8-ae29-83b5b9726c34\")) {                    Plotly.newPlot(                        \"c7b2270f-bff7-4cc8-ae29-83b5b9726c34\",                        [{\"coloraxis\":\"coloraxis\",\"hovertemplate\":\"i_map: %{y}\\u003cbr\\u003eposition: %{x}\\u003cbr\\u003eNo. of completed missions: %{z}\\u003cextra\\u003e\\u003c\\u002fextra\\u003e\",\"name\":\"0\",\"showscale\":true,\"text\":[[1.0,1.0,1.0,1.0,1.0,1.0,1.0,1.0,1.0,1.0],[1.0,1.0,1.0,1.0,1.0,1.0,1.0,1.0,1.0,1.0],[1.0,1.0,1.0,1.0,1.0,1.0,1.0,1.0,1.0,1.0],[1.0,1.0,1.0,1.0,1.0,1.0,1.0,1.0,1.0,1.0],[1.0,1.0,2.0,2.0,1.0,1.0,1.0,2.0,2.0,2.0],[1.0,1.0,1.0,1.0,1.0,1.0,1.0,1.0,1.0,1.0],[1.0,1.0,1.0,1.0,1.0,1.0,1.0,3.0,1.0,2.0],[1.0,1.0,1.0,1.0,1.0,1.0,1.0,1.0,1.0,1.0],[1.0,2.0,1.0,1.0,1.0,3.0,1.0,1.0,1.0,1.0],[1.0,1.0,1.0,1.0,1.0,1.0,1.0,1.0,1.0,1.0]],\"texttemplate\":\"%{text}\",\"x\":[1,2,3,4,5,6,7,8,9,10],\"xaxis\":\"x\",\"y\":[1,2,3,4,5,6,7,8,9,10],\"yaxis\":\"y\",\"z\":[[35,37,21,24,38,26,28,27,43,41],[26,24,25,30,24,17,22,15,22,23],[25,25,22,22,21,24,19,21,22,20],[22,15,22,21,22,23,18,21,22,25],[19,18,21,16,11,23,22,18,16,16],[25,32,32,30,32,25,29,28,25,36],[19,18,22,22,18,11,18,10,17,14],[19,17,19,21,18,19,18,14,24,24],[14,0,22,18,19,2,15,21,21,24],[36,33,33,30,24,45,32,33,30,34]],\"type\":\"heatmap\"},{\"coloraxis\":\"coloraxis\",\"hovertemplate\":\"i_map: %{y}\\u003cbr\\u003eposition: %{x}\\u003cbr\\u003eNo. of completed missions: %{z}\\u003cextra\\u003e\\u003c\\u002fextra\\u003e\",\"name\":\"0\",\"showscale\":true,\"text\":[[2.0,2.0,1.0,1.0,2.0,2.0,2.0,2.0,2.0,2.0],[2.0,2.0,1.0,2.0,3.0,1.0,2.0,1.0,2.0,2.0],[3.0,3.0,2.0,2.0,2.0,3.0,2.0,2.0,2.0,2.0],[3.0,2.0,1.0,2.0,2.0,2.0,2.0,1.0,2.0,1.0],[1.0,1.0,1.0,1.0,1.0,3.0,2.0,1.0,1.0,1.0],[2.0,2.0,3.0,2.0,1.0,2.0,2.0,2.0,3.0,2.0],[1.0,1.0,3.0,1.0,1.0,1.0,2.0,1.0,1.0,1.0],[3.0,1.0,2.0,2.0,2.0,2.0,3.0,3.0,2.0,1.0],[2.0,1.0,2.0,2.0,2.0,1.0,1.0,2.0,3.0,3.0],[2.0,2.0,1.0,2.0,2.0,2.0,2.0,2.0,2.0,2.0]],\"texttemplate\":\"%{text}\",\"x\":[1,2,3,4,5,6,7,8,9,10],\"xaxis\":\"x2\",\"y\":[1,2,3,4,5,6,7,8,9,10],\"yaxis\":\"y2\",\"z\":[[22,20,21,24,25,24,26,26,42,40],[25,9,25,11,14,17,9,15,9,0],[2,2,2,2,19,9,1,2,21,19],[4,12,22,12,20,12,16,21,15,25],[19,18,22,17,11,12,19,19,17,17],[24,31,15,28,32,24,28,27,11,11],[19,18,14,22,18,11,17,13,17,15],[11,17,16,18,17,2,6,8,2,24],[13,2,20,15,17,12,15,19,11,8],[35,31,33,28,22,44,30,32,27,33]],\"type\":\"heatmap\"},{\"coloraxis\":\"coloraxis\",\"hovertemplate\":\"i_map: %{y}\\u003cbr\\u003eposition: %{x}\\u003cbr\\u003eNo. of completed missions: %{z}\\u003cextra\\u003e\\u003c\\u002fextra\\u003e\",\"name\":\"0\",\"showscale\":true,\"text\":[[3.0,3.0,3.0,3.0,3.0,3.0,3.0,3.0,3.0,3.0],[3.0,3.0,3.0,3.0,2.0,3.0,3.0,3.0,3.0,2.0],[2.0,2.0,2.0,2.0,3.0,2.0,2.0,2.0,3.0,3.0],[2.0,3.0,3.0,3.0,3.0,3.0,3.0,3.0,3.0,3.0],[3.0,3.0,3.0,3.0,3.0,2.0,3.0,3.0,3.0,3.0],[3.0,3.0,2.0,3.0,3.0,3.0,3.0,3.0,2.0,2.0],[3.0,3.0,2.0,3.0,3.0,3.0,3.0,2.0,3.0,3.0],[2.0,3.0,3.0,3.0,2.0,3.0,2.0,2.0,2.0,3.0],[3.0,2.0,3.0,3.0,3.0,1.0,3.0,3.0,2.0,2.0],[3.0,3.0,3.0,3.0,2.0,3.0,3.0,3.0,3.0,3.0]],\"texttemplate\":\"%{text}\",\"x\":[1,2,3,4,5,6,7,8,9,10],\"xaxis\":\"x3\",\"y\":[1,2,3,4,5,6,7,8,9,10],\"yaxis\":\"y3\",\"z\":[[12,15,19,21,3,23,24,23,37,38],[5,0,4,5,15,13,0,13,0,0],[4,4,2,2,18,12,1,2,20,17],[16,9,18,1,1,1,0,19,1,8],[16,15,1,15,6,21,18,15,15,15],[21,29,31,26,30,21,26,24,21,11],[16,15,18,18,15,0,15,11,13,11],[17,15,15,10,17,1,14,9,2,20],[1,0,18,1,5,12,10,5,17,19],[32,28,28,26,22,39,28,28,25,30]],\"type\":\"heatmap\"},{\"coloraxis\":\"coloraxis2\",\"hovertemplate\":\"i_map: %{y}\\u003cbr\\u003eposition: %{x}\\u003cbr\\u003eNo. of completed missions: %{z}\\u003cextra\\u003e\\u003c\\u002fextra\\u003e\",\"name\":\"0\",\"showscale\":false,\"text\":[[\"P\",\"P\",\"P\",\"P\",\"P\",\"P\",\"P\",\"P\",\"P\",\"P\"],[\"P\",\"P\",\"P\",\"P\",\"S\",\"P\",\"P\",\"P\",\"P\",\"PS\"],[\"S\",\"S\",\"PS\",\"PS\",\"P\",\"S\",\"PS\",\"PS\",\"P\",\"P\"],[\"S\",\"P\",\"P\",\"P\",\"P\",\"P\",\"P\",\"P\",\"P\",\"P\"],[\"P\",\"P\",\"P\",\"P\",\"P\",\"S\",\"P\",\"P\",\"P\",\"P\"],[\"P\",\"P\",\"S\",\"P\",\"P\",\"P\",\"P\",\"P\",\"S\",\"PS\"],[\"P\",\"P\",\"S\",\"P\",\"P\",\"P\",\"P\",\"P\",\"P\",\"P\"],[\"S\",\"P\",\"P\",\"P\",\"PS\",\"P\",\"S\",\"S\",\"PS\",\"P\"],[\"P\",\"P\",\"P\",\"P\",\"P\",\"PS\",\"P\",\"P\",\"S\",\"S\"],[\"P\",\"P\",\"P\",\"P\",\"PS\",\"P\",\"P\",\"P\",\"P\",\"P\"]],\"texttemplate\":\"%{text}\",\"x\":[1,2,3,4,5,6,7,8,9,10],\"xaxis\":\"x4\",\"y\":[1,2,3,4,5,6,7,8,9,10],\"yaxis\":\"y4\",\"z\":[[0.0,0.0,0.0,0.0,0.0,0.0,0.0,0.0,0.0,0.0],[0.0,0.0,0.0,0.0,1.0,0.0,0.0,0.0,0.0,0.5],[1.0,1.0,0.5,0.5,0.0,1.0,0.5,0.5,0.0,0.0],[1.0,0.0,0.0,0.0,0.0,0.0,0.0,0.0,0.0,0.0],[0.0,0.0,0.0,0.0,0.0,1.0,0.0,0.0,0.0,0.0],[0.0,0.0,1.0,0.0,0.0,0.0,0.0,0.0,1.0,0.5],[0.0,0.0,1.0,0.0,0.0,0.0,0.0,0.0,0.0,0.0],[1.0,0.0,0.0,0.0,0.5,0.0,1.0,1.0,0.5,0.0],[0.0,0.0,0.0,0.0,0.0,0.5,0.0,0.0,1.0,1.0],[0.0,0.0,0.0,0.0,0.5,0.0,0.0,0.0,0.0,0.0]],\"type\":\"heatmap\"}],                        {\"template\":{\"data\":{\"histogram2dcontour\":[{\"type\":\"histogram2dcontour\",\"colorbar\":{\"outlinewidth\":0,\"ticks\":\"\"},\"colorscale\":[[0.0,\"#0d0887\"],[0.1111111111111111,\"#46039f\"],[0.2222222222222222,\"#7201a8\"],[0.3333333333333333,\"#9c179e\"],[0.4444444444444444,\"#bd3786\"],[0.5555555555555556,\"#d8576b\"],[0.6666666666666666,\"#ed7953\"],[0.7777777777777778,\"#fb9f3a\"],[0.8888888888888888,\"#fdca26\"],[1.0,\"#f0f921\"]]}],\"choropleth\":[{\"type\":\"choropleth\",\"colorbar\":{\"outlinewidth\":0,\"ticks\":\"\"}}],\"histogram2d\":[{\"type\":\"histogram2d\",\"colorbar\":{\"outlinewidth\":0,\"ticks\":\"\"},\"colorscale\":[[0.0,\"#0d0887\"],[0.1111111111111111,\"#46039f\"],[0.2222222222222222,\"#7201a8\"],[0.3333333333333333,\"#9c179e\"],[0.4444444444444444,\"#bd3786\"],[0.5555555555555556,\"#d8576b\"],[0.6666666666666666,\"#ed7953\"],[0.7777777777777778,\"#fb9f3a\"],[0.8888888888888888,\"#fdca26\"],[1.0,\"#f0f921\"]]}],\"heatmap\":[{\"type\":\"heatmap\",\"colorbar\":{\"outlinewidth\":0,\"ticks\":\"\"},\"colorscale\":[[0.0,\"#0d0887\"],[0.1111111111111111,\"#46039f\"],[0.2222222222222222,\"#7201a8\"],[0.3333333333333333,\"#9c179e\"],[0.4444444444444444,\"#bd3786\"],[0.5555555555555556,\"#d8576b\"],[0.6666666666666666,\"#ed7953\"],[0.7777777777777778,\"#fb9f3a\"],[0.8888888888888888,\"#fdca26\"],[1.0,\"#f0f921\"]]}],\"heatmapgl\":[{\"type\":\"heatmapgl\",\"colorbar\":{\"outlinewidth\":0,\"ticks\":\"\"},\"colorscale\":[[0.0,\"#0d0887\"],[0.1111111111111111,\"#46039f\"],[0.2222222222222222,\"#7201a8\"],[0.3333333333333333,\"#9c179e\"],[0.4444444444444444,\"#bd3786\"],[0.5555555555555556,\"#d8576b\"],[0.6666666666666666,\"#ed7953\"],[0.7777777777777778,\"#fb9f3a\"],[0.8888888888888888,\"#fdca26\"],[1.0,\"#f0f921\"]]}],\"contourcarpet\":[{\"type\":\"contourcarpet\",\"colorbar\":{\"outlinewidth\":0,\"ticks\":\"\"}}],\"contour\":[{\"type\":\"contour\",\"colorbar\":{\"outlinewidth\":0,\"ticks\":\"\"},\"colorscale\":[[0.0,\"#0d0887\"],[0.1111111111111111,\"#46039f\"],[0.2222222222222222,\"#7201a8\"],[0.3333333333333333,\"#9c179e\"],[0.4444444444444444,\"#bd3786\"],[0.5555555555555556,\"#d8576b\"],[0.6666666666666666,\"#ed7953\"],[0.7777777777777778,\"#fb9f3a\"],[0.8888888888888888,\"#fdca26\"],[1.0,\"#f0f921\"]]}],\"surface\":[{\"type\":\"surface\",\"colorbar\":{\"outlinewidth\":0,\"ticks\":\"\"},\"colorscale\":[[0.0,\"#0d0887\"],[0.1111111111111111,\"#46039f\"],[0.2222222222222222,\"#7201a8\"],[0.3333333333333333,\"#9c179e\"],[0.4444444444444444,\"#bd3786\"],[0.5555555555555556,\"#d8576b\"],[0.6666666666666666,\"#ed7953\"],[0.7777777777777778,\"#fb9f3a\"],[0.8888888888888888,\"#fdca26\"],[1.0,\"#f0f921\"]]}],\"mesh3d\":[{\"type\":\"mesh3d\",\"colorbar\":{\"outlinewidth\":0,\"ticks\":\"\"}}],\"scatter\":[{\"marker\":{\"line\":{\"color\":\"#283442\"}},\"type\":\"scatter\"}],\"parcoords\":[{\"type\":\"parcoords\",\"line\":{\"colorbar\":{\"outlinewidth\":0,\"ticks\":\"\"}}}],\"scatterpolargl\":[{\"type\":\"scatterpolargl\",\"marker\":{\"colorbar\":{\"outlinewidth\":0,\"ticks\":\"\"}}}],\"bar\":[{\"error_x\":{\"color\":\"#f2f5fa\"},\"error_y\":{\"color\":\"#f2f5fa\"},\"marker\":{\"line\":{\"color\":\"rgb(17,17,17)\",\"width\":0.5},\"pattern\":{\"fillmode\":\"overlay\",\"size\":10,\"solidity\":0.2}},\"type\":\"bar\"}],\"scattergeo\":[{\"type\":\"scattergeo\",\"marker\":{\"colorbar\":{\"outlinewidth\":0,\"ticks\":\"\"}}}],\"scatterpolar\":[{\"type\":\"scatterpolar\",\"marker\":{\"colorbar\":{\"outlinewidth\":0,\"ticks\":\"\"}}}],\"histogram\":[{\"marker\":{\"pattern\":{\"fillmode\":\"overlay\",\"size\":10,\"solidity\":0.2}},\"type\":\"histogram\"}],\"scattergl\":[{\"marker\":{\"line\":{\"color\":\"#283442\"}},\"type\":\"scattergl\"}],\"scatter3d\":[{\"type\":\"scatter3d\",\"line\":{\"colorbar\":{\"outlinewidth\":0,\"ticks\":\"\"}},\"marker\":{\"colorbar\":{\"outlinewidth\":0,\"ticks\":\"\"}}}],\"scattermapbox\":[{\"type\":\"scattermapbox\",\"marker\":{\"colorbar\":{\"outlinewidth\":0,\"ticks\":\"\"}}}],\"scatterternary\":[{\"type\":\"scatterternary\",\"marker\":{\"colorbar\":{\"outlinewidth\":0,\"ticks\":\"\"}}}],\"scattercarpet\":[{\"type\":\"scattercarpet\",\"marker\":{\"colorbar\":{\"outlinewidth\":0,\"ticks\":\"\"}}}],\"carpet\":[{\"aaxis\":{\"endlinecolor\":\"#A2B1C6\",\"gridcolor\":\"#506784\",\"linecolor\":\"#506784\",\"minorgridcolor\":\"#506784\",\"startlinecolor\":\"#A2B1C6\"},\"baxis\":{\"endlinecolor\":\"#A2B1C6\",\"gridcolor\":\"#506784\",\"linecolor\":\"#506784\",\"minorgridcolor\":\"#506784\",\"startlinecolor\":\"#A2B1C6\"},\"type\":\"carpet\"}],\"table\":[{\"cells\":{\"fill\":{\"color\":\"#506784\"},\"line\":{\"color\":\"rgb(17,17,17)\"}},\"header\":{\"fill\":{\"color\":\"#2a3f5f\"},\"line\":{\"color\":\"rgb(17,17,17)\"}},\"type\":\"table\"}],\"barpolar\":[{\"marker\":{\"line\":{\"color\":\"rgb(17,17,17)\",\"width\":0.5},\"pattern\":{\"fillmode\":\"overlay\",\"size\":10,\"solidity\":0.2}},\"type\":\"barpolar\"}],\"pie\":[{\"automargin\":true,\"type\":\"pie\"}]},\"layout\":{\"autotypenumbers\":\"strict\",\"colorway\":[\"#636efa\",\"#EF553B\",\"#00cc96\",\"#ab63fa\",\"#FFA15A\",\"#19d3f3\",\"#FF6692\",\"#B6E880\",\"#FF97FF\",\"#FECB52\"],\"font\":{\"color\":\"#f2f5fa\"},\"hovermode\":\"closest\",\"hoverlabel\":{\"align\":\"left\"},\"paper_bgcolor\":\"rgb(17,17,17)\",\"plot_bgcolor\":\"rgb(17,17,17)\",\"polar\":{\"bgcolor\":\"rgb(17,17,17)\",\"angularaxis\":{\"gridcolor\":\"#506784\",\"linecolor\":\"#506784\",\"ticks\":\"\"},\"radialaxis\":{\"gridcolor\":\"#506784\",\"linecolor\":\"#506784\",\"ticks\":\"\"}},\"ternary\":{\"bgcolor\":\"rgb(17,17,17)\",\"aaxis\":{\"gridcolor\":\"#506784\",\"linecolor\":\"#506784\",\"ticks\":\"\"},\"baxis\":{\"gridcolor\":\"#506784\",\"linecolor\":\"#506784\",\"ticks\":\"\"},\"caxis\":{\"gridcolor\":\"#506784\",\"linecolor\":\"#506784\",\"ticks\":\"\"}},\"coloraxis\":{\"colorbar\":{\"outlinewidth\":0,\"ticks\":\"\"}},\"colorscale\":{\"sequential\":[[0.0,\"#0d0887\"],[0.1111111111111111,\"#46039f\"],[0.2222222222222222,\"#7201a8\"],[0.3333333333333333,\"#9c179e\"],[0.4444444444444444,\"#bd3786\"],[0.5555555555555556,\"#d8576b\"],[0.6666666666666666,\"#ed7953\"],[0.7777777777777778,\"#fb9f3a\"],[0.8888888888888888,\"#fdca26\"],[1.0,\"#f0f921\"]],\"sequentialminus\":[[0.0,\"#0d0887\"],[0.1111111111111111,\"#46039f\"],[0.2222222222222222,\"#7201a8\"],[0.3333333333333333,\"#9c179e\"],[0.4444444444444444,\"#bd3786\"],[0.5555555555555556,\"#d8576b\"],[0.6666666666666666,\"#ed7953\"],[0.7777777777777778,\"#fb9f3a\"],[0.8888888888888888,\"#fdca26\"],[1.0,\"#f0f921\"]],\"diverging\":[[0,\"#8e0152\"],[0.1,\"#c51b7d\"],[0.2,\"#de77ae\"],[0.3,\"#f1b6da\"],[0.4,\"#fde0ef\"],[0.5,\"#f7f7f7\"],[0.6,\"#e6f5d0\"],[0.7,\"#b8e186\"],[0.8,\"#7fbc41\"],[0.9,\"#4d9221\"],[1,\"#276419\"]]},\"xaxis\":{\"gridcolor\":\"#283442\",\"linecolor\":\"#506784\",\"ticks\":\"\",\"title\":{\"standoff\":15},\"zerolinecolor\":\"#283442\",\"automargin\":true,\"zerolinewidth\":2},\"yaxis\":{\"gridcolor\":\"#283442\",\"linecolor\":\"#506784\",\"ticks\":\"\",\"title\":{\"standoff\":15},\"zerolinecolor\":\"#283442\",\"automargin\":true,\"zerolinewidth\":2},\"scene\":{\"xaxis\":{\"backgroundcolor\":\"rgb(17,17,17)\",\"gridcolor\":\"#506784\",\"linecolor\":\"#506784\",\"showbackground\":true,\"ticks\":\"\",\"zerolinecolor\":\"#C8D4E3\",\"gridwidth\":2},\"yaxis\":{\"backgroundcolor\":\"rgb(17,17,17)\",\"gridcolor\":\"#506784\",\"linecolor\":\"#506784\",\"showbackground\":true,\"ticks\":\"\",\"zerolinecolor\":\"#C8D4E3\",\"gridwidth\":2},\"zaxis\":{\"backgroundcolor\":\"rgb(17,17,17)\",\"gridcolor\":\"#506784\",\"linecolor\":\"#506784\",\"showbackground\":true,\"ticks\":\"\",\"zerolinecolor\":\"#C8D4E3\",\"gridwidth\":2}},\"shapedefaults\":{\"line\":{\"color\":\"#f2f5fa\"}},\"annotationdefaults\":{\"arrowcolor\":\"#f2f5fa\",\"arrowhead\":0,\"arrowwidth\":1},\"geo\":{\"bgcolor\":\"rgb(17,17,17)\",\"landcolor\":\"rgb(17,17,17)\",\"subunitcolor\":\"#506784\",\"showland\":true,\"showlakes\":true,\"lakecolor\":\"rgb(17,17,17)\"},\"title\":{\"x\":0.05},\"updatemenudefaults\":{\"bgcolor\":\"#506784\",\"borderwidth\":0},\"sliderdefaults\":{\"bgcolor\":\"#C8D4E3\",\"borderwidth\":1,\"bordercolor\":\"rgb(17,17,17)\",\"tickwidth\":0},\"mapbox\":{\"style\":\"dark\"}}},\"xaxis\":{\"anchor\":\"y\",\"domain\":[0.0,0.2125],\"title\":{\"text\":\"position\",\"standoff\":7},\"tickmode\":\"array\",\"tickvals\":[1,2,3,4,5,6,7,8,9,10],\"ticktext\":[1,2,3,4,5,6,7,8,9,10],\"automargin\":true},\"yaxis\":{\"anchor\":\"x\",\"domain\":[0.0,1.0],\"title\":{\"text\":\"i_map\",\"standoff\":0},\"tickmode\":\"array\",\"tickvals\":[1,2,3,4,5,6,7,8,9,10],\"ticktext\":[1,2,3,4,5,6,7,8,9,10],\"autorange\":\"reversed\",\"automargin\":true},\"xaxis2\":{\"anchor\":\"y2\",\"domain\":[0.2625,0.475],\"title\":{\"text\":\"position\",\"standoff\":7},\"tickmode\":\"array\",\"tickvals\":[1,2,3,4,5,6,7,8,9,10],\"ticktext\":[1,2,3,4,5,6,7,8,9,10],\"automargin\":true},\"yaxis2\":{\"anchor\":\"x2\",\"domain\":[0.0,1.0],\"title\":{\"text\":\"i_map\",\"standoff\":0},\"tickmode\":\"array\",\"tickvals\":[1,2,3,4,5,6,7,8,9,10],\"ticktext\":[1,2,3,4,5,6,7,8,9,10],\"autorange\":\"reversed\",\"automargin\":true},\"xaxis3\":{\"anchor\":\"y3\",\"domain\":[0.525,0.7375],\"title\":{\"text\":\"position\",\"standoff\":7},\"tickmode\":\"array\",\"tickvals\":[1,2,3,4,5,6,7,8,9,10],\"ticktext\":[1,2,3,4,5,6,7,8,9,10],\"automargin\":true},\"yaxis3\":{\"anchor\":\"x3\",\"domain\":[0.0,1.0],\"title\":{\"text\":\"i_map\",\"standoff\":0},\"tickmode\":\"array\",\"tickvals\":[1,2,3,4,5,6,7,8,9,10],\"ticktext\":[1,2,3,4,5,6,7,8,9,10],\"autorange\":\"reversed\",\"automargin\":true},\"xaxis4\":{\"anchor\":\"y4\",\"domain\":[0.7875,1.0],\"title\":{\"text\":\"position\",\"standoff\":7},\"tickmode\":\"array\",\"tickvals\":[1,2,3,4,5,6,7,8,9,10],\"ticktext\":[1,2,3,4,5,6,7,8,9,10],\"automargin\":true},\"yaxis4\":{\"anchor\":\"x4\",\"domain\":[0.0,1.0],\"title\":{\"text\":\"i_map\",\"standoff\":0},\"tickmode\":\"array\",\"tickvals\":[1,2,3,4,5,6,7,8,9,10],\"ticktext\":[1,2,3,4,5,6,7,8,9,10],\"autorange\":\"reversed\",\"automargin\":true},\"annotations\":[{\"font\":{\"size\":16},\"showarrow\":false,\"text\":\"baseline\",\"x\":0.10625,\"xanchor\":\"center\",\"xref\":\"paper\",\"y\":1.0,\"yanchor\":\"bottom\",\"yref\":\"paper\"},{\"font\":{\"size\":16},\"showarrow\":false,\"text\":\"change of priorities\",\"x\":0.36875,\"xanchor\":\"center\",\"xref\":\"paper\",\"y\":1.0,\"yanchor\":\"bottom\",\"yref\":\"paper\"},{\"font\":{\"size\":16},\"showarrow\":false,\"text\":\"stops\",\"x\":0.6312500000000001,\"xanchor\":\"center\",\"xref\":\"paper\",\"y\":1.0,\"yanchor\":\"bottom\",\"yref\":\"paper\"},{\"font\":{\"size\":16},\"showarrow\":false,\"text\":\"Strategies Comparison\",\"x\":0.89375,\"xanchor\":\"center\",\"xref\":\"paper\",\"y\":1.0,\"yanchor\":\"bottom\",\"yref\":\"paper\"}],\"coloraxis\":{\"colorbar\":{\"title\":{\"text\":\"No. of completed missions\",\"font\":{\"size\":12},\"side\":\"right\"},\"x\":-0.08,\"thickness\":10},\"colorscale\":[[0.0,\"rgb(247,252,245)\"],[0.125,\"rgb(229,245,224)\"],[0.25,\"rgb(199,233,192)\"],[0.375,\"rgb(161,217,155)\"],[0.5,\"rgb(116,196,118)\"],[0.625,\"rgb(65,171,93)\"],[0.75,\"rgb(35,139,69)\"],[0.875,\"rgb(0,109,44)\"],[1.0,\"rgb(0,68,27)\"]]},\"coloraxis2\":{\"colorscale\":[[0.0,\"#FFFFE0\"],[0.5,\"#D3D3D3\"],[1.0,\"#ADD8E6\"]]},\"title\":{\"text\":\"No. of completed missions\\u003cbr\\u003e(slowness: baseline; coordination strategies)\"}},                        {\"responsive\": true}                    ).then(function(){\n",
       "                            \n",
       "var gd = document.getElementById('c7b2270f-bff7-4cc8-ae29-83b5b9726c34');\n",
       "var x = new MutationObserver(function (mutations, observer) {{\n",
       "        var display = window.getComputedStyle(gd).display;\n",
       "        if (!display || display === 'none') {{\n",
       "            console.log([gd, 'removed!']);\n",
       "            Plotly.purge(gd);\n",
       "            observer.disconnect();\n",
       "        }}\n",
       "}});\n",
       "\n",
       "// Listen for the removal of the full notebook cells\n",
       "var notebookContainer = gd.closest('#notebook-container');\n",
       "if (notebookContainer) {{\n",
       "    x.observe(notebookContainer, {childList: true});\n",
       "}}\n",
       "\n",
       "// Listen for the clearing of the current output cell\n",
       "var outputEl = gd.closest('.output');\n",
       "if (outputEl) {{\n",
       "    x.observe(outputEl, {childList: true});\n",
       "}}\n",
       "\n",
       "                        })                };                });            </script>        </div>"
      ]
     },
     "metadata": {},
     "output_type": "display_data"
    },
    {
     "data": {
      "application/vnd.plotly.v1+json": {
       "data": [
        {
         "coloraxis": "coloraxis",
         "hovertemplate": "i_map: %{y}<br>position: %{x}<br>No. of completed missions: %{z}<extra></extra>",
         "name": "0",
         "showscale": true,
         "text": [
          [
           1.0,
           1.0,
           1.0,
           1.0,
           1.0,
           1.0,
           1.0,
           1.0,
           1.0,
           1.0
          ],
          [
           1.0,
           1.0,
           1.0,
           1.0,
           1.0,
           1.0,
           1.0,
           1.0,
           1.0,
           1.0
          ],
          [
           1.0,
           1.0,
           1.0,
           1.0,
           1.0,
           1.0,
           1.0,
           1.0,
           1.0,
           1.0
          ],
          [
           1.0,
           1.0,
           1.0,
           1.0,
           1.0,
           1.0,
           1.0,
           1.0,
           1.0,
           1.0
          ],
          [
           1.0,
           1.0,
           2.0,
           3.0,
           1.0,
           2.0,
           1.0,
           1.0,
           3.0,
           3.0
          ],
          [
           1.0,
           1.0,
           1.0,
           1.0,
           1.0,
           1.0,
           1.0,
           1.0,
           1.0,
           2.0
          ],
          [
           2.0,
           3.0,
           2.0,
           2.0,
           3.0,
           2.0,
           3.0,
           3.0,
           3.0,
           1.0
          ],
          [
           1.0,
           1.0,
           1.0,
           1.0,
           1.0,
           1.0,
           1.0,
           1.0,
           1.0,
           1.0
          ],
          [
           1.0,
           1.0,
           1.0,
           1.0,
           1.0,
           3.0,
           1.0,
           1.0,
           1.0,
           1.0
          ],
          [
           1.0,
           1.0,
           1.0,
           1.0,
           1.0,
           1.0,
           1.0,
           1.0,
           1.0,
           1.0
          ]
         ],
         "texttemplate": "%{text}",
         "x": [
          1,
          2,
          3,
          4,
          5,
          6,
          7,
          8,
          9,
          10
         ],
         "xaxis": "x",
         "y": [
          1,
          2,
          3,
          4,
          5,
          6,
          7,
          8,
          9,
          10
         ],
         "yaxis": "y",
         "z": [
          [
           34,
           37,
           21,
           24,
           36,
           26,
           26,
           25,
           41,
           40
          ],
          [
           26,
           20,
           22,
           27,
           23,
           16,
           20,
           15,
           20,
           19
          ],
          [
           22,
           22,
           22,
           22,
           21,
           21,
           19,
           17,
           22,
           17
          ],
          [
           19,
           15,
           22,
           20,
           22,
           20,
           14,
           21,
           18,
           25
          ],
          [
           15,
           13,
           21,
           11,
           11,
           20,
           19,
           15,
           11,
           9
          ],
          [
           25,
           32,
           32,
           28,
           32,
           24,
           28,
           27,
           22,
           34
          ],
          [
           14,
           14,
           19,
           18,
           14,
           9,
           11,
           8,
           12,
           13
          ],
          [
           14,
           17,
           17,
           18,
           18,
           16,
           12,
           14,
           16,
           14
          ],
          [
           14,
           0,
           19,
           16,
           17,
           3,
           13,
           18,
           17,
           20
          ],
          [
           34,
           31,
           29,
           28,
           24,
           43,
           30,
           31,
           28,
           32
          ]
         ],
         "type": "heatmap"
        },
        {
         "coloraxis": "coloraxis",
         "hovertemplate": "i_map: %{y}<br>position: %{x}<br>No. of completed missions: %{z}<extra></extra>",
         "name": "0",
         "showscale": true,
         "text": [
          [
           2.0,
           2.0,
           2.0,
           2.0,
           2.0,
           2.0,
           2.0,
           2.0,
           3.0,
           2.0
          ],
          [
           2.0,
           3.0,
           3.0,
           2.0,
           2.0,
           3.0,
           3.0,
           2.0,
           3.0,
           2.0
          ],
          [
           3.0,
           3.0,
           2.0,
           2.0,
           2.0,
           3.0,
           2.0,
           3.0,
           2.0,
           3.0
          ],
          [
           2.0,
           3.0,
           2.0,
           2.0,
           2.0,
           2.0,
           2.0,
           3.0,
           2.0,
           2.0
          ],
          [
           1.0,
           3.0,
           1.0,
           1.0,
           1.0,
           3.0,
           3.0,
           1.0,
           1.0,
           2.0
          ],
          [
           2.0,
           2.0,
           2.0,
           2.0,
           2.0,
           2.0,
           2.0,
           2.0,
           3.0,
           1.0
          ],
          [
           3.0,
           1.0,
           1.0,
           1.0,
           1.0,
           1.0,
           1.0,
           1.0,
           1.0,
           2.0
          ],
          [
           1.0,
           2.0,
           2.0,
           2.0,
           1.0,
           2.0,
           1.0,
           2.0,
           2.0,
           1.0
          ],
          [
           2.0,
           1.0,
           3.0,
           2.0,
           2.0,
           1.0,
           3.0,
           2.0,
           2.0,
           3.0
          ],
          [
           2.0,
           2.0,
           3.0,
           3.0,
           2.0,
           2.0,
           2.0,
           2.0,
           2.0,
           1.0
          ]
         ],
         "texttemplate": "%{text}",
         "x": [
          1,
          2,
          3,
          4,
          5,
          6,
          7,
          8,
          9,
          10
         ],
         "xaxis": "x2",
         "y": [
          1,
          2,
          3,
          4,
          5,
          6,
          7,
          8,
          9,
          10
         ],
         "yaxis": "y2",
         "z": [
          [
           16,
           36,
           19,
           22,
           34,
           24,
           25,
           24,
           23,
           38
          ],
          [
           24,
           2,
           17,
           23,
           20,
           12,
           2,
           12,
           2,
           15
          ],
          [
           18,
           18,
           19,
           19,
           17,
           8,
           11,
           7,
           20,
           14
          ],
          [
           15,
           4,
           19,
           15,
           18,
           16,
           10,
           17,
           17,
           23
          ],
          [
           15,
           7,
           22,
           15,
           11,
           12,
           9,
           15,
           15,
           13
          ],
          [
           22,
           31,
           31,
           27,
           31,
           23,
           26,
           24,
           20,
           35
          ],
          [
           7,
           16,
           23,
           22,
           16,
           11,
           16,
           13,
           17,
           12
          ],
          [
           14,
           13,
           14,
           15,
           18,
           5,
           12,
           9,
           7,
           14
          ],
          [
           12,
           0,
           14,
           14,
           14,
           11,
           6,
           16,
           10,
           16
          ],
          [
           30,
           30,
           18,
           26,
           23,
           39,
           29,
           27,
           25,
           32
          ]
         ],
         "type": "heatmap"
        },
        {
         "coloraxis": "coloraxis",
         "hovertemplate": "i_map: %{y}<br>position: %{x}<br>No. of completed missions: %{z}<extra></extra>",
         "name": "0",
         "showscale": true,
         "text": [
          [
           2.0,
           3.0,
           2.0,
           3.0,
           2.0,
           3.0,
           2.0,
           3.0,
           1.0,
           2.0
          ],
          [
           3.0,
           2.0,
           2.0,
           2.0,
           3.0,
           2.0,
           2.0,
           2.0,
           2.0,
           3.0
          ],
          [
           2.0,
           2.0,
           3.0,
           3.0,
           2.0,
           2.0,
           2.0,
           2.0,
           2.0,
           2.0
          ],
          [
           2.0,
           2.0,
           3.0,
           2.0,
           3.0,
           2.0,
           3.0,
           2.0,
           3.0,
           3.0
          ],
          [
           3.0,
           2.0,
           3.0,
           1.0,
           3.0,
           1.0,
           2.0,
           3.0,
           1.0,
           1.0
          ],
          [
           3.0,
           3.0,
           3.0,
           3.0,
           2.0,
           3.0,
           3.0,
           2.0,
           2.0,
           3.0
          ],
          [
           1.0,
           2.0,
           3.0,
           2.0,
           2.0,
           3.0,
           2.0,
           2.0,
           2.0,
           3.0
          ],
          [
           1.0,
           2.0,
           2.0,
           2.0,
           3.0,
           2.0,
           1.0,
           3.0,
           2.0,
           1.0
          ],
          [
           2.0,
           1.0,
           2.0,
           3.0,
           3.0,
           1.0,
           2.0,
           2.0,
           2.0,
           2.0
          ],
          [
           2.0,
           3.0,
           2.0,
           2.0,
           2.0,
           2.0,
           3.0,
           2.0,
           3.0,
           3.0
          ]
         ],
         "texttemplate": "%{text}",
         "x": [
          1,
          2,
          3,
          4,
          5,
          6,
          7,
          8,
          9,
          10
         ],
         "xaxis": "x3",
         "y": [
          1,
          2,
          3,
          4,
          5,
          6,
          7,
          8,
          9,
          10
         ],
         "yaxis": "y3",
         "z": [
          [
           16,
           35,
           19,
           21,
           34,
           23,
           25,
           23,
           41,
           38
          ],
          [
           22,
           15,
           18,
           23,
           19,
           14,
           15,
           12,
           15,
           3
          ],
          [
           20,
           20,
           18,
           18,
           17,
           18,
           11,
           16,
           20,
           16
          ],
          [
           15,
           5,
           18,
           15,
           17,
           16,
           8,
           19,
           15,
           20
          ],
          [
           11,
           10,
           7,
           15,
           1,
           21,
           14,
           11,
           15,
           15
          ],
          [
           21,
           29,
           28,
           26,
           31,
           21,
           24,
           24,
           21,
           33
          ],
          [
           16,
           15,
           5,
           18,
           15,
           1,
           15,
           11,
           13,
           11
          ],
          [
           14,
           13,
           14,
           15,
           17,
           5,
           12,
           8,
           7,
           14
          ],
          [
           12,
           0,
           17,
           13,
           6,
           11,
           11,
           16,
           10,
           18
          ],
          [
           30,
           28,
           28,
           27,
           23,
           39,
           28,
           27,
           23,
           28
          ]
         ],
         "type": "heatmap"
        },
        {
         "coloraxis": "coloraxis2",
         "hovertemplate": "i_map: %{y}<br>position: %{x}<br>No. of completed missions: %{z}<extra></extra>",
         "name": "0",
         "showscale": false,
         "text": [
          [
           "PS",
           "P",
           "PS",
           "P",
           "PS",
           "P",
           "PS",
           "P",
           "S",
           "PS"
          ],
          [
           "P",
           "S",
           "S",
           "PS",
           "P",
           "S",
           "S",
           "PS",
           "S",
           "P"
          ],
          [
           "S",
           "S",
           "P",
           "P",
           "PS",
           "S",
           "PS",
           "S",
           "PS",
           "S"
          ],
          [
           "PS",
           "S",
           "P",
           "PS",
           "P",
           "PS",
           "P",
           "S",
           "P",
           "P"
          ],
          [
           "P",
           "S",
           "P",
           "PS",
           "P",
           "S",
           "S",
           "P",
           "PS",
           "S"
          ],
          [
           "P",
           "P",
           "P",
           "P",
           "PS",
           "P",
           "P",
           "PS",
           "S",
           "P"
          ],
          [
           "S",
           "P",
           "P",
           "P",
           "P",
           "P",
           "P",
           "P",
           "P",
           "P"
          ],
          [
           "PS",
           "PS",
           "PS",
           "PS",
           "P",
           "PS",
           "PS",
           "P",
           "PS",
           "PS"
          ],
          [
           "PS",
           "PS",
           "S",
           "P",
           "P",
           "PS",
           "S",
           "PS",
           "PS",
           "S"
          ],
          [
           "PS",
           "P",
           "S",
           "S",
           "PS",
           "PS",
           "P",
           "PS",
           "P",
           "P"
          ]
         ],
         "texttemplate": "%{text}",
         "x": [
          1,
          2,
          3,
          4,
          5,
          6,
          7,
          8,
          9,
          10
         ],
         "xaxis": "x4",
         "y": [
          1,
          2,
          3,
          4,
          5,
          6,
          7,
          8,
          9,
          10
         ],
         "yaxis": "y4",
         "z": [
          [
           0.5,
           0.0,
           0.5,
           0.0,
           0.5,
           0.0,
           0.5,
           0.0,
           1.0,
           0.5
          ],
          [
           0.0,
           1.0,
           1.0,
           0.5,
           0.0,
           1.0,
           1.0,
           0.5,
           1.0,
           0.0
          ],
          [
           1.0,
           1.0,
           0.0,
           0.0,
           0.5,
           1.0,
           0.5,
           1.0,
           0.5,
           1.0
          ],
          [
           0.5,
           1.0,
           0.0,
           0.5,
           0.0,
           0.5,
           0.0,
           1.0,
           0.0,
           0.0
          ],
          [
           0.0,
           1.0,
           0.0,
           0.5,
           0.0,
           1.0,
           1.0,
           0.0,
           0.5,
           1.0
          ],
          [
           0.0,
           0.0,
           0.0,
           0.0,
           0.5,
           0.0,
           0.0,
           0.5,
           1.0,
           0.0
          ],
          [
           1.0,
           0.0,
           0.0,
           0.0,
           0.0,
           0.0,
           0.0,
           0.0,
           0.0,
           0.0
          ],
          [
           0.5,
           0.5,
           0.5,
           0.5,
           0.0,
           0.5,
           0.5,
           0.0,
           0.5,
           0.5
          ],
          [
           0.5,
           0.5,
           1.0,
           0.0,
           0.0,
           0.5,
           1.0,
           0.5,
           0.5,
           1.0
          ],
          [
           0.5,
           0.0,
           1.0,
           1.0,
           0.5,
           0.5,
           0.0,
           0.5,
           0.0,
           0.0
          ]
         ],
         "type": "heatmap"
        }
       ],
       "layout": {
        "template": {
         "data": {
          "histogram2dcontour": [
           {
            "type": "histogram2dcontour",
            "colorbar": {
             "outlinewidth": 0,
             "ticks": ""
            },
            "colorscale": [
             [
              0.0,
              "#0d0887"
             ],
             [
              0.1111111111111111,
              "#46039f"
             ],
             [
              0.2222222222222222,
              "#7201a8"
             ],
             [
              0.3333333333333333,
              "#9c179e"
             ],
             [
              0.4444444444444444,
              "#bd3786"
             ],
             [
              0.5555555555555556,
              "#d8576b"
             ],
             [
              0.6666666666666666,
              "#ed7953"
             ],
             [
              0.7777777777777778,
              "#fb9f3a"
             ],
             [
              0.8888888888888888,
              "#fdca26"
             ],
             [
              1.0,
              "#f0f921"
             ]
            ]
           }
          ],
          "choropleth": [
           {
            "type": "choropleth",
            "colorbar": {
             "outlinewidth": 0,
             "ticks": ""
            }
           }
          ],
          "histogram2d": [
           {
            "type": "histogram2d",
            "colorbar": {
             "outlinewidth": 0,
             "ticks": ""
            },
            "colorscale": [
             [
              0.0,
              "#0d0887"
             ],
             [
              0.1111111111111111,
              "#46039f"
             ],
             [
              0.2222222222222222,
              "#7201a8"
             ],
             [
              0.3333333333333333,
              "#9c179e"
             ],
             [
              0.4444444444444444,
              "#bd3786"
             ],
             [
              0.5555555555555556,
              "#d8576b"
             ],
             [
              0.6666666666666666,
              "#ed7953"
             ],
             [
              0.7777777777777778,
              "#fb9f3a"
             ],
             [
              0.8888888888888888,
              "#fdca26"
             ],
             [
              1.0,
              "#f0f921"
             ]
            ]
           }
          ],
          "heatmap": [
           {
            "type": "heatmap",
            "colorbar": {
             "outlinewidth": 0,
             "ticks": ""
            },
            "colorscale": [
             [
              0.0,
              "#0d0887"
             ],
             [
              0.1111111111111111,
              "#46039f"
             ],
             [
              0.2222222222222222,
              "#7201a8"
             ],
             [
              0.3333333333333333,
              "#9c179e"
             ],
             [
              0.4444444444444444,
              "#bd3786"
             ],
             [
              0.5555555555555556,
              "#d8576b"
             ],
             [
              0.6666666666666666,
              "#ed7953"
             ],
             [
              0.7777777777777778,
              "#fb9f3a"
             ],
             [
              0.8888888888888888,
              "#fdca26"
             ],
             [
              1.0,
              "#f0f921"
             ]
            ]
           }
          ],
          "heatmapgl": [
           {
            "type": "heatmapgl",
            "colorbar": {
             "outlinewidth": 0,
             "ticks": ""
            },
            "colorscale": [
             [
              0.0,
              "#0d0887"
             ],
             [
              0.1111111111111111,
              "#46039f"
             ],
             [
              0.2222222222222222,
              "#7201a8"
             ],
             [
              0.3333333333333333,
              "#9c179e"
             ],
             [
              0.4444444444444444,
              "#bd3786"
             ],
             [
              0.5555555555555556,
              "#d8576b"
             ],
             [
              0.6666666666666666,
              "#ed7953"
             ],
             [
              0.7777777777777778,
              "#fb9f3a"
             ],
             [
              0.8888888888888888,
              "#fdca26"
             ],
             [
              1.0,
              "#f0f921"
             ]
            ]
           }
          ],
          "contourcarpet": [
           {
            "type": "contourcarpet",
            "colorbar": {
             "outlinewidth": 0,
             "ticks": ""
            }
           }
          ],
          "contour": [
           {
            "type": "contour",
            "colorbar": {
             "outlinewidth": 0,
             "ticks": ""
            },
            "colorscale": [
             [
              0.0,
              "#0d0887"
             ],
             [
              0.1111111111111111,
              "#46039f"
             ],
             [
              0.2222222222222222,
              "#7201a8"
             ],
             [
              0.3333333333333333,
              "#9c179e"
             ],
             [
              0.4444444444444444,
              "#bd3786"
             ],
             [
              0.5555555555555556,
              "#d8576b"
             ],
             [
              0.6666666666666666,
              "#ed7953"
             ],
             [
              0.7777777777777778,
              "#fb9f3a"
             ],
             [
              0.8888888888888888,
              "#fdca26"
             ],
             [
              1.0,
              "#f0f921"
             ]
            ]
           }
          ],
          "surface": [
           {
            "type": "surface",
            "colorbar": {
             "outlinewidth": 0,
             "ticks": ""
            },
            "colorscale": [
             [
              0.0,
              "#0d0887"
             ],
             [
              0.1111111111111111,
              "#46039f"
             ],
             [
              0.2222222222222222,
              "#7201a8"
             ],
             [
              0.3333333333333333,
              "#9c179e"
             ],
             [
              0.4444444444444444,
              "#bd3786"
             ],
             [
              0.5555555555555556,
              "#d8576b"
             ],
             [
              0.6666666666666666,
              "#ed7953"
             ],
             [
              0.7777777777777778,
              "#fb9f3a"
             ],
             [
              0.8888888888888888,
              "#fdca26"
             ],
             [
              1.0,
              "#f0f921"
             ]
            ]
           }
          ],
          "mesh3d": [
           {
            "type": "mesh3d",
            "colorbar": {
             "outlinewidth": 0,
             "ticks": ""
            }
           }
          ],
          "scatter": [
           {
            "marker": {
             "line": {
              "color": "#283442"
             }
            },
            "type": "scatter"
           }
          ],
          "parcoords": [
           {
            "type": "parcoords",
            "line": {
             "colorbar": {
              "outlinewidth": 0,
              "ticks": ""
             }
            }
           }
          ],
          "scatterpolargl": [
           {
            "type": "scatterpolargl",
            "marker": {
             "colorbar": {
              "outlinewidth": 0,
              "ticks": ""
             }
            }
           }
          ],
          "bar": [
           {
            "error_x": {
             "color": "#f2f5fa"
            },
            "error_y": {
             "color": "#f2f5fa"
            },
            "marker": {
             "line": {
              "color": "rgb(17,17,17)",
              "width": 0.5
             },
             "pattern": {
              "fillmode": "overlay",
              "size": 10,
              "solidity": 0.2
             }
            },
            "type": "bar"
           }
          ],
          "scattergeo": [
           {
            "type": "scattergeo",
            "marker": {
             "colorbar": {
              "outlinewidth": 0,
              "ticks": ""
             }
            }
           }
          ],
          "scatterpolar": [
           {
            "type": "scatterpolar",
            "marker": {
             "colorbar": {
              "outlinewidth": 0,
              "ticks": ""
             }
            }
           }
          ],
          "histogram": [
           {
            "marker": {
             "pattern": {
              "fillmode": "overlay",
              "size": 10,
              "solidity": 0.2
             }
            },
            "type": "histogram"
           }
          ],
          "scattergl": [
           {
            "marker": {
             "line": {
              "color": "#283442"
             }
            },
            "type": "scattergl"
           }
          ],
          "scatter3d": [
           {
            "type": "scatter3d",
            "line": {
             "colorbar": {
              "outlinewidth": 0,
              "ticks": ""
             }
            },
            "marker": {
             "colorbar": {
              "outlinewidth": 0,
              "ticks": ""
             }
            }
           }
          ],
          "scattermapbox": [
           {
            "type": "scattermapbox",
            "marker": {
             "colorbar": {
              "outlinewidth": 0,
              "ticks": ""
             }
            }
           }
          ],
          "scatterternary": [
           {
            "type": "scatterternary",
            "marker": {
             "colorbar": {
              "outlinewidth": 0,
              "ticks": ""
             }
            }
           }
          ],
          "scattercarpet": [
           {
            "type": "scattercarpet",
            "marker": {
             "colorbar": {
              "outlinewidth": 0,
              "ticks": ""
             }
            }
           }
          ],
          "carpet": [
           {
            "aaxis": {
             "endlinecolor": "#A2B1C6",
             "gridcolor": "#506784",
             "linecolor": "#506784",
             "minorgridcolor": "#506784",
             "startlinecolor": "#A2B1C6"
            },
            "baxis": {
             "endlinecolor": "#A2B1C6",
             "gridcolor": "#506784",
             "linecolor": "#506784",
             "minorgridcolor": "#506784",
             "startlinecolor": "#A2B1C6"
            },
            "type": "carpet"
           }
          ],
          "table": [
           {
            "cells": {
             "fill": {
              "color": "#506784"
             },
             "line": {
              "color": "rgb(17,17,17)"
             }
            },
            "header": {
             "fill": {
              "color": "#2a3f5f"
             },
             "line": {
              "color": "rgb(17,17,17)"
             }
            },
            "type": "table"
           }
          ],
          "barpolar": [
           {
            "marker": {
             "line": {
              "color": "rgb(17,17,17)",
              "width": 0.5
             },
             "pattern": {
              "fillmode": "overlay",
              "size": 10,
              "solidity": 0.2
             }
            },
            "type": "barpolar"
           }
          ],
          "pie": [
           {
            "automargin": true,
            "type": "pie"
           }
          ]
         },
         "layout": {
          "autotypenumbers": "strict",
          "colorway": [
           "#636efa",
           "#EF553B",
           "#00cc96",
           "#ab63fa",
           "#FFA15A",
           "#19d3f3",
           "#FF6692",
           "#B6E880",
           "#FF97FF",
           "#FECB52"
          ],
          "font": {
           "color": "#f2f5fa"
          },
          "hovermode": "closest",
          "hoverlabel": {
           "align": "left"
          },
          "paper_bgcolor": "rgb(17,17,17)",
          "plot_bgcolor": "rgb(17,17,17)",
          "polar": {
           "bgcolor": "rgb(17,17,17)",
           "angularaxis": {
            "gridcolor": "#506784",
            "linecolor": "#506784",
            "ticks": ""
           },
           "radialaxis": {
            "gridcolor": "#506784",
            "linecolor": "#506784",
            "ticks": ""
           }
          },
          "ternary": {
           "bgcolor": "rgb(17,17,17)",
           "aaxis": {
            "gridcolor": "#506784",
            "linecolor": "#506784",
            "ticks": ""
           },
           "baxis": {
            "gridcolor": "#506784",
            "linecolor": "#506784",
            "ticks": ""
           },
           "caxis": {
            "gridcolor": "#506784",
            "linecolor": "#506784",
            "ticks": ""
           }
          },
          "coloraxis": {
           "colorbar": {
            "outlinewidth": 0,
            "ticks": ""
           }
          },
          "colorscale": {
           "sequential": [
            [
             0.0,
             "#0d0887"
            ],
            [
             0.1111111111111111,
             "#46039f"
            ],
            [
             0.2222222222222222,
             "#7201a8"
            ],
            [
             0.3333333333333333,
             "#9c179e"
            ],
            [
             0.4444444444444444,
             "#bd3786"
            ],
            [
             0.5555555555555556,
             "#d8576b"
            ],
            [
             0.6666666666666666,
             "#ed7953"
            ],
            [
             0.7777777777777778,
             "#fb9f3a"
            ],
            [
             0.8888888888888888,
             "#fdca26"
            ],
            [
             1.0,
             "#f0f921"
            ]
           ],
           "sequentialminus": [
            [
             0.0,
             "#0d0887"
            ],
            [
             0.1111111111111111,
             "#46039f"
            ],
            [
             0.2222222222222222,
             "#7201a8"
            ],
            [
             0.3333333333333333,
             "#9c179e"
            ],
            [
             0.4444444444444444,
             "#bd3786"
            ],
            [
             0.5555555555555556,
             "#d8576b"
            ],
            [
             0.6666666666666666,
             "#ed7953"
            ],
            [
             0.7777777777777778,
             "#fb9f3a"
            ],
            [
             0.8888888888888888,
             "#fdca26"
            ],
            [
             1.0,
             "#f0f921"
            ]
           ],
           "diverging": [
            [
             0,
             "#8e0152"
            ],
            [
             0.1,
             "#c51b7d"
            ],
            [
             0.2,
             "#de77ae"
            ],
            [
             0.3,
             "#f1b6da"
            ],
            [
             0.4,
             "#fde0ef"
            ],
            [
             0.5,
             "#f7f7f7"
            ],
            [
             0.6,
             "#e6f5d0"
            ],
            [
             0.7,
             "#b8e186"
            ],
            [
             0.8,
             "#7fbc41"
            ],
            [
             0.9,
             "#4d9221"
            ],
            [
             1,
             "#276419"
            ]
           ]
          },
          "xaxis": {
           "gridcolor": "#283442",
           "linecolor": "#506784",
           "ticks": "",
           "title": {
            "standoff": 15
           },
           "zerolinecolor": "#283442",
           "automargin": true,
           "zerolinewidth": 2
          },
          "yaxis": {
           "gridcolor": "#283442",
           "linecolor": "#506784",
           "ticks": "",
           "title": {
            "standoff": 15
           },
           "zerolinecolor": "#283442",
           "automargin": true,
           "zerolinewidth": 2
          },
          "scene": {
           "xaxis": {
            "backgroundcolor": "rgb(17,17,17)",
            "gridcolor": "#506784",
            "linecolor": "#506784",
            "showbackground": true,
            "ticks": "",
            "zerolinecolor": "#C8D4E3",
            "gridwidth": 2
           },
           "yaxis": {
            "backgroundcolor": "rgb(17,17,17)",
            "gridcolor": "#506784",
            "linecolor": "#506784",
            "showbackground": true,
            "ticks": "",
            "zerolinecolor": "#C8D4E3",
            "gridwidth": 2
           },
           "zaxis": {
            "backgroundcolor": "rgb(17,17,17)",
            "gridcolor": "#506784",
            "linecolor": "#506784",
            "showbackground": true,
            "ticks": "",
            "zerolinecolor": "#C8D4E3",
            "gridwidth": 2
           }
          },
          "shapedefaults": {
           "line": {
            "color": "#f2f5fa"
           }
          },
          "annotationdefaults": {
           "arrowcolor": "#f2f5fa",
           "arrowhead": 0,
           "arrowwidth": 1
          },
          "geo": {
           "bgcolor": "rgb(17,17,17)",
           "landcolor": "rgb(17,17,17)",
           "subunitcolor": "#506784",
           "showland": true,
           "showlakes": true,
           "lakecolor": "rgb(17,17,17)"
          },
          "title": {
           "x": 0.05
          },
          "updatemenudefaults": {
           "bgcolor": "#506784",
           "borderwidth": 0
          },
          "sliderdefaults": {
           "bgcolor": "#C8D4E3",
           "borderwidth": 1,
           "bordercolor": "rgb(17,17,17)",
           "tickwidth": 0
          },
          "mapbox": {
           "style": "dark"
          }
         }
        },
        "xaxis": {
         "anchor": "y",
         "domain": [
          0.0,
          0.2125
         ],
         "title": {
          "text": "position",
          "standoff": 7
         },
         "tickmode": "array",
         "tickvals": [
          1,
          2,
          3,
          4,
          5,
          6,
          7,
          8,
          9,
          10
         ],
         "ticktext": [
          1,
          2,
          3,
          4,
          5,
          6,
          7,
          8,
          9,
          10
         ],
         "automargin": true
        },
        "yaxis": {
         "anchor": "x",
         "domain": [
          0.0,
          1.0
         ],
         "title": {
          "text": "i_map",
          "standoff": 0
         },
         "tickmode": "array",
         "tickvals": [
          1,
          2,
          3,
          4,
          5,
          6,
          7,
          8,
          9,
          10
         ],
         "ticktext": [
          1,
          2,
          3,
          4,
          5,
          6,
          7,
          8,
          9,
          10
         ],
         "autorange": "reversed",
         "automargin": true
        },
        "xaxis2": {
         "anchor": "y2",
         "domain": [
          0.2625,
          0.475
         ],
         "title": {
          "text": "position",
          "standoff": 7
         },
         "tickmode": "array",
         "tickvals": [
          1,
          2,
          3,
          4,
          5,
          6,
          7,
          8,
          9,
          10
         ],
         "ticktext": [
          1,
          2,
          3,
          4,
          5,
          6,
          7,
          8,
          9,
          10
         ],
         "automargin": true
        },
        "yaxis2": {
         "anchor": "x2",
         "domain": [
          0.0,
          1.0
         ],
         "title": {
          "text": "i_map",
          "standoff": 0
         },
         "tickmode": "array",
         "tickvals": [
          1,
          2,
          3,
          4,
          5,
          6,
          7,
          8,
          9,
          10
         ],
         "ticktext": [
          1,
          2,
          3,
          4,
          5,
          6,
          7,
          8,
          9,
          10
         ],
         "autorange": "reversed",
         "automargin": true
        },
        "xaxis3": {
         "anchor": "y3",
         "domain": [
          0.525,
          0.7375
         ],
         "title": {
          "text": "position",
          "standoff": 7
         },
         "tickmode": "array",
         "tickvals": [
          1,
          2,
          3,
          4,
          5,
          6,
          7,
          8,
          9,
          10
         ],
         "ticktext": [
          1,
          2,
          3,
          4,
          5,
          6,
          7,
          8,
          9,
          10
         ],
         "automargin": true
        },
        "yaxis3": {
         "anchor": "x3",
         "domain": [
          0.0,
          1.0
         ],
         "title": {
          "text": "i_map",
          "standoff": 0
         },
         "tickmode": "array",
         "tickvals": [
          1,
          2,
          3,
          4,
          5,
          6,
          7,
          8,
          9,
          10
         ],
         "ticktext": [
          1,
          2,
          3,
          4,
          5,
          6,
          7,
          8,
          9,
          10
         ],
         "autorange": "reversed",
         "automargin": true
        },
        "xaxis4": {
         "anchor": "y4",
         "domain": [
          0.7875,
          1.0
         ],
         "title": {
          "text": "position",
          "standoff": 7
         },
         "tickmode": "array",
         "tickvals": [
          1,
          2,
          3,
          4,
          5,
          6,
          7,
          8,
          9,
          10
         ],
         "ticktext": [
          1,
          2,
          3,
          4,
          5,
          6,
          7,
          8,
          9,
          10
         ],
         "automargin": true
        },
        "yaxis4": {
         "anchor": "x4",
         "domain": [
          0.0,
          1.0
         ],
         "title": {
          "text": "i_map",
          "standoff": 0
         },
         "tickmode": "array",
         "tickvals": [
          1,
          2,
          3,
          4,
          5,
          6,
          7,
          8,
          9,
          10
         ],
         "ticktext": [
          1,
          2,
          3,
          4,
          5,
          6,
          7,
          8,
          9,
          10
         ],
         "autorange": "reversed",
         "automargin": true
        },
        "annotations": [
         {
          "font": {
           "size": 16
          },
          "showarrow": false,
          "text": "baseline",
          "x": 0.10625,
          "xanchor": "center",
          "xref": "paper",
          "y": 1.0,
          "yanchor": "bottom",
          "yref": "paper"
         },
         {
          "font": {
           "size": 16
          },
          "showarrow": false,
          "text": "change of priorities",
          "x": 0.36875,
          "xanchor": "center",
          "xref": "paper",
          "y": 1.0,
          "yanchor": "bottom",
          "yref": "paper"
         },
         {
          "font": {
           "size": 16
          },
          "showarrow": false,
          "text": "stops",
          "x": 0.6312500000000001,
          "xanchor": "center",
          "xref": "paper",
          "y": 1.0,
          "yanchor": "bottom",
          "yref": "paper"
         },
         {
          "font": {
           "size": 16
          },
          "showarrow": false,
          "text": "Strategies Comparison",
          "x": 0.89375,
          "xanchor": "center",
          "xref": "paper",
          "y": 1.0,
          "yanchor": "bottom",
          "yref": "paper"
         }
        ],
        "coloraxis": {
         "colorbar": {
          "title": {
           "text": "No. of completed missions",
           "font": {
            "size": 12
           },
           "side": "right"
          },
          "x": -0.08,
          "thickness": 10
         },
         "colorscale": [
          [
           0.0,
           "rgb(247,252,245)"
          ],
          [
           0.125,
           "rgb(229,245,224)"
          ],
          [
           0.25,
           "rgb(199,233,192)"
          ],
          [
           0.375,
           "rgb(161,217,155)"
          ],
          [
           0.5,
           "rgb(116,196,118)"
          ],
          [
           0.625,
           "rgb(65,171,93)"
          ],
          [
           0.75,
           "rgb(35,139,69)"
          ],
          [
           0.875,
           "rgb(0,109,44)"
          ],
          [
           1.0,
           "rgb(0,68,27)"
          ]
         ]
        },
        "coloraxis2": {
         "colorscale": [
          [
           0.0,
           "#FFFFE0"
          ],
          [
           0.5,
           "#D3D3D3"
          ],
          [
           1.0,
           "#ADD8E6"
          ]
         ]
        },
        "title": {
         "text": "No. of completed missions<br>(slowness: without rerouting; coordination strategies)"
        }
       },
       "config": {
        "plotlyServerURL": "https://plot.ly"
       }
      },
      "text/html": [
       "<div>                            <div id=\"53dfbc18-6807-4033-9d22-d4deb860b64e\" class=\"plotly-graph-div\" style=\"height:525px; width:100%;\"></div>            <script type=\"text/javascript\">                require([\"plotly\"], function(Plotly) {                    window.PLOTLYENV=window.PLOTLYENV || {};                                    if (document.getElementById(\"53dfbc18-6807-4033-9d22-d4deb860b64e\")) {                    Plotly.newPlot(                        \"53dfbc18-6807-4033-9d22-d4deb860b64e\",                        [{\"coloraxis\":\"coloraxis\",\"hovertemplate\":\"i_map: %{y}\\u003cbr\\u003eposition: %{x}\\u003cbr\\u003eNo. of completed missions: %{z}\\u003cextra\\u003e\\u003c\\u002fextra\\u003e\",\"name\":\"0\",\"showscale\":true,\"text\":[[1.0,1.0,1.0,1.0,1.0,1.0,1.0,1.0,1.0,1.0],[1.0,1.0,1.0,1.0,1.0,1.0,1.0,1.0,1.0,1.0],[1.0,1.0,1.0,1.0,1.0,1.0,1.0,1.0,1.0,1.0],[1.0,1.0,1.0,1.0,1.0,1.0,1.0,1.0,1.0,1.0],[1.0,1.0,2.0,3.0,1.0,2.0,1.0,1.0,3.0,3.0],[1.0,1.0,1.0,1.0,1.0,1.0,1.0,1.0,1.0,2.0],[2.0,3.0,2.0,2.0,3.0,2.0,3.0,3.0,3.0,1.0],[1.0,1.0,1.0,1.0,1.0,1.0,1.0,1.0,1.0,1.0],[1.0,1.0,1.0,1.0,1.0,3.0,1.0,1.0,1.0,1.0],[1.0,1.0,1.0,1.0,1.0,1.0,1.0,1.0,1.0,1.0]],\"texttemplate\":\"%{text}\",\"x\":[1,2,3,4,5,6,7,8,9,10],\"xaxis\":\"x\",\"y\":[1,2,3,4,5,6,7,8,9,10],\"yaxis\":\"y\",\"z\":[[34,37,21,24,36,26,26,25,41,40],[26,20,22,27,23,16,20,15,20,19],[22,22,22,22,21,21,19,17,22,17],[19,15,22,20,22,20,14,21,18,25],[15,13,21,11,11,20,19,15,11,9],[25,32,32,28,32,24,28,27,22,34],[14,14,19,18,14,9,11,8,12,13],[14,17,17,18,18,16,12,14,16,14],[14,0,19,16,17,3,13,18,17,20],[34,31,29,28,24,43,30,31,28,32]],\"type\":\"heatmap\"},{\"coloraxis\":\"coloraxis\",\"hovertemplate\":\"i_map: %{y}\\u003cbr\\u003eposition: %{x}\\u003cbr\\u003eNo. of completed missions: %{z}\\u003cextra\\u003e\\u003c\\u002fextra\\u003e\",\"name\":\"0\",\"showscale\":true,\"text\":[[2.0,2.0,2.0,2.0,2.0,2.0,2.0,2.0,3.0,2.0],[2.0,3.0,3.0,2.0,2.0,3.0,3.0,2.0,3.0,2.0],[3.0,3.0,2.0,2.0,2.0,3.0,2.0,3.0,2.0,3.0],[2.0,3.0,2.0,2.0,2.0,2.0,2.0,3.0,2.0,2.0],[1.0,3.0,1.0,1.0,1.0,3.0,3.0,1.0,1.0,2.0],[2.0,2.0,2.0,2.0,2.0,2.0,2.0,2.0,3.0,1.0],[3.0,1.0,1.0,1.0,1.0,1.0,1.0,1.0,1.0,2.0],[1.0,2.0,2.0,2.0,1.0,2.0,1.0,2.0,2.0,1.0],[2.0,1.0,3.0,2.0,2.0,1.0,3.0,2.0,2.0,3.0],[2.0,2.0,3.0,3.0,2.0,2.0,2.0,2.0,2.0,1.0]],\"texttemplate\":\"%{text}\",\"x\":[1,2,3,4,5,6,7,8,9,10],\"xaxis\":\"x2\",\"y\":[1,2,3,4,5,6,7,8,9,10],\"yaxis\":\"y2\",\"z\":[[16,36,19,22,34,24,25,24,23,38],[24,2,17,23,20,12,2,12,2,15],[18,18,19,19,17,8,11,7,20,14],[15,4,19,15,18,16,10,17,17,23],[15,7,22,15,11,12,9,15,15,13],[22,31,31,27,31,23,26,24,20,35],[7,16,23,22,16,11,16,13,17,12],[14,13,14,15,18,5,12,9,7,14],[12,0,14,14,14,11,6,16,10,16],[30,30,18,26,23,39,29,27,25,32]],\"type\":\"heatmap\"},{\"coloraxis\":\"coloraxis\",\"hovertemplate\":\"i_map: %{y}\\u003cbr\\u003eposition: %{x}\\u003cbr\\u003eNo. of completed missions: %{z}\\u003cextra\\u003e\\u003c\\u002fextra\\u003e\",\"name\":\"0\",\"showscale\":true,\"text\":[[2.0,3.0,2.0,3.0,2.0,3.0,2.0,3.0,1.0,2.0],[3.0,2.0,2.0,2.0,3.0,2.0,2.0,2.0,2.0,3.0],[2.0,2.0,3.0,3.0,2.0,2.0,2.0,2.0,2.0,2.0],[2.0,2.0,3.0,2.0,3.0,2.0,3.0,2.0,3.0,3.0],[3.0,2.0,3.0,1.0,3.0,1.0,2.0,3.0,1.0,1.0],[3.0,3.0,3.0,3.0,2.0,3.0,3.0,2.0,2.0,3.0],[1.0,2.0,3.0,2.0,2.0,3.0,2.0,2.0,2.0,3.0],[1.0,2.0,2.0,2.0,3.0,2.0,1.0,3.0,2.0,1.0],[2.0,1.0,2.0,3.0,3.0,1.0,2.0,2.0,2.0,2.0],[2.0,3.0,2.0,2.0,2.0,2.0,3.0,2.0,3.0,3.0]],\"texttemplate\":\"%{text}\",\"x\":[1,2,3,4,5,6,7,8,9,10],\"xaxis\":\"x3\",\"y\":[1,2,3,4,5,6,7,8,9,10],\"yaxis\":\"y3\",\"z\":[[16,35,19,21,34,23,25,23,41,38],[22,15,18,23,19,14,15,12,15,3],[20,20,18,18,17,18,11,16,20,16],[15,5,18,15,17,16,8,19,15,20],[11,10,7,15,1,21,14,11,15,15],[21,29,28,26,31,21,24,24,21,33],[16,15,5,18,15,1,15,11,13,11],[14,13,14,15,17,5,12,8,7,14],[12,0,17,13,6,11,11,16,10,18],[30,28,28,27,23,39,28,27,23,28]],\"type\":\"heatmap\"},{\"coloraxis\":\"coloraxis2\",\"hovertemplate\":\"i_map: %{y}\\u003cbr\\u003eposition: %{x}\\u003cbr\\u003eNo. of completed missions: %{z}\\u003cextra\\u003e\\u003c\\u002fextra\\u003e\",\"name\":\"0\",\"showscale\":false,\"text\":[[\"PS\",\"P\",\"PS\",\"P\",\"PS\",\"P\",\"PS\",\"P\",\"S\",\"PS\"],[\"P\",\"S\",\"S\",\"PS\",\"P\",\"S\",\"S\",\"PS\",\"S\",\"P\"],[\"S\",\"S\",\"P\",\"P\",\"PS\",\"S\",\"PS\",\"S\",\"PS\",\"S\"],[\"PS\",\"S\",\"P\",\"PS\",\"P\",\"PS\",\"P\",\"S\",\"P\",\"P\"],[\"P\",\"S\",\"P\",\"PS\",\"P\",\"S\",\"S\",\"P\",\"PS\",\"S\"],[\"P\",\"P\",\"P\",\"P\",\"PS\",\"P\",\"P\",\"PS\",\"S\",\"P\"],[\"S\",\"P\",\"P\",\"P\",\"P\",\"P\",\"P\",\"P\",\"P\",\"P\"],[\"PS\",\"PS\",\"PS\",\"PS\",\"P\",\"PS\",\"PS\",\"P\",\"PS\",\"PS\"],[\"PS\",\"PS\",\"S\",\"P\",\"P\",\"PS\",\"S\",\"PS\",\"PS\",\"S\"],[\"PS\",\"P\",\"S\",\"S\",\"PS\",\"PS\",\"P\",\"PS\",\"P\",\"P\"]],\"texttemplate\":\"%{text}\",\"x\":[1,2,3,4,5,6,7,8,9,10],\"xaxis\":\"x4\",\"y\":[1,2,3,4,5,6,7,8,9,10],\"yaxis\":\"y4\",\"z\":[[0.5,0.0,0.5,0.0,0.5,0.0,0.5,0.0,1.0,0.5],[0.0,1.0,1.0,0.5,0.0,1.0,1.0,0.5,1.0,0.0],[1.0,1.0,0.0,0.0,0.5,1.0,0.5,1.0,0.5,1.0],[0.5,1.0,0.0,0.5,0.0,0.5,0.0,1.0,0.0,0.0],[0.0,1.0,0.0,0.5,0.0,1.0,1.0,0.0,0.5,1.0],[0.0,0.0,0.0,0.0,0.5,0.0,0.0,0.5,1.0,0.0],[1.0,0.0,0.0,0.0,0.0,0.0,0.0,0.0,0.0,0.0],[0.5,0.5,0.5,0.5,0.0,0.5,0.5,0.0,0.5,0.5],[0.5,0.5,1.0,0.0,0.0,0.5,1.0,0.5,0.5,1.0],[0.5,0.0,1.0,1.0,0.5,0.5,0.0,0.5,0.0,0.0]],\"type\":\"heatmap\"}],                        {\"template\":{\"data\":{\"histogram2dcontour\":[{\"type\":\"histogram2dcontour\",\"colorbar\":{\"outlinewidth\":0,\"ticks\":\"\"},\"colorscale\":[[0.0,\"#0d0887\"],[0.1111111111111111,\"#46039f\"],[0.2222222222222222,\"#7201a8\"],[0.3333333333333333,\"#9c179e\"],[0.4444444444444444,\"#bd3786\"],[0.5555555555555556,\"#d8576b\"],[0.6666666666666666,\"#ed7953\"],[0.7777777777777778,\"#fb9f3a\"],[0.8888888888888888,\"#fdca26\"],[1.0,\"#f0f921\"]]}],\"choropleth\":[{\"type\":\"choropleth\",\"colorbar\":{\"outlinewidth\":0,\"ticks\":\"\"}}],\"histogram2d\":[{\"type\":\"histogram2d\",\"colorbar\":{\"outlinewidth\":0,\"ticks\":\"\"},\"colorscale\":[[0.0,\"#0d0887\"],[0.1111111111111111,\"#46039f\"],[0.2222222222222222,\"#7201a8\"],[0.3333333333333333,\"#9c179e\"],[0.4444444444444444,\"#bd3786\"],[0.5555555555555556,\"#d8576b\"],[0.6666666666666666,\"#ed7953\"],[0.7777777777777778,\"#fb9f3a\"],[0.8888888888888888,\"#fdca26\"],[1.0,\"#f0f921\"]]}],\"heatmap\":[{\"type\":\"heatmap\",\"colorbar\":{\"outlinewidth\":0,\"ticks\":\"\"},\"colorscale\":[[0.0,\"#0d0887\"],[0.1111111111111111,\"#46039f\"],[0.2222222222222222,\"#7201a8\"],[0.3333333333333333,\"#9c179e\"],[0.4444444444444444,\"#bd3786\"],[0.5555555555555556,\"#d8576b\"],[0.6666666666666666,\"#ed7953\"],[0.7777777777777778,\"#fb9f3a\"],[0.8888888888888888,\"#fdca26\"],[1.0,\"#f0f921\"]]}],\"heatmapgl\":[{\"type\":\"heatmapgl\",\"colorbar\":{\"outlinewidth\":0,\"ticks\":\"\"},\"colorscale\":[[0.0,\"#0d0887\"],[0.1111111111111111,\"#46039f\"],[0.2222222222222222,\"#7201a8\"],[0.3333333333333333,\"#9c179e\"],[0.4444444444444444,\"#bd3786\"],[0.5555555555555556,\"#d8576b\"],[0.6666666666666666,\"#ed7953\"],[0.7777777777777778,\"#fb9f3a\"],[0.8888888888888888,\"#fdca26\"],[1.0,\"#f0f921\"]]}],\"contourcarpet\":[{\"type\":\"contourcarpet\",\"colorbar\":{\"outlinewidth\":0,\"ticks\":\"\"}}],\"contour\":[{\"type\":\"contour\",\"colorbar\":{\"outlinewidth\":0,\"ticks\":\"\"},\"colorscale\":[[0.0,\"#0d0887\"],[0.1111111111111111,\"#46039f\"],[0.2222222222222222,\"#7201a8\"],[0.3333333333333333,\"#9c179e\"],[0.4444444444444444,\"#bd3786\"],[0.5555555555555556,\"#d8576b\"],[0.6666666666666666,\"#ed7953\"],[0.7777777777777778,\"#fb9f3a\"],[0.8888888888888888,\"#fdca26\"],[1.0,\"#f0f921\"]]}],\"surface\":[{\"type\":\"surface\",\"colorbar\":{\"outlinewidth\":0,\"ticks\":\"\"},\"colorscale\":[[0.0,\"#0d0887\"],[0.1111111111111111,\"#46039f\"],[0.2222222222222222,\"#7201a8\"],[0.3333333333333333,\"#9c179e\"],[0.4444444444444444,\"#bd3786\"],[0.5555555555555556,\"#d8576b\"],[0.6666666666666666,\"#ed7953\"],[0.7777777777777778,\"#fb9f3a\"],[0.8888888888888888,\"#fdca26\"],[1.0,\"#f0f921\"]]}],\"mesh3d\":[{\"type\":\"mesh3d\",\"colorbar\":{\"outlinewidth\":0,\"ticks\":\"\"}}],\"scatter\":[{\"marker\":{\"line\":{\"color\":\"#283442\"}},\"type\":\"scatter\"}],\"parcoords\":[{\"type\":\"parcoords\",\"line\":{\"colorbar\":{\"outlinewidth\":0,\"ticks\":\"\"}}}],\"scatterpolargl\":[{\"type\":\"scatterpolargl\",\"marker\":{\"colorbar\":{\"outlinewidth\":0,\"ticks\":\"\"}}}],\"bar\":[{\"error_x\":{\"color\":\"#f2f5fa\"},\"error_y\":{\"color\":\"#f2f5fa\"},\"marker\":{\"line\":{\"color\":\"rgb(17,17,17)\",\"width\":0.5},\"pattern\":{\"fillmode\":\"overlay\",\"size\":10,\"solidity\":0.2}},\"type\":\"bar\"}],\"scattergeo\":[{\"type\":\"scattergeo\",\"marker\":{\"colorbar\":{\"outlinewidth\":0,\"ticks\":\"\"}}}],\"scatterpolar\":[{\"type\":\"scatterpolar\",\"marker\":{\"colorbar\":{\"outlinewidth\":0,\"ticks\":\"\"}}}],\"histogram\":[{\"marker\":{\"pattern\":{\"fillmode\":\"overlay\",\"size\":10,\"solidity\":0.2}},\"type\":\"histogram\"}],\"scattergl\":[{\"marker\":{\"line\":{\"color\":\"#283442\"}},\"type\":\"scattergl\"}],\"scatter3d\":[{\"type\":\"scatter3d\",\"line\":{\"colorbar\":{\"outlinewidth\":0,\"ticks\":\"\"}},\"marker\":{\"colorbar\":{\"outlinewidth\":0,\"ticks\":\"\"}}}],\"scattermapbox\":[{\"type\":\"scattermapbox\",\"marker\":{\"colorbar\":{\"outlinewidth\":0,\"ticks\":\"\"}}}],\"scatterternary\":[{\"type\":\"scatterternary\",\"marker\":{\"colorbar\":{\"outlinewidth\":0,\"ticks\":\"\"}}}],\"scattercarpet\":[{\"type\":\"scattercarpet\",\"marker\":{\"colorbar\":{\"outlinewidth\":0,\"ticks\":\"\"}}}],\"carpet\":[{\"aaxis\":{\"endlinecolor\":\"#A2B1C6\",\"gridcolor\":\"#506784\",\"linecolor\":\"#506784\",\"minorgridcolor\":\"#506784\",\"startlinecolor\":\"#A2B1C6\"},\"baxis\":{\"endlinecolor\":\"#A2B1C6\",\"gridcolor\":\"#506784\",\"linecolor\":\"#506784\",\"minorgridcolor\":\"#506784\",\"startlinecolor\":\"#A2B1C6\"},\"type\":\"carpet\"}],\"table\":[{\"cells\":{\"fill\":{\"color\":\"#506784\"},\"line\":{\"color\":\"rgb(17,17,17)\"}},\"header\":{\"fill\":{\"color\":\"#2a3f5f\"},\"line\":{\"color\":\"rgb(17,17,17)\"}},\"type\":\"table\"}],\"barpolar\":[{\"marker\":{\"line\":{\"color\":\"rgb(17,17,17)\",\"width\":0.5},\"pattern\":{\"fillmode\":\"overlay\",\"size\":10,\"solidity\":0.2}},\"type\":\"barpolar\"}],\"pie\":[{\"automargin\":true,\"type\":\"pie\"}]},\"layout\":{\"autotypenumbers\":\"strict\",\"colorway\":[\"#636efa\",\"#EF553B\",\"#00cc96\",\"#ab63fa\",\"#FFA15A\",\"#19d3f3\",\"#FF6692\",\"#B6E880\",\"#FF97FF\",\"#FECB52\"],\"font\":{\"color\":\"#f2f5fa\"},\"hovermode\":\"closest\",\"hoverlabel\":{\"align\":\"left\"},\"paper_bgcolor\":\"rgb(17,17,17)\",\"plot_bgcolor\":\"rgb(17,17,17)\",\"polar\":{\"bgcolor\":\"rgb(17,17,17)\",\"angularaxis\":{\"gridcolor\":\"#506784\",\"linecolor\":\"#506784\",\"ticks\":\"\"},\"radialaxis\":{\"gridcolor\":\"#506784\",\"linecolor\":\"#506784\",\"ticks\":\"\"}},\"ternary\":{\"bgcolor\":\"rgb(17,17,17)\",\"aaxis\":{\"gridcolor\":\"#506784\",\"linecolor\":\"#506784\",\"ticks\":\"\"},\"baxis\":{\"gridcolor\":\"#506784\",\"linecolor\":\"#506784\",\"ticks\":\"\"},\"caxis\":{\"gridcolor\":\"#506784\",\"linecolor\":\"#506784\",\"ticks\":\"\"}},\"coloraxis\":{\"colorbar\":{\"outlinewidth\":0,\"ticks\":\"\"}},\"colorscale\":{\"sequential\":[[0.0,\"#0d0887\"],[0.1111111111111111,\"#46039f\"],[0.2222222222222222,\"#7201a8\"],[0.3333333333333333,\"#9c179e\"],[0.4444444444444444,\"#bd3786\"],[0.5555555555555556,\"#d8576b\"],[0.6666666666666666,\"#ed7953\"],[0.7777777777777778,\"#fb9f3a\"],[0.8888888888888888,\"#fdca26\"],[1.0,\"#f0f921\"]],\"sequentialminus\":[[0.0,\"#0d0887\"],[0.1111111111111111,\"#46039f\"],[0.2222222222222222,\"#7201a8\"],[0.3333333333333333,\"#9c179e\"],[0.4444444444444444,\"#bd3786\"],[0.5555555555555556,\"#d8576b\"],[0.6666666666666666,\"#ed7953\"],[0.7777777777777778,\"#fb9f3a\"],[0.8888888888888888,\"#fdca26\"],[1.0,\"#f0f921\"]],\"diverging\":[[0,\"#8e0152\"],[0.1,\"#c51b7d\"],[0.2,\"#de77ae\"],[0.3,\"#f1b6da\"],[0.4,\"#fde0ef\"],[0.5,\"#f7f7f7\"],[0.6,\"#e6f5d0\"],[0.7,\"#b8e186\"],[0.8,\"#7fbc41\"],[0.9,\"#4d9221\"],[1,\"#276419\"]]},\"xaxis\":{\"gridcolor\":\"#283442\",\"linecolor\":\"#506784\",\"ticks\":\"\",\"title\":{\"standoff\":15},\"zerolinecolor\":\"#283442\",\"automargin\":true,\"zerolinewidth\":2},\"yaxis\":{\"gridcolor\":\"#283442\",\"linecolor\":\"#506784\",\"ticks\":\"\",\"title\":{\"standoff\":15},\"zerolinecolor\":\"#283442\",\"automargin\":true,\"zerolinewidth\":2},\"scene\":{\"xaxis\":{\"backgroundcolor\":\"rgb(17,17,17)\",\"gridcolor\":\"#506784\",\"linecolor\":\"#506784\",\"showbackground\":true,\"ticks\":\"\",\"zerolinecolor\":\"#C8D4E3\",\"gridwidth\":2},\"yaxis\":{\"backgroundcolor\":\"rgb(17,17,17)\",\"gridcolor\":\"#506784\",\"linecolor\":\"#506784\",\"showbackground\":true,\"ticks\":\"\",\"zerolinecolor\":\"#C8D4E3\",\"gridwidth\":2},\"zaxis\":{\"backgroundcolor\":\"rgb(17,17,17)\",\"gridcolor\":\"#506784\",\"linecolor\":\"#506784\",\"showbackground\":true,\"ticks\":\"\",\"zerolinecolor\":\"#C8D4E3\",\"gridwidth\":2}},\"shapedefaults\":{\"line\":{\"color\":\"#f2f5fa\"}},\"annotationdefaults\":{\"arrowcolor\":\"#f2f5fa\",\"arrowhead\":0,\"arrowwidth\":1},\"geo\":{\"bgcolor\":\"rgb(17,17,17)\",\"landcolor\":\"rgb(17,17,17)\",\"subunitcolor\":\"#506784\",\"showland\":true,\"showlakes\":true,\"lakecolor\":\"rgb(17,17,17)\"},\"title\":{\"x\":0.05},\"updatemenudefaults\":{\"bgcolor\":\"#506784\",\"borderwidth\":0},\"sliderdefaults\":{\"bgcolor\":\"#C8D4E3\",\"borderwidth\":1,\"bordercolor\":\"rgb(17,17,17)\",\"tickwidth\":0},\"mapbox\":{\"style\":\"dark\"}}},\"xaxis\":{\"anchor\":\"y\",\"domain\":[0.0,0.2125],\"title\":{\"text\":\"position\",\"standoff\":7},\"tickmode\":\"array\",\"tickvals\":[1,2,3,4,5,6,7,8,9,10],\"ticktext\":[1,2,3,4,5,6,7,8,9,10],\"automargin\":true},\"yaxis\":{\"anchor\":\"x\",\"domain\":[0.0,1.0],\"title\":{\"text\":\"i_map\",\"standoff\":0},\"tickmode\":\"array\",\"tickvals\":[1,2,3,4,5,6,7,8,9,10],\"ticktext\":[1,2,3,4,5,6,7,8,9,10],\"autorange\":\"reversed\",\"automargin\":true},\"xaxis2\":{\"anchor\":\"y2\",\"domain\":[0.2625,0.475],\"title\":{\"text\":\"position\",\"standoff\":7},\"tickmode\":\"array\",\"tickvals\":[1,2,3,4,5,6,7,8,9,10],\"ticktext\":[1,2,3,4,5,6,7,8,9,10],\"automargin\":true},\"yaxis2\":{\"anchor\":\"x2\",\"domain\":[0.0,1.0],\"title\":{\"text\":\"i_map\",\"standoff\":0},\"tickmode\":\"array\",\"tickvals\":[1,2,3,4,5,6,7,8,9,10],\"ticktext\":[1,2,3,4,5,6,7,8,9,10],\"autorange\":\"reversed\",\"automargin\":true},\"xaxis3\":{\"anchor\":\"y3\",\"domain\":[0.525,0.7375],\"title\":{\"text\":\"position\",\"standoff\":7},\"tickmode\":\"array\",\"tickvals\":[1,2,3,4,5,6,7,8,9,10],\"ticktext\":[1,2,3,4,5,6,7,8,9,10],\"automargin\":true},\"yaxis3\":{\"anchor\":\"x3\",\"domain\":[0.0,1.0],\"title\":{\"text\":\"i_map\",\"standoff\":0},\"tickmode\":\"array\",\"tickvals\":[1,2,3,4,5,6,7,8,9,10],\"ticktext\":[1,2,3,4,5,6,7,8,9,10],\"autorange\":\"reversed\",\"automargin\":true},\"xaxis4\":{\"anchor\":\"y4\",\"domain\":[0.7875,1.0],\"title\":{\"text\":\"position\",\"standoff\":7},\"tickmode\":\"array\",\"tickvals\":[1,2,3,4,5,6,7,8,9,10],\"ticktext\":[1,2,3,4,5,6,7,8,9,10],\"automargin\":true},\"yaxis4\":{\"anchor\":\"x4\",\"domain\":[0.0,1.0],\"title\":{\"text\":\"i_map\",\"standoff\":0},\"tickmode\":\"array\",\"tickvals\":[1,2,3,4,5,6,7,8,9,10],\"ticktext\":[1,2,3,4,5,6,7,8,9,10],\"autorange\":\"reversed\",\"automargin\":true},\"annotations\":[{\"font\":{\"size\":16},\"showarrow\":false,\"text\":\"baseline\",\"x\":0.10625,\"xanchor\":\"center\",\"xref\":\"paper\",\"y\":1.0,\"yanchor\":\"bottom\",\"yref\":\"paper\"},{\"font\":{\"size\":16},\"showarrow\":false,\"text\":\"change of priorities\",\"x\":0.36875,\"xanchor\":\"center\",\"xref\":\"paper\",\"y\":1.0,\"yanchor\":\"bottom\",\"yref\":\"paper\"},{\"font\":{\"size\":16},\"showarrow\":false,\"text\":\"stops\",\"x\":0.6312500000000001,\"xanchor\":\"center\",\"xref\":\"paper\",\"y\":1.0,\"yanchor\":\"bottom\",\"yref\":\"paper\"},{\"font\":{\"size\":16},\"showarrow\":false,\"text\":\"Strategies Comparison\",\"x\":0.89375,\"xanchor\":\"center\",\"xref\":\"paper\",\"y\":1.0,\"yanchor\":\"bottom\",\"yref\":\"paper\"}],\"coloraxis\":{\"colorbar\":{\"title\":{\"text\":\"No. of completed missions\",\"font\":{\"size\":12},\"side\":\"right\"},\"x\":-0.08,\"thickness\":10},\"colorscale\":[[0.0,\"rgb(247,252,245)\"],[0.125,\"rgb(229,245,224)\"],[0.25,\"rgb(199,233,192)\"],[0.375,\"rgb(161,217,155)\"],[0.5,\"rgb(116,196,118)\"],[0.625,\"rgb(65,171,93)\"],[0.75,\"rgb(35,139,69)\"],[0.875,\"rgb(0,109,44)\"],[1.0,\"rgb(0,68,27)\"]]},\"coloraxis2\":{\"colorscale\":[[0.0,\"#FFFFE0\"],[0.5,\"#D3D3D3\"],[1.0,\"#ADD8E6\"]]},\"title\":{\"text\":\"No. of completed missions\\u003cbr\\u003e(slowness: without rerouting; coordination strategies)\"}},                        {\"responsive\": true}                    ).then(function(){\n",
       "                            \n",
       "var gd = document.getElementById('53dfbc18-6807-4033-9d22-d4deb860b64e');\n",
       "var x = new MutationObserver(function (mutations, observer) {{\n",
       "        var display = window.getComputedStyle(gd).display;\n",
       "        if (!display || display === 'none') {{\n",
       "            console.log([gd, 'removed!']);\n",
       "            Plotly.purge(gd);\n",
       "            observer.disconnect();\n",
       "        }}\n",
       "}});\n",
       "\n",
       "// Listen for the removal of the full notebook cells\n",
       "var notebookContainer = gd.closest('#notebook-container');\n",
       "if (notebookContainer) {{\n",
       "    x.observe(notebookContainer, {childList: true});\n",
       "}}\n",
       "\n",
       "// Listen for the clearing of the current output cell\n",
       "var outputEl = gd.closest('.output');\n",
       "if (outputEl) {{\n",
       "    x.observe(outputEl, {childList: true});\n",
       "}}\n",
       "\n",
       "                        })                };                });            </script>        </div>"
      ]
     },
     "metadata": {},
     "output_type": "display_data"
    },
    {
     "data": {
      "application/vnd.plotly.v1+json": {
       "data": [
        {
         "coloraxis": "coloraxis",
         "hovertemplate": "i_map: %{y}<br>position: %{x}<br>No. of completed missions: %{z}<extra></extra>",
         "name": "0",
         "showscale": true,
         "text": [
          [
           1.0,
           1.0,
           1.0,
           1.0,
           1.0,
           1.0,
           1.0,
           1.0,
           1.0,
           1.0
          ],
          [
           1.0,
           1.0,
           1.0,
           1.0,
           1.0,
           1.0,
           1.0,
           1.0,
           1.0,
           1.0
          ],
          [
           1.0,
           1.0,
           1.0,
           1.0,
           1.0,
           1.0,
           1.0,
           1.0,
           1.0,
           1.0
          ],
          [
           1.0,
           1.0,
           1.0,
           1.0,
           1.0,
           1.0,
           1.0,
           1.0,
           1.0,
           1.0
          ],
          [
           1.0,
           1.0,
           2.0,
           2.0,
           1.0,
           1.0,
           1.0,
           1.0,
           2.0,
           2.0
          ],
          [
           1.0,
           1.0,
           2.0,
           1.0,
           1.0,
           1.0,
           1.0,
           1.0,
           1.0,
           1.0
          ],
          [
           2.0,
           3.0,
           2.0,
           2.0,
           3.0,
           2.0,
           3.0,
           3.0,
           3.0,
           1.0
          ],
          [
           1.0,
           1.0,
           1.0,
           1.0,
           1.0,
           1.0,
           1.0,
           1.0,
           1.0,
           1.0
          ],
          [
           1.0,
           1.0,
           1.0,
           1.0,
           1.0,
           3.0,
           1.0,
           1.0,
           1.0,
           1.0
          ],
          [
           1.0,
           1.0,
           1.0,
           1.0,
           3.0,
           1.0,
           1.0,
           1.0,
           1.0,
           1.0
          ]
         ],
         "texttemplate": "%{text}",
         "x": [
          1,
          2,
          3,
          4,
          5,
          6,
          7,
          8,
          9,
          10
         ],
         "xaxis": "x",
         "y": [
          1,
          2,
          3,
          4,
          5,
          6,
          7,
          8,
          9,
          10
         ],
         "yaxis": "y",
         "z": [
          [
           34,
           36,
           21,
           24,
           36,
           25,
           26,
           25,
           41,
           38
          ],
          [
           26,
           19,
           21,
           28,
           23,
           16,
           19,
           15,
           19,
           13
          ],
          [
           23,
           23,
           22,
           22,
           21,
           21,
           19,
           18,
           22,
           17
          ],
          [
           18,
           15,
           22,
           20,
           22,
           20,
           14,
           21,
           20,
           25
          ],
          [
           16,
           13,
           21,
           14,
           11,
           22,
           19,
           16,
           14,
           13
          ],
          [
           25,
           32,
           30,
           27,
           32,
           24,
           26,
           26,
           22,
           34
          ],
          [
           14,
           14,
           18,
           19,
           14,
           9,
           11,
           8,
           12,
           13
          ],
          [
           14,
           17,
           17,
           20,
           18,
           16,
           12,
           14,
           16,
           16
          ],
          [
           14,
           0,
           19,
           16,
           17,
           3,
           13,
           18,
           17,
           20
          ],
          [
           34,
           31,
           30,
           28,
           21,
           43,
           30,
           30,
           28,
           33
          ]
         ],
         "type": "heatmap"
        },
        {
         "coloraxis": "coloraxis",
         "hovertemplate": "i_map: %{y}<br>position: %{x}<br>No. of completed missions: %{z}<extra></extra>",
         "name": "0",
         "showscale": true,
         "text": [
          [
           2.0,
           2.0,
           2.0,
           2.0,
           2.0,
           2.0,
           2.0,
           2.0,
           3.0,
           1.0
          ],
          [
           2.0,
           3.0,
           null,
           2.0,
           2.0,
           3.0,
           3.0,
           2.0,
           3.0,
           2.0
          ],
          [
           3.0,
           3.0,
           2.0,
           2.0,
           2.0,
           3.0,
           2.0,
           3.0,
           2.0,
           3.0
          ],
          [
           3.0,
           3.0,
           2.0,
           2.0,
           2.0,
           2.0,
           2.0,
           3.0,
           2.0,
           2.0
          ],
          [
           1.0,
           3.0,
           1.0,
           2.0,
           1.0,
           1.0,
           3.0,
           1.0,
           2.0,
           2.0
          ],
          [
           2.0,
           2.0,
           1.0,
           1.0,
           2.0,
           2.0,
           2.0,
           2.0,
           2.0,
           1.0
          ],
          [
           3.0,
           1.0,
           1.0,
           1.0,
           1.0,
           1.0,
           1.0,
           1.0,
           1.0,
           1.0
          ],
          [
           1.0,
           2.0,
           2.0,
           2.0,
           1.0,
           2.0,
           3.0,
           2.0,
           2.0,
           2.0
          ],
          [
           2.0,
           1.0,
           3.0,
           2.0,
           2.0,
           2.0,
           3.0,
           2.0,
           2.0,
           3.0
          ],
          [
           2.0,
           2.0,
           3.0,
           3.0,
           1.0,
           2.0,
           2.0,
           2.0,
           2.0,
           2.0
          ]
         ],
         "texttemplate": "%{text}",
         "x": [
          1,
          2,
          3,
          4,
          5,
          6,
          7,
          8,
          9,
          10
         ],
         "xaxis": "x2",
         "y": [
          1,
          2,
          3,
          4,
          5,
          6,
          7,
          8,
          9,
          10
         ],
         "yaxis": "y2",
         "z": [
          [
           16.0,
           35.0,
           19.0,
           21.0,
           35.0,
           24.0,
           25.0,
           24.0,
           23.0,
           38.0
          ],
          [
           24.0,
           2.0,
           null,
           23.0,
           21.0,
           12.0,
           2.0,
           12.0,
           2.0,
           10.0
          ],
          [
           19.0,
           19.0,
           19.0,
           19.0,
           17.0,
           8.0,
           13.0,
           15.0,
           20.0,
           14.0
          ],
          [
           14.0,
           4.0,
           18.0,
           15.0,
           18.0,
           17.0,
           9.0,
           18.0,
           17.0,
           21.0
          ],
          [
           16.0,
           7.0,
           22.0,
           14.0,
           11.0,
           22.0,
           9.0,
           16.0,
           14.0,
           13.0
          ],
          [
           22.0,
           31.0,
           31.0,
           27.0,
           31.0,
           23.0,
           24.0,
           25.0,
           20.0,
           34.0
          ],
          [
           7.0,
           17.0,
           23.0,
           20.0,
           17.0,
           11.0,
           16.0,
           13.0,
           17.0,
           13.0
          ],
          [
           14.0,
           13.0,
           14.0,
           16.0,
           18.0,
           5.0,
           11.0,
           9.0,
           7.0,
           14.0
          ],
          [
           12.0,
           0.0,
           14.0,
           13.0,
           14.0,
           7.0,
           6.0,
           16.0,
           10.0,
           16.0
          ],
          [
           30.0,
           30.0,
           18.0,
           25.0,
           22.0,
           39.0,
           29.0,
           27.0,
           25.0,
           32.0
          ]
         ],
         "type": "heatmap"
        },
        {
         "coloraxis": "coloraxis",
         "hovertemplate": "i_map: %{y}<br>position: %{x}<br>No. of completed missions: %{z}<extra></extra>",
         "name": "0",
         "showscale": true,
         "text": [
          [
           2.0,
           2.0,
           2.0,
           2.0,
           3.0,
           3.0,
           2.0,
           3.0,
           1.0,
           1.0
          ],
          [
           3.0,
           2.0,
           2.0,
           2.0,
           3.0,
           2.0,
           2.0,
           2.0,
           2.0,
           3.0
          ],
          [
           2.0,
           2.0,
           3.0,
           3.0,
           2.0,
           2.0,
           3.0,
           2.0,
           2.0,
           2.0
          ],
          [
           2.0,
           2.0,
           2.0,
           2.0,
           3.0,
           3.0,
           2.0,
           2.0,
           3.0,
           3.0
          ],
          [
           3.0,
           2.0,
           3.0,
           1.0,
           3.0,
           3.0,
           2.0,
           3.0,
           1.0,
           1.0
          ],
          [
           3.0,
           3.0,
           3.0,
           3.0,
           2.0,
           3.0,
           3.0,
           3.0,
           3.0,
           3.0
          ],
          [
           1.0,
           2.0,
           3.0,
           3.0,
           2.0,
           3.0,
           2.0,
           2.0,
           2.0,
           3.0
          ],
          [
           1.0,
           2.0,
           2.0,
           3.0,
           3.0,
           2.0,
           1.0,
           3.0,
           2.0,
           2.0
          ],
          [
           2.0,
           1.0,
           2.0,
           2.0,
           3.0,
           1.0,
           2.0,
           2.0,
           2.0,
           2.0
          ],
          [
           2.0,
           3.0,
           2.0,
           2.0,
           1.0,
           2.0,
           3.0,
           2.0,
           3.0,
           3.0
          ]
         ],
         "texttemplate": "%{text}",
         "x": [
          1,
          2,
          3,
          4,
          5,
          6,
          7,
          8,
          9,
          10
         ],
         "xaxis": "x3",
         "y": [
          1,
          2,
          3,
          4,
          5,
          6,
          7,
          8,
          9,
          10
         ],
         "yaxis": "y3",
         "z": [
          [
           16,
           35,
           19,
           21,
           34,
           22,
           25,
           23,
           41,
           38
          ],
          [
           22,
           18,
           18,
           23,
           19,
           14,
           18,
           12,
           18,
           3
          ],
          [
           20,
           20,
           18,
           18,
           17,
           18,
           11,
           16,
           20,
           16
          ],
          [
           15,
           5,
           18,
           15,
           17,
           16,
           9,
           19,
           15,
           20
          ],
          [
           11,
           10,
           7,
           15,
           1,
           21,
           14,
           11,
           15,
           15
          ],
          [
           21,
           29,
           28,
           26,
           31,
           20,
           23,
           24,
           9,
           33
          ],
          [
           16,
           15,
           5,
           18,
           15,
           1,
           15,
           11,
           13,
           11
          ],
          [
           14,
           13,
           14,
           15,
           17,
           5,
           12,
           8,
           7,
           14
          ],
          [
           12,
           0,
           17,
           13,
           6,
           11,
           11,
           16,
           10,
           18
          ],
          [
           30,
           28,
           28,
           26,
           22,
           39,
           28,
           27,
           23,
           28
          ]
         ],
         "type": "heatmap"
        },
        {
         "coloraxis": "coloraxis2",
         "hovertemplate": "i_map: %{y}<br>position: %{x}<br>No. of completed missions: %{z}<extra></extra>",
         "name": "0",
         "showscale": false,
         "text": [
          [
           "PS",
           "PS",
           "PS",
           "PS",
           "P",
           "P",
           "PS",
           "P",
           "S",
           "PS"
          ],
          [
           "P",
           "S",
           "PS",
           "PS",
           "P",
           "S",
           "S",
           "PS",
           "S",
           "P"
          ],
          [
           "S",
           "S",
           "P",
           "P",
           "PS",
           "S",
           "P",
           "S",
           "PS",
           "S"
          ],
          [
           "S",
           "S",
           "PS",
           "PS",
           "P",
           "P",
           "PS",
           "S",
           "P",
           "P"
          ],
          [
           "P",
           "S",
           "P",
           "S",
           "P",
           "P",
           "S",
           "P",
           "S",
           "S"
          ],
          [
           "P",
           "P",
           "P",
           "P",
           "PS",
           "P",
           "P",
           "P",
           "P",
           "P"
          ],
          [
           "S",
           "P",
           "P",
           "P",
           "P",
           "P",
           "P",
           "P",
           "P",
           "P"
          ],
          [
           "PS",
           "PS",
           "PS",
           "P",
           "P",
           "PS",
           "S",
           "P",
           "PS",
           "PS"
          ],
          [
           "PS",
           "PS",
           "S",
           "PS",
           "P",
           "S",
           "S",
           "PS",
           "PS",
           "S"
          ],
          [
           "PS",
           "P",
           "S",
           "S",
           "PS",
           "PS",
           "P",
           "PS",
           "P",
           "P"
          ]
         ],
         "texttemplate": "%{text}",
         "x": [
          1,
          2,
          3,
          4,
          5,
          6,
          7,
          8,
          9,
          10
         ],
         "xaxis": "x4",
         "y": [
          1,
          2,
          3,
          4,
          5,
          6,
          7,
          8,
          9,
          10
         ],
         "yaxis": "y4",
         "z": [
          [
           0.5,
           0.5,
           0.5,
           0.5,
           0.0,
           0.0,
           0.5,
           0.0,
           1.0,
           0.5
          ],
          [
           0.0,
           1.0,
           0.5,
           0.5,
           0.0,
           1.0,
           1.0,
           0.5,
           1.0,
           0.0
          ],
          [
           1.0,
           1.0,
           0.0,
           0.0,
           0.5,
           1.0,
           0.0,
           1.0,
           0.5,
           1.0
          ],
          [
           1.0,
           1.0,
           0.5,
           0.5,
           0.0,
           0.0,
           0.5,
           1.0,
           0.0,
           0.0
          ],
          [
           0.0,
           1.0,
           0.0,
           1.0,
           0.0,
           0.0,
           1.0,
           0.0,
           1.0,
           1.0
          ],
          [
           0.0,
           0.0,
           0.0,
           0.0,
           0.5,
           0.0,
           0.0,
           0.0,
           0.0,
           0.0
          ],
          [
           1.0,
           0.0,
           0.0,
           0.0,
           0.0,
           0.0,
           0.0,
           0.0,
           0.0,
           0.0
          ],
          [
           0.5,
           0.5,
           0.5,
           0.0,
           0.0,
           0.5,
           1.0,
           0.0,
           0.5,
           0.5
          ],
          [
           0.5,
           0.5,
           1.0,
           0.5,
           0.0,
           1.0,
           1.0,
           0.5,
           0.5,
           1.0
          ],
          [
           0.5,
           0.0,
           1.0,
           1.0,
           0.5,
           0.5,
           0.0,
           0.5,
           0.0,
           0.0
          ]
         ],
         "type": "heatmap"
        }
       ],
       "layout": {
        "template": {
         "data": {
          "histogram2dcontour": [
           {
            "type": "histogram2dcontour",
            "colorbar": {
             "outlinewidth": 0,
             "ticks": ""
            },
            "colorscale": [
             [
              0.0,
              "#0d0887"
             ],
             [
              0.1111111111111111,
              "#46039f"
             ],
             [
              0.2222222222222222,
              "#7201a8"
             ],
             [
              0.3333333333333333,
              "#9c179e"
             ],
             [
              0.4444444444444444,
              "#bd3786"
             ],
             [
              0.5555555555555556,
              "#d8576b"
             ],
             [
              0.6666666666666666,
              "#ed7953"
             ],
             [
              0.7777777777777778,
              "#fb9f3a"
             ],
             [
              0.8888888888888888,
              "#fdca26"
             ],
             [
              1.0,
              "#f0f921"
             ]
            ]
           }
          ],
          "choropleth": [
           {
            "type": "choropleth",
            "colorbar": {
             "outlinewidth": 0,
             "ticks": ""
            }
           }
          ],
          "histogram2d": [
           {
            "type": "histogram2d",
            "colorbar": {
             "outlinewidth": 0,
             "ticks": ""
            },
            "colorscale": [
             [
              0.0,
              "#0d0887"
             ],
             [
              0.1111111111111111,
              "#46039f"
             ],
             [
              0.2222222222222222,
              "#7201a8"
             ],
             [
              0.3333333333333333,
              "#9c179e"
             ],
             [
              0.4444444444444444,
              "#bd3786"
             ],
             [
              0.5555555555555556,
              "#d8576b"
             ],
             [
              0.6666666666666666,
              "#ed7953"
             ],
             [
              0.7777777777777778,
              "#fb9f3a"
             ],
             [
              0.8888888888888888,
              "#fdca26"
             ],
             [
              1.0,
              "#f0f921"
             ]
            ]
           }
          ],
          "heatmap": [
           {
            "type": "heatmap",
            "colorbar": {
             "outlinewidth": 0,
             "ticks": ""
            },
            "colorscale": [
             [
              0.0,
              "#0d0887"
             ],
             [
              0.1111111111111111,
              "#46039f"
             ],
             [
              0.2222222222222222,
              "#7201a8"
             ],
             [
              0.3333333333333333,
              "#9c179e"
             ],
             [
              0.4444444444444444,
              "#bd3786"
             ],
             [
              0.5555555555555556,
              "#d8576b"
             ],
             [
              0.6666666666666666,
              "#ed7953"
             ],
             [
              0.7777777777777778,
              "#fb9f3a"
             ],
             [
              0.8888888888888888,
              "#fdca26"
             ],
             [
              1.0,
              "#f0f921"
             ]
            ]
           }
          ],
          "heatmapgl": [
           {
            "type": "heatmapgl",
            "colorbar": {
             "outlinewidth": 0,
             "ticks": ""
            },
            "colorscale": [
             [
              0.0,
              "#0d0887"
             ],
             [
              0.1111111111111111,
              "#46039f"
             ],
             [
              0.2222222222222222,
              "#7201a8"
             ],
             [
              0.3333333333333333,
              "#9c179e"
             ],
             [
              0.4444444444444444,
              "#bd3786"
             ],
             [
              0.5555555555555556,
              "#d8576b"
             ],
             [
              0.6666666666666666,
              "#ed7953"
             ],
             [
              0.7777777777777778,
              "#fb9f3a"
             ],
             [
              0.8888888888888888,
              "#fdca26"
             ],
             [
              1.0,
              "#f0f921"
             ]
            ]
           }
          ],
          "contourcarpet": [
           {
            "type": "contourcarpet",
            "colorbar": {
             "outlinewidth": 0,
             "ticks": ""
            }
           }
          ],
          "contour": [
           {
            "type": "contour",
            "colorbar": {
             "outlinewidth": 0,
             "ticks": ""
            },
            "colorscale": [
             [
              0.0,
              "#0d0887"
             ],
             [
              0.1111111111111111,
              "#46039f"
             ],
             [
              0.2222222222222222,
              "#7201a8"
             ],
             [
              0.3333333333333333,
              "#9c179e"
             ],
             [
              0.4444444444444444,
              "#bd3786"
             ],
             [
              0.5555555555555556,
              "#d8576b"
             ],
             [
              0.6666666666666666,
              "#ed7953"
             ],
             [
              0.7777777777777778,
              "#fb9f3a"
             ],
             [
              0.8888888888888888,
              "#fdca26"
             ],
             [
              1.0,
              "#f0f921"
             ]
            ]
           }
          ],
          "surface": [
           {
            "type": "surface",
            "colorbar": {
             "outlinewidth": 0,
             "ticks": ""
            },
            "colorscale": [
             [
              0.0,
              "#0d0887"
             ],
             [
              0.1111111111111111,
              "#46039f"
             ],
             [
              0.2222222222222222,
              "#7201a8"
             ],
             [
              0.3333333333333333,
              "#9c179e"
             ],
             [
              0.4444444444444444,
              "#bd3786"
             ],
             [
              0.5555555555555556,
              "#d8576b"
             ],
             [
              0.6666666666666666,
              "#ed7953"
             ],
             [
              0.7777777777777778,
              "#fb9f3a"
             ],
             [
              0.8888888888888888,
              "#fdca26"
             ],
             [
              1.0,
              "#f0f921"
             ]
            ]
           }
          ],
          "mesh3d": [
           {
            "type": "mesh3d",
            "colorbar": {
             "outlinewidth": 0,
             "ticks": ""
            }
           }
          ],
          "scatter": [
           {
            "marker": {
             "line": {
              "color": "#283442"
             }
            },
            "type": "scatter"
           }
          ],
          "parcoords": [
           {
            "type": "parcoords",
            "line": {
             "colorbar": {
              "outlinewidth": 0,
              "ticks": ""
             }
            }
           }
          ],
          "scatterpolargl": [
           {
            "type": "scatterpolargl",
            "marker": {
             "colorbar": {
              "outlinewidth": 0,
              "ticks": ""
             }
            }
           }
          ],
          "bar": [
           {
            "error_x": {
             "color": "#f2f5fa"
            },
            "error_y": {
             "color": "#f2f5fa"
            },
            "marker": {
             "line": {
              "color": "rgb(17,17,17)",
              "width": 0.5
             },
             "pattern": {
              "fillmode": "overlay",
              "size": 10,
              "solidity": 0.2
             }
            },
            "type": "bar"
           }
          ],
          "scattergeo": [
           {
            "type": "scattergeo",
            "marker": {
             "colorbar": {
              "outlinewidth": 0,
              "ticks": ""
             }
            }
           }
          ],
          "scatterpolar": [
           {
            "type": "scatterpolar",
            "marker": {
             "colorbar": {
              "outlinewidth": 0,
              "ticks": ""
             }
            }
           }
          ],
          "histogram": [
           {
            "marker": {
             "pattern": {
              "fillmode": "overlay",
              "size": 10,
              "solidity": 0.2
             }
            },
            "type": "histogram"
           }
          ],
          "scattergl": [
           {
            "marker": {
             "line": {
              "color": "#283442"
             }
            },
            "type": "scattergl"
           }
          ],
          "scatter3d": [
           {
            "type": "scatter3d",
            "line": {
             "colorbar": {
              "outlinewidth": 0,
              "ticks": ""
             }
            },
            "marker": {
             "colorbar": {
              "outlinewidth": 0,
              "ticks": ""
             }
            }
           }
          ],
          "scattermapbox": [
           {
            "type": "scattermapbox",
            "marker": {
             "colorbar": {
              "outlinewidth": 0,
              "ticks": ""
             }
            }
           }
          ],
          "scatterternary": [
           {
            "type": "scatterternary",
            "marker": {
             "colorbar": {
              "outlinewidth": 0,
              "ticks": ""
             }
            }
           }
          ],
          "scattercarpet": [
           {
            "type": "scattercarpet",
            "marker": {
             "colorbar": {
              "outlinewidth": 0,
              "ticks": ""
             }
            }
           }
          ],
          "carpet": [
           {
            "aaxis": {
             "endlinecolor": "#A2B1C6",
             "gridcolor": "#506784",
             "linecolor": "#506784",
             "minorgridcolor": "#506784",
             "startlinecolor": "#A2B1C6"
            },
            "baxis": {
             "endlinecolor": "#A2B1C6",
             "gridcolor": "#506784",
             "linecolor": "#506784",
             "minorgridcolor": "#506784",
             "startlinecolor": "#A2B1C6"
            },
            "type": "carpet"
           }
          ],
          "table": [
           {
            "cells": {
             "fill": {
              "color": "#506784"
             },
             "line": {
              "color": "rgb(17,17,17)"
             }
            },
            "header": {
             "fill": {
              "color": "#2a3f5f"
             },
             "line": {
              "color": "rgb(17,17,17)"
             }
            },
            "type": "table"
           }
          ],
          "barpolar": [
           {
            "marker": {
             "line": {
              "color": "rgb(17,17,17)",
              "width": 0.5
             },
             "pattern": {
              "fillmode": "overlay",
              "size": 10,
              "solidity": 0.2
             }
            },
            "type": "barpolar"
           }
          ],
          "pie": [
           {
            "automargin": true,
            "type": "pie"
           }
          ]
         },
         "layout": {
          "autotypenumbers": "strict",
          "colorway": [
           "#636efa",
           "#EF553B",
           "#00cc96",
           "#ab63fa",
           "#FFA15A",
           "#19d3f3",
           "#FF6692",
           "#B6E880",
           "#FF97FF",
           "#FECB52"
          ],
          "font": {
           "color": "#f2f5fa"
          },
          "hovermode": "closest",
          "hoverlabel": {
           "align": "left"
          },
          "paper_bgcolor": "rgb(17,17,17)",
          "plot_bgcolor": "rgb(17,17,17)",
          "polar": {
           "bgcolor": "rgb(17,17,17)",
           "angularaxis": {
            "gridcolor": "#506784",
            "linecolor": "#506784",
            "ticks": ""
           },
           "radialaxis": {
            "gridcolor": "#506784",
            "linecolor": "#506784",
            "ticks": ""
           }
          },
          "ternary": {
           "bgcolor": "rgb(17,17,17)",
           "aaxis": {
            "gridcolor": "#506784",
            "linecolor": "#506784",
            "ticks": ""
           },
           "baxis": {
            "gridcolor": "#506784",
            "linecolor": "#506784",
            "ticks": ""
           },
           "caxis": {
            "gridcolor": "#506784",
            "linecolor": "#506784",
            "ticks": ""
           }
          },
          "coloraxis": {
           "colorbar": {
            "outlinewidth": 0,
            "ticks": ""
           }
          },
          "colorscale": {
           "sequential": [
            [
             0.0,
             "#0d0887"
            ],
            [
             0.1111111111111111,
             "#46039f"
            ],
            [
             0.2222222222222222,
             "#7201a8"
            ],
            [
             0.3333333333333333,
             "#9c179e"
            ],
            [
             0.4444444444444444,
             "#bd3786"
            ],
            [
             0.5555555555555556,
             "#d8576b"
            ],
            [
             0.6666666666666666,
             "#ed7953"
            ],
            [
             0.7777777777777778,
             "#fb9f3a"
            ],
            [
             0.8888888888888888,
             "#fdca26"
            ],
            [
             1.0,
             "#f0f921"
            ]
           ],
           "sequentialminus": [
            [
             0.0,
             "#0d0887"
            ],
            [
             0.1111111111111111,
             "#46039f"
            ],
            [
             0.2222222222222222,
             "#7201a8"
            ],
            [
             0.3333333333333333,
             "#9c179e"
            ],
            [
             0.4444444444444444,
             "#bd3786"
            ],
            [
             0.5555555555555556,
             "#d8576b"
            ],
            [
             0.6666666666666666,
             "#ed7953"
            ],
            [
             0.7777777777777778,
             "#fb9f3a"
            ],
            [
             0.8888888888888888,
             "#fdca26"
            ],
            [
             1.0,
             "#f0f921"
            ]
           ],
           "diverging": [
            [
             0,
             "#8e0152"
            ],
            [
             0.1,
             "#c51b7d"
            ],
            [
             0.2,
             "#de77ae"
            ],
            [
             0.3,
             "#f1b6da"
            ],
            [
             0.4,
             "#fde0ef"
            ],
            [
             0.5,
             "#f7f7f7"
            ],
            [
             0.6,
             "#e6f5d0"
            ],
            [
             0.7,
             "#b8e186"
            ],
            [
             0.8,
             "#7fbc41"
            ],
            [
             0.9,
             "#4d9221"
            ],
            [
             1,
             "#276419"
            ]
           ]
          },
          "xaxis": {
           "gridcolor": "#283442",
           "linecolor": "#506784",
           "ticks": "",
           "title": {
            "standoff": 15
           },
           "zerolinecolor": "#283442",
           "automargin": true,
           "zerolinewidth": 2
          },
          "yaxis": {
           "gridcolor": "#283442",
           "linecolor": "#506784",
           "ticks": "",
           "title": {
            "standoff": 15
           },
           "zerolinecolor": "#283442",
           "automargin": true,
           "zerolinewidth": 2
          },
          "scene": {
           "xaxis": {
            "backgroundcolor": "rgb(17,17,17)",
            "gridcolor": "#506784",
            "linecolor": "#506784",
            "showbackground": true,
            "ticks": "",
            "zerolinecolor": "#C8D4E3",
            "gridwidth": 2
           },
           "yaxis": {
            "backgroundcolor": "rgb(17,17,17)",
            "gridcolor": "#506784",
            "linecolor": "#506784",
            "showbackground": true,
            "ticks": "",
            "zerolinecolor": "#C8D4E3",
            "gridwidth": 2
           },
           "zaxis": {
            "backgroundcolor": "rgb(17,17,17)",
            "gridcolor": "#506784",
            "linecolor": "#506784",
            "showbackground": true,
            "ticks": "",
            "zerolinecolor": "#C8D4E3",
            "gridwidth": 2
           }
          },
          "shapedefaults": {
           "line": {
            "color": "#f2f5fa"
           }
          },
          "annotationdefaults": {
           "arrowcolor": "#f2f5fa",
           "arrowhead": 0,
           "arrowwidth": 1
          },
          "geo": {
           "bgcolor": "rgb(17,17,17)",
           "landcolor": "rgb(17,17,17)",
           "subunitcolor": "#506784",
           "showland": true,
           "showlakes": true,
           "lakecolor": "rgb(17,17,17)"
          },
          "title": {
           "x": 0.05
          },
          "updatemenudefaults": {
           "bgcolor": "#506784",
           "borderwidth": 0
          },
          "sliderdefaults": {
           "bgcolor": "#C8D4E3",
           "borderwidth": 1,
           "bordercolor": "rgb(17,17,17)",
           "tickwidth": 0
          },
          "mapbox": {
           "style": "dark"
          }
         }
        },
        "xaxis": {
         "anchor": "y",
         "domain": [
          0.0,
          0.2125
         ],
         "title": {
          "text": "position",
          "standoff": 7
         },
         "tickmode": "array",
         "tickvals": [
          1,
          2,
          3,
          4,
          5,
          6,
          7,
          8,
          9,
          10
         ],
         "ticktext": [
          1,
          2,
          3,
          4,
          5,
          6,
          7,
          8,
          9,
          10
         ],
         "automargin": true
        },
        "yaxis": {
         "anchor": "x",
         "domain": [
          0.0,
          1.0
         ],
         "title": {
          "text": "i_map",
          "standoff": 0
         },
         "tickmode": "array",
         "tickvals": [
          1,
          2,
          3,
          4,
          5,
          6,
          7,
          8,
          9,
          10
         ],
         "ticktext": [
          1,
          2,
          3,
          4,
          5,
          6,
          7,
          8,
          9,
          10
         ],
         "autorange": "reversed",
         "automargin": true
        },
        "xaxis2": {
         "anchor": "y2",
         "domain": [
          0.2625,
          0.475
         ],
         "title": {
          "text": "position",
          "standoff": 7
         },
         "tickmode": "array",
         "tickvals": [
          1,
          2,
          3,
          4,
          5,
          6,
          7,
          8,
          9,
          10
         ],
         "ticktext": [
          1,
          2,
          3,
          4,
          5,
          6,
          7,
          8,
          9,
          10
         ],
         "automargin": true
        },
        "yaxis2": {
         "anchor": "x2",
         "domain": [
          0.0,
          1.0
         ],
         "title": {
          "text": "i_map",
          "standoff": 0
         },
         "tickmode": "array",
         "tickvals": [
          1,
          2,
          3,
          4,
          5,
          6,
          7,
          8,
          9,
          10
         ],
         "ticktext": [
          1,
          2,
          3,
          4,
          5,
          6,
          7,
          8,
          9,
          10
         ],
         "autorange": "reversed",
         "automargin": true
        },
        "xaxis3": {
         "anchor": "y3",
         "domain": [
          0.525,
          0.7375
         ],
         "title": {
          "text": "position",
          "standoff": 7
         },
         "tickmode": "array",
         "tickvals": [
          1,
          2,
          3,
          4,
          5,
          6,
          7,
          8,
          9,
          10
         ],
         "ticktext": [
          1,
          2,
          3,
          4,
          5,
          6,
          7,
          8,
          9,
          10
         ],
         "automargin": true
        },
        "yaxis3": {
         "anchor": "x3",
         "domain": [
          0.0,
          1.0
         ],
         "title": {
          "text": "i_map",
          "standoff": 0
         },
         "tickmode": "array",
         "tickvals": [
          1,
          2,
          3,
          4,
          5,
          6,
          7,
          8,
          9,
          10
         ],
         "ticktext": [
          1,
          2,
          3,
          4,
          5,
          6,
          7,
          8,
          9,
          10
         ],
         "autorange": "reversed",
         "automargin": true
        },
        "xaxis4": {
         "anchor": "y4",
         "domain": [
          0.7875,
          1.0
         ],
         "title": {
          "text": "position",
          "standoff": 7
         },
         "tickmode": "array",
         "tickvals": [
          1,
          2,
          3,
          4,
          5,
          6,
          7,
          8,
          9,
          10
         ],
         "ticktext": [
          1,
          2,
          3,
          4,
          5,
          6,
          7,
          8,
          9,
          10
         ],
         "automargin": true
        },
        "yaxis4": {
         "anchor": "x4",
         "domain": [
          0.0,
          1.0
         ],
         "title": {
          "text": "i_map",
          "standoff": 0
         },
         "tickmode": "array",
         "tickvals": [
          1,
          2,
          3,
          4,
          5,
          6,
          7,
          8,
          9,
          10
         ],
         "ticktext": [
          1,
          2,
          3,
          4,
          5,
          6,
          7,
          8,
          9,
          10
         ],
         "autorange": "reversed",
         "automargin": true
        },
        "annotations": [
         {
          "font": {
           "size": 16
          },
          "showarrow": false,
          "text": "baseline",
          "x": 0.10625,
          "xanchor": "center",
          "xref": "paper",
          "y": 1.0,
          "yanchor": "bottom",
          "yref": "paper"
         },
         {
          "font": {
           "size": 16
          },
          "showarrow": false,
          "text": "change of priorities",
          "x": 0.36875,
          "xanchor": "center",
          "xref": "paper",
          "y": 1.0,
          "yanchor": "bottom",
          "yref": "paper"
         },
         {
          "font": {
           "size": 16
          },
          "showarrow": false,
          "text": "stops",
          "x": 0.6312500000000001,
          "xanchor": "center",
          "xref": "paper",
          "y": 1.0,
          "yanchor": "bottom",
          "yref": "paper"
         },
         {
          "font": {
           "size": 16
          },
          "showarrow": false,
          "text": "Strategies Comparison",
          "x": 0.89375,
          "xanchor": "center",
          "xref": "paper",
          "y": 1.0,
          "yanchor": "bottom",
          "yref": "paper"
         }
        ],
        "coloraxis": {
         "colorbar": {
          "title": {
           "text": "No. of completed missions",
           "font": {
            "size": 12
           },
           "side": "right"
          },
          "x": -0.08,
          "thickness": 10
         },
         "colorscale": [
          [
           0.0,
           "rgb(247,252,245)"
          ],
          [
           0.125,
           "rgb(229,245,224)"
          ],
          [
           0.25,
           "rgb(199,233,192)"
          ],
          [
           0.375,
           "rgb(161,217,155)"
          ],
          [
           0.5,
           "rgb(116,196,118)"
          ],
          [
           0.625,
           "rgb(65,171,93)"
          ],
          [
           0.75,
           "rgb(35,139,69)"
          ],
          [
           0.875,
           "rgb(0,109,44)"
          ],
          [
           1.0,
           "rgb(0,68,27)"
          ]
         ]
        },
        "coloraxis2": {
         "colorscale": [
          [
           0.0,
           "#FFFFE0"
          ],
          [
           0.5,
           "#D3D3D3"
          ],
          [
           1.0,
           "#ADD8E6"
          ]
         ]
        },
        "title": {
         "text": "No. of completed missions<br>(slowness: with rerouting; coordination strategies)"
        }
       },
       "config": {
        "plotlyServerURL": "https://plot.ly"
       }
      },
      "text/html": [
       "<div>                            <div id=\"02fcc6e0-96e5-4377-a13d-9d24190168cf\" class=\"plotly-graph-div\" style=\"height:525px; width:100%;\"></div>            <script type=\"text/javascript\">                require([\"plotly\"], function(Plotly) {                    window.PLOTLYENV=window.PLOTLYENV || {};                                    if (document.getElementById(\"02fcc6e0-96e5-4377-a13d-9d24190168cf\")) {                    Plotly.newPlot(                        \"02fcc6e0-96e5-4377-a13d-9d24190168cf\",                        [{\"coloraxis\":\"coloraxis\",\"hovertemplate\":\"i_map: %{y}\\u003cbr\\u003eposition: %{x}\\u003cbr\\u003eNo. of completed missions: %{z}\\u003cextra\\u003e\\u003c\\u002fextra\\u003e\",\"name\":\"0\",\"showscale\":true,\"text\":[[1.0,1.0,1.0,1.0,1.0,1.0,1.0,1.0,1.0,1.0],[1.0,1.0,1.0,1.0,1.0,1.0,1.0,1.0,1.0,1.0],[1.0,1.0,1.0,1.0,1.0,1.0,1.0,1.0,1.0,1.0],[1.0,1.0,1.0,1.0,1.0,1.0,1.0,1.0,1.0,1.0],[1.0,1.0,2.0,2.0,1.0,1.0,1.0,1.0,2.0,2.0],[1.0,1.0,2.0,1.0,1.0,1.0,1.0,1.0,1.0,1.0],[2.0,3.0,2.0,2.0,3.0,2.0,3.0,3.0,3.0,1.0],[1.0,1.0,1.0,1.0,1.0,1.0,1.0,1.0,1.0,1.0],[1.0,1.0,1.0,1.0,1.0,3.0,1.0,1.0,1.0,1.0],[1.0,1.0,1.0,1.0,3.0,1.0,1.0,1.0,1.0,1.0]],\"texttemplate\":\"%{text}\",\"x\":[1,2,3,4,5,6,7,8,9,10],\"xaxis\":\"x\",\"y\":[1,2,3,4,5,6,7,8,9,10],\"yaxis\":\"y\",\"z\":[[34,36,21,24,36,25,26,25,41,38],[26,19,21,28,23,16,19,15,19,13],[23,23,22,22,21,21,19,18,22,17],[18,15,22,20,22,20,14,21,20,25],[16,13,21,14,11,22,19,16,14,13],[25,32,30,27,32,24,26,26,22,34],[14,14,18,19,14,9,11,8,12,13],[14,17,17,20,18,16,12,14,16,16],[14,0,19,16,17,3,13,18,17,20],[34,31,30,28,21,43,30,30,28,33]],\"type\":\"heatmap\"},{\"coloraxis\":\"coloraxis\",\"hovertemplate\":\"i_map: %{y}\\u003cbr\\u003eposition: %{x}\\u003cbr\\u003eNo. of completed missions: %{z}\\u003cextra\\u003e\\u003c\\u002fextra\\u003e\",\"name\":\"0\",\"showscale\":true,\"text\":[[2.0,2.0,2.0,2.0,2.0,2.0,2.0,2.0,3.0,1.0],[2.0,3.0,null,2.0,2.0,3.0,3.0,2.0,3.0,2.0],[3.0,3.0,2.0,2.0,2.0,3.0,2.0,3.0,2.0,3.0],[3.0,3.0,2.0,2.0,2.0,2.0,2.0,3.0,2.0,2.0],[1.0,3.0,1.0,2.0,1.0,1.0,3.0,1.0,2.0,2.0],[2.0,2.0,1.0,1.0,2.0,2.0,2.0,2.0,2.0,1.0],[3.0,1.0,1.0,1.0,1.0,1.0,1.0,1.0,1.0,1.0],[1.0,2.0,2.0,2.0,1.0,2.0,3.0,2.0,2.0,2.0],[2.0,1.0,3.0,2.0,2.0,2.0,3.0,2.0,2.0,3.0],[2.0,2.0,3.0,3.0,1.0,2.0,2.0,2.0,2.0,2.0]],\"texttemplate\":\"%{text}\",\"x\":[1,2,3,4,5,6,7,8,9,10],\"xaxis\":\"x2\",\"y\":[1,2,3,4,5,6,7,8,9,10],\"yaxis\":\"y2\",\"z\":[[16.0,35.0,19.0,21.0,35.0,24.0,25.0,24.0,23.0,38.0],[24.0,2.0,null,23.0,21.0,12.0,2.0,12.0,2.0,10.0],[19.0,19.0,19.0,19.0,17.0,8.0,13.0,15.0,20.0,14.0],[14.0,4.0,18.0,15.0,18.0,17.0,9.0,18.0,17.0,21.0],[16.0,7.0,22.0,14.0,11.0,22.0,9.0,16.0,14.0,13.0],[22.0,31.0,31.0,27.0,31.0,23.0,24.0,25.0,20.0,34.0],[7.0,17.0,23.0,20.0,17.0,11.0,16.0,13.0,17.0,13.0],[14.0,13.0,14.0,16.0,18.0,5.0,11.0,9.0,7.0,14.0],[12.0,0.0,14.0,13.0,14.0,7.0,6.0,16.0,10.0,16.0],[30.0,30.0,18.0,25.0,22.0,39.0,29.0,27.0,25.0,32.0]],\"type\":\"heatmap\"},{\"coloraxis\":\"coloraxis\",\"hovertemplate\":\"i_map: %{y}\\u003cbr\\u003eposition: %{x}\\u003cbr\\u003eNo. of completed missions: %{z}\\u003cextra\\u003e\\u003c\\u002fextra\\u003e\",\"name\":\"0\",\"showscale\":true,\"text\":[[2.0,2.0,2.0,2.0,3.0,3.0,2.0,3.0,1.0,1.0],[3.0,2.0,2.0,2.0,3.0,2.0,2.0,2.0,2.0,3.0],[2.0,2.0,3.0,3.0,2.0,2.0,3.0,2.0,2.0,2.0],[2.0,2.0,2.0,2.0,3.0,3.0,2.0,2.0,3.0,3.0],[3.0,2.0,3.0,1.0,3.0,3.0,2.0,3.0,1.0,1.0],[3.0,3.0,3.0,3.0,2.0,3.0,3.0,3.0,3.0,3.0],[1.0,2.0,3.0,3.0,2.0,3.0,2.0,2.0,2.0,3.0],[1.0,2.0,2.0,3.0,3.0,2.0,1.0,3.0,2.0,2.0],[2.0,1.0,2.0,2.0,3.0,1.0,2.0,2.0,2.0,2.0],[2.0,3.0,2.0,2.0,1.0,2.0,3.0,2.0,3.0,3.0]],\"texttemplate\":\"%{text}\",\"x\":[1,2,3,4,5,6,7,8,9,10],\"xaxis\":\"x3\",\"y\":[1,2,3,4,5,6,7,8,9,10],\"yaxis\":\"y3\",\"z\":[[16,35,19,21,34,22,25,23,41,38],[22,18,18,23,19,14,18,12,18,3],[20,20,18,18,17,18,11,16,20,16],[15,5,18,15,17,16,9,19,15,20],[11,10,7,15,1,21,14,11,15,15],[21,29,28,26,31,20,23,24,9,33],[16,15,5,18,15,1,15,11,13,11],[14,13,14,15,17,5,12,8,7,14],[12,0,17,13,6,11,11,16,10,18],[30,28,28,26,22,39,28,27,23,28]],\"type\":\"heatmap\"},{\"coloraxis\":\"coloraxis2\",\"hovertemplate\":\"i_map: %{y}\\u003cbr\\u003eposition: %{x}\\u003cbr\\u003eNo. of completed missions: %{z}\\u003cextra\\u003e\\u003c\\u002fextra\\u003e\",\"name\":\"0\",\"showscale\":false,\"text\":[[\"PS\",\"PS\",\"PS\",\"PS\",\"P\",\"P\",\"PS\",\"P\",\"S\",\"PS\"],[\"P\",\"S\",\"PS\",\"PS\",\"P\",\"S\",\"S\",\"PS\",\"S\",\"P\"],[\"S\",\"S\",\"P\",\"P\",\"PS\",\"S\",\"P\",\"S\",\"PS\",\"S\"],[\"S\",\"S\",\"PS\",\"PS\",\"P\",\"P\",\"PS\",\"S\",\"P\",\"P\"],[\"P\",\"S\",\"P\",\"S\",\"P\",\"P\",\"S\",\"P\",\"S\",\"S\"],[\"P\",\"P\",\"P\",\"P\",\"PS\",\"P\",\"P\",\"P\",\"P\",\"P\"],[\"S\",\"P\",\"P\",\"P\",\"P\",\"P\",\"P\",\"P\",\"P\",\"P\"],[\"PS\",\"PS\",\"PS\",\"P\",\"P\",\"PS\",\"S\",\"P\",\"PS\",\"PS\"],[\"PS\",\"PS\",\"S\",\"PS\",\"P\",\"S\",\"S\",\"PS\",\"PS\",\"S\"],[\"PS\",\"P\",\"S\",\"S\",\"PS\",\"PS\",\"P\",\"PS\",\"P\",\"P\"]],\"texttemplate\":\"%{text}\",\"x\":[1,2,3,4,5,6,7,8,9,10],\"xaxis\":\"x4\",\"y\":[1,2,3,4,5,6,7,8,9,10],\"yaxis\":\"y4\",\"z\":[[0.5,0.5,0.5,0.5,0.0,0.0,0.5,0.0,1.0,0.5],[0.0,1.0,0.5,0.5,0.0,1.0,1.0,0.5,1.0,0.0],[1.0,1.0,0.0,0.0,0.5,1.0,0.0,1.0,0.5,1.0],[1.0,1.0,0.5,0.5,0.0,0.0,0.5,1.0,0.0,0.0],[0.0,1.0,0.0,1.0,0.0,0.0,1.0,0.0,1.0,1.0],[0.0,0.0,0.0,0.0,0.5,0.0,0.0,0.0,0.0,0.0],[1.0,0.0,0.0,0.0,0.0,0.0,0.0,0.0,0.0,0.0],[0.5,0.5,0.5,0.0,0.0,0.5,1.0,0.0,0.5,0.5],[0.5,0.5,1.0,0.5,0.0,1.0,1.0,0.5,0.5,1.0],[0.5,0.0,1.0,1.0,0.5,0.5,0.0,0.5,0.0,0.0]],\"type\":\"heatmap\"}],                        {\"template\":{\"data\":{\"histogram2dcontour\":[{\"type\":\"histogram2dcontour\",\"colorbar\":{\"outlinewidth\":0,\"ticks\":\"\"},\"colorscale\":[[0.0,\"#0d0887\"],[0.1111111111111111,\"#46039f\"],[0.2222222222222222,\"#7201a8\"],[0.3333333333333333,\"#9c179e\"],[0.4444444444444444,\"#bd3786\"],[0.5555555555555556,\"#d8576b\"],[0.6666666666666666,\"#ed7953\"],[0.7777777777777778,\"#fb9f3a\"],[0.8888888888888888,\"#fdca26\"],[1.0,\"#f0f921\"]]}],\"choropleth\":[{\"type\":\"choropleth\",\"colorbar\":{\"outlinewidth\":0,\"ticks\":\"\"}}],\"histogram2d\":[{\"type\":\"histogram2d\",\"colorbar\":{\"outlinewidth\":0,\"ticks\":\"\"},\"colorscale\":[[0.0,\"#0d0887\"],[0.1111111111111111,\"#46039f\"],[0.2222222222222222,\"#7201a8\"],[0.3333333333333333,\"#9c179e\"],[0.4444444444444444,\"#bd3786\"],[0.5555555555555556,\"#d8576b\"],[0.6666666666666666,\"#ed7953\"],[0.7777777777777778,\"#fb9f3a\"],[0.8888888888888888,\"#fdca26\"],[1.0,\"#f0f921\"]]}],\"heatmap\":[{\"type\":\"heatmap\",\"colorbar\":{\"outlinewidth\":0,\"ticks\":\"\"},\"colorscale\":[[0.0,\"#0d0887\"],[0.1111111111111111,\"#46039f\"],[0.2222222222222222,\"#7201a8\"],[0.3333333333333333,\"#9c179e\"],[0.4444444444444444,\"#bd3786\"],[0.5555555555555556,\"#d8576b\"],[0.6666666666666666,\"#ed7953\"],[0.7777777777777778,\"#fb9f3a\"],[0.8888888888888888,\"#fdca26\"],[1.0,\"#f0f921\"]]}],\"heatmapgl\":[{\"type\":\"heatmapgl\",\"colorbar\":{\"outlinewidth\":0,\"ticks\":\"\"},\"colorscale\":[[0.0,\"#0d0887\"],[0.1111111111111111,\"#46039f\"],[0.2222222222222222,\"#7201a8\"],[0.3333333333333333,\"#9c179e\"],[0.4444444444444444,\"#bd3786\"],[0.5555555555555556,\"#d8576b\"],[0.6666666666666666,\"#ed7953\"],[0.7777777777777778,\"#fb9f3a\"],[0.8888888888888888,\"#fdca26\"],[1.0,\"#f0f921\"]]}],\"contourcarpet\":[{\"type\":\"contourcarpet\",\"colorbar\":{\"outlinewidth\":0,\"ticks\":\"\"}}],\"contour\":[{\"type\":\"contour\",\"colorbar\":{\"outlinewidth\":0,\"ticks\":\"\"},\"colorscale\":[[0.0,\"#0d0887\"],[0.1111111111111111,\"#46039f\"],[0.2222222222222222,\"#7201a8\"],[0.3333333333333333,\"#9c179e\"],[0.4444444444444444,\"#bd3786\"],[0.5555555555555556,\"#d8576b\"],[0.6666666666666666,\"#ed7953\"],[0.7777777777777778,\"#fb9f3a\"],[0.8888888888888888,\"#fdca26\"],[1.0,\"#f0f921\"]]}],\"surface\":[{\"type\":\"surface\",\"colorbar\":{\"outlinewidth\":0,\"ticks\":\"\"},\"colorscale\":[[0.0,\"#0d0887\"],[0.1111111111111111,\"#46039f\"],[0.2222222222222222,\"#7201a8\"],[0.3333333333333333,\"#9c179e\"],[0.4444444444444444,\"#bd3786\"],[0.5555555555555556,\"#d8576b\"],[0.6666666666666666,\"#ed7953\"],[0.7777777777777778,\"#fb9f3a\"],[0.8888888888888888,\"#fdca26\"],[1.0,\"#f0f921\"]]}],\"mesh3d\":[{\"type\":\"mesh3d\",\"colorbar\":{\"outlinewidth\":0,\"ticks\":\"\"}}],\"scatter\":[{\"marker\":{\"line\":{\"color\":\"#283442\"}},\"type\":\"scatter\"}],\"parcoords\":[{\"type\":\"parcoords\",\"line\":{\"colorbar\":{\"outlinewidth\":0,\"ticks\":\"\"}}}],\"scatterpolargl\":[{\"type\":\"scatterpolargl\",\"marker\":{\"colorbar\":{\"outlinewidth\":0,\"ticks\":\"\"}}}],\"bar\":[{\"error_x\":{\"color\":\"#f2f5fa\"},\"error_y\":{\"color\":\"#f2f5fa\"},\"marker\":{\"line\":{\"color\":\"rgb(17,17,17)\",\"width\":0.5},\"pattern\":{\"fillmode\":\"overlay\",\"size\":10,\"solidity\":0.2}},\"type\":\"bar\"}],\"scattergeo\":[{\"type\":\"scattergeo\",\"marker\":{\"colorbar\":{\"outlinewidth\":0,\"ticks\":\"\"}}}],\"scatterpolar\":[{\"type\":\"scatterpolar\",\"marker\":{\"colorbar\":{\"outlinewidth\":0,\"ticks\":\"\"}}}],\"histogram\":[{\"marker\":{\"pattern\":{\"fillmode\":\"overlay\",\"size\":10,\"solidity\":0.2}},\"type\":\"histogram\"}],\"scattergl\":[{\"marker\":{\"line\":{\"color\":\"#283442\"}},\"type\":\"scattergl\"}],\"scatter3d\":[{\"type\":\"scatter3d\",\"line\":{\"colorbar\":{\"outlinewidth\":0,\"ticks\":\"\"}},\"marker\":{\"colorbar\":{\"outlinewidth\":0,\"ticks\":\"\"}}}],\"scattermapbox\":[{\"type\":\"scattermapbox\",\"marker\":{\"colorbar\":{\"outlinewidth\":0,\"ticks\":\"\"}}}],\"scatterternary\":[{\"type\":\"scatterternary\",\"marker\":{\"colorbar\":{\"outlinewidth\":0,\"ticks\":\"\"}}}],\"scattercarpet\":[{\"type\":\"scattercarpet\",\"marker\":{\"colorbar\":{\"outlinewidth\":0,\"ticks\":\"\"}}}],\"carpet\":[{\"aaxis\":{\"endlinecolor\":\"#A2B1C6\",\"gridcolor\":\"#506784\",\"linecolor\":\"#506784\",\"minorgridcolor\":\"#506784\",\"startlinecolor\":\"#A2B1C6\"},\"baxis\":{\"endlinecolor\":\"#A2B1C6\",\"gridcolor\":\"#506784\",\"linecolor\":\"#506784\",\"minorgridcolor\":\"#506784\",\"startlinecolor\":\"#A2B1C6\"},\"type\":\"carpet\"}],\"table\":[{\"cells\":{\"fill\":{\"color\":\"#506784\"},\"line\":{\"color\":\"rgb(17,17,17)\"}},\"header\":{\"fill\":{\"color\":\"#2a3f5f\"},\"line\":{\"color\":\"rgb(17,17,17)\"}},\"type\":\"table\"}],\"barpolar\":[{\"marker\":{\"line\":{\"color\":\"rgb(17,17,17)\",\"width\":0.5},\"pattern\":{\"fillmode\":\"overlay\",\"size\":10,\"solidity\":0.2}},\"type\":\"barpolar\"}],\"pie\":[{\"automargin\":true,\"type\":\"pie\"}]},\"layout\":{\"autotypenumbers\":\"strict\",\"colorway\":[\"#636efa\",\"#EF553B\",\"#00cc96\",\"#ab63fa\",\"#FFA15A\",\"#19d3f3\",\"#FF6692\",\"#B6E880\",\"#FF97FF\",\"#FECB52\"],\"font\":{\"color\":\"#f2f5fa\"},\"hovermode\":\"closest\",\"hoverlabel\":{\"align\":\"left\"},\"paper_bgcolor\":\"rgb(17,17,17)\",\"plot_bgcolor\":\"rgb(17,17,17)\",\"polar\":{\"bgcolor\":\"rgb(17,17,17)\",\"angularaxis\":{\"gridcolor\":\"#506784\",\"linecolor\":\"#506784\",\"ticks\":\"\"},\"radialaxis\":{\"gridcolor\":\"#506784\",\"linecolor\":\"#506784\",\"ticks\":\"\"}},\"ternary\":{\"bgcolor\":\"rgb(17,17,17)\",\"aaxis\":{\"gridcolor\":\"#506784\",\"linecolor\":\"#506784\",\"ticks\":\"\"},\"baxis\":{\"gridcolor\":\"#506784\",\"linecolor\":\"#506784\",\"ticks\":\"\"},\"caxis\":{\"gridcolor\":\"#506784\",\"linecolor\":\"#506784\",\"ticks\":\"\"}},\"coloraxis\":{\"colorbar\":{\"outlinewidth\":0,\"ticks\":\"\"}},\"colorscale\":{\"sequential\":[[0.0,\"#0d0887\"],[0.1111111111111111,\"#46039f\"],[0.2222222222222222,\"#7201a8\"],[0.3333333333333333,\"#9c179e\"],[0.4444444444444444,\"#bd3786\"],[0.5555555555555556,\"#d8576b\"],[0.6666666666666666,\"#ed7953\"],[0.7777777777777778,\"#fb9f3a\"],[0.8888888888888888,\"#fdca26\"],[1.0,\"#f0f921\"]],\"sequentialminus\":[[0.0,\"#0d0887\"],[0.1111111111111111,\"#46039f\"],[0.2222222222222222,\"#7201a8\"],[0.3333333333333333,\"#9c179e\"],[0.4444444444444444,\"#bd3786\"],[0.5555555555555556,\"#d8576b\"],[0.6666666666666666,\"#ed7953\"],[0.7777777777777778,\"#fb9f3a\"],[0.8888888888888888,\"#fdca26\"],[1.0,\"#f0f921\"]],\"diverging\":[[0,\"#8e0152\"],[0.1,\"#c51b7d\"],[0.2,\"#de77ae\"],[0.3,\"#f1b6da\"],[0.4,\"#fde0ef\"],[0.5,\"#f7f7f7\"],[0.6,\"#e6f5d0\"],[0.7,\"#b8e186\"],[0.8,\"#7fbc41\"],[0.9,\"#4d9221\"],[1,\"#276419\"]]},\"xaxis\":{\"gridcolor\":\"#283442\",\"linecolor\":\"#506784\",\"ticks\":\"\",\"title\":{\"standoff\":15},\"zerolinecolor\":\"#283442\",\"automargin\":true,\"zerolinewidth\":2},\"yaxis\":{\"gridcolor\":\"#283442\",\"linecolor\":\"#506784\",\"ticks\":\"\",\"title\":{\"standoff\":15},\"zerolinecolor\":\"#283442\",\"automargin\":true,\"zerolinewidth\":2},\"scene\":{\"xaxis\":{\"backgroundcolor\":\"rgb(17,17,17)\",\"gridcolor\":\"#506784\",\"linecolor\":\"#506784\",\"showbackground\":true,\"ticks\":\"\",\"zerolinecolor\":\"#C8D4E3\",\"gridwidth\":2},\"yaxis\":{\"backgroundcolor\":\"rgb(17,17,17)\",\"gridcolor\":\"#506784\",\"linecolor\":\"#506784\",\"showbackground\":true,\"ticks\":\"\",\"zerolinecolor\":\"#C8D4E3\",\"gridwidth\":2},\"zaxis\":{\"backgroundcolor\":\"rgb(17,17,17)\",\"gridcolor\":\"#506784\",\"linecolor\":\"#506784\",\"showbackground\":true,\"ticks\":\"\",\"zerolinecolor\":\"#C8D4E3\",\"gridwidth\":2}},\"shapedefaults\":{\"line\":{\"color\":\"#f2f5fa\"}},\"annotationdefaults\":{\"arrowcolor\":\"#f2f5fa\",\"arrowhead\":0,\"arrowwidth\":1},\"geo\":{\"bgcolor\":\"rgb(17,17,17)\",\"landcolor\":\"rgb(17,17,17)\",\"subunitcolor\":\"#506784\",\"showland\":true,\"showlakes\":true,\"lakecolor\":\"rgb(17,17,17)\"},\"title\":{\"x\":0.05},\"updatemenudefaults\":{\"bgcolor\":\"#506784\",\"borderwidth\":0},\"sliderdefaults\":{\"bgcolor\":\"#C8D4E3\",\"borderwidth\":1,\"bordercolor\":\"rgb(17,17,17)\",\"tickwidth\":0},\"mapbox\":{\"style\":\"dark\"}}},\"xaxis\":{\"anchor\":\"y\",\"domain\":[0.0,0.2125],\"title\":{\"text\":\"position\",\"standoff\":7},\"tickmode\":\"array\",\"tickvals\":[1,2,3,4,5,6,7,8,9,10],\"ticktext\":[1,2,3,4,5,6,7,8,9,10],\"automargin\":true},\"yaxis\":{\"anchor\":\"x\",\"domain\":[0.0,1.0],\"title\":{\"text\":\"i_map\",\"standoff\":0},\"tickmode\":\"array\",\"tickvals\":[1,2,3,4,5,6,7,8,9,10],\"ticktext\":[1,2,3,4,5,6,7,8,9,10],\"autorange\":\"reversed\",\"automargin\":true},\"xaxis2\":{\"anchor\":\"y2\",\"domain\":[0.2625,0.475],\"title\":{\"text\":\"position\",\"standoff\":7},\"tickmode\":\"array\",\"tickvals\":[1,2,3,4,5,6,7,8,9,10],\"ticktext\":[1,2,3,4,5,6,7,8,9,10],\"automargin\":true},\"yaxis2\":{\"anchor\":\"x2\",\"domain\":[0.0,1.0],\"title\":{\"text\":\"i_map\",\"standoff\":0},\"tickmode\":\"array\",\"tickvals\":[1,2,3,4,5,6,7,8,9,10],\"ticktext\":[1,2,3,4,5,6,7,8,9,10],\"autorange\":\"reversed\",\"automargin\":true},\"xaxis3\":{\"anchor\":\"y3\",\"domain\":[0.525,0.7375],\"title\":{\"text\":\"position\",\"standoff\":7},\"tickmode\":\"array\",\"tickvals\":[1,2,3,4,5,6,7,8,9,10],\"ticktext\":[1,2,3,4,5,6,7,8,9,10],\"automargin\":true},\"yaxis3\":{\"anchor\":\"x3\",\"domain\":[0.0,1.0],\"title\":{\"text\":\"i_map\",\"standoff\":0},\"tickmode\":\"array\",\"tickvals\":[1,2,3,4,5,6,7,8,9,10],\"ticktext\":[1,2,3,4,5,6,7,8,9,10],\"autorange\":\"reversed\",\"automargin\":true},\"xaxis4\":{\"anchor\":\"y4\",\"domain\":[0.7875,1.0],\"title\":{\"text\":\"position\",\"standoff\":7},\"tickmode\":\"array\",\"tickvals\":[1,2,3,4,5,6,7,8,9,10],\"ticktext\":[1,2,3,4,5,6,7,8,9,10],\"automargin\":true},\"yaxis4\":{\"anchor\":\"x4\",\"domain\":[0.0,1.0],\"title\":{\"text\":\"i_map\",\"standoff\":0},\"tickmode\":\"array\",\"tickvals\":[1,2,3,4,5,6,7,8,9,10],\"ticktext\":[1,2,3,4,5,6,7,8,9,10],\"autorange\":\"reversed\",\"automargin\":true},\"annotations\":[{\"font\":{\"size\":16},\"showarrow\":false,\"text\":\"baseline\",\"x\":0.10625,\"xanchor\":\"center\",\"xref\":\"paper\",\"y\":1.0,\"yanchor\":\"bottom\",\"yref\":\"paper\"},{\"font\":{\"size\":16},\"showarrow\":false,\"text\":\"change of priorities\",\"x\":0.36875,\"xanchor\":\"center\",\"xref\":\"paper\",\"y\":1.0,\"yanchor\":\"bottom\",\"yref\":\"paper\"},{\"font\":{\"size\":16},\"showarrow\":false,\"text\":\"stops\",\"x\":0.6312500000000001,\"xanchor\":\"center\",\"xref\":\"paper\",\"y\":1.0,\"yanchor\":\"bottom\",\"yref\":\"paper\"},{\"font\":{\"size\":16},\"showarrow\":false,\"text\":\"Strategies Comparison\",\"x\":0.89375,\"xanchor\":\"center\",\"xref\":\"paper\",\"y\":1.0,\"yanchor\":\"bottom\",\"yref\":\"paper\"}],\"coloraxis\":{\"colorbar\":{\"title\":{\"text\":\"No. of completed missions\",\"font\":{\"size\":12},\"side\":\"right\"},\"x\":-0.08,\"thickness\":10},\"colorscale\":[[0.0,\"rgb(247,252,245)\"],[0.125,\"rgb(229,245,224)\"],[0.25,\"rgb(199,233,192)\"],[0.375,\"rgb(161,217,155)\"],[0.5,\"rgb(116,196,118)\"],[0.625,\"rgb(65,171,93)\"],[0.75,\"rgb(35,139,69)\"],[0.875,\"rgb(0,109,44)\"],[1.0,\"rgb(0,68,27)\"]]},\"coloraxis2\":{\"colorscale\":[[0.0,\"#FFFFE0\"],[0.5,\"#D3D3D3\"],[1.0,\"#ADD8E6\"]]},\"title\":{\"text\":\"No. of completed missions\\u003cbr\\u003e(slowness: with rerouting; coordination strategies)\"}},                        {\"responsive\": true}                    ).then(function(){\n",
       "                            \n",
       "var gd = document.getElementById('02fcc6e0-96e5-4377-a13d-9d24190168cf');\n",
       "var x = new MutationObserver(function (mutations, observer) {{\n",
       "        var display = window.getComputedStyle(gd).display;\n",
       "        if (!display || display === 'none') {{\n",
       "            console.log([gd, 'removed!']);\n",
       "            Plotly.purge(gd);\n",
       "            observer.disconnect();\n",
       "        }}\n",
       "}});\n",
       "\n",
       "// Listen for the removal of the full notebook cells\n",
       "var notebookContainer = gd.closest('#notebook-container');\n",
       "if (notebookContainer) {{\n",
       "    x.observe(notebookContainer, {childList: true});\n",
       "}}\n",
       "\n",
       "// Listen for the clearing of the current output cell\n",
       "var outputEl = gd.closest('.output');\n",
       "if (outputEl) {{\n",
       "    x.observe(outputEl, {childList: true});\n",
       "}}\n",
       "\n",
       "                        })                };                });            </script>        </div>"
      ]
     },
     "metadata": {},
     "output_type": "display_data"
    }
   ],
   "execution_count": 6
  }
 ],
 "metadata": {
  "kernelspec": {
   "display_name": "Python 3",
   "language": "python",
   "name": "python3"
  },
  "language_info": {
   "codemirror_mode": {
    "name": "ipython",
    "version": 2
   },
   "file_extension": ".py",
   "mimetype": "text/x-python",
   "name": "python",
   "nbconvert_exporter": "python",
   "pygments_lexer": "ipython2",
   "version": "2.7.6"
  }
 },
 "nbformat": 4,
 "nbformat_minor": 5
}
